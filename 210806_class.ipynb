{
  "nbformat": 4,
  "nbformat_minor": 0,
  "metadata": {
    "colab": {
      "name": "210806_class.ipynb",
      "provenance": [],
      "authorship_tag": "ABX9TyNox4mgFDOkYJjGFOsZ1r2e",
      "include_colab_link": true
    },
    "kernelspec": {
      "name": "python3",
      "display_name": "Python 3"
    },
    "language_info": {
      "name": "python"
    }
  },
  "cells": [
    {
      "cell_type": "markdown",
      "metadata": {
        "id": "view-in-github",
        "colab_type": "text"
      },
      "source": [
        "<a href=\"https://colab.research.google.com/github/taehohoho/LESSON/blob/master/210806_class.ipynb\" target=\"_parent\"><img src=\"https://colab.research.google.com/assets/colab-badge.svg\" alt=\"Open In Colab\"/></a>"
      ]
    },
    {
      "cell_type": "code",
      "metadata": {
        "id": "gcKVQjFVG_xR"
      },
      "source": [
        "class Bicycle():\n",
        "\n",
        "    def __inif__(self, wheel_size, color):\n",
        "        self.wheel_size = wheel_size\n",
        "        self.color = color\n",
        "\n",
        "    def move(self, speed):\n",
        "        print(\"자전거: 시속 {0}킬로미터로 전진\".format(speed))\n",
        "\n",
        "    def turn(self, direction):\n",
        "        print(\"자전거: {0}회전\".format(direction))\n",
        "\n",
        "    def stop(self):\n",
        "        print(\"자전거({0},{1}): 정지\".format(self.wheel_size, self.color))"
      ],
      "execution_count": null,
      "outputs": []
    },
    {
      "cell_type": "code",
      "metadata": {
        "id": "_ZspLDKBH2ya"
      },
      "source": [
        "class FoldingBicycle(Bicycle):\n",
        "\n",
        "    def __init__(self, wheel_size, color, state): # FoldingBicycle 초기화\n",
        "        #Bicycle.__init__(self, wheel_size, color) # Bicycle의 초기화 재사용\n",
        "        #super().__init__(wheel_size, color)   # super()도 사용가능\n",
        "        self.state = state # 자식 클래스에서 새로 추가한 변수\n",
        "\n",
        "    def fold(self):\n",
        "        self.state = 'folding'\n",
        "        print(\"자전거: 접기, state = {0}\".format(self.state))\n",
        "\n",
        "    def unfold(self):\n",
        "        self.state = 'unfolding'\n",
        "        print(\"자전거: 펴기, state = {0}\".format(self.state))"
      ],
      "execution_count": null,
      "outputs": []
    },
    {
      "cell_type": "code",
      "metadata": {
        "colab": {
          "base_uri": "https://localhost:8080/"
        },
        "id": "FS3I-cDLIsHb",
        "outputId": "0e5b2379-f73a-4e98-d878-bc460996eede"
      },
      "source": [
        "folding_bicycle = FoldingBicycle(27, 'white', 'unfolding')  # 객체 생성\n",
        "\n",
        "folding_bicycle.move(20)    # 부모 클래스의 함수(메서드) 호출\n",
        "folding_bicycle.fold()      # 자식 클래스에서 정의한 함수 호출\n",
        "folding_bicycle.unfold()"
      ],
      "execution_count": null,
      "outputs": [
        {
          "output_type": "stream",
          "text": [
            "자전거: 시속 20킬로미터로 전진\n",
            "자전거: 접기, state = folding\n",
            "자전거: 펴기, state = unfolding\n"
          ],
          "name": "stdout"
        }
      ]
    },
    {
      "cell_type": "code",
      "metadata": {
        "id": "XZBjH30tJGk5"
      },
      "source": [
        ""
      ],
      "execution_count": null,
      "outputs": []
    }
  ]
}