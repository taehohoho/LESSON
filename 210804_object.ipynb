{
  "nbformat": 4,
  "nbformat_minor": 0,
  "metadata": {
    "colab": {
      "name": "210804_object.ipynb",
      "provenance": [],
      "collapsed_sections": [],
      "authorship_tag": "ABX9TyMmm3OFGKH/o9aAfaX2BjSG",
      "include_colab_link": true
    },
    "kernelspec": {
      "name": "python3",
      "display_name": "Python 3"
    },
    "language_info": {
      "name": "python"
    }
  },
  "cells": [
    {
      "cell_type": "markdown",
      "metadata": {
        "id": "view-in-github",
        "colab_type": "text"
      },
      "source": [
        "<a href=\"https://colab.research.google.com/github/taehohoho/LESSON/blob/master/210804_object.ipynb\" target=\"_parent\"><img src=\"https://colab.research.google.com/assets/colab-badge.svg\" alt=\"Open In Colab\"/></a>"
      ]
    },
    {
      "cell_type": "code",
      "metadata": {
        "id": "bawJoinHTYcb"
      },
      "source": [
        "class Bicycle(): # 클래스 선언\n",
        "    pass"
      ],
      "execution_count": 2,
      "outputs": []
    },
    {
      "cell_type": "code",
      "metadata": {
        "id": "_x3cF2XhTks-"
      },
      "source": [
        "my_bicycle = Bicycle()"
      ],
      "execution_count": 3,
      "outputs": []
    },
    {
      "cell_type": "code",
      "metadata": {
        "id": "Pv23hZZnTsF0"
      },
      "source": [
        "my_bicycle.wheel_size = 26\n",
        "my_bicycle.color = 'black'"
      ],
      "execution_count": 4,
      "outputs": []
    },
    {
      "cell_type": "code",
      "metadata": {
        "colab": {
          "base_uri": "https://localhost:8080/"
        },
        "id": "Zl74ywVLT3Zf",
        "outputId": "91bcb46b-fd3d-4722-c001-231504dcbebc"
      },
      "source": [
        "print(\"바퀴 크기:\", my_bicycle.wheel_size)  # 객체의 속성 출력\n",
        "print(\"색상:\", my_bicycle.color)"
      ],
      "execution_count": 5,
      "outputs": [
        {
          "output_type": "stream",
          "text": [
            "바퀴 크기: 26\n",
            "색상: black\n"
          ],
          "name": "stdout"
        }
      ]
    }
  ]
}