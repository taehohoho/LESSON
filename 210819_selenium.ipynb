{
 "cells": [
  {
   "cell_type": "code",
   "execution_count": 2,
   "id": "a1dcb1e0",
   "metadata": {},
   "outputs": [
    {
     "name": "stdout",
     "output_type": "stream",
     "text": [
      "Collecting selenium\n",
      "  Downloading selenium-3.141.0-py2.py3-none-any.whl (904 kB)\n",
      "Requirement already satisfied: urllib3 in c:\\programdata\\anaconda3\\lib\\site-packages (from selenium) (1.26.4)\n",
      "Installing collected packages: selenium\n",
      "Successfully installed selenium-3.141.0\n"
     ]
    }
   ],
   "source": [
    "!pip install selenium"
   ]
  },
  {
   "cell_type": "code",
   "execution_count": 10,
   "id": "15c427fc",
   "metadata": {},
   "outputs": [],
   "source": [
    "from selenium import webdriver"
   ]
  },
  {
   "cell_type": "code",
   "execution_count": 11,
   "id": "4d1b90d7",
   "metadata": {},
   "outputs": [],
   "source": [
    "driver = webdriver.Chrome('C:\\Myexam\\chromedriver/chromedriver.exe')"
   ]
  },
  {
   "cell_type": "code",
   "execution_count": 12,
   "id": "9f161912",
   "metadata": {},
   "outputs": [],
   "source": [
    "driver.get(\"http://www.naver.com/\")"
   ]
  },
  {
   "cell_type": "code",
   "execution_count": 13,
   "id": "6d552047",
   "metadata": {},
   "outputs": [],
   "source": [
    "driver.set_window_size(1024, 768)"
   ]
  },
  {
   "cell_type": "code",
   "execution_count": 14,
   "id": "813117ca",
   "metadata": {},
   "outputs": [],
   "source": [
    "driver.execute_script(\"window.scrollTo(200, 300);\")"
   ]
  },
  {
   "cell_type": "code",
   "execution_count": 26,
   "id": "267c9ace",
   "metadata": {},
   "outputs": [
    {
     "name": "stdout",
     "output_type": "stream",
     "text": [
      "alert 없음\n"
     ]
    }
   ],
   "source": [
    "# alert 체크\n",
    "try:\n",
    "    alert = driver.switch_to.alert\n",
    "    print(alert.text)\n",
    "except:\n",
    "    print('alert 없음')"
   ]
  },
  {
   "cell_type": "code",
   "execution_count": 27,
   "id": "ce488270",
   "metadata": {},
   "outputs": [],
   "source": [
    "driver.execute_script(\"alert('selenium test');\")"
   ]
  },
  {
   "cell_type": "code",
   "execution_count": 28,
   "id": "cc994ab2",
   "metadata": {},
   "outputs": [
    {
     "name": "stdout",
     "output_type": "stream",
     "text": [
      "selenium test\n"
     ]
    }
   ],
   "source": [
    "# alert 체크\n",
    "try:\n",
    "    alert = driver.switch_to.alert\n",
    "    print(alert.text)\n",
    "except:\n",
    "    print('alert 없음')"
   ]
  },
  {
   "cell_type": "code",
   "execution_count": 29,
   "id": "0cded7b8",
   "metadata": {},
   "outputs": [],
   "source": [
    "# alert 확인 버튼 누르기\n",
    "alert.accept()"
   ]
  },
  {
   "cell_type": "code",
   "execution_count": 31,
   "id": "516ac1a1",
   "metadata": {},
   "outputs": [],
   "source": [
    "driver.find_element_by_css_selector(\".btn_submit\").click()"
   ]
  },
  {
   "cell_type": "code",
   "execution_count": 32,
   "id": "3c3e4678",
   "metadata": {},
   "outputs": [],
   "source": [
    "# 테드 사이트로 접속\n",
    "driver.get('https://www.ted.com/talks')"
   ]
  },
  {
   "cell_type": "code",
   "execution_count": 33,
   "id": "dc11ec4c",
   "metadata": {},
   "outputs": [
    {
     "data": {
      "text/plain": [
       "'Join TED Recommends to get the best ideas, selected just for you'"
      ]
     },
     "execution_count": 33,
     "metadata": {},
     "output_type": "execute_result"
    }
   ],
   "source": [
    "# 메인 배너 타이틀 가져오기\n",
    "driver.find_element_by_css_selector('#banner-secondary').text"
   ]
  },
  {
   "cell_type": "code",
   "execution_count": 35,
   "id": "34e8a8ec",
   "metadata": {},
   "outputs": [
    {
     "data": {
      "text/plain": [
       "36"
      ]
     },
     "execution_count": 35,
     "metadata": {},
     "output_type": "execute_result"
    }
   ],
   "source": [
    "# 컨텐츠 리스트 제목 가져오기\n",
    "contents = driver.find_elements_by_css_selector('#browse-results > div > .col')\n",
    "len(contents)"
   ]
  },
  {
   "cell_type": "code",
   "execution_count": 36,
   "id": "7d9e7650",
   "metadata": {},
   "outputs": [
    {
     "data": {
      "text/plain": [
       "'The secret society of the Great Dismal Swamp'"
      ]
     },
     "execution_count": 36,
     "metadata": {},
     "output_type": "execute_result"
    }
   ],
   "source": [
    "# 셀렉터 확인\n",
    "contents[0].find_element_by_css_selector('.media > .media__message .ga-link').text"
   ]
  },
  {
   "cell_type": "code",
   "execution_count": 38,
   "id": "0241a90f",
   "metadata": {},
   "outputs": [],
   "source": [
    "# 전체 데이터 가져오기\n",
    "titles =  []\n",
    "for content in contents:\n",
    "    title = content.find_element_by_css_selector('.media > .media__message .ga-link').text\n",
    "    titles.append(title)"
   ]
  },
  {
   "cell_type": "code",
   "execution_count": 39,
   "id": "004dbd4d",
   "metadata": {},
   "outputs": [
    {
     "data": {
      "text/plain": [
       "[\"History's deadliest king\",\n",
       " \"A cleanse won't detox your body — but here's what will\",\n",
       " 'What should humans take to space (and leave behind)?',\n",
       " 'Could we build a wooden skyscraper?',\n",
       " \"Why aren't there more Native American restaurants?\"]"
      ]
     },
     "execution_count": 39,
     "metadata": {},
     "output_type": "execute_result"
    }
   ],
   "source": [
    "titles[- 5:]"
   ]
  },
  {
   "cell_type": "code",
   "execution_count": 40,
   "id": "e2f2993c",
   "metadata": {},
   "outputs": [
    {
     "data": {
      "text/plain": [
       "['English', 'Español', '日本語', 'Português brasileiro', '中文 (繁體)', '한국어']"
      ]
     },
     "execution_count": 40,
     "metadata": {},
     "output_type": "execute_result"
    }
   ],
   "source": [
    "# 사용가능한 언어 옵션 리스트 가져오기 - text는 하위 엘리먼트의 문자열까지 가져옵니다.\n",
    "languages = driver.find_element_by_css_selector('#languages').text\n",
    "languages = languages.split(\"\\n\")[1:- 1]\n",
    "languages"
   ]
  },
  {
   "cell_type": "code",
   "execution_count": 41,
   "id": "331de20e",
   "metadata": {},
   "outputs": [],
   "source": [
    "# 한국어 선택 후 결과 컨텐츠의 제목 가져오기\n",
    "# 셀렉트 박스를 선택\n",
    "driver.find_element_by_css_selector('#languages [lang=\"ko\"]').click()"
   ]
  },
  {
   "cell_type": "code",
   "execution_count": 42,
   "id": "a9a0886a",
   "metadata": {},
   "outputs": [],
   "source": [
    "import time"
   ]
  },
  {
   "cell_type": "code",
   "execution_count": 45,
   "id": "e0059cdc",
   "metadata": {},
   "outputs": [
    {
     "data": {
      "text/plain": [
       "['지역 사회와 가능성을 위해 만들어진 재미있고 멋진 공공 공간',\n",
       " '인테넷에서 마음의 평화를 되찾는 법',\n",
       " '트로이 전쟁의 수수께끼를 풀 수 있나요? - 데니스 E. 샤샤(Dennis E. Shasha)',\n",
       " '똥을 하루에 한 번씩 누지 않아도 되는 이유',\n",
       " '질병 치료법을 바꿔 놓을 전자약']"
      ]
     },
     "execution_count": 45,
     "metadata": {},
     "output_type": "execute_result"
    }
   ],
   "source": [
    "# 컨텐츠 가져오기 time.sleep(3)\n",
    "contents = driver.find_elements_by_css_selector('#browse-results > div > .col')\n",
    "titles =  []\n",
    "for content in contents:\n",
    "    title = content.find_element_by_css_selector('.media > .media__message .ga-link').text\n",
    "    titles.append(title)\n",
    "titles[- 5:]"
   ]
  },
  {
   "cell_type": "code",
   "execution_count": 46,
   "id": "92ac772b",
   "metadata": {},
   "outputs": [
    {
     "data": {
      "text/plain": [
       "['https://www.ted.com/talks/matthew_mazzotta_playful_wondrous_public_spaces_built_for_community_and_possibility?language=ko',\n",
       " 'https://www.ted.com/talks/naomi_shimada_tips_for_reclaiming_your_peace_of_mind_online?language=ko',\n",
       " 'https://www.ted.com/talks/dennis_shasha_can_you_solve_the_trojan_war_riddle?language=ko',\n",
       " 'https://www.ted.com/talks/jen_gunter_why_you_shouldn_t_worry_about_pooping_once_a_day?language=ko',\n",
       " 'https://www.ted.com/talks/khalil_ramadi_electronic_pills_that_could_transform_how_we_treat_disease?language=ko']"
      ]
     },
     "execution_count": 46,
     "metadata": {},
     "output_type": "execute_result"
    }
   ],
   "source": [
    "# 테드 에서 컨텐츠 링크 리스트 가져오기 time.sleep(3)\n",
    "contents = driver.find_elements_by_css_selector('#browse-results > div > .col')\n",
    "links =  []\n",
    "for content in contents:\n",
    "    link =  content.find_element_by_css_selector('.media > .media__message .ga-link').get_attribute('href')\n",
    "    links.append(link)\n",
    "links[- 5:]"
   ]
  },
  {
   "cell_type": "code",
   "execution_count": 47,
   "id": "9f978c0f",
   "metadata": {},
   "outputs": [],
   "source": [
    "# 브라우져 닫기\n",
    "driver.quit()"
   ]
  },
  {
   "cell_type": "code",
   "execution_count": null,
   "id": "dca01687",
   "metadata": {},
   "outputs": [],
   "source": []
  }
 ],
 "metadata": {
  "kernelspec": {
   "display_name": "Python 3",
   "language": "python",
   "name": "python3"
  },
  "language_info": {
   "codemirror_mode": {
    "name": "ipython",
    "version": 3
   },
   "file_extension": ".py",
   "mimetype": "text/x-python",
   "name": "python",
   "nbconvert_exporter": "python",
   "pygments_lexer": "ipython3",
   "version": "3.8.8"
  }
 },
 "nbformat": 4,
 "nbformat_minor": 5
}
