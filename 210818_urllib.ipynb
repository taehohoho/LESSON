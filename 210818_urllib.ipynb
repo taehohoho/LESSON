{
 "cells": [
  {
   "cell_type": "code",
   "execution_count": 1,
   "id": "3c079b80",
   "metadata": {},
   "outputs": [],
   "source": [
    "import urllib.request as req"
   ]
  },
  {
   "cell_type": "code",
   "execution_count": 8,
   "id": "37fb8265",
   "metadata": {},
   "outputs": [],
   "source": [
    "# 파일 url\n",
    "img_url = 'http://post.phinf.naver.net/20160621_169/1466482468068lmSHj_JPEG/If7GeIbOPZuYwI-GI3xU7ENRrlfI.jpg' \n",
    "html_url = \"http://google.com\""
   ]
  },
  {
   "cell_type": "code",
   "execution_count": 9,
   "id": "36659967",
   "metadata": {},
   "outputs": [],
   "source": [
    "# 다운받을 경로\n",
    "save_path1 = \"c:\\\\Myexam\\\\test1.jpg\"\n",
    "save_path2 = \"c:\\\\Myexam\\\\index.html\""
   ]
  },
  {
   "cell_type": "code",
   "execution_count": 10,
   "id": "7d9df9bf",
   "metadata": {},
   "outputs": [
    {
     "name": "stdout",
     "output_type": "stream",
     "text": [
      "Date: Wed, 18 Aug 2021 04:50:37 GMT\n",
      "Accept-Ranges: bytes\n",
      "Cache-Control: max-age=15552000\n",
      "Content-Length: 797094\n",
      "Content-Type: image/jpeg\n",
      "Last-Modified: Wed, 18 Aug 2021 04:15:01 GMT\n",
      "p3p: CP=\"ALL CURa ADMa DEVa TAIa OUR BUS IND PHY ONL UNI PUR FIN COM NAV INT DEM CNT STA POL HEA PRE LOC OTC\"\n",
      "Age: 2137\n",
      "Expires: Mon, 14 Feb 2022 04:15:01 GMT\n",
      "Connection: close\n",
      "\n",
      "\n",
      "Date: Wed, 18 Aug 2021 04:50:38 GMT\n",
      "Accept-Ranges: bytes\n",
      "Cache-Control: max-age=15552000\n",
      "Content-Length: 797094\n",
      "Content-Type: image/jpeg\n",
      "Last-Modified: Wed, 18 Aug 2021 04:16:22 GMT\n",
      "p3p: CP=\"ALL CURa ADMa DEVa TAIa OUR BUS IND PHY ONL UNI PUR FIN COM NAV INT DEM CNT STA POL HEA PRE LOC OTC\"\n",
      "Age: 2056\n",
      "Expires: Mon, 14 Feb 2022 04:16:22 GMT\n",
      "Connection: close\n",
      "\n",
      "\n"
     ]
    }
   ],
   "source": [
    "# 예외 처리\n",
    "try :\n",
    "    file1, header1 = req.urlretrieve(img_url, save_path1)\n",
    "    file2, header2 = req.urlretrieve(img_url, save_path2)\n",
    "except Exception as e:\n",
    "    print(\"Download failed.\")\n",
    "    print(e)\n",
    "else:\n",
    "    # Header 정보 출력\n",
    "    print(header1)\n",
    "    print(header2)"
   ]
  },
  {
   "cell_type": "code",
   "execution_count": 11,
   "id": "019b5d09",
   "metadata": {},
   "outputs": [
    {
     "name": "stdout",
     "output_type": "stream",
     "text": [
      "Filename1 c:\\Myexam\\test1.jpg\n",
      "Filename1 c:\\Myexam\\index.html\n",
      "\n"
     ]
    }
   ],
   "source": [
    "# 다운로드 파일 정보\n",
    "print(\"Filename1 {}\".format(file1))\n",
    "print(\"Filename1 {}\".format(file2))\n",
    "print()"
   ]
  },
  {
   "cell_type": "code",
   "execution_count": 12,
   "id": "86765864",
   "metadata": {},
   "outputs": [
    {
     "name": "stdout",
     "output_type": "stream",
     "text": [
      "Download Succeed.\n"
     ]
    }
   ],
   "source": [
    "# 성공\n",
    "print(\"Download Succeed.\")"
   ]
  }
 ],
 "metadata": {
  "kernelspec": {
   "display_name": "Python 3",
   "language": "python",
   "name": "python3"
  },
  "language_info": {
   "codemirror_mode": {
    "name": "ipython",
    "version": 3
   },
   "file_extension": ".py",
   "mimetype": "text/x-python",
   "name": "python",
   "nbconvert_exporter": "python",
   "pygments_lexer": "ipython3",
   "version": "3.8.8"
  }
 },
 "nbformat": 4,
 "nbformat_minor": 5
}
