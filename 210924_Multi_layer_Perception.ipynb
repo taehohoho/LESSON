{
  "nbformat": 4,
  "nbformat_minor": 0,
  "metadata": {
    "colab": {
      "name": "210924_Multi_layer_Perception.ipynb",
      "provenance": [],
      "collapsed_sections": [],
      "authorship_tag": "ABX9TyOJXP+N6SuH3F/dqqMeIMMm",
      "include_colab_link": true
    },
    "kernelspec": {
      "name": "python3",
      "display_name": "Python 3"
    },
    "language_info": {
      "name": "python"
    }
  },
  "cells": [
    {
      "cell_type": "markdown",
      "metadata": {
        "id": "view-in-github",
        "colab_type": "text"
      },
      "source": [
        "<a href=\"https://colab.research.google.com/github/taehohoho/LESSON/blob/master/210924_Multi_layer_Perception.ipynb\" target=\"_parent\"><img src=\"https://colab.research.google.com/assets/colab-badge.svg\" alt=\"Open In Colab\"/></a>"
      ]
    },
    {
      "cell_type": "code",
      "metadata": {
        "id": "L3t2FGrMGoFt"
      },
      "source": [
        "import warnings\n",
        "warnings.filterwarnings('ignore')"
      ],
      "execution_count": 1,
      "outputs": []
    },
    {
      "cell_type": "code",
      "metadata": {
        "id": "yTwxrYXZG5HV"
      },
      "source": [
        "import numpy as np"
      ],
      "execution_count": 2,
      "outputs": []
    },
    {
      "cell_type": "code",
      "metadata": {
        "id": "jUlz-SDaG6ql"
      },
      "source": [
        "def gradient(machine, param):\n",
        "\n",
        "    if param.ndim == 1:\n",
        "        temp_param = param\n",
        "        delta = 0.00005\n",
        "        learned_param = np.zeros(param.shape)\n",
        "\n",
        "        for index in range(len(param)):\n",
        "            target_param = float(temp_param[index])\n",
        "            temp_param[index] = target_param + delta\n",
        "            param_plus_delta = machine(temp_param)\n",
        "            temp_param[index] = target_param - delta\n",
        "            param_minus_delta = machine(temp_param)\n",
        "            learned_param[index] = (param_plus_delta - param_minus_delta) / (2 * delta)\n",
        "            temp_param[index] = target_param\n",
        "        \n",
        "        return learned_param\n",
        "\n",
        "    elif param.ndim == 2:\n",
        "        temp_param = param\n",
        "        delta = 0.00005\n",
        "        learned_param = np.zeros(param.shape)\n",
        "\n",
        "        rows = param.shape[0]\n",
        "        columns = param.shape[1]\n",
        "\n",
        "        for row in range(rows):\n",
        "            for column in range(columns):\n",
        "                target_param = float(temp_param[row, column])\n",
        "                temp_param[row, column] = target_param + delta\n",
        "                param_plus_delta = machine(temp_param)\n",
        "                temp_param[row, column] = target_param - delta\n",
        "                param_minus_delta = machine(temp_param)\n",
        "                learned_param[row, column] = (param_plus_delta - param_minus_delta) / (2 * delta)\n",
        "                temp_param[row, column] = target_param\n",
        "        \n",
        "        return learned_param"
      ],
      "execution_count": 33,
      "outputs": []
    },
    {
      "cell_type": "code",
      "metadata": {
        "id": "gihMowpjIkzv"
      },
      "source": [
        "import numpy as np\n",
        "\n",
        "def sigmoid(x):\n",
        "    y_hat = 1 / (1+ np.exp(-x))\n",
        "    return y_hat"
      ],
      "execution_count": 4,
      "outputs": []
    },
    {
      "cell_type": "code",
      "metadata": {
        "id": "29FJIxklIwvx"
      },
      "source": [
        "class LogicGate:\n",
        "\n",
        "    def __init__(self, gate_Type, X_input, y_output):\n",
        "\n",
        "        self.Type = gate_Type\n",
        "        self.X_input = X_input.reshape(4,2)\n",
        "        self.y_output = y_output.reshape(4,1)\n",
        "        self.W = np.random.rand(2,1)\n",
        "        self.b = np.random.rand(1)\n",
        "        self.learning_rate = 0.01\n",
        "\n",
        "    def cost_func(self):\n",
        "        z = np.dot(self.X_input, self.W ) + self.b\n",
        "        y_hat = sigmoid(z)\n",
        "        delta = 0.00001\n",
        "        return -np.sum(self.y_output * np.log(y_hat + delta) + (1 - self.y_output) * np.log((1 - y_hat) + delta))\n",
        "\n",
        "    def learn(self):\n",
        "        machine = lambda x : self.cost_func()\n",
        "        print('Initial Cost = ', self.cost_func())\n",
        "\n",
        "        for step in range(10001):\n",
        "            self.W = self.W - self.learning_rate * gradient(machine, self.W)\n",
        "            self.b = self.b - self.learning_rate * gradient(machine, self.b)\n",
        "\n",
        "            if(step % 1000 == 0 ):\n",
        "                print('Step = ', step, 'Cost = ', self.cost_func())\n",
        "\n",
        "    def predict(self, input_data):\n",
        "\n",
        "        z = np.dot(input_data, self.W) + self.b\n",
        "        y_prob = sigmoid(z)\n",
        "\n",
        "        if y_prob > 0.5:\n",
        "            result = 1\n",
        "        else:\n",
        "            result = 0\n",
        "\n",
        "        return y_prob, result"
      ],
      "execution_count": 28,
      "outputs": []
    },
    {
      "cell_type": "code",
      "metadata": {
        "id": "T0x-gYfbK3w0"
      },
      "source": [
        "X_input = np.array([[0,0],[0,1],[1,0],[1,1]])\n",
        "y_output = np.array([0,0,0,1])"
      ],
      "execution_count": 29,
      "outputs": []
    },
    {
      "cell_type": "code",
      "metadata": {
        "colab": {
          "base_uri": "https://localhost:8080/"
        },
        "id": "QysDALFAMPyx",
        "outputId": "03a7c508-61d3-42ce-ab2b-b63b856fa7c7"
      },
      "source": [
        "AND_Gate = LogicGate('AND_GATE', X_input, y_output)\n",
        "\n",
        "AND_Gate.learn()"
      ],
      "execution_count": 34,
      "outputs": [
        {
          "output_type": "stream",
          "name": "stdout",
          "text": [
            "Initial Cost =  4.1771115990811\n",
            "Step =  0 Cost =  4.126453594212954\n",
            "Step =  1000 Cost =  1.0102290505277998\n",
            "Step =  2000 Cost =  0.661604650967762\n",
            "Step =  3000 Cost =  0.49214815574747395\n",
            "Step =  4000 Cost =  0.3907297022017974\n",
            "Step =  5000 Cost =  0.3232112565458637\n",
            "Step =  6000 Cost =  0.2751171496240798\n",
            "Step =  7000 Cost =  0.23918603116085715\n",
            "Step =  8000 Cost =  0.21136491693057358\n",
            "Step =  9000 Cost =  0.18921376276385976\n",
            "Step =  10000 Cost =  0.1711770538644704\n"
          ]
        }
      ]
    },
    {
      "cell_type": "code",
      "metadata": {
        "colab": {
          "base_uri": "https://localhost:8080/"
        },
        "id": "5FZs6ktKMd20",
        "outputId": "a112551d-b308-42f5-d3fb-b06f2c01f935"
      },
      "source": [
        "print(AND_Gate.Type, '\\n')\n",
        "\n",
        "test_data = np.array([[0,0],[0,1],[1,0],[1,1]])\n",
        "\n",
        "for input_data in test_data :\n",
        "    (sigmoid_val, logical_val) = AND_Gate.predict(input_data)\n",
        "    print(input_data, ' = ', logical_val)"
      ],
      "execution_count": 35,
      "outputs": [
        {
          "output_type": "stream",
          "name": "stdout",
          "text": [
            "AND_GATE \n",
            "\n",
            "[0 0]  =  0\n",
            "[0 1]  =  0\n",
            "[1 0]  =  0\n",
            "[1 1]  =  1\n"
          ]
        }
      ]
    },
    {
      "cell_type": "code",
      "metadata": {
        "id": "emlmRh05O9-9"
      },
      "source": [
        "X_input = np.array([[0,0],[0,1],[1,0],[1,1]])\n",
        "y_output = np.array([0,1,1,1])"
      ],
      "execution_count": 36,
      "outputs": []
    },
    {
      "cell_type": "code",
      "metadata": {
        "colab": {
          "base_uri": "https://localhost:8080/"
        },
        "id": "8EPpqGdfPE8c",
        "outputId": "1a0117a6-3cdd-4c31-9736-96b0d7ac52cb"
      },
      "source": [
        "OR_Gate = LogicGate('OR_GATE', X_input, y_output)\n",
        "\n",
        "OR_Gate.learn()"
      ],
      "execution_count": 37,
      "outputs": [
        {
          "output_type": "stream",
          "name": "stdout",
          "text": [
            "Initial Cost =  1.7613126491763058\n",
            "Step =  0 Cost =  1.7590474676730885\n",
            "Step =  1000 Cost =  0.7128893886158735\n",
            "Step =  2000 Cost =  0.4291897836245685\n",
            "Step =  3000 Cost =  0.3024233221493823\n",
            "Step =  4000 Cost =  0.2318279929014165\n",
            "Step =  5000 Cost =  0.1872566677263417\n",
            "Step =  6000 Cost =  0.1567207385930263\n",
            "Step =  7000 Cost =  0.13456431210225828\n",
            "Step =  8000 Cost =  0.11778975200650592\n",
            "Step =  9000 Cost =  0.10466745346901428\n",
            "Step =  10000 Cost =  0.09413255811610435\n"
          ]
        }
      ]
    },
    {
      "cell_type": "code",
      "metadata": {
        "colab": {
          "base_uri": "https://localhost:8080/"
        },
        "id": "X8kBCIhXPJfq",
        "outputId": "e94bd263-05db-4d41-8c7b-14084a9a85a4"
      },
      "source": [
        "print(OR_Gate.Type, '\\n')\n",
        "\n",
        "test_data = np.array([[0,0],[0,1],[1,0],[1,1]])\n",
        "\n",
        "for input_data in test_data :\n",
        "    (sigmoid_val, logical_val) = OR_Gate.predict(input_data)\n",
        "    print(input_data, ' = ', logical_val)"
      ],
      "execution_count": 38,
      "outputs": [
        {
          "output_type": "stream",
          "name": "stdout",
          "text": [
            "OR_GATE \n",
            "\n",
            "[0 0]  =  0\n",
            "[0 1]  =  1\n",
            "[1 0]  =  1\n",
            "[1 1]  =  1\n"
          ]
        }
      ]
    },
    {
      "cell_type": "code",
      "metadata": {
        "id": "TMDInhzAPSlc"
      },
      "source": [
        "X_input = np.array([[0,0],[0,1],[1,0],[1,1]])\n",
        "y_output = np.array([1,1,1,0])"
      ],
      "execution_count": 39,
      "outputs": []
    },
    {
      "cell_type": "code",
      "metadata": {
        "colab": {
          "base_uri": "https://localhost:8080/"
        },
        "id": "uWxEdlzCPXTp",
        "outputId": "4b267824-0c93-457e-fa52-68938cddf255"
      },
      "source": [
        "NAND_Gate = LogicGate('NAND_GATE', X_input, y_output)\n",
        "\n",
        "NAND_Gate.learn()"
      ],
      "execution_count": 40,
      "outputs": [
        {
          "output_type": "stream",
          "name": "stdout",
          "text": [
            "Initial Cost =  3.1409358061770574\n",
            "Step =  0 Cost =  3.133797137467798\n",
            "Step =  1000 Cost =  1.0967573622254791\n",
            "Step =  2000 Cost =  0.6964286973288887\n",
            "Step =  3000 Cost =  0.5113509706168597\n",
            "Step =  4000 Cost =  0.40291531703530725\n",
            "Step =  5000 Cost =  0.3316146407045333\n",
            "Step =  6000 Cost =  0.2812486426265763\n",
            "Step =  7000 Cost =  0.24384832479960156\n",
            "Step =  8000 Cost =  0.21502406581799433\n",
            "Step =  9000 Cost =  0.19215862218535684\n",
            "Step =  10000 Cost =  0.17359595539358422\n"
          ]
        }
      ]
    },
    {
      "cell_type": "code",
      "metadata": {
        "colab": {
          "base_uri": "https://localhost:8080/"
        },
        "id": "bPGnEWpmPfPd",
        "outputId": "789df0be-add2-429f-a72e-49067c329e5e"
      },
      "source": [
        "print(NAND_Gate.Type, '\\n')\n",
        "\n",
        "test_data = np.array([[0,0],[0,1],[1,0],[1,1]])\n",
        "\n",
        "for input_data in test_data :\n",
        "    (sigmoid_val, logical_val) = NAND_Gate.predict(input_data)\n",
        "    print(input_data, ' = ', logical_val)"
      ],
      "execution_count": 41,
      "outputs": [
        {
          "output_type": "stream",
          "name": "stdout",
          "text": [
            "NAND_GATE \n",
            "\n",
            "[0 0]  =  1\n",
            "[0 1]  =  1\n",
            "[1 0]  =  1\n",
            "[1 1]  =  0\n"
          ]
        }
      ]
    },
    {
      "cell_type": "code",
      "metadata": {
        "id": "-OY21opzPk-F"
      },
      "source": [
        "X_input = np.array([[0,0],[0,1],[1,0],[1,1]])\n",
        "y_output = np.array([0,1,1,0])"
      ],
      "execution_count": 42,
      "outputs": []
    },
    {
      "cell_type": "code",
      "metadata": {
        "colab": {
          "base_uri": "https://localhost:8080/"
        },
        "id": "DlqarnrGPqn5",
        "outputId": "56c9cb22-c548-4bba-bbef-0e4e53a09d54"
      },
      "source": [
        "XOR_Gate = LogicGate('NAND_GATE', X_input, y_output)\n",
        "\n",
        "XOR_Gate.learn()"
      ],
      "execution_count": 43,
      "outputs": [
        {
          "output_type": "stream",
          "name": "stdout",
          "text": [
            "Initial Cost =  3.6270762675407204\n",
            "Step =  0 Cost =  3.6065444895058274\n",
            "Step =  1000 Cost =  2.772746539353382\n",
            "Step =  2000 Cost =  2.7725159445489442\n",
            "Step =  3000 Cost =  2.7725090121435296\n",
            "Step =  4000 Cost =  2.77250873527239\n",
            "Step =  5000 Cost =  2.7725087235620736\n",
            "Step =  6000 Cost =  2.7725087230621037\n",
            "Step =  7000 Cost =  2.772508723040726\n",
            "Step =  8000 Cost =  2.772508723039812\n",
            "Step =  9000 Cost =  2.7725087230397722\n",
            "Step =  10000 Cost =  2.7725087230397705\n"
          ]
        }
      ]
    },
    {
      "cell_type": "code",
      "metadata": {
        "colab": {
          "base_uri": "https://localhost:8080/"
        },
        "id": "WxiiZRu5Pufb",
        "outputId": "eff09614-480f-4384-f723-2c352430d0d6"
      },
      "source": [
        "print(XOR_Gate.Type, '\\n')\n",
        "\n",
        "test_data = np.array([[0,0],[0,1],[1,0],[1,1]])\n",
        "\n",
        "for input_data in test_data :\n",
        "    (sigmoid_val, logical_val) = XOR_Gate.predict(input_data)\n",
        "    print(input_data, ' = ', logical_val)"
      ],
      "execution_count": 44,
      "outputs": [
        {
          "output_type": "stream",
          "name": "stdout",
          "text": [
            "NAND_GATE \n",
            "\n",
            "[0 0]  =  0\n",
            "[0 1]  =  0\n",
            "[1 0]  =  0\n",
            "[1 1]  =  1\n"
          ]
        }
      ]
    },
    {
      "cell_type": "code",
      "metadata": {
        "id": "L6P1bCcAP10z"
      },
      "source": [
        "input_data = np.array([[0,0],[0,1],[1,0],[1,1]])\n",
        "\n",
        "HL1_1 = []\n",
        "HL1_2 = []\n",
        "\n",
        "new_input_data = []\n",
        "final_output = []\n",
        "\n",
        "for index in range(len(input_data)):\n",
        "\n",
        "    HL1_1 = NAND_Gate.predict(input_data[index])\n",
        "    HL1_2 = OR_Gate.predict(input_data[index])\n",
        "\n",
        "    new_input_data.append(HL1_1[-1])\n",
        "    new_input_data.append(HL1_2[-1])\n",
        "\n",
        "    (sigmoid_val, logical_val) = AND_Gate.predict(np.array(new_input_data))\n",
        "\n",
        "    final_output.append(logical_val)\n",
        "    new_input_data = []"
      ],
      "execution_count": 45,
      "outputs": []
    },
    {
      "cell_type": "code",
      "metadata": {
        "colab": {
          "base_uri": "https://localhost:8080/"
        },
        "id": "2PzWDFcpRMhp",
        "outputId": "3a822837-e25e-48da-bc26-4bf855756f23"
      },
      "source": [
        "print(XOR_Gate.Type, '\\n')\n",
        "\n",
        "for index in range(len(input_data)):\n",
        "    print(input_data[index], ' = ', final_output[index])"
      ],
      "execution_count": 47,
      "outputs": [
        {
          "output_type": "stream",
          "name": "stdout",
          "text": [
            "NAND_GATE \n",
            "\n",
            "[0 0]  =  0\n",
            "[0 1]  =  1\n",
            "[1 0]  =  1\n",
            "[1 1]  =  0\n"
          ]
        }
      ]
    },
    {
      "cell_type": "code",
      "metadata": {
        "id": "4V8hnednRcXf"
      },
      "source": [
        "class XOR_Gate:\n",
        "\n",
        "    def __init__(self, gate_Type, X_input, y_output):\n",
        "\n",
        "        self.Type = gate_Type\n",
        "        self.X_input = X_input.reshape(4,2)\n",
        "        self.y_output = y_output.reshape(4,1)\n",
        "        self.W_1 = np.random.rand(2,2)\n",
        "        self.b_1 = np.random.rand(2)\n",
        "        self.W_2 = np.random.rand(2,1)\n",
        "        self.b_2 = np.random.rand(1)\n",
        "        self.learning_rate = 0.01\n",
        "\n",
        "    def cost_func(self):\n",
        "\n",
        "        z_1 = np.dot(self.X_input, self.W_1)+ self.b_1\n",
        "        a_1 = sigmoid(z_1)\n",
        "\n",
        "        z_2 = np.dot(a_1, self.W_2) + self.b_2\n",
        "        y_hat = sigmoid(z_2)\n",
        "        delta = 0.00001\n",
        "        return -np.sum(self.y_output * np.log(y_hat + delta) + (1 - self.y_output) * np.log((1-y_hat)+delta))\n",
        "\n",
        "    def learn(self):\n",
        "        machine = lambda x : self.cost_func()\n",
        "        print('Initial Cost = ', self.cost_func())\n",
        "\n",
        "        for step in range(30001):\n",
        "            self.W_1 = self.W_1 - self.learning_rate * gradient(machine, self.W_1)\n",
        "            self.b_1 = self.b_1 - self.learning_rate * gradient(machine, self.b_1)\n",
        "            self.W_2 = self.W_2 - self.learning_rate * gradient(machine, self.W_2)\n",
        "            self.b_2 = self.b_2 - self.learning_rate * gradient(machine, self.b_2)\n",
        "\n",
        "            if (step % 1000 == 0):\n",
        "                print('Step = ', step, 'Cost = ', self.cost_func())\n",
        "\n",
        "    def predict(self, input_data):\n",
        "\n",
        "        z_1 = np.dot(input_data, self.W_1)+ self.b_1\n",
        "        a_1 = sigmoid(z_1)\n",
        "        z_2 = np.dot(a_1, self.W_2) + self.b_2\n",
        "        y_prob = sigmoid(z_2)\n",
        "\n",
        "        if y_prob > 0.5 :\n",
        "            result = 1\n",
        "        else:\n",
        "            result = 0\n",
        "        return y_prob, result"
      ],
      "execution_count": 49,
      "outputs": []
    },
    {
      "cell_type": "code",
      "metadata": {
        "id": "WqUVx2goTuy7"
      },
      "source": [
        "X_input = np.array([[0,0],[0,1],[1,0],[1,1]])\n",
        "y_output = np.array([0,1,1,0])"
      ],
      "execution_count": 50,
      "outputs": []
    },
    {
      "cell_type": "code",
      "metadata": {
        "colab": {
          "base_uri": "https://localhost:8080/"
        },
        "id": "Ht9W5321UEYd",
        "outputId": "80c8f6ce-d969-43ae-ea35-ae24cd9e2f65"
      },
      "source": [
        "XOR_Gate_2 = XOR_Gate('XOR_GATE', X_input, y_output)\n",
        "XOR_Gate_2.learn()"
      ],
      "execution_count": 52,
      "outputs": [
        {
          "output_type": "stream",
          "name": "stdout",
          "text": [
            "Initial Cost =  3.2137321962108043\n",
            "Step =  0 Cost =  3.1959221995328777\n",
            "Step =  1000 Cost =  2.7612360396159548\n",
            "Step =  2000 Cost =  2.7489061883722714\n",
            "Step =  3000 Cost =  2.7214491859443664\n",
            "Step =  4000 Cost =  2.6583154163786507\n",
            "Step =  5000 Cost =  2.5286918833527503\n",
            "Step =  6000 Cost =  2.3431064660441328\n",
            "Step =  7000 Cost =  2.1609738081782774\n",
            "Step =  8000 Cost =  1.9953384455891348\n",
            "Step =  9000 Cost =  1.8209891311116468\n",
            "Step =  10000 Cost =  1.4797974389695217\n",
            "Step =  11000 Cost =  0.9666064495182853\n",
            "Step =  12000 Cost =  0.6119809964486612\n",
            "Step =  13000 Cost =  0.4186808199872605\n",
            "Step =  14000 Cost =  0.3100226991497301\n",
            "Step =  15000 Cost =  0.24330268016048748\n",
            "Step =  16000 Cost =  0.1990058760420534\n",
            "Step =  17000 Cost =  0.16775572460549756\n",
            "Step =  18000 Cost =  0.14465659812205922\n",
            "Step =  19000 Cost =  0.12694960870604574\n",
            "Step =  20000 Cost =  0.11297729720092858\n",
            "Step =  21000 Cost =  0.10168999994334879\n",
            "Step =  22000 Cost =  0.09239332990271494\n",
            "Step =  23000 Cost =  0.08461087967427053\n",
            "Step =  24000 Cost =  0.07800557705757967\n",
            "Step =  25000 Cost =  0.07233258223588934\n",
            "Step =  26000 Cost =  0.0674099723682863\n",
            "Step =  27000 Cost =  0.06309987931646102\n",
            "Step =  28000 Cost =  0.05929599537789058\n",
            "Step =  29000 Cost =  0.05591508288401195\n",
            "Step =  30000 Cost =  0.05289107248763182\n"
          ]
        }
      ]
    },
    {
      "cell_type": "code",
      "metadata": {
        "colab": {
          "base_uri": "https://localhost:8080/"
        },
        "id": "y-umFNxhUQ_E",
        "outputId": "375f16c5-27bf-466e-f09c-6c32ca280c38"
      },
      "source": [
        "print(XOR_Gate_2.Type, '\\n')\n",
        "\n",
        "test_data =  np.array([[0,0],[0,1],[1,0],[1,1]])\n",
        "\n",
        "for input_data in test_data :\n",
        "    (sigmoid_val, logical_val) = XOR_Gate_2.predict(input_data)\n",
        "    print(input_data, ' = ', logical_val)"
      ],
      "execution_count": 54,
      "outputs": [
        {
          "output_type": "stream",
          "name": "stdout",
          "text": [
            "XOR_GATE \n",
            "\n",
            "[0 0]  =  0\n",
            "[0 1]  =  1\n",
            "[1 0]  =  1\n",
            "[1 1]  =  0\n"
          ]
        }
      ]
    }
  ]
}