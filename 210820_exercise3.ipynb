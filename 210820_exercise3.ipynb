{
 "cells": [
  {
   "cell_type": "code",
   "execution_count": 1,
   "id": "a4e84cca",
   "metadata": {},
   "outputs": [],
   "source": [
    "# 지니 사이트에 접속하기\n",
    "from    selenium import    webdriver\n",
    "from    bs4 import    BeautifulSoup\n",
    "\n",
    "driver =    webdriver.Chrome('C:/Myexam/chromedriver/chromedriver.exe') \n",
    "url =    'https://www.genie.co.kr/chart/top200'\n",
    "driver.get(url) \n",
    "\n",
    "html =    driver.page_source\n",
    "soup =    BeautifulSoup(html, 'html.parser')"
   ]
  },
  {
   "cell_type": "code",
   "execution_count": 2,
   "id": "b401e799",
   "metadata": {},
   "outputs": [
    {
     "data": {
      "text/plain": [
       "50"
      ]
     },
     "execution_count": 2,
     "metadata": {},
     "output_type": "execute_result"
    }
   ],
   "source": [
    "# 지니 사이트에서 곡 정보 찾기\n",
    "songs =    soup.select('table > tbody > tr')\n",
    "len(songs)"
   ]
  },
  {
   "cell_type": "code",
   "execution_count": 3,
   "id": "6dc174e0",
   "metadata": {},
   "outputs": [
    {
     "name": "stdout",
     "output_type": "stream",
     "text": [
      "<tr class=\"list\" songid=\"93300145\">\n",
      "<td class=\"check\"><input class=\"select-check\" title=\"신호등\" type=\"checkbox\"/></td>\n",
      "<td class=\"number\">1\n",
      "                                        \n",
      "                                    <span class=\"rank\">\n",
      "<span class=\"rank\"><span class=\"rank-none\"><span class=\"hide\">유지</span></span></span>\n",
      "</span>\n",
      "</td>\n",
      "<td><a class=\"cover\" href=\"#\" onclick=\"fnViewAlbumLayer('82045022');return false;\"><span class=\"mask\"></span><img alt=\"신호등\" onerror=\"this.src='//image.genie.co.kr/imageg/web/common/blank_68.gif';\" src=\"//image.genie.co.kr/Y/IMAGE/IMG_ALBUM/082/045/022/82045022_1620896061233_1_140x140.JPG/dims/resize/Q_80,0\"/></a></td>\n",
      "<td class=\"link\"><a class=\"btn-basic btn-info\" href=\"#\" onclick=\"fnViewSongInfo('93300145');return false;\">곡 제목 정보 페이지</a></td>\n",
      "<td class=\"info\">\n",
      "<a class=\"title ellipsis\" href=\"#\" onclick=\"fnPlaySong('93300145','1');return false;\" title=\"재생\">\n",
      "                                        \n",
      "                                            \n",
      "                                        \n",
      "                                        \n",
      "                                        \n",
      "                                        \n",
      "                                            \n",
      "                                                신호등</a>\n",
      "<a class=\"artist ellipsis\" href=\"#\" onclick=\"fnViewArtist('80632742');return false;\">이무진</a>\n",
      "<div class=\"toggle-button-box\">\n",
      "<button class=\"btn artist-etc\" onclick=\"fnRelationArtistList('93300145');\" type=\"button\">외</button>\n",
      "<ul class=\"list\" id=\"RelationArtist_93300145\"></ul>\n",
      "</div>\n",
      "<i class=\"bar\">|</i>\n",
      "<a class=\"albumtitle ellipsis\" href=\"#\" onclick=\"fnViewAlbumLayer('82045022');return false;\">신호등</a>\n",
      "</td>\n",
      "<td class=\"btns\"><a class=\"btn-basic btn-listen\" href=\"#\" onclick=\"fnPlaySong('93300145;' ,'1'); return false;\" title=\"재생\">듣기</a></td>\n",
      "<td class=\"btns\"><a class=\"btn-basic btn-add\" href=\"#\" onclick=\"fnPlaySong('93300145;' ,'3'); return false;\" title=\"추가\">재생목록에 추가</a></td>\n",
      "<td class=\"btns\"><button class=\"btn-basic btn-album\" id=\"add_my_album_93300145\" onclick=\"fnAddMyAlbumForm('#add_my_album_93300145' , '93300145' ,10, 10);return false;\" songid=\"93300145\" type=\"button\">플레이리스트에 담기</button></td>\n",
      "<td class=\"btns\"><a class=\"btn-basic btn-down\" href=\"#\" onclick=\"fnDownSong('93300145');return false;\" title=\"다운\">다운로드</a></td>\n",
      "<td class=\"btns\">\n",
      "<div class=\"toggle-button-box lyr-mv\" id=\"list-mv_93300145\">\n",
      "<a alt=\"신호등\" class=\"btn btn-basic btn-mv\" href=\"#\" onclick=\"fnPlayMv('93300145','3'); return false;\" title=\"뮤비\">뮤직비디오 보기</a>\n",
      "</div>\n",
      "</td>\n",
      "<td class=\"more\">\n",
      "<div class=\"toggle-button-box\">\n",
      "<button class=\"btn btn-basic btn-more\" type=\"button\">더보기</button>\n",
      "<ul class=\"list\">\n",
      "<li><a class=\"item\" href=\"#\" onclick=\"shareDo('93300145');return false;\" title=\"공유\">공유하기/음악나누기</a></li>\n",
      "<li><a class=\"item\" href=\"#\" onclick=\"fnGiftSong('93300145');return false;\" title=\"선물\">선물하기</a></li>\n",
      "</ul>\n",
      "</div>\n",
      "</td>\n",
      "</tr>\n"
     ]
    }
   ],
   "source": [
    "# songs 태그 중 첫 번째 태그 출력해보기\n",
    "print(songs[0])"
   ]
  },
  {
   "cell_type": "code",
   "execution_count": 4,
   "id": "115e1c7f",
   "metadata": {},
   "outputs": [],
   "source": [
    "# 한 개의 곡 정보 저장하기\n",
    "song =    songs[0]"
   ]
  },
  {
   "cell_type": "code",
   "execution_count": 5,
   "id": "22b22fd2",
   "metadata": {},
   "outputs": [
    {
     "data": {
      "text/plain": [
       "1"
      ]
     },
     "execution_count": 5,
     "metadata": {},
     "output_type": "execute_result"
    }
   ],
   "source": [
    "# 지니 사이트에서 곡 제목 찾기\n",
    "title = song.select('a.title')\n",
    "len(title)"
   ]
  },
  {
   "cell_type": "code",
   "execution_count": 6,
   "id": "4f52951f",
   "metadata": {},
   "outputs": [
    {
     "data": {
      "text/plain": [
       "'\\n                                        \\n                                            \\n                                        \\n                                        \\n                                        \\n                                        \\n                                            \\n                                                신호등'"
      ]
     },
     "execution_count": 6,
     "metadata": {},
     "output_type": "execute_result"
    }
   ],
   "source": [
    "# 지니 사이트의 곡제목 출력해보기 1\n",
    "title = song.select('a.title')[0].text\n",
    "title"
   ]
  },
  {
   "cell_type": "code",
   "execution_count": 7,
   "id": "af08ad90",
   "metadata": {},
   "outputs": [
    {
     "data": {
      "text/plain": [
       "'신호등'"
      ]
     },
     "execution_count": 7,
     "metadata": {},
     "output_type": "execute_result"
    }
   ],
   "source": [
    "# 지니 사이트의 곡제목 출력해보기 2\n",
    "title = song.select('a.title')[0].text.strip()\n",
    "title"
   ]
  },
  {
   "cell_type": "code",
   "execution_count": 8,
   "id": "d0a0b031",
   "metadata": {},
   "outputs": [
    {
     "data": {
      "text/plain": [
       "1"
      ]
     },
     "execution_count": 8,
     "metadata": {},
     "output_type": "execute_result"
    }
   ],
   "source": [
    "# 지니 사이트의 가수명 찾기\n",
    "singer = song.select('a.artist')\n",
    "len(singer)"
   ]
  },
  {
   "cell_type": "code",
   "execution_count": 9,
   "id": "16ae1d6c",
   "metadata": {},
   "outputs": [
    {
     "data": {
      "text/plain": [
       "'이무진'"
      ]
     },
     "execution_count": 9,
     "metadata": {},
     "output_type": "execute_result"
    }
   ],
   "source": [
    "# 지니 사이트의 가수명 출력해보기 1\n",
    "singer = song.select('a.artist')[0].text\n",
    "singer"
   ]
  },
  {
   "cell_type": "code",
   "execution_count": 10,
   "id": "50fe5bf2",
   "metadata": {},
   "outputs": [
    {
     "name": "stdout",
     "output_type": "stream",
     "text": [
      "신호등|이무진\n",
      "Queendom|Red Velvet (레드벨벳)\n",
      "낙하 (With 아이유)|AKMU (악뮤)\n",
      "바라만 본다|MSG워너비 (M.O.M)\n",
      "Weekend|태연 (TAEYEON)\n",
      "Permission to Dance|방탄소년단\n",
      "Next Level|aespa\n",
      "OHAYO MY NIGHT|디핵 (D-Hack) & PATEKO\n",
      "Stay|The Kid LAROI & Justin Bieber\n",
      "좋아좋아|조정석\n",
      "Bad Habits|Ed Sheeran\n",
      "사진을 보다가|다비치\n",
      "Butter|방탄소년단\n",
      "DUMB DUMB|전소미\n",
      "회상|정경호\n",
      "비와 당신|이무진\n",
      "Peaches (Feat. Daniel Caesar & Giveon)|Justin Bieber\n",
      "Dynamite|방탄소년단\n",
      "헤픈 우연|헤이즈 (Heize)\n",
      "롤린 (Rollin')|브레이브걸스 (Brave girls)\n",
      "비가 오는 날엔 (2021)|헤이즈 (Heize)\n",
      "라일락|아이유 (IU)\n",
      "고백|10CM\n",
      "치맛바람 (Chi Mat Ba Ram)|브레이브걸스 (Brave girls)\n",
      "하루만 더|빅마마 (Big Mama)\n",
      "Dun Dun Dance|오마이걸 (OH MY GIRL)\n",
      "이제 나만 믿어요|임영웅\n",
      "Alcohol-Free|TWICE (트와이스)\n",
      "Celebrity|아이유 (IU)\n",
      "다정히 내 이름을 부르면|경서예지 & 전건호\n",
      "여전히 아름다운지|세븐틴 (SEVENTEEN)\n",
      "Timeless|SG워너비\n",
      "Savage Love (Laxed - Siren Beat) (BTS Remix)|Jawsh 685 & Jason Derulo & 방탄소년단\n",
      "비 오는 날 듣기 좋은 노래 (Feat. Colde)|에픽하이 (EPIK HIGH)\n",
      "운전만해 (We Ride)|브레이브걸스 (Brave girls)\n",
      "안녕 (Hello)|조이 (JOY)\n",
      "가을 우체국 앞에서|김대명\n",
      "나를 아는 사람|MSG워너비 (정상동기)\n",
      "별빛 같은 나의 사랑아|임영웅\n",
      "상상더하기|라붐 (LABOUM)\n",
      "작은 것들을 위한 시 (Boy With Luv) (Feat. Halsey)|방탄소년단\n",
      "At My Worst|Pink Sweat$\n",
      "다시 사랑한다면 (김필 Ver.)|임영웅\n",
      "HERO|임영웅\n",
      "ASAP|STAYC (스테이씨)\n",
      "사이렌 Remix (Feat. UNEDUCATED KID & Paul Blanco)|호미들\n",
      "아로하|조정석\n",
      "슈퍼스타|미도와 파라솔\n",
      "추적이는 여름 비가 되어|장범준\n",
      "내 손을 잡아|아이유 (IU)\n"
     ]
    }
   ],
   "source": [
    "# 지니 사이트의 가수명 출력해보기 2\n",
    "songs = soup.select('tbody > tr')\n",
    "for song in songs:\n",
    "    title = song.select('a.title')[0].text.strip()\n",
    "    singer = song.select('a.artist')[0].text\n",
    "    print(title, singer, sep = '|')"
   ]
  },
  {
   "cell_type": "code",
   "execution_count": 11,
   "id": "9e0ef0a7",
   "metadata": {},
   "outputs": [],
   "source": [
    "# 반복문을 이용해 곡과 가수명을 song_data에 저장하기\n",
    "song_data = []\n",
    "rank = 1\n",
    "songs = soup.select('table > tbody > tr')\n",
    "for song in songs :\n",
    "    title = song.select('a.title')[0].text.strip()\n",
    "    singer = song.select('a.artist')[0].text.strip()\n",
    "    song_data.append([\"Genie\", rank, title, singer])\n",
    "    rank = rank + 1"
   ]
  },
  {
   "cell_type": "code",
   "execution_count": 12,
   "id": "f5d3d11d",
   "metadata": {},
   "outputs": [],
   "source": [
    "# song_data 리스트를 이용해 엑셀파일로 저장하기\n",
    "import pandas as pd\n",
    "\n",
    "columns= ['서비스', '순위', '타이틀', '가수']\n",
    "pd_data = pd.DataFrame(song_data, columns = columns)\n",
    "pd_data.to_excel('./files/genie.xlsx', index= False )"
   ]
  },
  {
   "cell_type": "code",
   "execution_count": null,
   "id": "87203677",
   "metadata": {},
   "outputs": [],
   "source": []
  }
 ],
 "metadata": {
  "kernelspec": {
   "display_name": "Python 3",
   "language": "python",
   "name": "python3"
  },
  "language_info": {
   "codemirror_mode": {
    "name": "ipython",
    "version": 3
   },
   "file_extension": ".py",
   "mimetype": "text/x-python",
   "name": "python",
   "nbconvert_exporter": "python",
   "pygments_lexer": "ipython3",
   "version": "3.8.8"
  }
 },
 "nbformat": 4,
 "nbformat_minor": 5
}
