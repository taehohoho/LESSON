{
 "cells": [
  {
   "cell_type": "code",
   "execution_count": 2,
   "id": "a7a6d9e7",
   "metadata": {},
   "outputs": [],
   "source": [
    "# 크롤링 결과가 담긴 엑셀 파일 통합하기\n",
    "import    pandas as    pd\n",
    "excel_names =  ['./files/melon.xlsx', './files/bugs.xlsx', './files/genie.xlsx'] \n",
    "appended_data =    pd.DataFrame()\n",
    "for    name in    excel_names:\n",
    "    pd_data =    pd.read_excel(name)\n",
    "    appended_data =    appended_data.append(pd_data)"
   ]
  },
  {
   "cell_type": "code",
   "execution_count": 3,
   "id": "f311f6e0",
   "metadata": {},
   "outputs": [
    {
     "name": "stdout",
     "output_type": "stream",
     "text": [
      "<class 'pandas.core.frame.DataFrame'>\n",
      "Int64Index: 250 entries, 0 to 49\n",
      "Data columns (total 4 columns):\n",
      " #   Column  Non-Null Count  Dtype \n",
      "---  ------  --------------  ----- \n",
      " 0   서비스     250 non-null    object\n",
      " 1   순위      250 non-null    int64 \n",
      " 2   타이틀     250 non-null    object\n",
      " 3   가수      250 non-null    object\n",
      "dtypes: int64(1), object(3)\n",
      "memory usage: 9.8+ KB\n"
     ]
    }
   ],
   "source": [
    "# 크롤링 결과 확인하기\n",
    "appended_data.info()"
   ]
  },
  {
   "cell_type": "code",
   "execution_count": 5,
   "id": "647a865b",
   "metadata": {},
   "outputs": [],
   "source": [
    "# 통합한 크롤링 결과를 엑셀 파일로 저장하기\n",
    "appended_data.to_excel('./files/total.xlsx', index= False )"
   ]
  }
 ],
 "metadata": {
  "kernelspec": {
   "display_name": "Python 3",
   "language": "python",
   "name": "python3"
  },
  "language_info": {
   "codemirror_mode": {
    "name": "ipython",
    "version": 3
   },
   "file_extension": ".py",
   "mimetype": "text/x-python",
   "name": "python",
   "nbconvert_exporter": "python",
   "pygments_lexer": "ipython3",
   "version": "3.8.8"
  }
 },
 "nbformat": 4,
 "nbformat_minor": 5
}
