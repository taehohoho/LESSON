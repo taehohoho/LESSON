{
  "nbformat": 4,
  "nbformat_minor": 0,
  "metadata": {
    "colab": {
      "name": "210723_if.ipynb",
      "provenance": [],
      "collapsed_sections": [],
      "authorship_tag": "ABX9TyMwbUATgyjzNgLXzTg6P817",
      "include_colab_link": true
    },
    "kernelspec": {
      "name": "python3",
      "display_name": "Python 3"
    },
    "language_info": {
      "name": "python"
    }
  },
  "cells": [
    {
      "cell_type": "markdown",
      "metadata": {
        "id": "view-in-github",
        "colab_type": "text"
      },
      "source": [
        "<a href=\"https://colab.research.google.com/github/taehohoho/LESSON/blob/master/210723_if.ipynb\" target=\"_parent\"><img src=\"https://colab.research.google.com/assets/colab-badge.svg\" alt=\"Open In Colab\"/></a>"
      ]
    },
    {
      "cell_type": "code",
      "metadata": {
        "colab": {
          "base_uri": "https://localhost:8080/"
        },
        "id": "4wCsX7HWo8bM",
        "outputId": "8a3c6f8c-66db-4fb6-ae76-14c9085fae0a"
      },
      "source": [
        "x = 95\n",
        "if x >= 90 :\n",
        "    print(\"Pass\")"
      ],
      "execution_count": null,
      "outputs": [
        {
          "output_type": "stream",
          "text": [
            "Pass\n"
          ],
          "name": "stdout"
        }
      ]
    },
    {
      "cell_type": "code",
      "metadata": {
        "colab": {
          "base_uri": "https://localhost:8080/"
        },
        "id": "LT-V0_0wpNME",
        "outputId": "f571a496-d533-4306-b2e2-8f216fbce466"
      },
      "source": [
        "x = 75\n",
        "if x >= 90 :\n",
        "    print(\"pass\")\n",
        "else : \n",
        "    print(\"fail\")"
      ],
      "execution_count": null,
      "outputs": [
        {
          "output_type": "stream",
          "text": [
            "fail\n"
          ],
          "name": "stdout"
        }
      ]
    },
    {
      "cell_type": "code",
      "metadata": {
        "colab": {
          "base_uri": "https://localhost:8080/"
        },
        "id": "s91QvSAgpa40",
        "outputId": "4f08995b-c68c-4002-8154-d120182184ae"
      },
      "source": [
        "x = 85\n",
        "if x >= 90 :\n",
        "    print('Very good')\n",
        "elif (x >= 80) and (x < 90) :\n",
        "    print(\"good\")\n",
        "else :\n",
        "    print(\"bad\")"
      ],
      "execution_count": null,
      "outputs": [
        {
          "output_type": "stream",
          "text": [
            "good\n"
          ],
          "name": "stdout"
        }
      ]
    },
    {
      "cell_type": "code",
      "metadata": {
        "colab": {
          "base_uri": "https://localhost:8080/"
        },
        "id": "RqKtjCUD4J2V",
        "outputId": "ba4bbfae-65f9-4059-bb1c-917f51a19ac5"
      },
      "source": [
        "x = 85\n",
        "if x >= 90 :\n",
        "    print('very good')\n",
        "elif 80 <= x < 90 :\n",
        "    print('good')\n",
        "else :\n",
        "    print('bad')"
      ],
      "execution_count": null,
      "outputs": [
        {
          "output_type": "stream",
          "text": [
            "good\n"
          ],
          "name": "stdout"
        }
      ]
    },
    {
      "cell_type": "code",
      "metadata": {
        "colab": {
          "base_uri": "https://localhost:8080/"
        },
        "id": "YjLLjHZ84Zvr",
        "outputId": "d7688ad3-d4ab-4fa9-94d4-d219e108d5cd"
      },
      "source": [
        "x = 100\n",
        "if x >= 90 :\n",
        "    if x == 100 :\n",
        "        print('Perfect')\n",
        "    else :\n",
        "        print('very good')\n",
        "elif (x >= 80) and (x < 90) :\n",
        "    print('good')\n",
        "else :\n",
        "    print('bad')"
      ],
      "execution_count": null,
      "outputs": [
        {
          "output_type": "stream",
          "text": [
            "Perfect\n"
          ],
          "name": "stdout"
        }
      ]
    },
    {
      "cell_type": "code",
      "metadata": {
        "id": "2baxKlV-4zBY"
      },
      "source": [
        "x = 75\n",
        "if x >= 80 :\n",
        "    pass\n",
        "else :\n",
        "    pass"
      ],
      "execution_count": null,
      "outputs": []
    }
  ]
}