{
  "nbformat": 4,
  "nbformat_minor": 0,
  "metadata": {
    "colab": {
      "name": "210727_input_output.ipynb",
      "provenance": [],
      "collapsed_sections": [],
      "authorship_tag": "ABX9TyMyEQoizFRy5s9CAKDy+Rhq",
      "include_colab_link": true
    },
    "kernelspec": {
      "name": "python3",
      "display_name": "Python 3"
    },
    "language_info": {
      "name": "python"
    }
  },
  "cells": [
    {
      "cell_type": "markdown",
      "metadata": {
        "id": "view-in-github",
        "colab_type": "text"
      },
      "source": [
        "<a href=\"https://colab.research.google.com/github/taehohoho/LESSON/blob/master/210727_input_output.ipynb\" target=\"_parent\"><img src=\"https://colab.research.google.com/assets/colab-badge.svg\" alt=\"Open In Colab\"/></a>"
      ]
    },
    {
      "cell_type": "code",
      "metadata": {
        "colab": {
          "base_uri": "https://localhost:8080/"
        },
        "id": "ENKiCx4NbZw5",
        "outputId": "68245aa8-4b9c-474c-e24e-8c5162b81cc9"
      },
      "source": [
        "print(\"Hello Python!!\")"
      ],
      "execution_count": 1,
      "outputs": [
        {
          "output_type": "stream",
          "text": [
            "Hello Python!!\n"
          ],
          "name": "stdout"
        }
      ]
    },
    {
      "cell_type": "code",
      "metadata": {
        "colab": {
          "base_uri": "https://localhost:8080/"
        },
        "id": "vU4jO5ghsIje",
        "outputId": "755be3e9-453e-4db6-ecb2-fd1e68a82b6e"
      },
      "source": [
        "print(\"Best\", \"python\", \"book\")"
      ],
      "execution_count": 3,
      "outputs": [
        {
          "output_type": "stream",
          "text": [
            "Best python book\n"
          ],
          "name": "stdout"
        }
      ]
    },
    {
      "cell_type": "code",
      "metadata": {
        "colab": {
          "base_uri": "https://localhost:8080/"
        },
        "id": "nkHizOsfsM_B",
        "outputId": "220c0a90-e95f-4e2f-d447-e40d061e91d5"
      },
      "source": [
        "print(\"Best\", \"Python\", \"book\", sep = \"-:*:-\")"
      ],
      "execution_count": 4,
      "outputs": [
        {
          "output_type": "stream",
          "text": [
            "Best-:*:-Python-:*:-book\n"
          ],
          "name": "stdout"
        }
      ]
    },
    {
      "cell_type": "code",
      "metadata": {
        "colab": {
          "base_uri": "https://localhost:8080/"
        },
        "id": "6-JDZ98ZsW5f",
        "outputId": "0bdd8cb2-53b4-466f-81d2-ef02b335f11c"
      },
      "source": [
        "print(\"abcd\" + \"efg\")"
      ],
      "execution_count": 5,
      "outputs": [
        {
          "output_type": "stream",
          "text": [
            "abcdefg\n"
          ],
          "name": "stdout"
        }
      ]
    },
    {
      "cell_type": "code",
      "metadata": {
        "colab": {
          "base_uri": "https://localhost:8080/"
        },
        "id": "9gXWg0eEscNY",
        "outputId": "7cef8e4e-c7d8-4443-b7bb-3e13e6978fdc"
      },
      "source": [
        "print(\"Best\", \"Python\", \"book\" + \":\", \"This book\")"
      ],
      "execution_count": 6,
      "outputs": [
        {
          "output_type": "stream",
          "text": [
            "Best Python book: This book\n"
          ],
          "name": "stdout"
        }
      ]
    },
    {
      "cell_type": "code",
      "metadata": {
        "colab": {
          "base_uri": "https://localhost:8080/"
        },
        "id": "XXlrBJwZsksA",
        "outputId": "f75eb397-a4e0-4496-e76d-04a93f206b30"
      },
      "source": [
        "x = 10\n",
        "print(x)"
      ],
      "execution_count": 7,
      "outputs": [
        {
          "output_type": "stream",
          "text": [
            "10\n"
          ],
          "name": "stdout"
        }
      ]
    },
    {
      "cell_type": "code",
      "metadata": {
        "colab": {
          "base_uri": "https://localhost:8080/"
        },
        "id": "qDfFYVRysmaI",
        "outputId": "07b65aad-00ab-4547-f1f1-ee3ccbfb3dac"
      },
      "source": [
        "name = \"James\"\n",
        "ID_num = 789\n",
        "print(\"Name:\", name + \",\", \"ID Number:\", ID_num)"
      ],
      "execution_count": 11,
      "outputs": [
        {
          "output_type": "stream",
          "text": [
            "Name: James, ID Number: 789\n"
          ],
          "name": "stdout"
        }
      ]
    },
    {
      "cell_type": "code",
      "metadata": {
        "colab": {
          "base_uri": "https://localhost:8080/"
        },
        "id": "hKD3n38kspBw",
        "outputId": "26d9c496-cbc4-4899-ef86-b822f51dc8cb"
      },
      "source": [
        "print(\"James is my friend\\nHe is Korean.\")"
      ],
      "execution_count": 14,
      "outputs": [
        {
          "output_type": "stream",
          "text": [
            "James is my friend\n",
            "He is Korean.\n"
          ],
          "name": "stdout"
        }
      ]
    },
    {
      "cell_type": "code",
      "metadata": {
        "colab": {
          "base_uri": "https://localhost:8080/"
        },
        "id": "WdkNu-BbtcXw",
        "outputId": "bf301ca5-5bf1-4181-a8cf-804fe2d718fd"
      },
      "source": [
        "print(\"James is my friend.\\nHe is Korean.\")"
      ],
      "execution_count": 15,
      "outputs": [
        {
          "output_type": "stream",
          "text": [
            "James is my friend.\n",
            "He is Korean.\n"
          ],
          "name": "stdout"
        }
      ]
    },
    {
      "cell_type": "code",
      "metadata": {
        "colab": {
          "base_uri": "https://localhost:8080/"
        },
        "id": "U_cC3noOtjOf",
        "outputId": "69e1cffc-1dd9-4d80-9b00-0a88a7073a7b"
      },
      "source": [
        "print(\"Welcome to \")\n",
        "print(\"python!\")"
      ],
      "execution_count": 17,
      "outputs": [
        {
          "output_type": "stream",
          "text": [
            "Welcome to \n",
            "python!\n"
          ],
          "name": "stdout"
        }
      ]
    },
    {
      "cell_type": "code",
      "metadata": {
        "colab": {
          "base_uri": "https://localhost:8080/"
        },
        "id": "s81R8_ngtpTf",
        "outputId": "11809514-7244-4d37-dd90-b56f40f4032a"
      },
      "source": [
        "print(\"Welcome to \", end = \"\")\n",
        "print(\"python!\")"
      ],
      "execution_count": 19,
      "outputs": [
        {
          "output_type": "stream",
          "text": [
            "Welcome to python!\n"
          ],
          "name": "stdout"
        }
      ]
    },
    {
      "cell_type": "code",
      "metadata": {
        "colab": {
          "base_uri": "https://localhost:8080/"
        },
        "id": "z7706SgptyEB",
        "outputId": "b7b74bf5-b534-4776-9af0-10e929559a8e"
      },
      "source": [
        "name = \"광재\"\n",
        "print (\"%s는 나의 친구입니다.\" % name)"
      ],
      "execution_count": 20,
      "outputs": [
        {
          "output_type": "stream",
          "text": [
            "광재는 나의 친구입니다.\n"
          ],
          "name": "stdout"
        }
      ]
    },
    {
      "cell_type": "code",
      "metadata": {
        "colab": {
          "base_uri": "https://localhost:8080/"
        },
        "id": "k9DLPU7y6XcG",
        "outputId": "909eec24-bbfa-4c3e-c17f-86b35252d89d"
      },
      "source": [
        "r = 3 # 변수 r에 정수 데이터 할당\n",
        "PI = 3.141592635358979      #  변이 PI에 실수 데이터 할당\n",
        "\n",
        "print(\"반지름: %d, 원주율: %f \" % (r, PI))  # 지정된 위치에 데이터 출력"
      ],
      "execution_count": 21,
      "outputs": [
        {
          "output_type": "stream",
          "text": [
            "반지름: 3, 원주율: 3.141593 \n"
          ],
          "name": "stdout"
        }
      ]
    },
    {
      "cell_type": "code",
      "metadata": {
        "colab": {
          "base_uri": "https://localhost:8080/"
        },
        "id": "6FyU1MgO6wdW",
        "outputId": "937c9716-7ea5-4c2e-a16a-98f821ab3d74"
      },
      "source": [
        "animal_0 = \"cat\"\n",
        "animal_1 = \"dog\"\n",
        "animal_2 = \"fox\"\n",
        "\n",
        "print(\"Animal: {0}\".format(animal_0))\n",
        "print(\"Animal: {0}, {1}, {2}\".format(animal_0, animal_1, animal_2))"
      ],
      "execution_count": 26,
      "outputs": [
        {
          "output_type": "stream",
          "text": [
            "Animal: cat\n",
            "Animal: cat, dog, fox\n"
          ],
          "name": "stdout"
        }
      ]
    },
    {
      "cell_type": "code",
      "metadata": {
        "colab": {
          "base_uri": "https://localhost:8080/"
        },
        "id": "wx4jjd13610D",
        "outputId": "f78dc724-656d-49ae-838e-4eeae27c396d"
      },
      "source": [
        "print(\"Animal: {1}, {2}, {0}\".format(animal_0, animal_1, animal_2))"
      ],
      "execution_count": 27,
      "outputs": [
        {
          "output_type": "stream",
          "text": [
            "Animal: dog, fox, cat\n"
          ],
          "name": "stdout"
        }
      ]
    },
    {
      "cell_type": "code",
      "metadata": {
        "colab": {
          "base_uri": "https://localhost:8080/"
        },
        "id": "WVyig_Rx7jp7",
        "outputId": "ecf9810b-d0ac-4cce-ab9f-527a4940b988"
      },
      "source": [
        "print(\"Animal : {0}, {2}\".format(animal_0, animal_1, animal_2))"
      ],
      "execution_count": 28,
      "outputs": [
        {
          "output_type": "stream",
          "text": [
            "Animal : cat, fox\n"
          ],
          "name": "stdout"
        }
      ]
    },
    {
      "cell_type": "code",
      "metadata": {
        "colab": {
          "base_uri": "https://localhost:8080/"
        },
        "id": "B_x53d6G7o-s",
        "outputId": "7e9834d3-da57-41c2-f186-95ecb84a3f3a"
      },
      "source": [
        "print(\"Animal: {}, {}, {}\".format(animal_0, animal_1, animal_2))"
      ],
      "execution_count": 30,
      "outputs": [
        {
          "output_type": "stream",
          "text": [
            "Animal: cat, dog, fox\n"
          ],
          "name": "stdout"
        }
      ]
    },
    {
      "cell_type": "code",
      "metadata": {
        "colab": {
          "base_uri": "https://localhost:8080/"
        },
        "id": "2Jsm6VocHQdd",
        "outputId": "156d7a99-33e0-4ee7-ab43-e3691e1e552d"
      },
      "source": [
        "name = \"Tomas\"\n",
        "age = 10\n",
        "a = 0.1234567890123456789\n",
        "fmt_string = \"String: {0}. Integer Number: {1}. Floating Number: {2}\"\n",
        "print(fmt_string.format(name, age, a))"
      ],
      "execution_count": 32,
      "outputs": [
        {
          "output_type": "stream",
          "text": [
            "String: Tomas. Integer Number: 10. Floating Number: 0.12345678901234568\n"
          ],
          "name": "stdout"
        }
      ]
    },
    {
      "cell_type": "code",
      "metadata": {
        "colab": {
          "base_uri": "https://localhost:8080/"
        },
        "id": "TElwM07BHrv-",
        "outputId": "03b45506-defc-4f18-cbaa-82afdb0a556d"
      },
      "source": [
        "a = 0.12345678901234567890123456789\n",
        "print(\"{0:.2f}, {0:.5f}\".format(a))"
      ],
      "execution_count": 33,
      "outputs": [
        {
          "output_type": "stream",
          "text": [
            "0.12, 0.12346\n"
          ],
          "name": "stdout"
        }
      ]
    },
    {
      "cell_type": "code",
      "metadata": {
        "colab": {
          "base_uri": "https://localhost:8080/"
        },
        "id": "0e5Dd_5h7txT",
        "outputId": "0a3ff085-ccd6-4e90-fe7c-296f71fcad4a"
      },
      "source": [
        "yourName = input(\"당신의 이름은? \")\n",
        "print(\"당신은 {}이군요.\". format(yourName))"
      ],
      "execution_count": 35,
      "outputs": [
        {
          "output_type": "stream",
          "text": [
            "당신의 이름은? 호\n",
            "당신은 호이군요.\n"
          ],
          "name": "stdout"
        }
      ]
    },
    {
      "cell_type": "code",
      "metadata": {
        "colab": {
          "base_uri": "https://localhost:8080/"
        },
        "id": "gAhQdOm0Hqcu",
        "outputId": "5ac0f0ee-e64e-4a96-a30a-7438d2719144"
      },
      "source": [
        "num = input(\"숫자를 입력하세요: \")\n",
        "print(\"당신이 입력한 숫자는 {}입니다.\".format(num))"
      ],
      "execution_count": 34,
      "outputs": [
        {
          "output_type": "stream",
          "text": [
            "숫자를 입력하세요: 5\n",
            "당신이 입력한 숫자는 5입니다.\n"
          ],
          "name": "stdout"
        }
      ]
    },
    {
      "cell_type": "code",
      "metadata": {
        "colab": {
          "base_uri": "https://localhost:8080/"
        },
        "id": "bvrWQQo8HLLI",
        "outputId": "94be10a1-ee98-4393-b86e-40178c1f1382"
      },
      "source": [
        "a = input(\"정사각형 한 변의 길이는?: \")\n",
        "area = int(a) ** 2\n",
        "print(\"정사각형의 넓이: {}\".format(area))"
      ],
      "execution_count": 38,
      "outputs": [
        {
          "output_type": "stream",
          "text": [
            "정사각형 한 변의 길이는?: 4\n",
            "정사각형의 넓이: 16\n"
          ],
          "name": "stdout"
        }
      ]
    },
    {
      "cell_type": "code",
      "metadata": {
        "colab": {
          "base_uri": "https://localhost:8080/"
        },
        "id": "Q5d7CeVwIRww",
        "outputId": "6cdb889e-c0d7-4f5a-d68d-74411548cf60"
      },
      "source": [
        "b = input(\"정사각형 한 변의 길이는?: \")\n",
        "area = float(b) ** 2\n",
        "print(\"정사각형의 넓이: {}\".format(area))"
      ],
      "execution_count": 39,
      "outputs": [
        {
          "output_type": "stream",
          "text": [
            "정사각형 한 변의 길이는?: 3\n",
            "정사각형의 넓이: 9.0\n"
          ],
          "name": "stdout"
        }
      ]
    },
    {
      "cell_type": "code",
      "metadata": {
        "colab": {
          "base_uri": "https://localhost:8080/"
        },
        "id": "fGJxPblsIisZ",
        "outputId": "04a14520-b33a-4220-f462-fd25368c71fb"
      },
      "source": [
        "c = input(\"정사각형 한 변의 길이는?: \")\n",
        "area = float(c) ** 2\n",
        "print(\"정사각형의 넓이: {}\".format(area))"
      ],
      "execution_count": 40,
      "outputs": [
        {
          "output_type": "stream",
          "text": [
            "정사각형 한 변의 길이는?: 5\n",
            "정사각형의 넓이: 25.0\n"
          ],
          "name": "stdout"
        }
      ]
    },
    {
      "cell_type": "code",
      "metadata": {
        "id": "P9uB3SgUIuva"
      },
      "source": [
        ""
      ],
      "execution_count": null,
      "outputs": []
    }
  ]
}