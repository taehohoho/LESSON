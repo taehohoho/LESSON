{
  "nbformat": 4,
  "nbformat_minor": 0,
  "metadata": {
    "colab": {
      "name": "210807_pandas.ipynb",
      "provenance": [],
      "authorship_tag": "ABX9TyOpYIgAmGTpIBnMv9YDqvs0",
      "include_colab_link": true
    },
    "kernelspec": {
      "name": "python3",
      "display_name": "Python 3"
    },
    "language_info": {
      "name": "python"
    }
  },
  "cells": [
    {
      "cell_type": "markdown",
      "metadata": {
        "id": "view-in-github",
        "colab_type": "text"
      },
      "source": [
        "<a href=\"https://colab.research.google.com/github/taehohoho/LESSON/blob/master/210807_pandas.ipynb\" target=\"_parent\"><img src=\"https://colab.research.google.com/assets/colab-badge.svg\" alt=\"Open In Colab\"/></a>"
      ]
    },
    {
      "cell_type": "code",
      "metadata": {
        "id": "YoVDQDSNMf5K"
      },
      "source": [
        "import pandas as pd"
      ],
      "execution_count": null,
      "outputs": []
    },
    {
      "cell_type": "code",
      "metadata": {
        "colab": {
          "base_uri": "https://localhost:8080/"
        },
        "id": "HuLQRRsyRHQk",
        "outputId": "e20d2ce9-9c55-4bd6-968e-caf92a77aa59"
      },
      "source": [
        "s1 = pd.Series([10,20,30,40,50])\n",
        "s1"
      ],
      "execution_count": null,
      "outputs": [
        {
          "output_type": "execute_result",
          "data": {
            "text/plain": [
              "0    10\n",
              "1    20\n",
              "2    30\n",
              "3    40\n",
              "4    50\n",
              "dtype: int64"
            ]
          },
          "metadata": {
            "tags": []
          },
          "execution_count": 2
        }
      ]
    },
    {
      "cell_type": "code",
      "metadata": {
        "colab": {
          "base_uri": "https://localhost:8080/"
        },
        "id": "Ktmrgoc3RSHJ",
        "outputId": "a190acf1-d8a0-4131-878d-141f119386c0"
      },
      "source": [
        "s1.index\n",
        "print(s1.index)"
      ],
      "execution_count": null,
      "outputs": [
        {
          "output_type": "stream",
          "text": [
            "RangeIndex(start=0, stop=5, step=1)\n"
          ],
          "name": "stdout"
        }
      ]
    },
    {
      "cell_type": "code",
      "metadata": {
        "colab": {
          "base_uri": "https://localhost:8080/"
        },
        "id": "o_bylwtzRkDs",
        "outputId": "19465d45-1981-4328-a457-97814700ff3d"
      },
      "source": [
        "s1.values"
      ],
      "execution_count": null,
      "outputs": [
        {
          "output_type": "execute_result",
          "data": {
            "text/plain": [
              "array([10, 20, 30, 40, 50])"
            ]
          },
          "metadata": {
            "tags": []
          },
          "execution_count": 4
        }
      ]
    },
    {
      "cell_type": "code",
      "metadata": {
        "colab": {
          "base_uri": "https://localhost:8080/"
        },
        "id": "Vds4JQDpRq_J",
        "outputId": "fbdd397c-5139-4839-d80c-b48f39d66b4f"
      },
      "source": [
        "s2 = pd.Series(['a','b','c',1,2,3])\n",
        "s2"
      ],
      "execution_count": null,
      "outputs": [
        {
          "output_type": "execute_result",
          "data": {
            "text/plain": [
              "0    a\n",
              "1    b\n",
              "2    c\n",
              "3    1\n",
              "4    2\n",
              "5    3\n",
              "dtype: object"
            ]
          },
          "metadata": {
            "tags": []
          },
          "execution_count": 6
        }
      ]
    },
    {
      "cell_type": "code",
      "metadata": {
        "colab": {
          "base_uri": "https://localhost:8080/"
        },
        "id": "HB0_pmuYRzGd",
        "outputId": "b0658c15-b505-4da5-80c2-f1df15d78710"
      },
      "source": [
        "import numpy as np\n",
        "\n",
        "s3 = pd.Series([np.nan, 10, 30])\n",
        "s3"
      ],
      "execution_count": null,
      "outputs": [
        {
          "output_type": "execute_result",
          "data": {
            "text/plain": [
              "0     NaN\n",
              "1    10.0\n",
              "2    30.0\n",
              "dtype: float64"
            ]
          },
          "metadata": {
            "tags": []
          },
          "execution_count": 7
        }
      ]
    },
    {
      "cell_type": "code",
      "metadata": {
        "colab": {
          "base_uri": "https://localhost:8080/"
        },
        "id": "5-hXk-rLSAsD",
        "outputId": "c94bdc03-ecd7-48c3-b28a-adf88cf5f13d"
      },
      "source": [
        "index_date = ['2018-10-07','2018-10-08','2018-10-09','2018-10-10']\n",
        "s4 = pd.Series([200, 195, np.nan, 205], index = index_date)\n",
        "s4"
      ],
      "execution_count": null,
      "outputs": [
        {
          "output_type": "execute_result",
          "data": {
            "text/plain": [
              "2018-10-07    200.0\n",
              "2018-10-08    195.0\n",
              "2018-10-09      NaN\n",
              "2018-10-10    205.0\n",
              "dtype: float64"
            ]
          },
          "metadata": {
            "tags": []
          },
          "execution_count": 8
        }
      ]
    },
    {
      "cell_type": "code",
      "metadata": {
        "colab": {
          "base_uri": "https://localhost:8080/"
        },
        "id": "WWr8OGgVSU7U",
        "outputId": "e07cf50f-713f-4949-d978-0a4afe9abe3e"
      },
      "source": [
        "s5 = pd.Series({'국어':100, \"영어\":95, \"수학\": 90})\n",
        "s5"
      ],
      "execution_count": null,
      "outputs": [
        {
          "output_type": "execute_result",
          "data": {
            "text/plain": [
              "국어    100\n",
              "영어     95\n",
              "수학     90\n",
              "dtype: int64"
            ]
          },
          "metadata": {
            "tags": []
          },
          "execution_count": 9
        }
      ]
    },
    {
      "cell_type": "code",
      "metadata": {
        "colab": {
          "base_uri": "https://localhost:8080/"
        },
        "id": "UBbCyyyoSeAT",
        "outputId": "cabf7bdf-daa6-443f-fda4-07c7c997e096"
      },
      "source": [
        "import pandas as pd\n",
        "pd.date_range(start='2019-01-01',end='2019-01-07')"
      ],
      "execution_count": null,
      "outputs": [
        {
          "output_type": "execute_result",
          "data": {
            "text/plain": [
              "DatetimeIndex(['2019-01-01', '2019-01-02', '2019-01-03', '2019-01-04',\n",
              "               '2019-01-05', '2019-01-06', '2019-01-07'],\n",
              "              dtype='datetime64[ns]', freq='D')"
            ]
          },
          "metadata": {
            "tags": []
          },
          "execution_count": 10
        }
      ]
    },
    {
      "cell_type": "code",
      "metadata": {
        "colab": {
          "base_uri": "https://localhost:8080/"
        },
        "id": "5gT5z7VtSqtp",
        "outputId": "43b95088-82f9-4b27-8a04-73edae304f7a"
      },
      "source": [
        "pd.date_range(start='2019-01-01', end='2019-01-07')"
      ],
      "execution_count": null,
      "outputs": [
        {
          "output_type": "execute_result",
          "data": {
            "text/plain": [
              "DatetimeIndex(['2019-01-01', '2019-01-02', '2019-01-03', '2019-01-04',\n",
              "               '2019-01-05', '2019-01-06', '2019-01-07'],\n",
              "              dtype='datetime64[ns]', freq='D')"
            ]
          },
          "metadata": {
            "tags": []
          },
          "execution_count": 11
        }
      ]
    },
    {
      "cell_type": "code",
      "metadata": {
        "colab": {
          "base_uri": "https://localhost:8080/"
        },
        "id": "tGOuACoXS1n9",
        "outputId": "0c7d728a-fd2a-44c8-a930-0efef7c640a7"
      },
      "source": [
        "pd.date_range(start='2019/01/01', end='2019.01.07')"
      ],
      "execution_count": null,
      "outputs": [
        {
          "output_type": "execute_result",
          "data": {
            "text/plain": [
              "DatetimeIndex(['2019-01-01', '2019-01-02', '2019-01-03', '2019-01-04',\n",
              "               '2019-01-05', '2019-01-06', '2019-01-07'],\n",
              "              dtype='datetime64[ns]', freq='D')"
            ]
          },
          "metadata": {
            "tags": []
          },
          "execution_count": 12
        }
      ]
    },
    {
      "cell_type": "code",
      "metadata": {
        "colab": {
          "base_uri": "https://localhost:8080/"
        },
        "id": "m3Z9Vk59S6zo",
        "outputId": "d2315170-7c9d-4a5b-9f4e-b84f76c296e4"
      },
      "source": [
        "pd.date_range(start='01-01-2019', end='01/07/2019')"
      ],
      "execution_count": null,
      "outputs": [
        {
          "output_type": "execute_result",
          "data": {
            "text/plain": [
              "DatetimeIndex(['2019-01-01', '2019-01-02', '2019-01-03', '2019-01-04',\n",
              "               '2019-01-05', '2019-01-06', '2019-01-07'],\n",
              "              dtype='datetime64[ns]', freq='D')"
            ]
          },
          "metadata": {
            "tags": []
          },
          "execution_count": 13
        }
      ]
    },
    {
      "cell_type": "code",
      "metadata": {
        "colab": {
          "base_uri": "https://localhost:8080/"
        },
        "id": "LC67_YIBTBWW",
        "outputId": "28ad5aec-7401-4259-e21f-db1935dcf25a"
      },
      "source": [
        "pd.date_range(start='2019-01-01', end='01.07.2019')"
      ],
      "execution_count": null,
      "outputs": [
        {
          "output_type": "execute_result",
          "data": {
            "text/plain": [
              "DatetimeIndex(['2019-01-01', '2019-01-02', '2019-01-03', '2019-01-04',\n",
              "               '2019-01-05', '2019-01-06', '2019-01-07'],\n",
              "              dtype='datetime64[ns]', freq='D')"
            ]
          },
          "metadata": {
            "tags": []
          },
          "execution_count": 14
        }
      ]
    },
    {
      "cell_type": "code",
      "metadata": {
        "colab": {
          "base_uri": "https://localhost:8080/"
        },
        "id": "sAPYVnk3TEdM",
        "outputId": "bc787aad-414e-400f-bb67-dfd2a07484f1"
      },
      "source": [
        "pd.date_range(start='2019-01-01', periods = 7)"
      ],
      "execution_count": null,
      "outputs": [
        {
          "output_type": "execute_result",
          "data": {
            "text/plain": [
              "DatetimeIndex(['2019-01-01', '2019-01-02', '2019-01-03', '2019-01-04',\n",
              "               '2019-01-05', '2019-01-06', '2019-01-07'],\n",
              "              dtype='datetime64[ns]', freq='D')"
            ]
          },
          "metadata": {
            "tags": []
          },
          "execution_count": 15
        }
      ]
    },
    {
      "cell_type": "code",
      "metadata": {
        "colab": {
          "base_uri": "https://localhost:8080/"
        },
        "id": "nemOvHZgTHtY",
        "outputId": "ec91a4e4-09d8-4a71-eb34-4c62cce271f2"
      },
      "source": [
        "pd.date_range(start='2019-01-01', periods = 4, freq = '2D')"
      ],
      "execution_count": null,
      "outputs": [
        {
          "output_type": "execute_result",
          "data": {
            "text/plain": [
              "DatetimeIndex(['2019-01-01', '2019-01-03', '2019-01-05', '2019-01-07'], dtype='datetime64[ns]', freq='2D')"
            ]
          },
          "metadata": {
            "tags": []
          },
          "execution_count": 16
        }
      ]
    },
    {
      "cell_type": "code",
      "metadata": {
        "colab": {
          "base_uri": "https://localhost:8080/"
        },
        "id": "b9nbuziRTPFS",
        "outputId": "0a668c31-44f3-474d-fadd-323018f14793"
      },
      "source": [
        "pd.date_range(start='2019-01-01', periods = 4, freq='W')"
      ],
      "execution_count": null,
      "outputs": [
        {
          "output_type": "execute_result",
          "data": {
            "text/plain": [
              "DatetimeIndex(['2019-01-06', '2019-01-13', '2019-01-20', '2019-01-27'], dtype='datetime64[ns]', freq='W-SUN')"
            ]
          },
          "metadata": {
            "tags": []
          },
          "execution_count": 17
        }
      ]
    },
    {
      "cell_type": "code",
      "metadata": {
        "colab": {
          "base_uri": "https://localhost:8080/"
        },
        "id": "AmPXjNVHTSHv",
        "outputId": "1d36c16d-a1be-4564-fd56-1ced6135a5f2"
      },
      "source": [
        "pd.date_range(start='2019-01-01', periods = 12, freq = '2BM')"
      ],
      "execution_count": null,
      "outputs": [
        {
          "output_type": "execute_result",
          "data": {
            "text/plain": [
              "DatetimeIndex(['2019-01-31', '2019-03-29', '2019-05-31', '2019-07-31',\n",
              "               '2019-09-30', '2019-11-29', '2020-01-31', '2020-03-31',\n",
              "               '2020-05-29', '2020-07-31', '2020-09-30', '2020-11-30'],\n",
              "              dtype='datetime64[ns]', freq='2BM')"
            ]
          },
          "metadata": {
            "tags": []
          },
          "execution_count": 18
        }
      ]
    },
    {
      "cell_type": "code",
      "metadata": {
        "colab": {
          "base_uri": "https://localhost:8080/"
        },
        "id": "BeDaOxnzTXpl",
        "outputId": "0e6be218-c323-4ca4-b40f-09aa67743863"
      },
      "source": [
        "pd.date_range(start='2019-01-01', periods = 3, freq = 'AS')"
      ],
      "execution_count": null,
      "outputs": [
        {
          "output_type": "execute_result",
          "data": {
            "text/plain": [
              "DatetimeIndex(['2019-01-01', '2020-01-01', '2021-01-01'], dtype='datetime64[ns]', freq='AS-JAN')"
            ]
          },
          "metadata": {
            "tags": []
          },
          "execution_count": 19
        }
      ]
    },
    {
      "cell_type": "code",
      "metadata": {
        "colab": {
          "base_uri": "https://localhost:8080/"
        },
        "id": "0VBEUTCeTeRG",
        "outputId": "f426bf20-880a-4984-df30-3c13b2de099b"
      },
      "source": [
        "pd.date_range(start='2019-01-01 08:00', periods = 10, freq='H')"
      ],
      "execution_count": null,
      "outputs": [
        {
          "output_type": "execute_result",
          "data": {
            "text/plain": [
              "DatetimeIndex(['2019-01-01 08:00:00', '2019-01-01 09:00:00',\n",
              "               '2019-01-01 10:00:00', '2019-01-01 11:00:00',\n",
              "               '2019-01-01 12:00:00', '2019-01-01 13:00:00',\n",
              "               '2019-01-01 14:00:00', '2019-01-01 15:00:00',\n",
              "               '2019-01-01 16:00:00', '2019-01-01 17:00:00'],\n",
              "              dtype='datetime64[ns]', freq='H')"
            ]
          },
          "metadata": {
            "tags": []
          },
          "execution_count": 20
        }
      ]
    },
    {
      "cell_type": "code",
      "metadata": {
        "colab": {
          "base_uri": "https://localhost:8080/"
        },
        "id": "nGffjcGKT7Y3",
        "outputId": "1e72de5c-4082-45ff-b809-3acc6abc1d4a"
      },
      "source": [
        "pd.date_range(start='2019-01-01 10:00', periods = 10, freq= 'BH')"
      ],
      "execution_count": null,
      "outputs": [
        {
          "output_type": "execute_result",
          "data": {
            "text/plain": [
              "DatetimeIndex(['2019-01-01 10:00:00', '2019-01-01 11:00:00',\n",
              "               '2019-01-01 12:00:00', '2019-01-01 13:00:00',\n",
              "               '2019-01-01 14:00:00', '2019-01-01 15:00:00',\n",
              "               '2019-01-01 16:00:00', '2019-01-02 09:00:00',\n",
              "               '2019-01-02 10:00:00', '2019-01-02 11:00:00'],\n",
              "              dtype='datetime64[ns]', freq='BH')"
            ]
          },
          "metadata": {
            "tags": []
          },
          "execution_count": 22
        }
      ]
    },
    {
      "cell_type": "code",
      "metadata": {
        "colab": {
          "base_uri": "https://localhost:8080/"
        },
        "id": "JwuIiZEWUFtP",
        "outputId": "361cd760-2edd-4f0b-d41f-e05d42fe398e"
      },
      "source": [
        "pd.date_range(start='2019-01-01 10:00', periods = 4, freq = '30min')"
      ],
      "execution_count": null,
      "outputs": [
        {
          "output_type": "execute_result",
          "data": {
            "text/plain": [
              "DatetimeIndex(['2019-01-01 10:00:00', '2019-01-01 10:30:00',\n",
              "               '2019-01-01 11:00:00', '2019-01-01 11:30:00'],\n",
              "              dtype='datetime64[ns]', freq='30T')"
            ]
          },
          "metadata": {
            "tags": []
          },
          "execution_count": 23
        }
      ]
    },
    {
      "cell_type": "code",
      "metadata": {
        "colab": {
          "base_uri": "https://localhost:8080/"
        },
        "id": "FEz760aVUPS6",
        "outputId": "5da2fb29-e1ef-404c-fa2b-813591d2f938"
      },
      "source": [
        "pd.date_range(start='2019-01-01 10:00', periods = 4, freq = '30T')"
      ],
      "execution_count": null,
      "outputs": [
        {
          "output_type": "execute_result",
          "data": {
            "text/plain": [
              "DatetimeIndex(['2019-01-01 10:00:00', '2019-01-01 10:30:00',\n",
              "               '2019-01-01 11:00:00', '2019-01-01 11:30:00'],\n",
              "              dtype='datetime64[ns]', freq='30T')"
            ]
          },
          "metadata": {
            "tags": []
          },
          "execution_count": 24
        }
      ]
    },
    {
      "cell_type": "code",
      "metadata": {
        "colab": {
          "base_uri": "https://localhost:8080/"
        },
        "id": "KMfKkGoeUScD",
        "outputId": "8c24d110-85df-4201-bb19-bfeabf1004b2"
      },
      "source": [
        "pd.date_range(start='2019-01-01 10:00', periods = 4, freq = '10S')"
      ],
      "execution_count": null,
      "outputs": [
        {
          "output_type": "execute_result",
          "data": {
            "text/plain": [
              "DatetimeIndex(['2019-01-01 10:00:00', '2019-01-01 10:00:10',\n",
              "               '2019-01-01 10:00:20', '2019-01-01 10:00:30'],\n",
              "              dtype='datetime64[ns]', freq='10S')"
            ]
          },
          "metadata": {
            "tags": []
          },
          "execution_count": 25
        }
      ]
    },
    {
      "cell_type": "code",
      "metadata": {
        "colab": {
          "base_uri": "https://localhost:8080/"
        },
        "id": "4blpX5TjUUqj",
        "outputId": "36fb2961-bdf4-4871-8380-c75ba1eea9af"
      },
      "source": [
        "index_date = pd.date_range(start = '2019-03-01', periods = 5, freq='D')\n",
        "pd.Series([51, 62, 55, 49, 58], index = index_date)"
      ],
      "execution_count": null,
      "outputs": [
        {
          "output_type": "execute_result",
          "data": {
            "text/plain": [
              "2019-03-01    51\n",
              "2019-03-02    62\n",
              "2019-03-03    55\n",
              "2019-03-04    49\n",
              "2019-03-05    58\n",
              "Freq: D, dtype: int64"
            ]
          },
          "metadata": {
            "tags": []
          },
          "execution_count": 26
        }
      ]
    },
    {
      "cell_type": "code",
      "metadata": {
        "id": "2RYC3iaAUlXn"
      },
      "source": [
        ""
      ],
      "execution_count": null,
      "outputs": []
    }
  ]
}