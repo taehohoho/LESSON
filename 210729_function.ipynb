{
  "nbformat": 4,
  "nbformat_minor": 0,
  "metadata": {
    "colab": {
      "name": "210729_function.ipynb",
      "provenance": [],
      "collapsed_sections": [],
      "authorship_tag": "ABX9TyN/yZR/SfGJmUT9ysuUOlxg",
      "include_colab_link": true
    },
    "kernelspec": {
      "name": "python3",
      "display_name": "Python 3"
    },
    "language_info": {
      "name": "python"
    }
  },
  "cells": [
    {
      "cell_type": "markdown",
      "metadata": {
        "id": "view-in-github",
        "colab_type": "text"
      },
      "source": [
        "<a href=\"https://colab.research.google.com/github/taehohoho/LESSON/blob/master/210729_function.ipynb\" target=\"_parent\"><img src=\"https://colab.research.google.com/assets/colab-badge.svg\" alt=\"Open In Colab\"/></a>"
      ]
    },
    {
      "cell_type": "code",
      "metadata": {
        "id": "aXrRnxAo2C4d"
      },
      "source": [
        "def my_student_info(name, school_ID, phoneNumber):\n",
        "    print(\"-------------\")\n",
        "    print(\"- 학생이름:\", name)\n",
        "    print(\"- 학급번호:\", school_ID)\n",
        "    print(\"- 전화번호:\", phoneNumber)"
      ],
      "execution_count": 1,
      "outputs": []
    },
    {
      "cell_type": "code",
      "metadata": {
        "colab": {
          "base_uri": "https://localhost:8080/"
        },
        "id": "usBkI5BQ41sP",
        "outputId": "65659ca9-2592-4f60-dc50-29ae01c7ab5e"
      },
      "source": [
        "my_student_info(\"현아\", \"01\", \"01-235-6789\")\n",
        "my_student_info(\"진수\", \"02\", \"01-987-6543\")"
      ],
      "execution_count": 2,
      "outputs": [
        {
          "output_type": "stream",
          "text": [
            "-------------\n",
            "- 학생이름: 현아\n",
            "- 학급번호: 01\n",
            "- 전화번호: 01-235-6789\n",
            "-------------\n",
            "- 학생이름: 진수\n",
            "- 학급번호: 02\n",
            "- 전화번호: 01-987-6543\n"
          ],
          "name": "stdout"
        }
      ]
    },
    {
      "cell_type": "code",
      "metadata": {
        "id": "DXhBwo7M5CQ9"
      },
      "source": [
        "def my_student_info(name, school_ID, phoneNumber):\n",
        "    print(\"***********\")\n",
        "    print(\"* 학생이름:\", name)\n",
        "    print(\"* 학급번호:\", school_ID)\n",
        "    print(\"* 전화번호:\", phoneNumber)"
      ],
      "execution_count": 3,
      "outputs": []
    },
    {
      "cell_type": "code",
      "metadata": {
        "colab": {
          "base_uri": "https://localhost:8080/"
        },
        "id": "6m_mxkSt5Uhs",
        "outputId": "bf0fd3ec-dd6e-4e9e-bb87-f4c71f7aae79"
      },
      "source": [
        "my_student_info(\"현아\", \"01\", \"01-235-6789\")\n",
        "my_student_info(\"진수\", \"02\", \"01-987-6543\")"
      ],
      "execution_count": 4,
      "outputs": [
        {
          "output_type": "stream",
          "text": [
            "***********\n",
            "* 학생이름: 현아\n",
            "* 학급번호: 01\n",
            "* 전화번호: 01-235-6789\n",
            "***********\n",
            "* 학생이름: 진수\n",
            "* 학급번호: 02\n",
            "* 전화번호: 01-987-6543\n"
          ],
          "name": "stdout"
        }
      ]
    },
    {
      "cell_type": "code",
      "metadata": {
        "id": "hiTbI5ae5Yjv"
      },
      "source": [
        "def my_calc(x,y):\n",
        "    z = x * y\n",
        "    return z"
      ],
      "execution_count": 5,
      "outputs": []
    },
    {
      "cell_type": "code",
      "metadata": {
        "colab": {
          "base_uri": "https://localhost:8080/"
        },
        "id": "jWsQuF9c5du0",
        "outputId": "94c0d6c5-9da7-49ef-a573-54011dc38ea8"
      },
      "source": [
        "my_calc(3, 4)"
      ],
      "execution_count": 6,
      "outputs": [
        {
          "output_type": "execute_result",
          "data": {
            "text/plain": [
              "12"
            ]
          },
          "metadata": {
            "tags": []
          },
          "execution_count": 6
        }
      ]
    },
    {
      "cell_type": "code",
      "metadata": {
        "id": "UhksYwcR5ftb"
      },
      "source": [
        "def my_student_info_list(student_info):\n",
        "    print(\"***********\")\n",
        "    print(\"* 학생이름:\", student_info[0])\n",
        "    print(\"* 학급번호:\", student_info[1])\n",
        "    print(\"* 전화번호:\", student_info[2])\n",
        "    print(\"***********\")"
      ],
      "execution_count": 9,
      "outputs": []
    },
    {
      "cell_type": "code",
      "metadata": {
        "colab": {
          "base_uri": "https://localhost:8080/"
        },
        "id": "qggG5KIt50wF",
        "outputId": "3e0a7929-0fce-4b89-99c8-0169a9d85803"
      },
      "source": [
        "student1_info = [\"현아\", \"01\", \"01-235-6789\"]\n",
        "my_student_info_list(student1_info)"
      ],
      "execution_count": 12,
      "outputs": [
        {
          "output_type": "stream",
          "text": [
            "***********\n",
            "* 학생이름: 현아\n",
            "* 학급번호: 01\n",
            "* 전화번호: 01-235-6789\n",
            "***********\n"
          ],
          "name": "stdout"
        }
      ]
    },
    {
      "cell_type": "code",
      "metadata": {
        "colab": {
          "base_uri": "https://localhost:8080/"
        },
        "id": "8I01-GWU6o9M",
        "outputId": "e8d4b1c8-1194-42f0-c02f-7338abd4e93f"
      },
      "source": [
        "my_student_info_list([\"진수\", \"02\", \"01-987-6543\"])"
      ],
      "execution_count": 13,
      "outputs": [
        {
          "output_type": "stream",
          "text": [
            "***********\n",
            "* 학생이름: 진수\n",
            "* 학급번호: 02\n",
            "* 전화번호: 01-987-6543\n",
            "***********\n"
          ],
          "name": "stdout"
        }
      ]
    },
    {
      "cell_type": "code",
      "metadata": {
        "id": "z04S-tiE7S0W"
      },
      "source": [
        "a = 5 # 전역변수\n",
        "\n",
        "def func1():\n",
        "    a = 1 # 지역변수, func1()에서만 사용\n",
        "    print(\"[func1] 지역 변수 a = \", a)\n",
        "\n",
        "def func2():\n",
        "    a = 2 # 지역변수, func2()에서만 사용\n",
        "    print(\"[func2] 지역 변수 a = \", a)\n",
        "\n",
        "def func3():\n",
        "    print(\"[func3] 전역 변수 a = \", a)\n",
        "\n",
        "def func4():\n",
        "    global a    # 함수 내에서 전역 변수 변경 위해 선언\n",
        "    a = 4 # 전역 변수의 값 변경\n",
        "    print(\"[func4] 전역 변수 a = \", a)\n"
      ],
      "execution_count": 14,
      "outputs": []
    },
    {
      "cell_type": "code",
      "metadata": {
        "colab": {
          "base_uri": "https://localhost:8080/"
        },
        "id": "NcMcEZ4TJWdS",
        "outputId": "e45da034-84af-41f7-d53b-4803da25ebc6"
      },
      "source": [
        "func1() # 함수 func1()호출\n",
        "func2() # 함수 func2()호출\n",
        "print(\"전역 변수 a= \", a) # 전역변수 출력"
      ],
      "execution_count": 15,
      "outputs": [
        {
          "output_type": "stream",
          "text": [
            "[func1] 지역 변수 a =  1\n",
            "[func2] 지역 변수 a =  2\n",
            "전역 변수 a=  5\n"
          ],
          "name": "stdout"
        }
      ]
    },
    {
      "cell_type": "code",
      "metadata": {
        "colab": {
          "base_uri": "https://localhost:8080/"
        },
        "id": "j3iI7-fZJgqw",
        "outputId": "acead58d-172e-4975-dd77-33bdb973e2c1"
      },
      "source": [
        "func3() #함수 func3() 호출\n",
        "func4() #함수 func4() 호출\n",
        "func3() #함수 func5() 호출"
      ],
      "execution_count": 18,
      "outputs": [
        {
          "output_type": "stream",
          "text": [
            "[func3] 전역 변수 a =  4\n",
            "[func4] 전역 변수 a =  4\n",
            "[func3] 전역 변수 a =  4\n"
          ],
          "name": "stdout"
        }
      ]
    },
    {
      "cell_type": "code",
      "metadata": {
        "colab": {
          "base_uri": "https://localhost:8080/"
        },
        "id": "gRO-bglTJuWT",
        "outputId": "57229840-d00a-4ef2-8e7c-aaf2cdd0998c"
      },
      "source": [
        "(lambda x : x**2)(3)"
      ],
      "execution_count": 1,
      "outputs": [
        {
          "output_type": "execute_result",
          "data": {
            "text/plain": [
              "9"
            ]
          },
          "metadata": {
            "tags": []
          },
          "execution_count": 1
        }
      ]
    },
    {
      "cell_type": "code",
      "metadata": {
        "colab": {
          "base_uri": "https://localhost:8080/"
        },
        "id": "0QLlDC9Wu1tq",
        "outputId": "97b60d12-e621-40f6-d601-95d52f4fbea7"
      },
      "source": [
        "mySquare = lambda x : x**2\n",
        "mySquare(2)"
      ],
      "execution_count": 2,
      "outputs": [
        {
          "output_type": "execute_result",
          "data": {
            "text/plain": [
              "4"
            ]
          },
          "metadata": {
            "tags": []
          },
          "execution_count": 2
        }
      ]
    },
    {
      "cell_type": "code",
      "metadata": {
        "colab": {
          "base_uri": "https://localhost:8080/"
        },
        "id": "Bk5MZM4Pu6zf",
        "outputId": "3455141d-03b6-4aae-9ea6-17a936180d0f"
      },
      "source": [
        "mySquare(5)"
      ],
      "execution_count": 3,
      "outputs": [
        {
          "output_type": "execute_result",
          "data": {
            "text/plain": [
              "25"
            ]
          },
          "metadata": {
            "tags": []
          },
          "execution_count": 3
        }
      ]
    },
    {
      "cell_type": "code",
      "metadata": {
        "colab": {
          "base_uri": "https://localhost:8080/"
        },
        "id": "FX21yf7Eu8vf",
        "outputId": "87c7f4da-22c6-4392-e16a-409add690b38"
      },
      "source": [
        "mySimpleFunc = lambda x, y, z : 2*x + 3*y + z\n",
        "mySimpleFunc(1,2,3)"
      ],
      "execution_count": 4,
      "outputs": [
        {
          "output_type": "execute_result",
          "data": {
            "text/plain": [
              "11"
            ]
          },
          "metadata": {
            "tags": []
          },
          "execution_count": 4
        }
      ]
    },
    {
      "cell_type": "code",
      "metadata": {
        "colab": {
          "base_uri": "https://localhost:8080/"
        },
        "id": "HO2n0_jIvGF9",
        "outputId": "f5822106-e706-4eca-99fd-6f93f5ff2f31"
      },
      "source": [
        "[int(0.0123), int(3.5123456), int(-1.312367)]"
      ],
      "execution_count": 7,
      "outputs": [
        {
          "output_type": "execute_result",
          "data": {
            "text/plain": [
              "[0, 3, -1]"
            ]
          },
          "metadata": {
            "tags": []
          },
          "execution_count": 7
        }
      ]
    },
    {
      "cell_type": "code",
      "metadata": {
        "colab": {
          "base_uri": "https://localhost:8080/"
        },
        "id": "Z7SwcNQW5HMX",
        "outputId": "6475e1b8-85df-49d0-fe74-bd36ad3f6e30"
      },
      "source": [
        "[int('1234'), int('5678'), int('-9012')]"
      ],
      "execution_count": 8,
      "outputs": [
        {
          "output_type": "execute_result",
          "data": {
            "text/plain": [
              "[1234, 5678, -9012]"
            ]
          },
          "metadata": {
            "tags": []
          },
          "execution_count": 8
        }
      ]
    },
    {
      "cell_type": "code",
      "metadata": {
        "colab": {
          "base_uri": "https://localhost:8080/"
        },
        "id": "qfEpxotn5SI-",
        "outputId": "c2a69a7d-faac-43ea-ab11-e7c4c0d5290f"
      },
      "source": [
        "[float(0), float(123), float(-567)]"
      ],
      "execution_count": 9,
      "outputs": [
        {
          "output_type": "execute_result",
          "data": {
            "text/plain": [
              "[0.0, 123.0, -567.0]"
            ]
          },
          "metadata": {
            "tags": []
          },
          "execution_count": 9
        }
      ]
    },
    {
      "cell_type": "code",
      "metadata": {
        "colab": {
          "base_uri": "https://localhost:8080/"
        },
        "id": "FO9RuoB95ZLV",
        "outputId": "5ef2c530-061e-471b-8443-3e5a17def50d"
      },
      "source": [
        "[float(0), float('0.123'), float('-567.89')]"
      ],
      "execution_count": 10,
      "outputs": [
        {
          "output_type": "execute_result",
          "data": {
            "text/plain": [
              "[0.0, 0.123, -567.89]"
            ]
          },
          "metadata": {
            "tags": []
          },
          "execution_count": 10
        }
      ]
    },
    {
      "cell_type": "code",
      "metadata": {
        "colab": {
          "base_uri": "https://localhost:8080/"
        },
        "id": "oXItg_Xh5hcW",
        "outputId": "b2170466-14ce-4ecc-a452-f1f70cdf7fd1"
      },
      "source": [
        "[str(123), str(459678), str(-987)]"
      ],
      "execution_count": 12,
      "outputs": [
        {
          "output_type": "execute_result",
          "data": {
            "text/plain": [
              "['123', '459678', '-987']"
            ]
          },
          "metadata": {
            "tags": []
          },
          "execution_count": 12
        }
      ]
    },
    {
      "cell_type": "code",
      "metadata": {
        "colab": {
          "base_uri": "https://localhost:8080/"
        },
        "id": "X3kcf6M25nOG",
        "outputId": "690b6eb9-e650-4956-fbad-72929a213c65"
      },
      "source": [
        "[str(0.123), str(345.678), str(-5.987)]"
      ],
      "execution_count": 13,
      "outputs": [
        {
          "output_type": "execute_result",
          "data": {
            "text/plain": [
              "['0.123', '345.678', '-5.987']"
            ]
          },
          "metadata": {
            "tags": []
          },
          "execution_count": 13
        }
      ]
    },
    {
      "cell_type": "code",
      "metadata": {
        "id": "riNY1w5g5wbF"
      },
      "source": [
        "list_data = ['abc', 1, 2, 'def']\n",
        "tuple_data = ('abc', 1, 2, 'def')\n",
        "set_data = {'abc', 1, 2 ,'def'}"
      ],
      "execution_count": 14,
      "outputs": []
    },
    {
      "cell_type": "code",
      "metadata": {
        "colab": {
          "base_uri": "https://localhost:8080/"
        },
        "id": "Oluka2V459EN",
        "outputId": "c046f795-7ce5-4eb8-ecef-0cae17d9751c"
      },
      "source": [
        "[type(list_data), type(tuple_data), type(set_data)]"
      ],
      "execution_count": 15,
      "outputs": [
        {
          "output_type": "execute_result",
          "data": {
            "text/plain": [
              "[list, tuple, set]"
            ]
          },
          "metadata": {
            "tags": []
          },
          "execution_count": 15
        }
      ]
    },
    {
      "cell_type": "markdown",
      "metadata": {
        "id": "iLFAiL0kASNf"
      },
      "source": [
        ""
      ]
    },
    {
      "cell_type": "code",
      "metadata": {
        "colab": {
          "base_uri": "https://localhost:8080/"
        },
        "id": "XLGkaFTD6E52",
        "outputId": "6dd3b8ae-a225-4f1b-addf-f8e171551e65"
      },
      "source": [
        "print(\"리스트로 변환 :\", list(tuple_data), list(set_data))"
      ],
      "execution_count": 16,
      "outputs": [
        {
          "output_type": "stream",
          "text": [
            "리스트로 변환 ['abc', 1, 2, 'def'] ['def', 1, 2, 'abc']\n"
          ],
          "name": "stdout"
        }
      ]
    },
    {
      "cell_type": "code",
      "metadata": {
        "colab": {
          "base_uri": "https://localhost:8080/"
        },
        "id": "byf151MJ6OEN",
        "outputId": "653b4bb0-8fad-4cf5-cef3-ef2da364980b"
      },
      "source": [
        "print(\"튜플로 변환 :\", tuple(list_data), tuple(set_data))"
      ],
      "execution_count": 18,
      "outputs": [
        {
          "output_type": "stream",
          "text": [
            "튜플로 변환 : ('abc', 1, 2, 'def') ('def', 1, 2, 'abc')\n"
          ],
          "name": "stdout"
        }
      ]
    },
    {
      "cell_type": "code",
      "metadata": {
        "colab": {
          "base_uri": "https://localhost:8080/"
        },
        "id": "JwLK_xCE6ZiJ",
        "outputId": "39565ad0-d1bb-4e3c-dc51-377677fb4c09"
      },
      "source": [
        "print(\"세트로 변환: \", set(list_data), set(tuple_data))"
      ],
      "execution_count": 19,
      "outputs": [
        {
          "output_type": "stream",
          "text": [
            "세트로 변환:  {'def', 1, 2, 'abc'} {'def', 1, 2, 'abc'}\n"
          ],
          "name": "stdout"
        }
      ]
    },
    {
      "cell_type": "code",
      "metadata": {
        "colab": {
          "base_uri": "https://localhost:8080/"
        },
        "id": "zRCIdN4U6g6x",
        "outputId": "58a9bd13-2e4d-457a-a2e2-108c3c4ce1a0"
      },
      "source": [
        "bool(0) # 인자 : 숫자 0"
      ],
      "execution_count": 20,
      "outputs": [
        {
          "output_type": "execute_result",
          "data": {
            "text/plain": [
              "False"
            ]
          },
          "metadata": {
            "tags": []
          },
          "execution_count": 20
        }
      ]
    },
    {
      "cell_type": "code",
      "metadata": {
        "colab": {
          "base_uri": "https://localhost:8080/"
        },
        "id": "HGnMk1UjAVfv",
        "outputId": "6527b5d7-a3ed-4699-888a-d9f2b7b62782"
      },
      "source": [
        "bool(1) # 인자 : 양의정수"
      ],
      "execution_count": 21,
      "outputs": [
        {
          "output_type": "execute_result",
          "data": {
            "text/plain": [
              "True"
            ]
          },
          "metadata": {
            "tags": []
          },
          "execution_count": 21
        }
      ]
    },
    {
      "cell_type": "code",
      "metadata": {
        "colab": {
          "base_uri": "https://localhost:8080/"
        },
        "id": "Bl1q9zGCAYzJ",
        "outputId": "325cc499-9dfc-47b0-87cd-ac2490c454fa"
      },
      "source": [
        "bool(-10) # 인자 : 음의정수 "
      ],
      "execution_count": 22,
      "outputs": [
        {
          "output_type": "execute_result",
          "data": {
            "text/plain": [
              "True"
            ]
          },
          "metadata": {
            "tags": []
          },
          "execution_count": 22
        }
      ]
    },
    {
      "cell_type": "code",
      "metadata": {
        "colab": {
          "base_uri": "https://localhost:8080/"
        },
        "id": "_ec2DILMAcwx",
        "outputId": "37a9aff3-6344-4510-d233-8a6391de4628"
      },
      "source": [
        "bool(5.12) # 인자 : 양의실수"
      ],
      "execution_count": 23,
      "outputs": [
        {
          "output_type": "execute_result",
          "data": {
            "text/plain": [
              "True"
            ]
          },
          "metadata": {
            "tags": []
          },
          "execution_count": 23
        }
      ]
    },
    {
      "cell_type": "code",
      "metadata": {
        "colab": {
          "base_uri": "https://localhost:8080/"
        },
        "id": "23M7CpT3AgMM",
        "outputId": "52b32a43-e5ed-4cc6-bdca-cf48d001345d"
      },
      "source": [
        "bool(-3.26) # 인자 : 음의 실수"
      ],
      "execution_count": 24,
      "outputs": [
        {
          "output_type": "execute_result",
          "data": {
            "text/plain": [
              "True"
            ]
          },
          "metadata": {
            "tags": []
          },
          "execution_count": 24
        }
      ]
    },
    {
      "cell_type": "code",
      "metadata": {
        "colab": {
          "base_uri": "https://localhost:8080/"
        },
        "id": "I-gHqNXFAjLg",
        "outputId": "9bd19148-48bf-4c82-a609-9fbf1b115de8"
      },
      "source": [
        "bool('a') # 인자 : 문자열 'a'"
      ],
      "execution_count": 25,
      "outputs": [
        {
          "output_type": "execute_result",
          "data": {
            "text/plain": [
              "True"
            ]
          },
          "metadata": {
            "tags": []
          },
          "execution_count": 25
        }
      ]
    },
    {
      "cell_type": "code",
      "metadata": {
        "colab": {
          "base_uri": "https://localhost:8080/"
        },
        "id": "c19BZQ5wAnm1",
        "outputId": "3bc38b6e-cd24-4fe2-a56d-15f6fed173bc"
      },
      "source": [
        "bool(' ') # 인자 : 빈 문자열(공백)"
      ],
      "execution_count": 26,
      "outputs": [
        {
          "output_type": "execute_result",
          "data": {
            "text/plain": [
              "True"
            ]
          },
          "metadata": {
            "tags": []
          },
          "execution_count": 26
        }
      ]
    },
    {
      "cell_type": "code",
      "metadata": {
        "colab": {
          "base_uri": "https://localhost:8080/"
        },
        "id": "nSPQ3apZArNp",
        "outputId": "5b483940-cc8e-4fb8-928e-dd191109b218"
      },
      "source": [
        "bool('') # 인자 : 문자열 없음"
      ],
      "execution_count": 27,
      "outputs": [
        {
          "output_type": "execute_result",
          "data": {
            "text/plain": [
              "False"
            ]
          },
          "metadata": {
            "tags": []
          },
          "execution_count": 27
        }
      ]
    },
    {
      "cell_type": "code",
      "metadata": {
        "colab": {
          "base_uri": "https://localhost:8080/"
        },
        "id": "WT0ahDR_Audk",
        "outputId": "144d9e70-54fb-482b-853d-95302c5b3750"
      },
      "source": [
        "bool(None) # 인자 : None"
      ],
      "execution_count": 28,
      "outputs": [
        {
          "output_type": "execute_result",
          "data": {
            "text/plain": [
              "False"
            ]
          },
          "metadata": {
            "tags": []
          },
          "execution_count": 28
        }
      ]
    },
    {
      "cell_type": "code",
      "metadata": {
        "colab": {
          "base_uri": "https://localhost:8080/"
        },
        "id": "ZQ8bXe0lAzpr",
        "outputId": "c66e7ce8-f01f-4793-d4ab-bddd85f652cf"
      },
      "source": [
        "myFriends = []\n",
        "bool(myFriends) # 인자 : 항목이 없는 빈 리스트"
      ],
      "execution_count": 29,
      "outputs": [
        {
          "output_type": "execute_result",
          "data": {
            "text/plain": [
              "False"
            ]
          },
          "metadata": {
            "tags": []
          },
          "execution_count": 29
        }
      ]
    },
    {
      "cell_type": "code",
      "metadata": {
        "colab": {
          "base_uri": "https://localhost:8080/"
        },
        "id": "x6R4EzvoA6f4",
        "outputId": "b5462678-0981-4663-f72f-437db1bb55fc"
      },
      "source": [
        "myFriends = ['James', 'Robert', 'Lisa', 'Mary']\n",
        "bool(myFriends) # 인자 : 항목이 있는 리스트"
      ],
      "execution_count": 30,
      "outputs": [
        {
          "output_type": "execute_result",
          "data": {
            "text/plain": [
              "True"
            ]
          },
          "metadata": {
            "tags": []
          },
          "execution_count": 30
        }
      ]
    },
    {
      "cell_type": "code",
      "metadata": {
        "colab": {
          "base_uri": "https://localhost:8080/"
        },
        "id": "-KbcGA_WBGlg",
        "outputId": "5c4c87af-b728-44b5-a04e-06e7566412fd"
      },
      "source": [
        "myNum = ()\n",
        "bool(myNum) # 인자 : 항목이 있는 튜플"
      ],
      "execution_count": 31,
      "outputs": [
        {
          "output_type": "execute_result",
          "data": {
            "text/plain": [
              "False"
            ]
          },
          "metadata": {
            "tags": []
          },
          "execution_count": 31
        }
      ]
    },
    {
      "cell_type": "code",
      "metadata": {
        "colab": {
          "base_uri": "https://localhost:8080/"
        },
        "id": "d262WyNgBM_k",
        "outputId": "264945fa-7ef5-447b-d30c-3d5e0dc3cd2c"
      },
      "source": [
        "mySetA = {}\n",
        "bool(mySetA) # 인자 : 항목이 없는 빈 세트"
      ],
      "execution_count": 32,
      "outputs": [
        {
          "output_type": "execute_result",
          "data": {
            "text/plain": [
              "False"
            ]
          },
          "metadata": {
            "tags": []
          },
          "execution_count": 32
        }
      ]
    },
    {
      "cell_type": "code",
      "metadata": {
        "colab": {
          "base_uri": "https://localhost:8080/"
        },
        "id": "rO-OkobyBRwr",
        "outputId": "0980c26a-1c3a-40df-fa15-dc20246682b2"
      },
      "source": [
        "mySetA = {10, 20, 30}\n",
        "bool(mySetA) # 인자 : 항목이 있는 세트"
      ],
      "execution_count": 33,
      "outputs": [
        {
          "output_type": "execute_result",
          "data": {
            "text/plain": [
              "True"
            ]
          },
          "metadata": {
            "tags": []
          },
          "execution_count": 33
        }
      ]
    },
    {
      "cell_type": "code",
      "metadata": {
        "colab": {
          "base_uri": "https://localhost:8080/"
        },
        "id": "nr1mKurxBXth",
        "outputId": "d1b9aa6a-a4f1-4e86-ae0a-e7bb622db389"
      },
      "source": [
        "myNum = [10, 5, 12, 0, 3.5, 99.5 ,42]\n",
        "[min(myNum), max(myNum)]"
      ],
      "execution_count": 34,
      "outputs": [
        {
          "output_type": "execute_result",
          "data": {
            "text/plain": [
              "[0, 99.5]"
            ]
          },
          "metadata": {
            "tags": []
          },
          "execution_count": 34
        }
      ]
    },
    {
      "cell_type": "code",
      "metadata": {
        "colab": {
          "base_uri": "https://localhost:8080/"
        },
        "id": "QsVU4n48N6Ad",
        "outputId": "aef1f2ee-a666-4a93-8db4-488bc6cfb0f6"
      },
      "source": [
        "myStr = 'zxyabc'\n",
        "[min(myStr), max(myStr)]"
      ],
      "execution_count": 37,
      "outputs": [
        {
          "output_type": "execute_result",
          "data": {
            "text/plain": [
              "['a', 'z']"
            ]
          },
          "metadata": {
            "tags": []
          },
          "execution_count": 37
        }
      ]
    },
    {
      "cell_type": "code",
      "metadata": {
        "colab": {
          "base_uri": "https://localhost:8080/"
        },
        "id": "1HNV7ALWOA6q",
        "outputId": "306fd827-bab9-435e-9ad8-2d6c43a5ffcd"
      },
      "source": [
        "myNum = (10, 5, 12 ,0, 3.5, 99.5, 42)\n",
        "[min(myNum), max(myNum)]"
      ],
      "execution_count": 38,
      "outputs": [
        {
          "output_type": "execute_result",
          "data": {
            "text/plain": [
              "[0, 99.5]"
            ]
          },
          "metadata": {
            "tags": []
          },
          "execution_count": 38
        }
      ]
    },
    {
      "cell_type": "code",
      "metadata": {
        "colab": {
          "base_uri": "https://localhost:8080/"
        },
        "id": "JHbe6iCrOP6y",
        "outputId": "3e14ef32-83a8-4711-8150-3d40dcc043bc"
      },
      "source": [
        "myNum = {\"Abc\", \"abc\", \"bcd\", \"efg\"}\n",
        "[min(myNum), max(myNum)]"
      ],
      "execution_count": 39,
      "outputs": [
        {
          "output_type": "execute_result",
          "data": {
            "text/plain": [
              "['Abc', 'efg']"
            ]
          },
          "metadata": {
            "tags": []
          },
          "execution_count": 39
        }
      ]
    },
    {
      "cell_type": "code",
      "metadata": {
        "colab": {
          "base_uri": "https://localhost:8080/"
        },
        "id": "3c8WVnsBOasz",
        "outputId": "241fcf85-fa8c-4a4f-fcca-ff30120aa975"
      },
      "source": [
        "[abs(10), abs(-10)]"
      ],
      "execution_count": 40,
      "outputs": [
        {
          "output_type": "execute_result",
          "data": {
            "text/plain": [
              "[10, 10]"
            ]
          },
          "metadata": {
            "tags": []
          },
          "execution_count": 40
        }
      ]
    },
    {
      "cell_type": "code",
      "metadata": {
        "colab": {
          "base_uri": "https://localhost:8080/"
        },
        "id": "-8CIjeBkOg7L",
        "outputId": "d4100d2e-f2c9-49b3-cec6-45633e7d7cb6"
      },
      "source": [
        "[abs(2.45), abs(-2.45)]"
      ],
      "execution_count": 41,
      "outputs": [
        {
          "output_type": "execute_result",
          "data": {
            "text/plain": [
              "[2.45, 2.45]"
            ]
          },
          "metadata": {
            "tags": []
          },
          "execution_count": 41
        }
      ]
    },
    {
      "cell_type": "code",
      "metadata": {
        "colab": {
          "base_uri": "https://localhost:8080/"
        },
        "id": "PuH4bVmOOkqM",
        "outputId": "dbbbea6a-8cc1-4d57-edf4-82b5b8e59184"
      },
      "source": [
        "sumList = [1, 2, 3, 4, 5, 6,7 ,8 ,9 ,10]\n",
        "sum(sumList)"
      ],
      "execution_count": 42,
      "outputs": [
        {
          "output_type": "execute_result",
          "data": {
            "text/plain": [
              "55"
            ]
          },
          "metadata": {
            "tags": []
          },
          "execution_count": 42
        }
      ]
    },
    {
      "cell_type": "code",
      "metadata": {
        "colab": {
          "base_uri": "https://localhost:8080/"
        },
        "id": "cQ43YgM3Oo-D",
        "outputId": "edaffa9d-a47a-4a37-a2af-ff276d71fa31"
      },
      "source": [
        "len(\"ab cd\")    # 문자열"
      ],
      "execution_count": 44,
      "outputs": [
        {
          "output_type": "execute_result",
          "data": {
            "text/plain": [
              "5"
            ]
          },
          "metadata": {
            "tags": []
          },
          "execution_count": 44
        }
      ]
    },
    {
      "cell_type": "code",
      "metadata": {
        "colab": {
          "base_uri": "https://localhost:8080/"
        },
        "id": "UHucIfTRPEi7",
        "outputId": "e02f0d16-77d3-4a87-e024-c17a123ce4c7"
      },
      "source": [
        "len([1, 2, 3, 4, 5, 6, 7, 8])   # 리스트"
      ],
      "execution_count": 45,
      "outputs": [
        {
          "output_type": "execute_result",
          "data": {
            "text/plain": [
              "8"
            ]
          },
          "metadata": {
            "tags": []
          },
          "execution_count": 45
        }
      ]
    },
    {
      "cell_type": "code",
      "metadata": {
        "colab": {
          "base_uri": "https://localhost:8080/"
        },
        "id": "jP_LSX3wPJkC",
        "outputId": "f0ac3168-8eb4-4f10-8a3a-2c3bc89d8396"
      },
      "source": [
        "len((1, 2, 3 ,4, 5))    # 튜플"
      ],
      "execution_count": 46,
      "outputs": [
        {
          "output_type": "execute_result",
          "data": {
            "text/plain": [
              "5"
            ]
          },
          "metadata": {
            "tags": []
          },
          "execution_count": 46
        }
      ]
    },
    {
      "cell_type": "code",
      "metadata": {
        "colab": {
          "base_uri": "https://localhost:8080/"
        },
        "id": "1HHvwBwwPKpD",
        "outputId": "cf227aa6-c1f1-4a33-9e6d-728470b0c429"
      },
      "source": [
        "len({'a', 'b', 'c', 'd'})   # 세트"
      ],
      "execution_count": 47,
      "outputs": [
        {
          "output_type": "execute_result",
          "data": {
            "text/plain": [
              "4"
            ]
          },
          "metadata": {
            "tags": []
          },
          "execution_count": 47
        }
      ]
    },
    {
      "cell_type": "code",
      "metadata": {
        "colab": {
          "base_uri": "https://localhost:8080/"
        },
        "id": "6I2MWISrPLoE",
        "outputId": "d2b37d4d-ae5b-4e9c-ff76-eedaa834eda9"
      },
      "source": [
        "len({1:\"Thomas\", 2: \"Edward\", 3:\"Henry\"})  # 딕셔너리"
      ],
      "execution_count": 48,
      "outputs": [
        {
          "output_type": "execute_result",
          "data": {
            "text/plain": [
              "3"
            ]
          },
          "metadata": {
            "tags": []
          },
          "execution_count": 48
        }
      ]
    },
    {
      "cell_type": "code",
      "metadata": {
        "colab": {
          "base_uri": "https://localhost:8080/"
        },
        "id": "v0Un-mITPMLC",
        "outputId": "2c564e94-7930-4e9d-cd1e-e4053b81aaf7"
      },
      "source": [
        "scores = [90, 80, 95, 85] # 과목별 시험 점수\n",
        "\n",
        "score_sum = 0   # 총점 계산을 위한 초깃값 설정\n",
        "subject_num = 0     # 과목수 계산을 위한 초깃값 설정\n",
        "for score in scores : \n",
        "    score_sum = score_sum + score # 과목별 점수 모두 더하기\n",
        "    subject_num = subject_num + 1 # 과목수 계산\n",
        "\n",
        "average = score_sum / subject_num   # 평균(총점 / 과목수) 구하기\n",
        "\n",
        "print(\"총점:{0}, 평균:{1}\".format(score_sum, average))"
      ],
      "execution_count": 50,
      "outputs": [
        {
          "output_type": "stream",
          "text": [
            "총점:350, 평균:87.5\n"
          ],
          "name": "stdout"
        }
      ]
    },
    {
      "cell_type": "code",
      "metadata": {
        "colab": {
          "base_uri": "https://localhost:8080/"
        },
        "id": "_aj1XYWsY34e",
        "outputId": "36f6dd4a-5614-4d3a-c90d-92c38b639ac1"
      },
      "source": [
        "print(\"최하 점수:{0}, 최고 점수:{1}\".format(min(scores), max(scores)))"
      ],
      "execution_count": 51,
      "outputs": [
        {
          "output_type": "stream",
          "text": [
            "최하 점수:80, 최고 점수:95\n"
          ],
          "name": "stdout"
        }
      ]
    },
    {
      "cell_type": "code",
      "metadata": {
        "id": "gWmB8RdlZUvp"
      },
      "source": [
        ""
      ],
      "execution_count": null,
      "outputs": []
    }
  ]
}