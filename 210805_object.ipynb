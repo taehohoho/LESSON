{
  "nbformat": 4,
  "nbformat_minor": 0,
  "metadata": {
    "colab": {
      "name": "210805_object.ipynb",
      "provenance": [],
      "authorship_tag": "ABX9TyOIvJVpk9NcH/h8mH45qtfY",
      "include_colab_link": true
    },
    "kernelspec": {
      "name": "python3",
      "display_name": "Python 3"
    },
    "language_info": {
      "name": "python"
    }
  },
  "cells": [
    {
      "cell_type": "markdown",
      "metadata": {
        "id": "view-in-github",
        "colab_type": "text"
      },
      "source": [
        "<a href=\"https://colab.research.google.com/github/taehohoho/LESSON/blob/master/210805_object.ipynb\" target=\"_parent\"><img src=\"https://colab.research.google.com/assets/colab-badge.svg\" alt=\"Open In Colab\"/></a>"
      ]
    },
    {
      "cell_type": "code",
      "metadata": {
        "id": "4LyEU79ppn_A"
      },
      "source": [
        "class Bicycle(): # 클래스 선언\n",
        "    pass"
      ],
      "execution_count": null,
      "outputs": []
    },
    {
      "cell_type": "code",
      "metadata": {
        "id": "vO_cspDvLhOJ"
      },
      "source": [
        "my_bicycle = Bicycle()"
      ],
      "execution_count": null,
      "outputs": []
    },
    {
      "cell_type": "code",
      "metadata": {
        "colab": {
          "base_uri": "https://localhost:8080/"
        },
        "id": "c5YBp-WHLq3W",
        "outputId": "40110167-6723-4030-dce3-7bf17f234bf7"
      },
      "source": [
        "my_bicycle"
      ],
      "execution_count": null,
      "outputs": [
        {
          "output_type": "execute_result",
          "data": {
            "text/plain": [
              "<__main__.Bicycle at 0x7fc9c2fc0dd0>"
            ]
          },
          "metadata": {
            "tags": []
          },
          "execution_count": 4
        }
      ]
    },
    {
      "cell_type": "code",
      "metadata": {
        "id": "vlfIp8J2LsMu"
      },
      "source": [
        "my_bicycle.wheel_size = 26\n",
        "my_bicycle.color = 'black'"
      ],
      "execution_count": null,
      "outputs": []
    },
    {
      "cell_type": "code",
      "metadata": {
        "colab": {
          "base_uri": "https://localhost:8080/"
        },
        "id": "PbAqooJJLxN4",
        "outputId": "8d96986c-87a0-460f-cb00-ef0426b2bd95"
      },
      "source": [
        "print(\"바퀴 크기:\", my_bicycle.wheel_size)   # 객체의 속성 출력\n",
        "print(\"색상:\", my_bicycle.color)"
      ],
      "execution_count": null,
      "outputs": [
        {
          "output_type": "stream",
          "text": [
            "바퀴 크기: 26\n",
            "색상: black\n"
          ],
          "name": "stdout"
        }
      ]
    },
    {
      "cell_type": "code",
      "metadata": {
        "id": "3VkRT3tsL60M"
      },
      "source": [
        "class Bicycle():\n",
        "    \n",
        "    def move(self, speed):\n",
        "        print(\"자전거: 시속 {0}킬로미터로 전진\".format(speed))\n",
        "\n",
        "    def turn(self, direction):\n",
        "        print(\"자전거: {0}회전\".format(direction))\n",
        "    \n",
        "    def stop(self):\n",
        "        print(\"자전거({0},{1}): 정지\".format(self.wheel_size, self.color))"
      ],
      "execution_count": null,
      "outputs": []
    },
    {
      "cell_type": "code",
      "metadata": {
        "colab": {
          "base_uri": "https://localhost:8080/"
        },
        "id": "1lqzJ-5CMN6-",
        "outputId": "f2d43a3e-cdde-4c23-92f0-784b37ed9474"
      },
      "source": [
        "my_bicycle = Bicycle()  # Bicycle 클래스의 인스턴스인 my_bicycle 객체 생성\n",
        "\n",
        "my_bicycle.wheel_size = 26 # 객체의 속성설정\n",
        "my_bicycle.color = 'black'\n",
        "\n",
        "my_bicycle.move(30)\n",
        "my_bicycle.turn('좌')\n",
        "my_bicycle.stop()"
      ],
      "execution_count": null,
      "outputs": [
        {
          "output_type": "stream",
          "text": [
            "자전거: 시속 30킬로미터로 전진\n",
            "자전거: 좌회전\n",
            "자전거(26,black): 정지\n"
          ],
          "name": "stdout"
        }
      ]
    },
    {
      "cell_type": "code",
      "metadata": {
        "colab": {
          "base_uri": "https://localhost:8080/"
        },
        "id": "LBde20ifND3H",
        "outputId": "2a5cc11a-05b3-462e-943d-8ac8b32aabcf"
      },
      "source": [
        "bicycle1 = Bicycle() # Bicycle 클래스의 인스턴스인 bicycle1 객체 생성\n",
        "\n",
        "bicycle1.wheel_size = 27 # 객체의 속성 설정\n",
        "bicycle1.color = 'red'\n",
        "\n",
        "bicycle1.move(20)\n",
        "bicycle1.turn('좌')\n",
        "bicycle1.stop()"
      ],
      "execution_count": null,
      "outputs": [
        {
          "output_type": "stream",
          "text": [
            "자전거: 시속 20킬로미터로 전진\n",
            "자전거: 좌회전\n",
            "자전거(27,red): 정지\n"
          ],
          "name": "stdout"
        }
      ]
    },
    {
      "cell_type": "code",
      "metadata": {
        "colab": {
          "base_uri": "https://localhost:8080/"
        },
        "id": "5W7bjC81OHlB",
        "outputId": "b09fcc52-da3a-4489-a761-ffe626ef2de7"
      },
      "source": [
        "bicycle2 = Bicycle() # Bicycle 클래스의 인스턴스인 bicycle2 객체 생성\n",
        "\n",
        "bicycle2.wheel_size = 24 # 객체의 속성 설정\n",
        "bicycle2.color = 'blue'\n",
        "\n",
        "bicycle2.move(15)\n",
        "bicycle2.turn('우')\n",
        "bicycle2.stop()"
      ],
      "execution_count": null,
      "outputs": [
        {
          "output_type": "stream",
          "text": [
            "자전거: 시속 15킬로미터로 전진\n",
            "자전거: 우회전\n",
            "자전거(24,blue): 정지\n"
          ],
          "name": "stdout"
        }
      ]
    },
    {
      "cell_type": "code",
      "metadata": {
        "id": "DILxq1OQOPOb"
      },
      "source": [
        "class Car():\n",
        "    instance_count = 0 # 클래스 변수 생성 및 초기화\n",
        "\n",
        "    def __init__(self, size, color):\n",
        "        self.size = size    # 인스턴스 변수 생성 및 초기화\n",
        "        self.color = color  # 인스턴스 변수 생성 및 초기화\n",
        "        Car.instance_count = Car.instance_count + 1 # 클래스 변수 이용\n",
        "        print(\"자동차 객체의 수: {0}\".format(Car.instance_count))\n",
        "    \n",
        "    def move(self):\n",
        "        print(\"자동차({0} & {1})가 움직입니다.\".format(self.size, self.color))"
      ],
      "execution_count": null,
      "outputs": []
    },
    {
      "cell_type": "code",
      "metadata": {
        "colab": {
          "base_uri": "https://localhost:8080/"
        },
        "id": "-yzllrzC-hpP",
        "outputId": "1eb02a73-9df2-4ca4-c4af-0efbf97c8192"
      },
      "source": [
        "car1 = Car('small','white')\n",
        "car2 = Car('big','black')"
      ],
      "execution_count": null,
      "outputs": [
        {
          "output_type": "stream",
          "text": [
            "자동차 객체의 수: 1\n",
            "자동차 객체의 수: 2\n"
          ],
          "name": "stdout"
        }
      ]
    },
    {
      "cell_type": "code",
      "metadata": {
        "colab": {
          "base_uri": "https://localhost:8080/"
        },
        "id": "47s4JdFD_cu-",
        "outputId": "454a5c1e-968d-4dc5-cbda-04a892d788fc"
      },
      "source": [
        "print(\"Car 클래스의 총 인스턴스 개수:{}\".format(Car.instance_count))"
      ],
      "execution_count": null,
      "outputs": [
        {
          "output_type": "stream",
          "text": [
            "Car 클래스의 총 인스턴스 개수:2\n"
          ],
          "name": "stdout"
        }
      ]
    },
    {
      "cell_type": "code",
      "metadata": {
        "colab": {
          "base_uri": "https://localhost:8080/",
          "height": 190
        },
        "id": "ywzFri5L-pvL",
        "outputId": "10ad0178-b08b-46fe-d111-6a3870e68df0"
      },
      "source": [
        "print(\"Car 클래스의 총 인스턴스 개수:{}\".format(Car1.instance_count))\n",
        "print(\"Car 클래스의 총 인스턴스 개수:{}\".format(Car2.instance_count))"
      ],
      "execution_count": null,
      "outputs": [
        {
          "output_type": "error",
          "ename": "NameError",
          "evalue": "ignored",
          "traceback": [
            "\u001b[0;31m---------------------------------------------------------------------------\u001b[0m",
            "\u001b[0;31mNameError\u001b[0m                                 Traceback (most recent call last)",
            "\u001b[0;32m<ipython-input-9-9c83b8d15812>\u001b[0m in \u001b[0;36m<module>\u001b[0;34m()\u001b[0m\n\u001b[0;32m----> 1\u001b[0;31m \u001b[0mprint\u001b[0m\u001b[0;34m(\u001b[0m\u001b[0;34m\"Car 클래스의 총 인스턴스 개수:{}\"\u001b[0m\u001b[0;34m.\u001b[0m\u001b[0mformat\u001b[0m\u001b[0;34m(\u001b[0m\u001b[0mCar1\u001b[0m\u001b[0;34m.\u001b[0m\u001b[0minstance_count\u001b[0m\u001b[0;34m)\u001b[0m\u001b[0;34m)\u001b[0m\u001b[0;34m\u001b[0m\u001b[0;34m\u001b[0m\u001b[0m\n\u001b[0m\u001b[1;32m      2\u001b[0m \u001b[0mprint\u001b[0m\u001b[0;34m(\u001b[0m\u001b[0;34m\"Car 클래스의 총 인스턴스 개수:{}\"\u001b[0m\u001b[0;34m.\u001b[0m\u001b[0mformat\u001b[0m\u001b[0;34m(\u001b[0m\u001b[0mCar2\u001b[0m\u001b[0;34m.\u001b[0m\u001b[0minstance_count\u001b[0m\u001b[0;34m)\u001b[0m\u001b[0;34m)\u001b[0m\u001b[0;34m\u001b[0m\u001b[0;34m\u001b[0m\u001b[0m\n",
            "\u001b[0;31mNameError\u001b[0m: name 'Car1' is not defined"
          ]
        }
      ]
    },
    {
      "cell_type": "code",
      "metadata": {
        "colab": {
          "base_uri": "https://localhost:8080/"
        },
        "id": "MJl3mt4Q-5ML",
        "outputId": "7e0548f2-0a74-4605-f2e5-7add1a44cba2"
      },
      "source": [
        "car1.move()\n",
        "car2.move()"
      ],
      "execution_count": null,
      "outputs": [
        {
          "output_type": "stream",
          "text": [
            "자동차(small & white)가 움직입니다.\n"
          ],
          "name": "stdout"
        }
      ]
    },
    {
      "cell_type": "code",
      "metadata": {
        "id": "1UcKOb5W_4LN"
      },
      "source": [
        "class Car2():\n",
        "    count = 0; # 클래스 변수 생성 및 초기화\n",
        "\n",
        "    def __init__(self, size, color):\n",
        "        self.size = size    # 인스턴스 변수 생성 및 초기화\n",
        "        self.color = color  # 인스턴스 변수 생성 및 초기화\n",
        "        Car2.count = Car2.count + 1 # 클래스 변수 이용\n",
        "        print(\"자동차 객체의 수: Car2.count = {0}\".format(Car2.count))\n",
        "        print(\"인스턴스 변수 초기화: self.count = {0}\".format(self.count))\n",
        "        print(\"자동차 객체의 수: {0}\".format(Car.instance_count))\n",
        "    \n",
        "    def move(self):\n",
        "        print(\"자동차({0} & {1})가 움직입니다.\".format(self.size, self.color))"
      ],
      "execution_count": null,
      "outputs": []
    },
    {
      "cell_type": "code",
      "metadata": {
        "colab": {
          "base_uri": "https://localhost:8080/"
        },
        "id": "Ssoh7QT6AmbF",
        "outputId": "1511b147-cc4a-4d1b-d1d0-d2cc1354aaca"
      },
      "source": [
        "car1 = Car2(\"big\", 20)\n",
        "car2 = Car2(\"small\", 30)"
      ],
      "execution_count": null,
      "outputs": [
        {
          "output_type": "stream",
          "text": [
            "자동차 객체의 수: Car2.count = 1\n",
            "인스턴스 변수 초기화: self.count = 1\n",
            "자동차 객체의 수: 2\n",
            "자동차 객체의 수: Car2.count = 2\n",
            "인스턴스 변수 초기화: self.count = 2\n",
            "자동차 객체의 수: 2\n"
          ],
          "name": "stdout"
        }
      ]
    },
    {
      "cell_type": "code",
      "metadata": {
        "id": "dVF3vxSZAseO"
      },
      "source": [
        "# Car 클래스 선언\n",
        "class Car():\n",
        "    instance_count = 0 # 클래스 변수 생성 및 초기화\n",
        "\n",
        "    # 초기화 함수(인스턴스 메서드)\n",
        "    def __init__(self, size, color):\n",
        "        self.size = size    # 인스턴스 변수 생성 및 초기화\n",
        "        self.color = color  # 인스턴스 변수 생성 및 초기화\n",
        "        Car.instance_count = Car.instance_count + 1 # 클래스 변수 이용\n",
        "        print(\"자동차 객체의 수: {0}\".format(Car.instance_count))\n",
        "\n",
        "    # 인스턴스 메서드\n",
        "    def move(self, speed):\n",
        "        self.speed = speed # 인스턴스 변수 생성\n",
        "        print(\"자동차({0} & {1})가 \".format(self.size, self.color), end='')\n",
        "        print(\"시속 {0}킬로미터로 전진\".format(self.speed))\n",
        "\n",
        "    # 인스턴스 메서드\n",
        "    def auto_cruise(self):\n",
        "        print(\"자율 주행 모드\")\n",
        "        self.move(self.speed)   # move() 함수의 인자로 인스턴스 변수를 입력"
      ],
      "execution_count": 29,
      "outputs": []
    },
    {
      "cell_type": "code",
      "metadata": {
        "colab": {
          "base_uri": "https://localhost:8080/",
          "height": 424
        },
        "id": "pd7k7XB1P46b",
        "outputId": "cc85a383-2ea8-497c-e2e8-b2a5637454b6"
      },
      "source": [
        "car1 = Car('small', 'red')  # 객체 생성 (car1)\n",
        "car2 = Car('big', 'green')  # 객체 생성 (car2)\n",
        "\n",
        "car1.move(80)       # 객체(car1)의 move() 메서드 호출\n",
        "car1.move(100)      # 객체(car2)의 move() 메서드 호출\n",
        "\n",
        "car1.auto_cruise()  # 객체(car1)의 auto_cruise() 메서드 호출\n",
        "car2.auto_cruise()  # 객체(car2)의 auto_cruise() 메서드 호출"
      ],
      "execution_count": 30,
      "outputs": [
        {
          "output_type": "stream",
          "text": [
            "자동차 객체의 수: 1\n",
            "자동차 객체의 수: 2\n",
            "자동차(small & red)가 시속 80킬로미터로 전진\n",
            "자동차(small & red)가 시속 100킬로미터로 전진\n",
            "자율 주행 모드\n",
            "자동차(small & red)가 시속 100킬로미터로 전진\n",
            "자율 주행 모드\n"
          ],
          "name": "stdout"
        },
        {
          "output_type": "error",
          "ename": "AttributeError",
          "evalue": "ignored",
          "traceback": [
            "\u001b[0;31m---------------------------------------------------------------------------\u001b[0m",
            "\u001b[0;31mAttributeError\u001b[0m                            Traceback (most recent call last)",
            "\u001b[0;32m<ipython-input-30-f522ae78de10>\u001b[0m in \u001b[0;36m<module>\u001b[0;34m()\u001b[0m\n\u001b[1;32m      6\u001b[0m \u001b[0;34m\u001b[0m\u001b[0m\n\u001b[1;32m      7\u001b[0m \u001b[0mcar1\u001b[0m\u001b[0;34m.\u001b[0m\u001b[0mauto_cruise\u001b[0m\u001b[0;34m(\u001b[0m\u001b[0;34m)\u001b[0m  \u001b[0;31m# 객체(car1)의 auto_cruise() 메서드 호출\u001b[0m\u001b[0;34m\u001b[0m\u001b[0;34m\u001b[0m\u001b[0m\n\u001b[0;32m----> 8\u001b[0;31m \u001b[0mcar2\u001b[0m\u001b[0;34m.\u001b[0m\u001b[0mauto_cruise\u001b[0m\u001b[0;34m(\u001b[0m\u001b[0;34m)\u001b[0m  \u001b[0;31m# 객체(car2)의 auto_cruise() 메서드 호출\u001b[0m\u001b[0;34m\u001b[0m\u001b[0;34m\u001b[0m\u001b[0m\n\u001b[0m",
            "\u001b[0;32m<ipython-input-29-96d5d74719cc>\u001b[0m in \u001b[0;36mauto_cruise\u001b[0;34m(self)\u001b[0m\n\u001b[1;32m     19\u001b[0m     \u001b[0;32mdef\u001b[0m \u001b[0mauto_cruise\u001b[0m\u001b[0;34m(\u001b[0m\u001b[0mself\u001b[0m\u001b[0;34m)\u001b[0m\u001b[0;34m:\u001b[0m\u001b[0;34m\u001b[0m\u001b[0;34m\u001b[0m\u001b[0m\n\u001b[1;32m     20\u001b[0m         \u001b[0mprint\u001b[0m\u001b[0;34m(\u001b[0m\u001b[0;34m\"자율 주행 모드\"\u001b[0m\u001b[0;34m)\u001b[0m\u001b[0;34m\u001b[0m\u001b[0;34m\u001b[0m\u001b[0m\n\u001b[0;32m---> 21\u001b[0;31m         \u001b[0mself\u001b[0m\u001b[0;34m.\u001b[0m\u001b[0mmove\u001b[0m\u001b[0;34m(\u001b[0m\u001b[0mself\u001b[0m\u001b[0;34m.\u001b[0m\u001b[0mspeed\u001b[0m\u001b[0;34m)\u001b[0m   \u001b[0;31m# move() 함수의 인자로 인스턴스 변수를 입력\u001b[0m\u001b[0;34m\u001b[0m\u001b[0;34m\u001b[0m\u001b[0m\n\u001b[0m",
            "\u001b[0;31mAttributeError\u001b[0m: 'Car' object has no attribute 'speed'"
          ]
        }
      ]
    },
    {
      "cell_type": "code",
      "metadata": {
        "id": "t3r4YbN4Qb2K"
      },
      "source": [
        "# car 클래스 선언\n",
        "class Car():\n",
        "\n",
        "    # def __init__(self, size, color): => 앞의 코드 활용\n",
        "    # def move(self, speed): => 앞의 코드 활용\n",
        "    # def auto_cruise(self): => 앞의 코드 활용\n",
        "\n",
        "    # 정적 메서드\n",
        "    @staticmethod\n",
        "    def check_type(model_code):\n",
        "        if(model_code >= 20):\n",
        "            print(\"이 자동차는 전기차 입니다.\")\n",
        "        elif(10 <= model_code < 20):\n",
        "            print(\"이 자동차는 가솔린차 입니다.\")\n",
        "        else:\n",
        "            print(\"이 자동차는 디젤차 입니다.\")"
      ],
      "execution_count": null,
      "outputs": []
    },
    {
      "cell_type": "code",
      "metadata": {
        "colab": {
          "base_uri": "https://localhost:8080/",
          "height": 190
        },
        "id": "xJeGPLQARAQ7",
        "outputId": "42b4bb63-b9ad-461f-92fe-f28efb1ff9d9"
      },
      "source": [
        "Car.check_type(25)\n",
        "Car.check_type(2)"
      ],
      "execution_count": 31,
      "outputs": [
        {
          "output_type": "error",
          "ename": "AttributeError",
          "evalue": "ignored",
          "traceback": [
            "\u001b[0;31m---------------------------------------------------------------------------\u001b[0m",
            "\u001b[0;31mAttributeError\u001b[0m                            Traceback (most recent call last)",
            "\u001b[0;32m<ipython-input-31-f9fc05638e08>\u001b[0m in \u001b[0;36m<module>\u001b[0;34m()\u001b[0m\n\u001b[0;32m----> 1\u001b[0;31m \u001b[0mCar\u001b[0m\u001b[0;34m.\u001b[0m\u001b[0mcheck_type\u001b[0m\u001b[0;34m(\u001b[0m\u001b[0;36m25\u001b[0m\u001b[0;34m)\u001b[0m\u001b[0;34m\u001b[0m\u001b[0;34m\u001b[0m\u001b[0m\n\u001b[0m\u001b[1;32m      2\u001b[0m \u001b[0mCar\u001b[0m\u001b[0;34m.\u001b[0m\u001b[0mcheck_type\u001b[0m\u001b[0;34m(\u001b[0m\u001b[0;36m2\u001b[0m\u001b[0;34m)\u001b[0m\u001b[0;34m\u001b[0m\u001b[0;34m\u001b[0m\u001b[0m\n",
            "\u001b[0;31mAttributeError\u001b[0m: type object 'Car' has no attribute 'check_type'"
          ]
        }
      ]
    },
    {
      "cell_type": "code",
      "metadata": {
        "id": "i3y3WrWaRi5w"
      },
      "source": [
        "# Car 클래스 선언\n",
        "class Car():\n",
        "    instance_count = 0 # 클래스 변수\n",
        "\n",
        "    # 초기화 함수(인스턴스 메서드)\n",
        "    def __init__(self, size, color):\n",
        "        self.size = size    # 인스턴스 변수\n",
        "        self.color = color  # 인스턴스 변수\n",
        "        Car.instance_count = Car.instance_count + 1\n",
        "    \n",
        "    # def move(self, speed): => 앞의 코드 활용\n",
        "    # def auto_cruise(self): => 앞의 코드 활용\n",
        "    ##@staticmethod\n",
        "    # def check_type(model_code): => 앞의 코드 활용\n",
        "\n",
        "    # 클래스 메서드\n",
        "    @classmethod\n",
        "    def count_instace(cls):\n",
        "        print(\"자동차 객체의 개수: {0}\".format(cls.instance_count))\n"
      ],
      "execution_count": null,
      "outputs": []
    },
    {
      "cell_type": "code",
      "metadata": {
        "colab": {
          "base_uri": "https://localhost:8080/"
        },
        "id": "LHP6B08HSdC1",
        "outputId": "1071ac8e-cede-4272-f625-f2be69e0e4b4"
      },
      "source": [
        "Car.count_instace() # 객체 생성 전에 클래스 메서드 호출\n",
        "\n",
        "car1 = Car(\"small\", \"red\")  # 첫 번째 객체 생성\n",
        "Car.count_instace() # 클래스 메서드 호출\n",
        "\n",
        "car2 = Car(\"big\", \"green\")  # 두 번째 객체 생성\n",
        "Car.count_instace() # 클래스 메서드 호출"
      ],
      "execution_count": null,
      "outputs": [
        {
          "output_type": "stream",
          "text": [
            "자동차 객체의 개수: 0\n",
            "자동차 객체의 개수: 1\n",
            "자동차 객체의 개수: 2\n"
          ],
          "name": "stdout"
        }
      ]
    },
    {
      "cell_type": "code",
      "metadata": {
        "id": "SoKfnC01SuTY"
      },
      "source": [
        ""
      ],
      "execution_count": null,
      "outputs": []
    }
  ]
}