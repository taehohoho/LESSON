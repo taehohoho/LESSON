{
  "nbformat": 4,
  "nbformat_minor": 0,
  "metadata": {
    "colab": {
      "name": "210728_read_write.ipynb",
      "provenance": [],
      "collapsed_sections": [],
      "authorship_tag": "ABX9TyPJOVUA2bBoPxdcjhG4TfQq",
      "include_colab_link": true
    },
    "kernelspec": {
      "name": "python3",
      "display_name": "Python 3"
    },
    "language_info": {
      "name": "python"
    }
  },
  "cells": [
    {
      "cell_type": "markdown",
      "metadata": {
        "id": "view-in-github",
        "colab_type": "text"
      },
      "source": [
        "<a href=\"https://colab.research.google.com/github/taehohoho/LESSON/blob/master/210728_read_write.ipynb\" target=\"_parent\"><img src=\"https://colab.research.google.com/assets/colab-badge.svg\" alt=\"Open In Colab\"/></a>"
      ]
    },
    {
      "cell_type": "code",
      "metadata": {
        "id": "I44Rc-sV7zws"
      },
      "source": [
        "f = open('myFile.txt', 'w')\n",
        "f.write('This is my first file.')\n",
        "f.close()"
      ],
      "execution_count": 1,
      "outputs": []
    },
    {
      "cell_type": "code",
      "metadata": {
        "colab": {
          "base_uri": "https://localhost:8080/"
        },
        "id": "-cRFYG6B8EY5",
        "outputId": "ae1c0de3-27f9-4e76-8ccd-2c784c82a2ab"
      },
      "source": [
        "!cat myFile.txt"
      ],
      "execution_count": 2,
      "outputs": [
        {
          "output_type": "stream",
          "text": [
            "This is my first file."
          ],
          "name": "stdout"
        }
      ]
    },
    {
      "cell_type": "code",
      "metadata": {
        "colab": {
          "base_uri": "https://localhost:8080/"
        },
        "id": "EqFkvSpC8LgM",
        "outputId": "052852da-b3f0-465b-e5ce-7792d5a38bc6"
      },
      "source": [
        "f = open('myFile.txt', 'r') # (1) 'myFile.txt'파일 읽기 모드로 열기\n",
        "file_text = f.read()        # (2) 파일 내용 읽은 후에 변수에 저장\n",
        "f.close()                   # (3) 파일 닫기\n",
        "\n",
        "print(file_text)            # 변수에 저장된 내용 출력"
      ],
      "execution_count": 3,
      "outputs": [
        {
          "output_type": "stream",
          "text": [
            "This is my first file.\n"
          ],
          "name": "stdout"
        }
      ]
    },
    {
      "cell_type": "code",
      "metadata": {
        "colab": {
          "base_uri": "https://localhost:8080/"
        },
        "id": "zdk6bojG8i8e",
        "outputId": "7021e6cd-58a9-415e-df3c-10cd6c4e9fc5"
      },
      "source": [
        "f = open('two_times_table.txt', 'w')    # (1) 파일을 쓰기 모드로 열기\n",
        "for num in range(1,6):                  # (2) for문 : num이 1~5까지 반복\n",
        "    format_string = \"2 * {0} = {1}\\n\".format(num,2*num)   # 저장할 문자열 생성\n",
        "    f.write(format_string)              # (3) 파일에 문자열 저장\n",
        "f.close()                               # (4) 파일 닫기\n",
        "\n",
        "!cat two_times_table.txt"
      ],
      "execution_count": 8,
      "outputs": [
        {
          "output_type": "stream",
          "text": [
            "2 * 1 = 2\n",
            "2 * 2 = 4\n",
            "2 * 3 = 6\n",
            "2 * 4 = 8\n",
            "2 * 5 = 10\n"
          ],
          "name": "stdout"
        }
      ]
    },
    {
      "cell_type": "code",
      "metadata": {
        "colab": {
          "base_uri": "https://localhost:8080/"
        },
        "id": "aNT-EK55Xiqo",
        "outputId": "6dd6041c-15d8-48dd-ec04-d80080136919"
      },
      "source": [
        "f = open(\"two_times_table.txt\")\n",
        "line1 = f.readline()\n",
        "line2 = f.readline()\n",
        "f.close()\n",
        "print(line1, end=\"\")\n",
        "print(line2, end=\"\")"
      ],
      "execution_count": 10,
      "outputs": [
        {
          "output_type": "stream",
          "text": [
            "2 * 1 = 2\n",
            "2 * 2 = 4\n"
          ],
          "name": "stdout"
        }
      ]
    },
    {
      "cell_type": "code",
      "metadata": {
        "colab": {
          "base_uri": "https://localhost:8080/"
        },
        "id": "poBpsC9Vn_O0",
        "outputId": "a50a91d5-e2be-4f6b-9fb9-60d3023f9fdf"
      },
      "source": [
        "f = open(\"two_times_table.txt\")\n",
        "line = f.readline()\n",
        "while line :\n",
        "    print(line, end = \"\")\n",
        "    line = f.readline()\n",
        "f.close()"
      ],
      "execution_count": 19,
      "outputs": [
        {
          "output_type": "stream",
          "text": [
            "2 * 1 = 2\n",
            "2 * 2 = 4\n",
            "2 * 3 = 6\n",
            "2 * 4 = 8\n",
            "2 * 5 = 10\n"
          ],
          "name": "stdout"
        }
      ]
    },
    {
      "cell_type": "code",
      "metadata": {
        "colab": {
          "base_uri": "https://localhost:8080/"
        },
        "id": "wZcWwoLep36Z",
        "outputId": "ae73eb88-27ee-46f3-9a3d-aa0f371758aa"
      },
      "source": [
        "f = open(\"two_times_table.txt\")\n",
        "lines = f.readlines()\n",
        "f.close()\n",
        "print(lines)"
      ],
      "execution_count": 12,
      "outputs": [
        {
          "output_type": "stream",
          "text": [
            "['2 * 1 = 2\\n', '2 * 2 = 4\\n', '2 * 3 = 6\\n', '2 * 4 = 8\\n', '2 * 5 = 10\\n']\n"
          ],
          "name": "stdout"
        }
      ]
    },
    {
      "cell_type": "code",
      "metadata": {
        "colab": {
          "base_uri": "https://localhost:8080/"
        },
        "id": "5MT8xuExqCvS",
        "outputId": "60473961-7a73-407b-c2b6-c4c1178ef141"
      },
      "source": [
        "f = open(\"two_times_table.txt\")\n",
        "lines = f.readlines()\n",
        "f.close()\n",
        "for line in lines:\n",
        "    print(line, end=\"\")"
      ],
      "execution_count": 15,
      "outputs": [
        {
          "output_type": "stream",
          "text": [
            "2 * 1 = 2\n",
            "2 * 2 = 4\n",
            "2 * 3 = 6\n",
            "2 * 4 = 8\n",
            "2 * 5 = 10\n"
          ],
          "name": "stdout"
        }
      ]
    },
    {
      "cell_type": "code",
      "metadata": {
        "colab": {
          "base_uri": "https://localhost:8080/"
        },
        "id": "5i6Nr78qqUQk",
        "outputId": "eadc10dd-dac5-41b1-d61e-4c36d1266f20"
      },
      "source": [
        "f = open(\"two_times_table.txt\")\n",
        "for line in f.readlines() :\n",
        "    print(line, end=\"\")\n",
        "f.close()"
      ],
      "execution_count": 16,
      "outputs": [
        {
          "output_type": "stream",
          "text": [
            "2 * 1 = 2\n",
            "2 * 2 = 4\n",
            "2 * 3 = 6\n",
            "2 * 4 = 8\n",
            "2 * 5 = 10\n"
          ],
          "name": "stdout"
        }
      ]
    },
    {
      "cell_type": "code",
      "metadata": {
        "colab": {
          "base_uri": "https://localhost:8080/"
        },
        "id": "d-XmijmWqlE5",
        "outputId": "b24b1d01-8a64-4c2f-939c-d683ae6bf7bf"
      },
      "source": [
        "f = open(\"two_times_table.txt\")\n",
        "for line in f :\n",
        "    print(line, end=\"\")\n",
        "f.close()"
      ],
      "execution_count": 17,
      "outputs": [
        {
          "output_type": "stream",
          "text": [
            "2 * 1 = 2\n",
            "2 * 2 = 4\n",
            "2 * 3 = 6\n",
            "2 * 4 = 8\n",
            "2 * 5 = 10\n"
          ],
          "name": "stdout"
        }
      ]
    },
    {
      "cell_type": "code",
      "metadata": {
        "id": "VIhpVJYKqpH-"
      },
      "source": [
        "f = open('myTextFile.txt','w')      # (1) 파일 열기\n",
        "f.write('file write/read test.')    # (2) 파일 쓰기\n",
        "f.close()                           # (3) 파일 닫기"
      ],
      "execution_count": 20,
      "outputs": []
    },
    {
      "cell_type": "code",
      "metadata": {
        "colab": {
          "base_uri": "https://localhost:8080/"
        },
        "id": "k7EQwq871XIr",
        "outputId": "428a6d8f-2fca-464c-a312-48db6e70d43e"
      },
      "source": [
        "f = open('myTextFile.txt','r')  # (1) 파일 열기\n",
        "test = f.read()                 # (2) 파일 쓰기\n",
        "f.close()                       # (3) 파일 닫기\n",
        "print(test)"
      ],
      "execution_count": 22,
      "outputs": [
        {
          "output_type": "stream",
          "text": [
            "\n"
          ],
          "name": "stdout"
        }
      ]
    },
    {
      "cell_type": "code",
      "metadata": {
        "id": "NTsKFUrB1pdG"
      },
      "source": [
        "with open('myTextFile2.txt', 'w') as f :   # (1) 파일 열기\n",
        "    f.write('File read/write test2: line1\\n')    # (2) 파일 쓰기\n",
        "    f.write('File read/write test2: line2\\n')\n",
        "    f.write('File read/write test2: line3\\n')    "
      ],
      "execution_count": 24,
      "outputs": []
    },
    {
      "cell_type": "code",
      "metadata": {
        "colab": {
          "base_uri": "https://localhost:8080/"
        },
        "id": "5moNu2PW2eiA",
        "outputId": "5a3e093e-cccb-437a-fa3a-803a877940ce"
      },
      "source": [
        "with open('myTextFile2.txt') as f: # (1) 파일 열기\n",
        "    file_string = f.read()\n",
        "    print(file_string)"
      ],
      "execution_count": 25,
      "outputs": [
        {
          "output_type": "stream",
          "text": [
            "File read/write test2: line1\n",
            "File read/write test2: line2\n",
            "File read/write test2: line3\n",
            "\n"
          ],
          "name": "stdout"
        }
      ]
    },
    {
      "cell_type": "code",
      "metadata": {
        "id": "jWabMkCS2uaB"
      },
      "source": [
        "with open('myTextFiles3.txt', 'w') as f :   # 파일을 쓰기 모드로 열기\n",
        "    for num in range(1, 6) :                # for 문에서 num이 1~5까지 반복\n",
        "        format_string = \"3 x {0} = {1}\\n\".format(num, 3*num)   # 문자열 생성\n",
        "        f.write(format_string)"
      ],
      "execution_count": 27,
      "outputs": []
    },
    {
      "cell_type": "code",
      "metadata": {
        "colab": {
          "base_uri": "https://localhost:8080/"
        },
        "id": "u17WkQCM3JnO",
        "outputId": "814e95b2-1872-4b51-e56b-35cb64736742"
      },
      "source": [
        "with open('myTextFiles3.txt', 'r') as f : # 파일을 읽기 모드로 열기\n",
        "    for line in f :             # 파일 전체를 읽고 리스트 항목을 line에 할당\n",
        "        print(line, end=\"\")     # line에 할당된 문자열 출력(줄 바꿈 안함)"
      ],
      "execution_count": 29,
      "outputs": [
        {
          "output_type": "stream",
          "text": [
            "3 x 1 = 3\n",
            "3 x 2 = 6\n",
            "3 x 3 = 9\n",
            "3 x 4 = 12\n",
            "3 x 5 = 15\n"
          ],
          "name": "stdout"
        }
      ]
    },
    {
      "cell_type": "code",
      "metadata": {
        "id": "yFr1KYUT3jUb"
      },
      "source": [
        ""
      ],
      "execution_count": null,
      "outputs": []
    }
  ]
}