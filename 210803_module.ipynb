{
  "nbformat": 4,
  "nbformat_minor": 0,
  "metadata": {
    "colab": {
      "name": "210803_module.ipynb",
      "provenance": [],
      "collapsed_sections": [],
      "authorship_tag": "ABX9TyM2FaO3IXpkGwgoKmB0w8P0",
      "include_colab_link": true
    },
    "kernelspec": {
      "name": "python3",
      "display_name": "Python 3"
    },
    "language_info": {
      "name": "python"
    }
  },
  "cells": [
    {
      "cell_type": "markdown",
      "metadata": {
        "id": "view-in-github",
        "colab_type": "text"
      },
      "source": [
        "<a href=\"https://colab.research.google.com/github/taehohoho/LESSON/blob/master/210803_module.ipynb\" target=\"_parent\"><img src=\"https://colab.research.google.com/assets/colab-badge.svg\" alt=\"Open In Colab\"/></a>"
      ]
    },
    {
      "cell_type": "code",
      "metadata": {
        "id": "sEjl6ZXklPCG",
        "colab": {
          "base_uri": "https://localhost:8080/"
        },
        "outputId": "2df846d7-a32b-4995-d7e8-55e2ea054343"
      },
      "source": [
        "%%writefile my_first_module.py\n",
        "# File name : my_first_module.py\n",
        "\n",
        "def my_function():\n",
        "    print(\"This is my first module\")"
      ],
      "execution_count": 2,
      "outputs": [
        {
          "output_type": "stream",
          "text": [
            "Overwriting my_first_module.py\n"
          ],
          "name": "stdout"
        }
      ]
    },
    {
      "cell_type": "code",
      "metadata": {
        "colab": {
          "base_uri": "https://localhost:8080/"
        },
        "id": "HcZhxjNUhZkc",
        "outputId": "043296be-4fa9-40b6-fef1-0ed847cb081f"
      },
      "source": [
        "!cat my_first_module.py"
      ],
      "execution_count": 3,
      "outputs": [
        {
          "output_type": "stream",
          "text": [
            "# File name : my_first_module.py\n",
            "\n",
            "def my_function():\n",
            "    print(\"This is my first module\")"
          ],
          "name": "stdout"
        }
      ]
    },
    {
      "cell_type": "code",
      "metadata": {
        "colab": {
          "base_uri": "https://localhost:8080/"
        },
        "id": "irXJTsNqhwWJ",
        "outputId": "0b30f185-ca8a-4097-c298-27ef15a5ee5f"
      },
      "source": [
        "!ls"
      ],
      "execution_count": 4,
      "outputs": [
        {
          "output_type": "stream",
          "text": [
            "my_first_module.py  sample_data\n"
          ],
          "name": "stdout"
        }
      ]
    },
    {
      "cell_type": "code",
      "metadata": {
        "colab": {
          "base_uri": "https://localhost:8080/"
        },
        "id": "FePL_kKkhytm",
        "outputId": "5d3a20cd-f83a-4135-8b22-3dcc9954fcda"
      },
      "source": [
        "import my_first_module\n",
        "my_first_module.my_function()"
      ],
      "execution_count": 6,
      "outputs": [
        {
          "output_type": "stream",
          "text": [
            "This is my first module\n"
          ],
          "name": "stdout"
        }
      ]
    },
    {
      "cell_type": "code",
      "metadata": {
        "colab": {
          "base_uri": "https://localhost:8080/"
        },
        "id": "yl5nQO7Uh1UZ",
        "outputId": "e4b9c2d9-607e-4042-877a-10424d3a5459"
      },
      "source": [
        "%%writefile my_area.py\n",
        "# File name: my_area.py\n",
        "\n",
        "PI = 3.14\n",
        "def square_area(a): # 정사각형의 넓이 반환\n",
        "    return a ** 2\n",
        "\n",
        "def circle_area(r): # 원의 넓이 반환\n",
        "    return PI * r ** 2"
      ],
      "execution_count": 7,
      "outputs": [
        {
          "output_type": "stream",
          "text": [
            "Writing my_area.py\n"
          ],
          "name": "stdout"
        }
      ]
    },
    {
      "cell_type": "code",
      "metadata": {
        "colab": {
          "base_uri": "https://localhost:8080/"
        },
        "id": "VpHINFhXiUwL",
        "outputId": "4f4cbd67-67c4-4257-cf50-b8977391eaa3"
      },
      "source": [
        "import my_area\n",
        "\n",
        "print('pi=', my_area.PI)\n",
        "print('square area = ', my_area.square_area(5)) # 모듈의 함수 이용\n",
        "print('circle area = ', my_area.circle_area(2))"
      ],
      "execution_count": 9,
      "outputs": [
        {
          "output_type": "stream",
          "text": [
            "pi= 3.14\n",
            "square area =  25\n",
            "circle area =  12.56\n"
          ],
          "name": "stdout"
        }
      ]
    },
    {
      "cell_type": "code",
      "metadata": {
        "colab": {
          "base_uri": "https://localhost:8080/"
        },
        "id": "r4ulssO6igHi",
        "outputId": "be5e6f15-6a61-48ca-92bd-6e86eaa12ec4"
      },
      "source": [
        "dir(my_area)"
      ],
      "execution_count": 10,
      "outputs": [
        {
          "output_type": "execute_result",
          "data": {
            "text/plain": [
              "['PI',\n",
              " '__builtins__',\n",
              " '__cached__',\n",
              " '__doc__',\n",
              " '__file__',\n",
              " '__loader__',\n",
              " '__name__',\n",
              " '__package__',\n",
              " '__spec__',\n",
              " 'circle_area',\n",
              " 'square_area']"
            ]
          },
          "metadata": {
            "tags": []
          },
          "execution_count": 10
        }
      ]
    },
    {
      "cell_type": "code",
      "metadata": {
        "colab": {
          "base_uri": "https://localhost:8080/"
        },
        "id": "jyu1M8D-izMZ",
        "outputId": "15610226-c3e4-46a6-cc7c-77edf9871857"
      },
      "source": [
        "from my_area import PI # 모듈의 변수 바로 불러오기\n",
        "print('pi=', PI)    # 모듈의 변수 이용"
      ],
      "execution_count": 11,
      "outputs": [
        {
          "output_type": "stream",
          "text": [
            "pi= 3.14\n"
          ],
          "name": "stdout"
        }
      ]
    },
    {
      "cell_type": "code",
      "metadata": {
        "colab": {
          "base_uri": "https://localhost:8080/"
        },
        "id": "BwlLrYr8vANQ",
        "outputId": "f81c208e-c2d7-40c0-ee05-0adccb7b7c56"
      },
      "source": [
        "from my_area import square_area\n",
        "from my_area import circle_area\n",
        "\n",
        "print('square_area = ', square_area(5)) # 모듈의 함수 이용\n",
        "print('circle_area = ', circle_area(2))"
      ],
      "execution_count": 13,
      "outputs": [
        {
          "output_type": "stream",
          "text": [
            "square_area =  25\n",
            "circle_area =  12.56\n"
          ],
          "name": "stdout"
        }
      ]
    },
    {
      "cell_type": "code",
      "metadata": {
        "colab": {
          "base_uri": "https://localhost:8080/"
        },
        "id": "iZ0flixrvUd0",
        "outputId": "2cb2432c-876f-4985-fc20-2cdac4e42df4"
      },
      "source": [
        "from my_area import PI, square_area, circle_area\n",
        "\n",
        "print('pi = ', PI)  # 모듈의 변수 이용\n",
        "print('square_area = ', square_area(5)) # 모듈의 함수 이용\n",
        "print('circle_area = ', circle_area(2))"
      ],
      "execution_count": 14,
      "outputs": [
        {
          "output_type": "stream",
          "text": [
            "pi =  3.14\n",
            "square_area =  25\n",
            "circle_area =  12.56\n"
          ],
          "name": "stdout"
        }
      ]
    },
    {
      "cell_type": "code",
      "metadata": {
        "colab": {
          "base_uri": "https://localhost:8080/"
        },
        "id": "HX1cBzTUvs2D",
        "outputId": "94ae664c-1fd9-457f-bd34-a5804f2983d5"
      },
      "source": [
        "from my_area import *\n",
        "\n",
        "print('pi =', PI)   # 모듈의 변수 이용\n",
        "print('square_area = ', square_area(5)) # 모듈의 함수 이용\n",
        "print('circle_area = ', circle_area(2))"
      ],
      "execution_count": 15,
      "outputs": [
        {
          "output_type": "stream",
          "text": [
            "pi = 3.14\n",
            "square_area =  25\n",
            "circle_area =  12.56\n"
          ],
          "name": "stdout"
        }
      ]
    },
    {
      "cell_type": "code",
      "metadata": {
        "colab": {
          "base_uri": "https://localhost:8080/"
        },
        "id": "2nO4xaQCv2dt",
        "outputId": "10c90d1e-a577-418c-cb10-c286f82a43dd"
      },
      "source": [
        "%%writefile my_module1.py\n",
        "# File name: my_module1.py\n",
        "\n",
        "def func1():\n",
        "    print(\"func1 in my_module1 \")\n",
        "def func2():\n",
        "    print(\"func1 in my_module1 \")"
      ],
      "execution_count": 17,
      "outputs": [
        {
          "output_type": "stream",
          "text": [
            "Writing my_module1.py\n"
          ],
          "name": "stdout"
        }
      ]
    },
    {
      "cell_type": "code",
      "metadata": {
        "colab": {
          "base_uri": "https://localhost:8080/"
        },
        "id": "kDbYSiF4wKts",
        "outputId": "8000235d-d5b7-4639-9b68-73712f837d83"
      },
      "source": [
        "%%writefile my_module2.py\n",
        "# File name: my_module2.py\n",
        "\n",
        "def func2():\n",
        "    print(\"func1 in my_module2 \")\n",
        "def func3():\n",
        "    print(\"func1 in my_module2 \")"
      ],
      "execution_count": 18,
      "outputs": [
        {
          "output_type": "stream",
          "text": [
            "Writing my_module2.py\n"
          ],
          "name": "stdout"
        }
      ]
    },
    {
      "cell_type": "code",
      "metadata": {
        "colab": {
          "base_uri": "https://localhost:8080/"
        },
        "id": "YHOWS0Hiwcm-",
        "outputId": "05b331a3-46ac-4733-d2e6-0efdafb26b08"
      },
      "source": [
        "from my_module1 import *\n",
        "from my_module2 import *\n",
        "\n",
        "func1()\n",
        "func2()\n",
        "func3()"
      ],
      "execution_count": 19,
      "outputs": [
        {
          "output_type": "stream",
          "text": [
            "func1 in my_module1 \n",
            "func1 in my_module2 \n",
            "func1 in my_module2 \n"
          ],
          "name": "stdout"
        }
      ]
    },
    {
      "cell_type": "code",
      "metadata": {
        "colab": {
          "base_uri": "https://localhost:8080/"
        },
        "id": "HTAPcfawwzq8",
        "outputId": "561adb3e-2819-4c89-d02d-8d9bb32ee486"
      },
      "source": [
        "import my_area as area # 모듈명(my_area)에 별명(area)을 붙임\n",
        "\n",
        "print('pi =', area.PI)  # 모듈명 대신 별명 이용\n",
        "print('square area =', area.square_area(5))\n",
        "print('circle area =', area.circle_area(2))"
      ],
      "execution_count": 20,
      "outputs": [
        {
          "output_type": "stream",
          "text": [
            "pi = 3.14\n",
            "square area = 25\n",
            "circle area = 12.56\n"
          ],
          "name": "stdout"
        }
      ]
    },
    {
      "cell_type": "code",
      "metadata": {
        "colab": {
          "base_uri": "https://localhost:8080/"
        },
        "id": "t7KqtDiQ9Y7T",
        "outputId": "1f24dfa0-3fbb-40c6-fc64-fcb09dbd1e44"
      },
      "source": [
        "from my_area import PI as pi\n",
        "from my_area import square_area as square\n",
        "from my_area import circle_area as circle\n",
        "\n",
        "\n",
        "print('pi =', pi)  # 모듈명 대신 별명 이용\n",
        "print('square area =', square(5))\n",
        "print('circle area =', circle(2))"
      ],
      "execution_count": 21,
      "outputs": [
        {
          "output_type": "stream",
          "text": [
            "pi = 3.14\n",
            "square area = 25\n",
            "circle area = 12.56\n"
          ],
          "name": "stdout"
        }
      ]
    },
    {
      "cell_type": "code",
      "metadata": {
        "colab": {
          "base_uri": "https://localhost:8080/"
        },
        "id": "8AVgkPkY9utf",
        "outputId": "f9dbd588-b465-4e91-f487-30136a1d7f74"
      },
      "source": [
        "%%writefile my_module_test1.py\n",
        "# File name : my_module_test1.py\n",
        "\n",
        "def func(a):\n",
        "    print(\"입력 숫자:\", a)\n",
        "\n",
        "func(3)"
      ],
      "execution_count": 22,
      "outputs": [
        {
          "output_type": "stream",
          "text": [
            "Writing my_module_test1.py\n"
          ],
          "name": "stdout"
        }
      ]
    },
    {
      "cell_type": "code",
      "metadata": {
        "colab": {
          "base_uri": "https://localhost:8080/"
        },
        "id": "1FQ_Kcwe98dy",
        "outputId": "1042ec5c-2968-4c5b-ca06-e83aaa4029d5"
      },
      "source": [
        "%run my_module_test1.py"
      ],
      "execution_count": 23,
      "outputs": [
        {
          "output_type": "stream",
          "text": [
            "입력 숫자: 3\n"
          ],
          "name": "stdout"
        }
      ]
    },
    {
      "cell_type": "code",
      "metadata": {
        "colab": {
          "base_uri": "https://localhost:8080/"
        },
        "id": "FH0isbBy-BKH",
        "outputId": "70a53ad1-ca20-4e6f-9003-dc321347227d"
      },
      "source": [
        "import my_module_test1"
      ],
      "execution_count": 24,
      "outputs": [
        {
          "output_type": "stream",
          "text": [
            "입력 숫자: 3\n"
          ],
          "name": "stdout"
        }
      ]
    },
    {
      "cell_type": "code",
      "metadata": {
        "colab": {
          "base_uri": "https://localhost:8080/"
        },
        "id": "sGOTYyt2-Dww",
        "outputId": "5a4d5a7d-bf23-4e91-f7c4-61bc698a4529"
      },
      "source": [
        "%%writefile my_module_test2.py\n",
        "# File name: my_module_test2.py\n",
        "\n",
        "def func(a):\n",
        "    print(\"입력 숫자:\", a)\n",
        "\n",
        "if __name__ == \"__main__\" :\n",
        "    print(\"모듈을 직접 실행\")\n",
        "    func(3)\n",
        "    func(4)"
      ],
      "execution_count": 25,
      "outputs": [
        {
          "output_type": "stream",
          "text": [
            "Writing my_module_test2.py\n"
          ],
          "name": "stdout"
        }
      ]
    },
    {
      "cell_type": "code",
      "metadata": {
        "colab": {
          "base_uri": "https://localhost:8080/"
        },
        "id": "XSXcBpB9-XiR",
        "outputId": "871d0f9a-014a-4e0d-c4bc-3f7cc80abfde"
      },
      "source": [
        "%run my_module_test2.py"
      ],
      "execution_count": 26,
      "outputs": [
        {
          "output_type": "stream",
          "text": [
            "모듈을 직접 실행\n",
            "입력 숫자: 3\n",
            "입력 숫자: 4\n"
          ],
          "name": "stdout"
        }
      ]
    },
    {
      "cell_type": "code",
      "metadata": {
        "id": "m9RobI33-apI"
      },
      "source": [
        "import my_module_test2"
      ],
      "execution_count": 27,
      "outputs": []
    },
    {
      "cell_type": "code",
      "metadata": {
        "colab": {
          "base_uri": "https://localhost:8080/"
        },
        "id": "TnxtE2Uh-f87",
        "outputId": "8bb673db-b2b0-4d77-98b1-46fd52e4f7a9"
      },
      "source": [
        "%%writefile my_module_test3.py\n",
        "# file name: my_module_test3.py\n",
        "\n",
        "def func(a):\n",
        "    print(\"입력 숫자:\", a)\n",
        "\n",
        "if __name__ == \"__main__\":\n",
        "    print(\"모듈을 직접 실행\")\n",
        "    func(3)\n",
        "    func(4)\n",
        "else:\n",
        "    print(\"모듈을 임포트해서 실행\")"
      ],
      "execution_count": 29,
      "outputs": [
        {
          "output_type": "stream",
          "text": [
            "Overwriting my_module_test3.py\n"
          ],
          "name": "stdout"
        }
      ]
    },
    {
      "cell_type": "code",
      "metadata": {
        "colab": {
          "base_uri": "https://localhost:8080/"
        },
        "id": "0aKhiczw-4nB",
        "outputId": "49c8f3df-607a-446e-eed2-056baac9dde1"
      },
      "source": [
        "%run my_module_test3.py"
      ],
      "execution_count": 30,
      "outputs": [
        {
          "output_type": "stream",
          "text": [
            "모듈을 직접 실행\n",
            "입력 숫자: 3\n",
            "입력 숫자: 4\n"
          ],
          "name": "stdout"
        }
      ]
    },
    {
      "cell_type": "code",
      "metadata": {
        "colab": {
          "base_uri": "https://localhost:8080/"
        },
        "id": "Y-k4POQp-9lQ",
        "outputId": "ff2ae824-3502-4d69-c2bf-3709fe13e1f1"
      },
      "source": [
        "import my_module_test3"
      ],
      "execution_count": 31,
      "outputs": [
        {
          "output_type": "stream",
          "text": [
            "모듈을 임포트해서 실행\n"
          ],
          "name": "stdout"
        }
      ]
    },
    {
      "cell_type": "code",
      "metadata": {
        "colab": {
          "base_uri": "https://localhost:8080/"
        },
        "id": "piXOVHpb-_hY",
        "outputId": "3cc0b5ca-c476-4940-a3e7-39a74709471c"
      },
      "source": [
        "import random\n",
        "random.random()"
      ],
      "execution_count": 32,
      "outputs": [
        {
          "output_type": "execute_result",
          "data": {
            "text/plain": [
              "0.07322683248233741"
            ]
          },
          "metadata": {
            "tags": []
          },
          "execution_count": 32
        }
      ]
    },
    {
      "cell_type": "code",
      "metadata": {
        "colab": {
          "base_uri": "https://localhost:8080/"
        },
        "id": "ZF6nc4gmJyFO",
        "outputId": "28ade125-7217-4915-cadb-9a82824d0a8e"
      },
      "source": [
        "import random\n",
        "\n",
        "dice1 = random.randint(1,6)  # 임의의 정수가 생성됨\n",
        "dice2 = random.randint(1,6)  # 임의의 정수가 생성됨\n",
        "print('주사위 두 개의 숫자: {0}, {1}'.format(dice1, dice2))"
      ],
      "execution_count": 33,
      "outputs": [
        {
          "output_type": "stream",
          "text": [
            "주사위 두 개의 숫자: 6, 5\n"
          ],
          "name": "stdout"
        }
      ]
    },
    {
      "cell_type": "code",
      "metadata": {
        "colab": {
          "base_uri": "https://localhost:8080/"
        },
        "id": "VqMpLjLNKDna",
        "outputId": "a0c81396-ddcf-4870-fa21-1d78c4e3d7a2"
      },
      "source": [
        "import random\n",
        "\n",
        "random.randrange(0,11,2)"
      ],
      "execution_count": 35,
      "outputs": [
        {
          "output_type": "execute_result",
          "data": {
            "text/plain": [
              "2"
            ]
          },
          "metadata": {
            "tags": []
          },
          "execution_count": 35
        }
      ]
    },
    {
      "cell_type": "code",
      "metadata": {
        "colab": {
          "base_uri": "https://localhost:8080/"
        },
        "id": "IkaSyxDXKQvi",
        "outputId": "b3a1f55b-1f19-4322-a624-d502b5c1dbe1"
      },
      "source": [
        "import random\n",
        "\n",
        "num1 = random.randrange(1, 10, 2)   # 1~9(10-1) 중 임의의 홀수 선택\n",
        "num2 = random.randrange(0, 100, 10) # 0~99(100-1) 중 임의의 10의 단위 숫자 선택\n",
        "print('num1: {0}, num2: {1}'.format(num1, num2) )"
      ],
      "execution_count": 36,
      "outputs": [
        {
          "output_type": "stream",
          "text": [
            "num1: 1, num2: 70\n"
          ],
          "name": "stdout"
        }
      ]
    },
    {
      "cell_type": "code",
      "metadata": {
        "colab": {
          "base_uri": "https://localhost:8080/",
          "height": 35
        },
        "id": "HneeYKUxK7G0",
        "outputId": "1fb4d61b-d202-4ba5-c638-98fcad089912"
      },
      "source": [
        "import random\n",
        "\n",
        "menu = ['비빔밥', '된장찌개', '볶음밥', '불고기', '스파게티', '피자', '탕수육']\n",
        "random.choice(menu)"
      ],
      "execution_count": 37,
      "outputs": [
        {
          "output_type": "execute_result",
          "data": {
            "application/vnd.google.colaboratory.intrinsic+json": {
              "type": "string"
            },
            "text/plain": [
              "'피자'"
            ]
          },
          "metadata": {
            "tags": []
          },
          "execution_count": 37
        }
      ]
    },
    {
      "cell_type": "code",
      "metadata": {
        "id": "BYkHHQQsLJSz"
      },
      "source": [
        ""
      ],
      "execution_count": null,
      "outputs": []
    }
  ]
}