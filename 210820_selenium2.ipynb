{
 "cells": [
  {
   "cell_type": "code",
   "execution_count": 16,
   "id": "f8e4d97f",
   "metadata": {},
   "outputs": [],
   "source": [
    "#!pip install selenium"
   ]
  },
  {
   "cell_type": "code",
   "execution_count": 17,
   "id": "852e7758",
   "metadata": {},
   "outputs": [],
   "source": [
    "import requests\n",
    "from selenium import webdriver\n",
    "import time"
   ]
  },
  {
   "cell_type": "code",
   "execution_count": 18,
   "id": "7d1eaf0e",
   "metadata": {},
   "outputs": [],
   "source": [
    "driver =    webdriver.Chrome(\"C:/Myexam/chromedriver/chromedriver.exe\")\n",
    "url =    \"http://corners.gmarket.co.kr/Bestsellers\"\n",
    "driver.get(url)"
   ]
  },
  {
   "cell_type": "code",
   "execution_count": 19,
   "id": "942a2c32",
   "metadata": {},
   "outputs": [
    {
     "data": {
      "text/plain": [
       "200"
      ]
     },
     "execution_count": 19,
     "metadata": {},
     "output_type": "execute_result"
    }
   ],
   "source": [
    "items =    driver.find_elements_by_css_selector( \".best-list:nth-child(3) > ul > li\")\n",
    "len(items)"
   ]
  },
  {
   "cell_type": "code",
   "execution_count": 20,
   "id": "9493b914",
   "metadata": {},
   "outputs": [],
   "source": [
    "dict_list = []\n",
    "for item in items:\n",
    "    title = item.find_element_by_css_selector(\".itemname\").text\n",
    "    link = item.find_element_by_css_selector(\".itemname\").get_attribute(\"href\")\n",
    "    o_price = item.find_element_by_css_selector(\".o-price\").text[:-1]\n",
    "    s_price = item.find_element_by_css_selector(\n",
    "        \".s-price\").text.split(\" \")[0][:-1]\n",
    "\n",
    "    data = {\n",
    "        \"title\": title,\n",
    "        \"link\": link,\n",
    "        \"o_price\": o_price,\n",
    "        \"s_price\": s_price,\n",
    "    }\n",
    "\n",
    "    dict_list.append(data)"
   ]
  },
  {
   "cell_type": "code",
   "execution_count": 21,
   "id": "d9dfb3e0",
   "metadata": {},
   "outputs": [],
   "source": [
    "import pandas as pd"
   ]
  },
  {
   "cell_type": "code",
   "execution_count": 22,
   "id": "73b74a7d",
   "metadata": {},
   "outputs": [
    {
     "data": {
      "text/html": [
       "<div>\n",
       "<style scoped>\n",
       "    .dataframe tbody tr th:only-of-type {\n",
       "        vertical-align: middle;\n",
       "    }\n",
       "\n",
       "    .dataframe tbody tr th {\n",
       "        vertical-align: top;\n",
       "    }\n",
       "\n",
       "    .dataframe thead th {\n",
       "        text-align: right;\n",
       "    }\n",
       "</style>\n",
       "<table border=\"1\" class=\"dataframe\">\n",
       "  <thead>\n",
       "    <tr style=\"text-align: right;\">\n",
       "      <th></th>\n",
       "      <th>title</th>\n",
       "      <th>link</th>\n",
       "      <th>o_price</th>\n",
       "      <th>s_price</th>\n",
       "    </tr>\n",
       "  </thead>\n",
       "  <tbody>\n",
       "    <tr>\n",
       "      <th>195</th>\n",
       "      <td>향긋한 여름 털복숭아 4.5kg/20과내외</td>\n",
       "      <td>http://item.gmarket.co.kr/Item?goodscode=21607...</td>\n",
       "      <td></td>\n",
       "      <td>19,900</td>\n",
       "    </tr>\n",
       "    <tr>\n",
       "      <th>196</th>\n",
       "      <td>[베베앙]베베앙 아기물티슈 시그니처 대용량 100매 캡형 10팩</td>\n",
       "      <td>http://item.gmarket.co.kr/Item?goodscode=16044...</td>\n",
       "      <td>23,800</td>\n",
       "      <td>11,900</td>\n",
       "    </tr>\n",
       "    <tr>\n",
       "      <th>197</th>\n",
       "      <td>[페리오]어린이칫솔 쿠폰가13530원 2단계핑크퐁칫솔20입+사은품</td>\n",
       "      <td>http://item.gmarket.co.kr/Item?goodscode=17038...</td>\n",
       "      <td>20,100</td>\n",
       "      <td>17,900</td>\n",
       "    </tr>\n",
       "    <tr>\n",
       "      <th>198</th>\n",
       "      <td>수퍼맘스토리카페/재밌고 기억하기 쉽게 가르쳐주는/미국초등수학교과서/맥그로힐/McGr...</td>\n",
       "      <td>http://item.gmarket.co.kr/Item?goodscode=21923...</td>\n",
       "      <td>68,000</td>\n",
       "      <td>48,800</td>\n",
       "    </tr>\n",
       "    <tr>\n",
       "      <th>199</th>\n",
       "      <td>[구글플레이](카드가능) 기프트코드 20만원 / 구글 기프트카드</td>\n",
       "      <td>http://item.gmarket.co.kr/Item?goodscode=16552...</td>\n",
       "      <td>200,000</td>\n",
       "      <td>190,000</td>\n",
       "    </tr>\n",
       "  </tbody>\n",
       "</table>\n",
       "</div>"
      ],
      "text/plain": [
       "                                                 title  \\\n",
       "195                            향긋한 여름 털복숭아 4.5kg/20과내외   \n",
       "196                [베베앙]베베앙 아기물티슈 시그니처 대용량 100매 캡형 10팩   \n",
       "197               [페리오]어린이칫솔 쿠폰가13530원 2단계핑크퐁칫솔20입+사은품   \n",
       "198  수퍼맘스토리카페/재밌고 기억하기 쉽게 가르쳐주는/미국초등수학교과서/맥그로힐/McGr...   \n",
       "199                [구글플레이](카드가능) 기프트코드 20만원 / 구글 기프트카드   \n",
       "\n",
       "                                                  link  o_price  s_price  \n",
       "195  http://item.gmarket.co.kr/Item?goodscode=21607...            19,900  \n",
       "196  http://item.gmarket.co.kr/Item?goodscode=16044...   23,800   11,900  \n",
       "197  http://item.gmarket.co.kr/Item?goodscode=17038...   20,100   17,900  \n",
       "198  http://item.gmarket.co.kr/Item?goodscode=21923...   68,000   48,800  \n",
       "199  http://item.gmarket.co.kr/Item?goodscode=16552...  200,000  190,000  "
      ]
     },
     "execution_count": 22,
     "metadata": {},
     "output_type": "execute_result"
    }
   ],
   "source": [
    "df =    pd.DataFrame(dict_list)\n",
    "df.tail()"
   ]
  },
  {
   "cell_type": "code",
   "execution_count": 24,
   "id": "75529514",
   "metadata": {},
   "outputs": [],
   "source": [
    "nodata_indexs =    df[\"o_price\"] ==    \"\""
   ]
  },
  {
   "cell_type": "code",
   "execution_count": 25,
   "id": "a50e298e",
   "metadata": {},
   "outputs": [
    {
     "data": {
      "text/plain": [
       "185    \n",
       "189    \n",
       "191    \n",
       "192    \n",
       "195    \n",
       "Name: o_price, dtype: object"
      ]
     },
     "execution_count": 25,
     "metadata": {},
     "output_type": "execute_result"
    }
   ],
   "source": [
    "df[\"o_price\"][nodata_indexs].tail()"
   ]
  },
  {
   "cell_type": "code",
   "execution_count": 26,
   "id": "1b092811",
   "metadata": {},
   "outputs": [
    {
     "data": {
      "text/plain": [
       "185     56,500\n",
       "189      5,990\n",
       "191     30,900\n",
       "192    149,000\n",
       "195     19,900\n",
       "Name: s_price, dtype: object"
      ]
     },
     "execution_count": 26,
     "metadata": {},
     "output_type": "execute_result"
    }
   ],
   "source": [
    "df[\"s_price\"][nodata_indexs].tail()"
   ]
  },
  {
   "cell_type": "code",
   "execution_count": 27,
   "id": "d74c61a4",
   "metadata": {},
   "outputs": [
    {
     "data": {
      "text/html": [
       "<div>\n",
       "<style scoped>\n",
       "    .dataframe tbody tr th:only-of-type {\n",
       "        vertical-align: middle;\n",
       "    }\n",
       "\n",
       "    .dataframe tbody tr th {\n",
       "        vertical-align: top;\n",
       "    }\n",
       "\n",
       "    .dataframe thead th {\n",
       "        text-align: right;\n",
       "    }\n",
       "</style>\n",
       "<table border=\"1\" class=\"dataframe\">\n",
       "  <thead>\n",
       "    <tr style=\"text-align: right;\">\n",
       "      <th></th>\n",
       "      <th>title</th>\n",
       "      <th>link</th>\n",
       "      <th>o_price</th>\n",
       "      <th>s_price</th>\n",
       "    </tr>\n",
       "  </thead>\n",
       "  <tbody>\n",
       "    <tr>\n",
       "      <th>185</th>\n",
       "      <td>윤쌀 10kg+10kg 쌀 20년산 (박스 포장)</td>\n",
       "      <td>http://item.gmarket.co.kr/Item?goodscode=18505...</td>\n",
       "      <td></td>\n",
       "      <td>56,500</td>\n",
       "    </tr>\n",
       "    <tr>\n",
       "      <th>189</th>\n",
       "      <td>(전단상품)온가족닭볶음탕용 1.2kg 팩</td>\n",
       "      <td>http://item.gmarket.co.kr/Item?goodscode=20446...</td>\n",
       "      <td></td>\n",
       "      <td>5,990</td>\n",
       "    </tr>\n",
       "    <tr>\n",
       "      <th>191</th>\n",
       "      <td>비비고 만두 총 10팩(왕교자X2+김치왕교자X2+매운왕교자X2+고기만두X2+김치만</td>\n",
       "      <td>http://item.gmarket.co.kr/Item?goodscode=21251...</td>\n",
       "      <td></td>\n",
       "      <td>30,900</td>\n",
       "    </tr>\n",
       "    <tr>\n",
       "      <th>192</th>\n",
       "      <td>[삼성전자]7%할인 갤럭시버즈2+케이스+CU8천원+경품EVENT</td>\n",
       "      <td>http://item.gmarket.co.kr/Item?goodscode=21898...</td>\n",
       "      <td></td>\n",
       "      <td>149,000</td>\n",
       "    </tr>\n",
       "    <tr>\n",
       "      <th>195</th>\n",
       "      <td>향긋한 여름 털복숭아 4.5kg/20과내외</td>\n",
       "      <td>http://item.gmarket.co.kr/Item?goodscode=21607...</td>\n",
       "      <td></td>\n",
       "      <td>19,900</td>\n",
       "    </tr>\n",
       "  </tbody>\n",
       "</table>\n",
       "</div>"
      ],
      "text/plain": [
       "                                             title  \\\n",
       "185                    윤쌀 10kg+10kg 쌀 20년산 (박스 포장)   \n",
       "189                         (전단상품)온가족닭볶음탕용 1.2kg 팩   \n",
       "191  비비고 만두 총 10팩(왕교자X2+김치왕교자X2+매운왕교자X2+고기만두X2+김치만   \n",
       "192            [삼성전자]7%할인 갤럭시버즈2+케이스+CU8천원+경품EVENT   \n",
       "195                        향긋한 여름 털복숭아 4.5kg/20과내외   \n",
       "\n",
       "                                                  link o_price  s_price  \n",
       "185  http://item.gmarket.co.kr/Item?goodscode=18505...           56,500  \n",
       "189  http://item.gmarket.co.kr/Item?goodscode=20446...            5,990  \n",
       "191  http://item.gmarket.co.kr/Item?goodscode=21251...           30,900  \n",
       "192  http://item.gmarket.co.kr/Item?goodscode=21898...          149,000  \n",
       "195  http://item.gmarket.co.kr/Item?goodscode=21607...           19,900  "
      ]
     },
     "execution_count": 27,
     "metadata": {},
     "output_type": "execute_result"
    }
   ],
   "source": [
    "df[nodata_indexs].tail()"
   ]
  },
  {
   "cell_type": "code",
   "execution_count": 28,
   "id": "e1d0a36d",
   "metadata": {},
   "outputs": [],
   "source": [
    "df[\"o_price\"][nodata_indexs] =    df[\"s_price\"][nodata_indexs]"
   ]
  },
  {
   "cell_type": "code",
   "execution_count": 29,
   "id": "745002d9",
   "metadata": {},
   "outputs": [
    {
     "data": {
      "text/html": [
       "<div>\n",
       "<style scoped>\n",
       "    .dataframe tbody tr th:only-of-type {\n",
       "        vertical-align: middle;\n",
       "    }\n",
       "\n",
       "    .dataframe tbody tr th {\n",
       "        vertical-align: top;\n",
       "    }\n",
       "\n",
       "    .dataframe thead th {\n",
       "        text-align: right;\n",
       "    }\n",
       "</style>\n",
       "<table border=\"1\" class=\"dataframe\">\n",
       "  <thead>\n",
       "    <tr style=\"text-align: right;\">\n",
       "      <th></th>\n",
       "      <th>title</th>\n",
       "      <th>link</th>\n",
       "      <th>o_price</th>\n",
       "      <th>s_price</th>\n",
       "    </tr>\n",
       "  </thead>\n",
       "  <tbody>\n",
       "    <tr>\n",
       "      <th>185</th>\n",
       "      <td>윤쌀 10kg+10kg 쌀 20년산 (박스 포장)</td>\n",
       "      <td>http://item.gmarket.co.kr/Item?goodscode=18505...</td>\n",
       "      <td>56,500</td>\n",
       "      <td>56,500</td>\n",
       "    </tr>\n",
       "    <tr>\n",
       "      <th>189</th>\n",
       "      <td>(전단상품)온가족닭볶음탕용 1.2kg 팩</td>\n",
       "      <td>http://item.gmarket.co.kr/Item?goodscode=20446...</td>\n",
       "      <td>5,990</td>\n",
       "      <td>5,990</td>\n",
       "    </tr>\n",
       "    <tr>\n",
       "      <th>191</th>\n",
       "      <td>비비고 만두 총 10팩(왕교자X2+김치왕교자X2+매운왕교자X2+고기만두X2+김치만</td>\n",
       "      <td>http://item.gmarket.co.kr/Item?goodscode=21251...</td>\n",
       "      <td>30,900</td>\n",
       "      <td>30,900</td>\n",
       "    </tr>\n",
       "    <tr>\n",
       "      <th>192</th>\n",
       "      <td>[삼성전자]7%할인 갤럭시버즈2+케이스+CU8천원+경품EVENT</td>\n",
       "      <td>http://item.gmarket.co.kr/Item?goodscode=21898...</td>\n",
       "      <td>149,000</td>\n",
       "      <td>149,000</td>\n",
       "    </tr>\n",
       "    <tr>\n",
       "      <th>195</th>\n",
       "      <td>향긋한 여름 털복숭아 4.5kg/20과내외</td>\n",
       "      <td>http://item.gmarket.co.kr/Item?goodscode=21607...</td>\n",
       "      <td>19,900</td>\n",
       "      <td>19,900</td>\n",
       "    </tr>\n",
       "  </tbody>\n",
       "</table>\n",
       "</div>"
      ],
      "text/plain": [
       "                                             title  \\\n",
       "185                    윤쌀 10kg+10kg 쌀 20년산 (박스 포장)   \n",
       "189                         (전단상품)온가족닭볶음탕용 1.2kg 팩   \n",
       "191  비비고 만두 총 10팩(왕교자X2+김치왕교자X2+매운왕교자X2+고기만두X2+김치만   \n",
       "192            [삼성전자]7%할인 갤럭시버즈2+케이스+CU8천원+경품EVENT   \n",
       "195                        향긋한 여름 털복숭아 4.5kg/20과내외   \n",
       "\n",
       "                                                  link  o_price  s_price  \n",
       "185  http://item.gmarket.co.kr/Item?goodscode=18505...   56,500   56,500  \n",
       "189  http://item.gmarket.co.kr/Item?goodscode=20446...    5,990    5,990  \n",
       "191  http://item.gmarket.co.kr/Item?goodscode=21251...   30,900   30,900  \n",
       "192  http://item.gmarket.co.kr/Item?goodscode=21898...  149,000  149,000  \n",
       "195  http://item.gmarket.co.kr/Item?goodscode=21607...   19,900   19,900  "
      ]
     },
     "execution_count": 29,
     "metadata": {},
     "output_type": "execute_result"
    }
   ],
   "source": [
    "df.loc[nodata_indexs].tail()"
   ]
  },
  {
   "cell_type": "code",
   "execution_count": 30,
   "id": "2325e4eb",
   "metadata": {},
   "outputs": [
    {
     "data": {
      "text/html": [
       "<div>\n",
       "<style scoped>\n",
       "    .dataframe tbody tr th:only-of-type {\n",
       "        vertical-align: middle;\n",
       "    }\n",
       "\n",
       "    .dataframe tbody tr th {\n",
       "        vertical-align: top;\n",
       "    }\n",
       "\n",
       "    .dataframe thead th {\n",
       "        text-align: right;\n",
       "    }\n",
       "</style>\n",
       "<table border=\"1\" class=\"dataframe\">\n",
       "  <thead>\n",
       "    <tr style=\"text-align: right;\">\n",
       "      <th></th>\n",
       "      <th>title</th>\n",
       "      <th>link</th>\n",
       "      <th>o_price</th>\n",
       "      <th>s_price</th>\n",
       "    </tr>\n",
       "  </thead>\n",
       "  <tbody>\n",
       "    <tr>\n",
       "      <th>195</th>\n",
       "      <td>향긋한 여름 털복숭아 4.5kg/20과내외</td>\n",
       "      <td>http://item.gmarket.co.kr/Item?goodscode=21607...</td>\n",
       "      <td>19,900</td>\n",
       "      <td>19,900</td>\n",
       "    </tr>\n",
       "    <tr>\n",
       "      <th>196</th>\n",
       "      <td>[베베앙]베베앙 아기물티슈 시그니처 대용량 100매 캡형 10팩</td>\n",
       "      <td>http://item.gmarket.co.kr/Item?goodscode=16044...</td>\n",
       "      <td>23,800</td>\n",
       "      <td>11,900</td>\n",
       "    </tr>\n",
       "    <tr>\n",
       "      <th>197</th>\n",
       "      <td>[페리오]어린이칫솔 쿠폰가13530원 2단계핑크퐁칫솔20입+사은품</td>\n",
       "      <td>http://item.gmarket.co.kr/Item?goodscode=17038...</td>\n",
       "      <td>20,100</td>\n",
       "      <td>17,900</td>\n",
       "    </tr>\n",
       "    <tr>\n",
       "      <th>198</th>\n",
       "      <td>수퍼맘스토리카페/재밌고 기억하기 쉽게 가르쳐주는/미국초등수학교과서/맥그로힐/McGr...</td>\n",
       "      <td>http://item.gmarket.co.kr/Item?goodscode=21923...</td>\n",
       "      <td>68,000</td>\n",
       "      <td>48,800</td>\n",
       "    </tr>\n",
       "    <tr>\n",
       "      <th>199</th>\n",
       "      <td>[구글플레이](카드가능) 기프트코드 20만원 / 구글 기프트카드</td>\n",
       "      <td>http://item.gmarket.co.kr/Item?goodscode=16552...</td>\n",
       "      <td>200,000</td>\n",
       "      <td>190,000</td>\n",
       "    </tr>\n",
       "  </tbody>\n",
       "</table>\n",
       "</div>"
      ],
      "text/plain": [
       "                                                 title  \\\n",
       "195                            향긋한 여름 털복숭아 4.5kg/20과내외   \n",
       "196                [베베앙]베베앙 아기물티슈 시그니처 대용량 100매 캡형 10팩   \n",
       "197               [페리오]어린이칫솔 쿠폰가13530원 2단계핑크퐁칫솔20입+사은품   \n",
       "198  수퍼맘스토리카페/재밌고 기억하기 쉽게 가르쳐주는/미국초등수학교과서/맥그로힐/McGr...   \n",
       "199                [구글플레이](카드가능) 기프트코드 20만원 / 구글 기프트카드   \n",
       "\n",
       "                                                  link  o_price  s_price  \n",
       "195  http://item.gmarket.co.kr/Item?goodscode=21607...   19,900   19,900  \n",
       "196  http://item.gmarket.co.kr/Item?goodscode=16044...   23,800   11,900  \n",
       "197  http://item.gmarket.co.kr/Item?goodscode=17038...   20,100   17,900  \n",
       "198  http://item.gmarket.co.kr/Item?goodscode=21923...   68,000   48,800  \n",
       "199  http://item.gmarket.co.kr/Item?goodscode=16552...  200,000  190,000  "
      ]
     },
     "execution_count": 30,
     "metadata": {},
     "output_type": "execute_result"
    }
   ],
   "source": [
    "df.tail()"
   ]
  },
  {
   "cell_type": "code",
   "execution_count": 31,
   "id": "4a97779b",
   "metadata": {},
   "outputs": [],
   "source": [
    "df[\"o_price\"] =    df[\"o_price\"].apply(\n",
    "lambda    price: price.replace(\",\", \"\")).astype(\"int\")"
   ]
  },
  {
   "cell_type": "code",
   "execution_count": 32,
   "id": "52889e8a",
   "metadata": {},
   "outputs": [],
   "source": [
    "df[\"s_price\"] =    df[\"s_price\"].apply(\n",
    "lambda    price: price.replace(\",\", \"\")).astype(\"int\")"
   ]
  },
  {
   "cell_type": "code",
   "execution_count": 33,
   "id": "c18c2152",
   "metadata": {},
   "outputs": [],
   "source": [
    "df[\"sale_rate\"] =    round((1 -    df[\"s_price\"] /    df[\"o_price\"]) *    100, 2)"
   ]
  },
  {
   "cell_type": "code",
   "execution_count": 34,
   "id": "a3ac7f53",
   "metadata": {},
   "outputs": [
    {
     "data": {
      "text/html": [
       "<div>\n",
       "<style scoped>\n",
       "    .dataframe tbody tr th:only-of-type {\n",
       "        vertical-align: middle;\n",
       "    }\n",
       "\n",
       "    .dataframe tbody tr th {\n",
       "        vertical-align: top;\n",
       "    }\n",
       "\n",
       "    .dataframe thead th {\n",
       "        text-align: right;\n",
       "    }\n",
       "</style>\n",
       "<table border=\"1\" class=\"dataframe\">\n",
       "  <thead>\n",
       "    <tr style=\"text-align: right;\">\n",
       "      <th></th>\n",
       "      <th>title</th>\n",
       "      <th>link</th>\n",
       "      <th>o_price</th>\n",
       "      <th>s_price</th>\n",
       "      <th>sale_rate</th>\n",
       "    </tr>\n",
       "  </thead>\n",
       "  <tbody>\n",
       "    <tr>\n",
       "      <th>195</th>\n",
       "      <td>향긋한 여름 털복숭아 4.5kg/20과내외</td>\n",
       "      <td>http://item.gmarket.co.kr/Item?goodscode=21607...</td>\n",
       "      <td>19900</td>\n",
       "      <td>19900</td>\n",
       "      <td>0.00</td>\n",
       "    </tr>\n",
       "    <tr>\n",
       "      <th>196</th>\n",
       "      <td>[베베앙]베베앙 아기물티슈 시그니처 대용량 100매 캡형 10팩</td>\n",
       "      <td>http://item.gmarket.co.kr/Item?goodscode=16044...</td>\n",
       "      <td>23800</td>\n",
       "      <td>11900</td>\n",
       "      <td>50.00</td>\n",
       "    </tr>\n",
       "    <tr>\n",
       "      <th>197</th>\n",
       "      <td>[페리오]어린이칫솔 쿠폰가13530원 2단계핑크퐁칫솔20입+사은품</td>\n",
       "      <td>http://item.gmarket.co.kr/Item?goodscode=17038...</td>\n",
       "      <td>20100</td>\n",
       "      <td>17900</td>\n",
       "      <td>10.95</td>\n",
       "    </tr>\n",
       "    <tr>\n",
       "      <th>198</th>\n",
       "      <td>수퍼맘스토리카페/재밌고 기억하기 쉽게 가르쳐주는/미국초등수학교과서/맥그로힐/McGr...</td>\n",
       "      <td>http://item.gmarket.co.kr/Item?goodscode=21923...</td>\n",
       "      <td>68000</td>\n",
       "      <td>48800</td>\n",
       "      <td>28.24</td>\n",
       "    </tr>\n",
       "    <tr>\n",
       "      <th>199</th>\n",
       "      <td>[구글플레이](카드가능) 기프트코드 20만원 / 구글 기프트카드</td>\n",
       "      <td>http://item.gmarket.co.kr/Item?goodscode=16552...</td>\n",
       "      <td>200000</td>\n",
       "      <td>190000</td>\n",
       "      <td>5.00</td>\n",
       "    </tr>\n",
       "  </tbody>\n",
       "</table>\n",
       "</div>"
      ],
      "text/plain": [
       "                                                 title  \\\n",
       "195                            향긋한 여름 털복숭아 4.5kg/20과내외   \n",
       "196                [베베앙]베베앙 아기물티슈 시그니처 대용량 100매 캡형 10팩   \n",
       "197               [페리오]어린이칫솔 쿠폰가13530원 2단계핑크퐁칫솔20입+사은품   \n",
       "198  수퍼맘스토리카페/재밌고 기억하기 쉽게 가르쳐주는/미국초등수학교과서/맥그로힐/McGr...   \n",
       "199                [구글플레이](카드가능) 기프트코드 20만원 / 구글 기프트카드   \n",
       "\n",
       "                                                  link  o_price  s_price  \\\n",
       "195  http://item.gmarket.co.kr/Item?goodscode=21607...    19900    19900   \n",
       "196  http://item.gmarket.co.kr/Item?goodscode=16044...    23800    11900   \n",
       "197  http://item.gmarket.co.kr/Item?goodscode=17038...    20100    17900   \n",
       "198  http://item.gmarket.co.kr/Item?goodscode=21923...    68000    48800   \n",
       "199  http://item.gmarket.co.kr/Item?goodscode=16552...   200000   190000   \n",
       "\n",
       "     sale_rate  \n",
       "195       0.00  \n",
       "196      50.00  \n",
       "197      10.95  \n",
       "198      28.24  \n",
       "199       5.00  "
      ]
     },
     "execution_count": 34,
     "metadata": {},
     "output_type": "execute_result"
    }
   ],
   "source": [
    "df.tail()"
   ]
  },
  {
   "cell_type": "code",
   "execution_count": 36,
   "id": "dff9025a",
   "metadata": {},
   "outputs": [
    {
     "data": {
      "text/html": [
       "<div>\n",
       "<style scoped>\n",
       "    .dataframe tbody tr th:only-of-type {\n",
       "        vertical-align: middle;\n",
       "    }\n",
       "\n",
       "    .dataframe tbody tr th {\n",
       "        vertical-align: top;\n",
       "    }\n",
       "\n",
       "    .dataframe thead th {\n",
       "        text-align: right;\n",
       "    }\n",
       "</style>\n",
       "<table border=\"1\" class=\"dataframe\">\n",
       "  <thead>\n",
       "    <tr style=\"text-align: right;\">\n",
       "      <th></th>\n",
       "      <th>title</th>\n",
       "      <th>link</th>\n",
       "      <th>o_price</th>\n",
       "      <th>s_price</th>\n",
       "      <th>sale_rate</th>\n",
       "    </tr>\n",
       "  </thead>\n",
       "  <tbody>\n",
       "    <tr>\n",
       "      <th>0</th>\n",
       "      <td>엄마옷로즈맘 시즌오프세일 인견5060중년여성의류</td>\n",
       "      <td>http://item.gmarket.co.kr/Item?goodscode=77658...</td>\n",
       "      <td>43000</td>\n",
       "      <td>12900</td>\n",
       "      <td>70.0</td>\n",
       "    </tr>\n",
       "    <tr>\n",
       "      <th>1</th>\n",
       "      <td>[엄지한복]20%+15% 엄지한복 남아/여아 균일가+복주머니 증정</td>\n",
       "      <td>http://item.gmarket.co.kr/Item?goodscode=16013...</td>\n",
       "      <td>130000</td>\n",
       "      <td>39000</td>\n",
       "      <td>70.0</td>\n",
       "    </tr>\n",
       "    <tr>\n",
       "      <th>2</th>\n",
       "      <td>[벨레다]벨레다공식총판 벨레다 어린이치약 50ml 6개 +증정품</td>\n",
       "      <td>http://item.gmarket.co.kr/Item?goodscode=19039...</td>\n",
       "      <td>143330</td>\n",
       "      <td>43000</td>\n",
       "      <td>70.0</td>\n",
       "    </tr>\n",
       "    <tr>\n",
       "      <th>3</th>\n",
       "      <td>데이데이 가을블라우스/맨투맨/팬츠/니트/가디건/팬츠</td>\n",
       "      <td>http://item.gmarket.co.kr/Item?goodscode=15706...</td>\n",
       "      <td>33000</td>\n",
       "      <td>9900</td>\n",
       "      <td>70.0</td>\n",
       "    </tr>\n",
       "    <tr>\n",
       "      <th>4</th>\n",
       "      <td>[캔디베이비]70%할인 시즌오프 유아동내의/내복/실내복</td>\n",
       "      <td>http://item.gmarket.co.kr/Item?goodscode=43858...</td>\n",
       "      <td>19000</td>\n",
       "      <td>5700</td>\n",
       "      <td>70.0</td>\n",
       "    </tr>\n",
       "  </tbody>\n",
       "</table>\n",
       "</div>"
      ],
      "text/plain": [
       "                                  title  \\\n",
       "0            엄마옷로즈맘 시즌오프세일 인견5060중년여성의류   \n",
       "1  [엄지한복]20%+15% 엄지한복 남아/여아 균일가+복주머니 증정   \n",
       "2   [벨레다]벨레다공식총판 벨레다 어린이치약 50ml 6개 +증정품   \n",
       "3          데이데이 가을블라우스/맨투맨/팬츠/니트/가디건/팬츠   \n",
       "4        [캔디베이비]70%할인 시즌오프 유아동내의/내복/실내복   \n",
       "\n",
       "                                                link  o_price  s_price  \\\n",
       "0  http://item.gmarket.co.kr/Item?goodscode=77658...    43000    12900   \n",
       "1  http://item.gmarket.co.kr/Item?goodscode=16013...   130000    39000   \n",
       "2  http://item.gmarket.co.kr/Item?goodscode=19039...   143330    43000   \n",
       "3  http://item.gmarket.co.kr/Item?goodscode=15706...    33000     9900   \n",
       "4  http://item.gmarket.co.kr/Item?goodscode=43858...    19000     5700   \n",
       "\n",
       "   sale_rate  \n",
       "0       70.0  \n",
       "1       70.0  \n",
       "2       70.0  \n",
       "3       70.0  \n",
       "4       70.0  "
      ]
     },
     "execution_count": 36,
     "metadata": {},
     "output_type": "execute_result"
    }
   ],
   "source": [
    "df[df[\"sale_rate\"] >    50].sort_values(\"sale_rate\", ascending= False ).reset_index(drop= True).head()"
   ]
  },
  {
   "cell_type": "code",
   "execution_count": null,
   "id": "19f4ca66",
   "metadata": {},
   "outputs": [],
   "source": []
  }
 ],
 "metadata": {
  "kernelspec": {
   "display_name": "Python 3",
   "language": "python",
   "name": "python3"
  },
  "language_info": {
   "codemirror_mode": {
    "name": "ipython",
    "version": 3
   },
   "file_extension": ".py",
   "mimetype": "text/x-python",
   "name": "python",
   "nbconvert_exporter": "python",
   "pygments_lexer": "ipython3",
   "version": "3.8.8"
  }
 },
 "nbformat": 4,
 "nbformat_minor": 5
}
