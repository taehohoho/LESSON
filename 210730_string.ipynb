{
  "nbformat": 4,
  "nbformat_minor": 0,
  "metadata": {
    "colab": {
      "name": "210730_string.ipynb",
      "provenance": [],
      "collapsed_sections": [],
      "authorship_tag": "ABX9TyMH2sr2UxUno6FUijH5cjy3",
      "include_colab_link": true
    },
    "kernelspec": {
      "name": "python3",
      "display_name": "Python 3"
    },
    "language_info": {
      "name": "python"
    }
  },
  "cells": [
    {
      "cell_type": "markdown",
      "metadata": {
        "id": "view-in-github",
        "colab_type": "text"
      },
      "source": [
        "<a href=\"https://colab.research.google.com/github/taehohoho/LESSON/blob/master/210730_string.ipynb\" target=\"_parent\"><img src=\"https://colab.research.google.com/assets/colab-badge.svg\" alt=\"Open In Colab\"/></a>"
      ]
    },
    {
      "cell_type": "code",
      "metadata": {
        "colab": {
          "base_uri": "https://localhost:8080/"
        },
        "id": "RCnzOYCdPyjt",
        "outputId": "c05ad8c7-0691-48c1-e8f0-03676f06d83e"
      },
      "source": [
        "coffee_menu_str = '에스프레소, 아메리카노, 카페라떼, 카푸치노'\n",
        "coffee_menu_str.split(',')"
      ],
      "execution_count": null,
      "outputs": [
        {
          "output_type": "execute_result",
          "data": {
            "text/plain": [
              "['에스프레소', ' 아메리카노', ' 카페라떼', ' 카푸치노']"
            ]
          },
          "metadata": {
            "tags": []
          },
          "execution_count": 1
        }
      ]
    },
    {
      "cell_type": "code",
      "metadata": {
        "colab": {
          "base_uri": "https://localhost:8080/"
        },
        "id": "levjwjjoQI6H",
        "outputId": "5cebddc0-5184-4438-e957-4432b0dbee80"
      },
      "source": [
        "'에스프레소, 아메리카노, 카페라떼, 카푸치노'.split(',')"
      ],
      "execution_count": null,
      "outputs": [
        {
          "output_type": "execute_result",
          "data": {
            "text/plain": [
              "['에스프레소', ' 아메리카노', ' 카페라떼', ' 카푸치노']"
            ]
          },
          "metadata": {
            "tags": []
          },
          "execution_count": 2
        }
      ]
    },
    {
      "cell_type": "code",
      "metadata": {
        "colab": {
          "base_uri": "https://localhost:8080/"
        },
        "id": "Qy_mN5XqQOKx",
        "outputId": "808bd798-4fc6-485b-821f-564147b3e9c4"
      },
      "source": [
        "'에스프레소, 아메리카노, 카페라떼, 카푸치노'.split(' ')"
      ],
      "execution_count": null,
      "outputs": [
        {
          "output_type": "execute_result",
          "data": {
            "text/plain": [
              "['에스프레소,', '아메리카노,', '카페라떼,', '카푸치노']"
            ]
          },
          "metadata": {
            "tags": []
          },
          "execution_count": 3
        }
      ]
    },
    {
      "cell_type": "code",
      "metadata": {
        "colab": {
          "base_uri": "https://localhost:8080/"
        },
        "id": "G1ps5HHHQP1x",
        "outputId": "e397d8c0-04c1-4651-c894-dc604553c166"
      },
      "source": [
        "'에스프레소 아메리카노 카페라떼 카푸치노'.split()"
      ],
      "execution_count": null,
      "outputs": [
        {
          "output_type": "execute_result",
          "data": {
            "text/plain": [
              "['에스프레소', '아메리카노', '카페라떼', '카푸치노']"
            ]
          },
          "metadata": {
            "tags": []
          },
          "execution_count": 4
        }
      ]
    },
    {
      "cell_type": "code",
      "metadata": {
        "colab": {
          "base_uri": "https://localhost:8080/"
        },
        "id": "lqWYdJ1qQTk9",
        "outputId": "e3110e2d-d8c7-4a41-ee98-c79ff7575b56"
      },
      "source": [
        "'     에스프레소 \\n\\n 아메리카노 \\n 카페라떼, 카푸치노 \\n\\n'.split()"
      ],
      "execution_count": null,
      "outputs": [
        {
          "output_type": "execute_result",
          "data": {
            "text/plain": [
              "['에스프레소', '아메리카노', '카페라떼,', '카푸치노']"
            ]
          },
          "metadata": {
            "tags": []
          },
          "execution_count": 5
        }
      ]
    },
    {
      "cell_type": "code",
      "metadata": {
        "colab": {
          "base_uri": "https://localhost:8080/"
        },
        "id": "cRt2Jtm1QafS",
        "outputId": "28d988ac-8141-4bf8-f706-6727cd9b0051"
      },
      "source": [
        "'에스프레소 아메리카노 카페라떼 카푸치노'.split(maxsplit=2)"
      ],
      "execution_count": null,
      "outputs": [
        {
          "output_type": "execute_result",
          "data": {
            "text/plain": [
              "['에스프레소', '아메리카노', '카페라떼 카푸치노']"
            ]
          },
          "metadata": {
            "tags": []
          },
          "execution_count": 7
        }
      ]
    },
    {
      "cell_type": "code",
      "metadata": {
        "colab": {
          "base_uri": "https://localhost:8080/"
        },
        "id": "bvz0JKYKQetD",
        "outputId": "33257e6c-63ad-4fec-9079-3fe54bcdc0ce"
      },
      "source": [
        "phone_number = \"+82-01-2345-6789\"   # 국가 번호가 포함된 전화번호\n",
        "split_num = phone_number.split(\"-\", 1) # 국가 번호와 나머지 번호 분리\n",
        "\n",
        "print(split_num)\n",
        "print(\"국내전화번호: {0}\".format(split_num[1]))"
      ],
      "execution_count": null,
      "outputs": [
        {
          "output_type": "stream",
          "text": [
            "['+82', '01-2345-6789']\n",
            "국내전화번호: 01-2345-6789\n"
          ],
          "name": "stdout"
        }
      ]
    },
    {
      "cell_type": "code",
      "metadata": {
        "colab": {
          "base_uri": "https://localhost:8080/",
          "height": 35
        },
        "id": "Ohdbu2u3RCmi",
        "outputId": "a2f46a79-1f3b-4387-8e69-665ec4a2fa0e"
      },
      "source": [
        "\"aaaaPythonaaa\".strip('a')"
      ],
      "execution_count": null,
      "outputs": [
        {
          "output_type": "execute_result",
          "data": {
            "application/vnd.google.colaboratory.intrinsic+json": {
              "type": "string"
            },
            "text/plain": [
              "'Python'"
            ]
          },
          "metadata": {
            "tags": []
          },
          "execution_count": 9
        }
      ]
    },
    {
      "cell_type": "code",
      "metadata": {
        "colab": {
          "base_uri": "https://localhost:8080/",
          "height": 35
        },
        "id": "N5boNMh05osU",
        "outputId": "d5d75428-8f17-4d35-c537-0f1baa63d2e7"
      },
      "source": [
        "test_str = \"aaabbPythonbbbaa\"\n",
        "temp1 = test_str.strip('a') # 문자열 앞뒤의 'a' 제거\n",
        "temp1"
      ],
      "execution_count": null,
      "outputs": [
        {
          "output_type": "execute_result",
          "data": {
            "application/vnd.google.colaboratory.intrinsic+json": {
              "type": "string"
            },
            "text/plain": [
              "'bbPythonbbb'"
            ]
          },
          "metadata": {
            "tags": []
          },
          "execution_count": 12
        }
      ]
    },
    {
      "cell_type": "code",
      "metadata": {
        "colab": {
          "base_uri": "https://localhost:8080/",
          "height": 35
        },
        "id": "qELVVTNf5yJ5",
        "outputId": "adf9c4c6-0660-4139-f174-036dfa8dbbcd"
      },
      "source": [
        "temp1.strip('b') #  문자열 앞뒤의 'b' 제거"
      ],
      "execution_count": null,
      "outputs": [
        {
          "output_type": "execute_result",
          "data": {
            "application/vnd.google.colaboratory.intrinsic+json": {
              "type": "string"
            },
            "text/plain": [
              "'Python'"
            ]
          },
          "metadata": {
            "tags": []
          },
          "execution_count": 13
        }
      ]
    },
    {
      "cell_type": "code",
      "metadata": {
        "colab": {
          "base_uri": "https://localhost:8080/",
          "height": 35
        },
        "id": "7WVmp5uo59Qh",
        "outputId": "aa7392ec-7d50-4052-94d2-d56f1e06cbf9"
      },
      "source": [
        "test_str.strip('ab') # 문자열 앞뒤의 'a'와 'b'제거"
      ],
      "execution_count": null,
      "outputs": [
        {
          "output_type": "execute_result",
          "data": {
            "application/vnd.google.colaboratory.intrinsic+json": {
              "type": "string"
            },
            "text/plain": [
              "'Python'"
            ]
          },
          "metadata": {
            "tags": []
          },
          "execution_count": 14
        }
      ]
    },
    {
      "cell_type": "code",
      "metadata": {
        "colab": {
          "base_uri": "https://localhost:8080/",
          "height": 35
        },
        "id": "ymHjLrWu6DZ7",
        "outputId": "87cb29f5-0415-49f1-a70e-5c2d366d5f8b"
      },
      "source": [
        " test_str.strip('ba')"
      ],
      "execution_count": null,
      "outputs": [
        {
          "output_type": "execute_result",
          "data": {
            "application/vnd.google.colaboratory.intrinsic+json": {
              "type": "string"
            },
            "text/plain": [
              "'Python'"
            ]
          },
          "metadata": {
            "tags": []
          },
          "execution_count": 15
        }
      ]
    },
    {
      "cell_type": "code",
      "metadata": {
        "colab": {
          "base_uri": "https://localhost:8080/",
          "height": 35
        },
        "id": "wdt6H6R66F4U",
        "outputId": "92d32ffa-ac17-407c-c435-77fda7432781"
      },
      "source": [
        "test_str_multi = \"###***!!!##.... Python is powerful.!...  %%!#..   \"\n",
        "test_str_multi.strip('*.#! %')"
      ],
      "execution_count": null,
      "outputs": [
        {
          "output_type": "execute_result",
          "data": {
            "application/vnd.google.colaboratory.intrinsic+json": {
              "type": "string"
            },
            "text/plain": [
              "'Python is powerful'"
            ]
          },
          "metadata": {
            "tags": []
          },
          "execution_count": 17
        }
      ]
    },
    {
      "cell_type": "code",
      "metadata": {
        "colab": {
          "base_uri": "https://localhost:8080/",
          "height": 35
        },
        "id": "MXFe_NJy6cDB",
        "outputId": "f1300a36-6aa2-47b7-ce15-815abe0f2a73"
      },
      "source": [
        "test_str_multi.strip('%* !#.')"
      ],
      "execution_count": null,
      "outputs": [
        {
          "output_type": "execute_result",
          "data": {
            "application/vnd.google.colaboratory.intrinsic+json": {
              "type": "string"
            },
            "text/plain": [
              "'Python is powerful'"
            ]
          },
          "metadata": {
            "tags": []
          },
          "execution_count": 18
        }
      ]
    },
    {
      "cell_type": "code",
      "metadata": {
        "colab": {
          "base_uri": "https://localhost:8080/",
          "height": 35
        },
        "id": "0ZW3fdIR6n30",
        "outputId": "04302619-e7d5-400c-c9e3-4d7e08c12ae1"
      },
      "source": [
        "\"    Python    \".strip('  ')"
      ],
      "execution_count": null,
      "outputs": [
        {
          "output_type": "execute_result",
          "data": {
            "application/vnd.google.colaboratory.intrinsic+json": {
              "type": "string"
            },
            "text/plain": [
              "'Python'"
            ]
          },
          "metadata": {
            "tags": []
          },
          "execution_count": 19
        }
      ]
    },
    {
      "cell_type": "code",
      "metadata": {
        "colab": {
          "base_uri": "https://localhost:8080/",
          "height": 35
        },
        "id": "tz7GGT_x6rgX",
        "outputId": "6bf51043-c40d-4a30-c02a-288f80b8a1d3"
      },
      "source": [
        "\"\\n Python \\n\\n\".strip(' \\n')"
      ],
      "execution_count": null,
      "outputs": [
        {
          "output_type": "execute_result",
          "data": {
            "application/vnd.google.colaboratory.intrinsic+json": {
              "type": "string"
            },
            "text/plain": [
              "'Python'"
            ]
          },
          "metadata": {
            "tags": []
          },
          "execution_count": 20
        }
      ]
    },
    {
      "cell_type": "code",
      "metadata": {
        "colab": {
          "base_uri": "https://localhost:8080/",
          "height": 35
        },
        "id": "Dg8LHUAf6xDm",
        "outputId": "f36ebda9-4a26-4889-ec03-df355f1e86d1"
      },
      "source": [
        "'\\n Python  \\n\\n'.strip()"
      ],
      "execution_count": null,
      "outputs": [
        {
          "output_type": "execute_result",
          "data": {
            "application/vnd.google.colaboratory.intrinsic+json": {
              "type": "string"
            },
            "text/plain": [
              "'Python'"
            ]
          },
          "metadata": {
            "tags": []
          },
          "execution_count": 21
        }
      ]
    },
    {
      "cell_type": "code",
      "metadata": {
        "colab": {
          "base_uri": "https://localhost:8080/",
          "height": 35
        },
        "id": "AGORmcTt64iP",
        "outputId": "87943dee-3325-4c01-aaba-656b96a703a5"
      },
      "source": [
        "\"aaaBallaaa\".strip('a')"
      ],
      "execution_count": null,
      "outputs": [
        {
          "output_type": "execute_result",
          "data": {
            "application/vnd.google.colaboratory.intrinsic+json": {
              "type": "string"
            },
            "text/plain": [
              "'Ball'"
            ]
          },
          "metadata": {
            "tags": []
          },
          "execution_count": 22
        }
      ]
    },
    {
      "cell_type": "code",
      "metadata": {
        "colab": {
          "base_uri": "https://localhost:8080/",
          "height": 35
        },
        "id": "xjqm-16N673Q",
        "outputId": "969132c0-68c5-4283-ca14-de4b91b5fe9c"
      },
      "source": [
        "\"\\n This is very \\n  fast. \\n\\n\".strip()"
      ],
      "execution_count": null,
      "outputs": [
        {
          "output_type": "execute_result",
          "data": {
            "application/vnd.google.colaboratory.intrinsic+json": {
              "type": "string"
            },
            "text/plain": [
              "'This is very \\n  fast.'"
            ]
          },
          "metadata": {
            "tags": []
          },
          "execution_count": 24
        }
      ]
    },
    {
      "cell_type": "code",
      "metadata": {
        "colab": {
          "base_uri": "https://localhost:8080/"
        },
        "id": "OE-FyCg_7BUR",
        "outputId": "493bcd5d-49ac-4f1e-b997-6dfafcc3abfc"
      },
      "source": [
        "str_lr = \"0000Python is easy to learn.000\"\n",
        "print(str_lr.strip('0'))\n",
        "print(str_lr.lstrip('0'))\n",
        "print(str_lr.rstrip('0'))"
      ],
      "execution_count": null,
      "outputs": [
        {
          "output_type": "stream",
          "text": [
            "Python is easy to learn.\n",
            "Python is easy to learn.000\n",
            "0000Python is easy to learn.\n"
          ],
          "name": "stdout"
        }
      ]
    },
    {
      "cell_type": "code",
      "metadata": {
        "colab": {
          "base_uri": "https://localhost:8080/"
        },
        "id": "QMkIJNp57SCs",
        "outputId": "540a5ee7-defd-49b1-d3e6-a2d34a0bde4a"
      },
      "source": [
        "coffee_menu = \"   에스프레소, 아메리카노,     카페라떼      ,   카푸치노\"\n",
        "coffee_menu_list = coffee_menu.split(',')\n",
        "coffee_menu_list"
      ],
      "execution_count": null,
      "outputs": [
        {
          "output_type": "execute_result",
          "data": {
            "text/plain": [
              "['   에스프레소', ' 아메리카노', '     카페라떼      ', '   카푸치노']"
            ]
          },
          "metadata": {
            "tags": []
          },
          "execution_count": 28
        }
      ]
    },
    {
      "cell_type": "code",
      "metadata": {
        "colab": {
          "base_uri": "https://localhost:8080/"
        },
        "id": "sjCGbPpg7eNp",
        "outputId": "35995455-7975-4918-80cd-9baa52a2a8cd"
      },
      "source": [
        "coffee_list = [] # 빈 리스트 생성\n",
        "for coffee in coffee_menu_list:\n",
        "    temp = coffee.strip()   # 문자열의 공백 제거\n",
        "    coffee_list.append(temp)    # 리스트 변수에 공백이 제거된 문자열 추가\n",
        "\n",
        "print(coffee_list)  # 최종 문자열 리스트 출력"
      ],
      "execution_count": null,
      "outputs": [
        {
          "output_type": "stream",
          "text": [
            "['에스프레소', '아메리카노', '카페라떼', '카푸치노']\n"
          ],
          "name": "stdout"
        }
      ]
    },
    {
      "cell_type": "code",
      "metadata": {
        "colab": {
          "base_uri": "https://localhost:8080/"
        },
        "id": "ssmrEaEc8CXt",
        "outputId": "a9ae5721-e9fa-4123-ed40-0f2c1d553ba3"
      },
      "source": [
        "name1 = \"철수\"\n",
        "name2 = \"영미\"\n",
        "\n",
        "hello = \"님, 주소와 전화 번호를 입력해 주세요.\"\n",
        "print(name1 + hello)\n",
        "print(name2 + hello)"
      ],
      "execution_count": null,
      "outputs": [
        {
          "output_type": "stream",
          "text": [
            "철수님, 주소와 전화 번호를 입력해 주세요.\n",
            "영미님, 주소와 전화 번호를 입력해 주세요.\n"
          ],
          "name": "stdout"
        }
      ]
    },
    {
      "cell_type": "code",
      "metadata": {
        "colab": {
          "base_uri": "https://localhost:8080/"
        },
        "id": "K-iUwO41WZf2",
        "outputId": "85011761-ac60-401f-d759-337a4e71576e"
      },
      "source": [
        "address_list = [\"서울시\", \"서초구\", \"반포대로\", \"201(반포동)\"]\n",
        "address_list"
      ],
      "execution_count": null,
      "outputs": [
        {
          "output_type": "execute_result",
          "data": {
            "text/plain": [
              "['서울시', '서초구', '반포대로', '201(반포동)']"
            ]
          },
          "metadata": {
            "tags": []
          },
          "execution_count": 31
        }
      ]
    },
    {
      "cell_type": "code",
      "metadata": {
        "colab": {
          "base_uri": "https://localhost:8080/",
          "height": 35
        },
        "id": "FFhXnWwkWkgF",
        "outputId": "22c748e0-7079-4901-d5de-fd2a39ac8bfa"
      },
      "source": [
        "a = \" \"\n",
        "a.join(address_list)"
      ],
      "execution_count": null,
      "outputs": [
        {
          "output_type": "execute_result",
          "data": {
            "application/vnd.google.colaboratory.intrinsic+json": {
              "type": "string"
            },
            "text/plain": [
              "'서울시 서초구 반포대로 201(반포동)'"
            ]
          },
          "metadata": {
            "tags": []
          },
          "execution_count": 32
        }
      ]
    },
    {
      "cell_type": "code",
      "metadata": {
        "colab": {
          "base_uri": "https://localhost:8080/",
          "height": 35
        },
        "id": "46tx4gK3WtxZ",
        "outputId": "25c28aff-3c9c-47b1-c30d-0073a4a383eb"
      },
      "source": [
        "\" \".join(address_list)"
      ],
      "execution_count": null,
      "outputs": [
        {
          "output_type": "execute_result",
          "data": {
            "application/vnd.google.colaboratory.intrinsic+json": {
              "type": "string"
            },
            "text/plain": [
              "'서울시 서초구 반포대로 201(반포동)'"
            ]
          },
          "metadata": {
            "tags": []
          },
          "execution_count": 33
        }
      ]
    },
    {
      "cell_type": "code",
      "metadata": {
        "colab": {
          "base_uri": "https://localhost:8080/",
          "height": 35
        },
        "id": "_-VcdKPkWyk6",
        "outputId": "240f7fd2-58dc-4d88-94f5-62d61f46bacd"
      },
      "source": [
        "\"*^-^*\".join(address_list)"
      ],
      "execution_count": null,
      "outputs": [
        {
          "output_type": "execute_result",
          "data": {
            "application/vnd.google.colaboratory.intrinsic+json": {
              "type": "string"
            },
            "text/plain": [
              "'서울시*^-^*서초구*^-^*반포대로*^-^*201(반포동)'"
            ]
          },
          "metadata": {
            "tags": []
          },
          "execution_count": 34
        }
      ]
    },
    {
      "cell_type": "code",
      "metadata": {
        "colab": {
          "base_uri": "https://localhost:8080/"
        },
        "id": "y6QBUt_VW2rI",
        "outputId": "251c6382-716c-406c-cde7-aa7d86d568ff"
      },
      "source": [
        "str_f = \"Python code.\"\n",
        "\n",
        "print(\"찾는 문자열의 위치:\",  str_f.find(\"Python\"))\n",
        "print(\"찾는 문자열의 위치:\",  str_f.find(\"code\"))\n",
        "print(\"찾는 문자열의 위치:\",  str_f.find(\"n\"))\n",
        "print(\"찾는 문자열의 위치:\",  str_f.find(\"easy\"))"
      ],
      "execution_count": null,
      "outputs": [
        {
          "output_type": "stream",
          "text": [
            "찾는 문자열의 위치: 0\n",
            "찾는 문자열의 위치: 7\n",
            "찾는 문자열의 위치: 5\n",
            "찾는 문자열의 위치: -1\n"
          ],
          "name": "stdout"
        }
      ]
    },
    {
      "cell_type": "code",
      "metadata": {
        "colab": {
          "base_uri": "https://localhost:8080/"
        },
        "id": "gsBNwJoyXFKu",
        "outputId": "5f9c7eb6-2e95-442a-fccc-575199c7e9cc"
      },
      "source": [
        "str_f_se = \"Python is powerful. Python is easy to learn.\"\n",
        "\n",
        "print(str_f_se.find(\"Python\", 10, 30))  # 시작 위치(start)와 끝 위치(end) 지정\n",
        "print(str_f_se.find(\"Python\", 35))      # 찾기 위한 시작 위치(start) 지정\n"
      ],
      "execution_count": null,
      "outputs": [
        {
          "output_type": "stream",
          "text": [
            "20\n",
            "-1\n"
          ],
          "name": "stdout"
        }
      ]
    },
    {
      "cell_type": "code",
      "metadata": {
        "colab": {
          "base_uri": "https://localhost:8080/"
        },
        "id": "81y-FQjrXhBl",
        "outputId": "d5908642-d3a9-4ace-f95f-9eff0483b187"
      },
      "source": [
        "str_c = \"Python is powerful. Python is easy to learn. Python is open.\"\n",
        "\n",
        "print(\"Python의 개수는?:\", str_c.count(\"Python\"))\n",
        "print(\"powerful의 개수는?:\", str_c.count(\"powerful\"))\n",
        "print(\"IPython의 개수는?:\", str_c.count(\"IPython\"))"
      ],
      "execution_count": null,
      "outputs": [
        {
          "output_type": "stream",
          "text": [
            "Python의 개수는?: 3\n",
            "powerful의 개수는?: 1\n",
            "IPython의 개수는?: 0\n"
          ],
          "name": "stdout"
        }
      ]
    },
    {
      "cell_type": "code",
      "metadata": {
        "colab": {
          "base_uri": "https://localhost:8080/"
        },
        "id": "W81Ys60uX6EF",
        "outputId": "4b99947c-83f7-4721-a054-343ae6874deb"
      },
      "source": [
        "str_se = \"Python is powerful. Python is easy to learn. Python is easy to learn.\"\n",
        "\n",
        "print(\"Python으로 시작?:\", str_se.startswith(\"Python\"))\n",
        "print(\"is으로 시작?:\", str_se.startswith(\"is\"))\n",
        "print(\".로 끝?:\", str_se.endswith(\".\"))\n",
        "print(\"learn으로 끝?:\", str_se.endswith(\"learn\"))"
      ],
      "execution_count": null,
      "outputs": [
        {
          "output_type": "stream",
          "text": [
            "Python으로 시작?: True\n",
            "is으로 시작?: False\n",
            ".로 끝?: True\n",
            "learn으로 끝?: False\n"
          ],
          "name": "stdout"
        }
      ]
    },
    {
      "cell_type": "code",
      "metadata": {
        "colab": {
          "base_uri": "https://localhost:8080/"
        },
        "id": "TUIlzQYrYpRx",
        "outputId": "2f75840e-ae95-4aa4-9d04-99dd91eb0fdf"
      },
      "source": [
        "str_a = 'Python is fast. Python is friendly. Python is open.'\n",
        "print(str_a.replace('Python', 'IPython'))\n",
        "print(str_a.replace('Python', 'IPython',2))"
      ],
      "execution_count": null,
      "outputs": [
        {
          "output_type": "stream",
          "text": [
            "IPython is fast. IPython is friendly. IPython is open.\n",
            "IPython is fast. IPython is friendly. Python is open.\n"
          ],
          "name": "stdout"
        }
      ]
    },
    {
      "cell_type": "code",
      "metadata": {
        "colab": {
          "base_uri": "https://localhost:8080/"
        },
        "id": "M_lYNDhsZ0qQ",
        "outputId": "c9cce05e-fcb1-455d-f18e-7a5132d7747e"
      },
      "source": [
        "str_b = '[Python] [is] [fast]'\n",
        "str_b1 = str_b.replace('[','')  # 문자열에서 '['를 제거\n",
        "str_b2 = str_b1.replace(']','') # 결과 문자열에서 다시 ']'를 제거\n",
        "\n",
        "print(str_b)\n",
        "print(str_b1)\n",
        "print(str_b2)"
      ],
      "execution_count": null,
      "outputs": [
        {
          "output_type": "stream",
          "text": [
            "[Python] [is] [fast]\n",
            "Python] is] fast]\n",
            "Python is fast\n"
          ],
          "name": "stdout"
        }
      ]
    },
    {
      "cell_type": "code",
      "metadata": {
        "colab": {
          "base_uri": "https://localhost:8080/"
        },
        "id": "lJ3Yj5PAaXTh",
        "outputId": "68d3f9bb-1399-4820-db06-2c52936e969d"
      },
      "source": [
        "print('Python'.isalpha())   # 문자열에 공백, 특수 문자, 숫자가 없음\n",
        "print('Ver. 3.x'.isalpha()) # 공백, 특수 문자, 숫자 중 하나가 있음\n",
        "print('12345'.isdigit())    # 문자열이 모두 숫자로 구성됨\n",
        "print('12345abc'.isdigit()) # 문자열이 숫자로만 구성되지 않음"
      ],
      "execution_count": null,
      "outputs": [
        {
          "output_type": "stream",
          "text": [
            "True\n",
            "False\n",
            "True\n",
            "False\n"
          ],
          "name": "stdout"
        }
      ]
    },
    {
      "cell_type": "code",
      "metadata": {
        "colab": {
          "base_uri": "https://localhost:8080/"
        },
        "id": "4agDkh6-axCD",
        "outputId": "0c0b8447-6b81-4f45-b28c-6b43ac110128"
      },
      "source": [
        "print('abc1234'.isalnum())  # 특수 문자나 공백이 아닌 문자와 숫자로 구성됨\n",
        "print('    abc1234'.isalnum())  # 문자열에 공백이 있음"
      ],
      "execution_count": null,
      "outputs": [
        {
          "output_type": "stream",
          "text": [
            "True\n",
            "False\n"
          ],
          "name": "stdout"
        }
      ]
    },
    {
      "cell_type": "code",
      "metadata": {
        "colab": {
          "base_uri": "https://localhost:8080/"
        },
        "id": "e6_VIjHfbHSg",
        "outputId": "beec0ecd-7c74-4121-87b9-d31fe6035978"
      },
      "source": [
        "print('   '.isspace())  # 문자열이 공백으로만 구성됨\n",
        "print(' 1 '.isspace())  # 문자열에 공백 외에 다른 문자가 있음"
      ],
      "execution_count": null,
      "outputs": [
        {
          "output_type": "stream",
          "text": [
            "True\n",
            "False\n"
          ],
          "name": "stdout"
        }
      ]
    },
    {
      "cell_type": "code",
      "metadata": {
        "colab": {
          "base_uri": "https://localhost:8080/"
        },
        "id": "VQFE7FE_bYS5",
        "outputId": "3cff43e2-2fb2-4514-b002-448efbd5ae27"
      },
      "source": [
        "print('PYTHON'.isupper())   # 문자열이 모두 대문자로 구성됨\n",
        "print('Python'.isupper())   # 문자열에 대문자와 소문자가 있음\n",
        "print('python'.islower())   # 문자열이 모두 소문자로 구성됨\n",
        "print('Python'.islower())   # 문자열에 대문자와 소문자가 있음"
      ],
      "execution_count": null,
      "outputs": [
        {
          "output_type": "stream",
          "text": [
            "True\n",
            "False\n",
            "True\n",
            "False\n"
          ],
          "name": "stdout"
        }
      ]
    },
    {
      "cell_type": "code",
      "metadata": {
        "colab": {
          "base_uri": "https://localhost:8080/"
        },
        "id": "wnQ6o9qgbv1p",
        "outputId": "8e008fc4-9b63-4b7f-8303-7f5e2ce791e2"
      },
      "source": [
        "string1 = 'Python is powerful. PYTHON IS EASY TO LEARN'\n",
        "print(string1.lower())\n",
        "print(string1.upper())"
      ],
      "execution_count": null,
      "outputs": [
        {
          "output_type": "stream",
          "text": [
            "python is powerful. python is easy to learn\n",
            "PYTHON IS POWERFUL. PYTHON IS EASY TO LEARN\n"
          ],
          "name": "stdout"
        }
      ]
    },
    {
      "cell_type": "code",
      "metadata": {
        "colab": {
          "base_uri": "https://localhost:8080/"
        },
        "id": "jsP2OldIb6W5",
        "outputId": "7a89c7f5-177a-4089-93b5-936f8378d3f4"
      },
      "source": [
        "'Python'  == 'python'"
      ],
      "execution_count": null,
      "outputs": [
        {
          "output_type": "execute_result",
          "data": {
            "text/plain": [
              "False"
            ]
          },
          "metadata": {
            "tags": []
          },
          "execution_count": 51
        }
      ]
    },
    {
      "cell_type": "code",
      "metadata": {
        "id": "6O35U38ycENx",
        "colab": {
          "base_uri": "https://localhost:8080/"
        },
        "outputId": "79d9a99b-218c-4e8d-d85e-54b3d2daf3ce"
      },
      "source": [
        "print('python'.lower() == 'python'.lower())\n",
        "print('Python'.upper() == 'python'.upper())"
      ],
      "execution_count": 52,
      "outputs": [
        {
          "output_type": "stream",
          "text": [
            "True\n",
            "True\n"
          ],
          "name": "stdout"
        }
      ]
    },
    {
      "cell_type": "code",
      "metadata": {
        "colab": {
          "base_uri": "https://localhost:8080/"
        },
        "id": "fcxf7VrMdZTp",
        "outputId": "848e4b96-c00b-4ac2-fb5b-e34d22b9fc4f"
      },
      "source": [
        "!cat coffeeShopSales.txt"
      ],
      "execution_count": 55,
      "outputs": [
        {
          "output_type": "stream",
          "text": [
            "날짜    에스프레소  아메리카노  카페라테  카푸치노\n",
            "10.15       10  \t50         45       20   \n",
            "10.16       12\t\t45         41       18\n",
            "10.17       11\t\t53         32       25\n",
            "10.18       15\t\t49         38       22"
          ],
          "name": "stdout"
        }
      ]
    }
  ]
}