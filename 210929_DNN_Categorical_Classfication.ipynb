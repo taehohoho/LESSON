{
  "nbformat": 4,
  "nbformat_minor": 0,
  "metadata": {
    "colab": {
      "name": "210929_DNN_Categorical_Classfication.ipynb",
      "provenance": [],
      "collapsed_sections": [],
      "authorship_tag": "ABX9TyNBtisQ7VGhxqH+gnna/8My",
      "include_colab_link": true
    },
    "kernelspec": {
      "name": "python3",
      "display_name": "Python 3"
    },
    "language_info": {
      "name": "python"
    },
    "accelerator": "GPU"
  },
  "cells": [
    {
      "cell_type": "markdown",
      "metadata": {
        "id": "view-in-github",
        "colab_type": "text"
      },
      "source": [
        "<a href=\"https://colab.research.google.com/github/taehohoho/LESSON/blob/master/210929_DNN_Categorical_Classfication.ipynb\" target=\"_parent\"><img src=\"https://colab.research.google.com/assets/colab-badge.svg\" alt=\"Open In Colab\"/></a>"
      ]
    },
    {
      "cell_type": "code",
      "metadata": {
        "id": "GmT_9CmtM3lQ"
      },
      "source": [
        "import warnings\n",
        "warnings.filterwarnings('ignore')"
      ],
      "execution_count": 1,
      "outputs": []
    },
    {
      "cell_type": "code",
      "metadata": {
        "id": "gQYlc-SbNAW-",
        "colab": {
          "base_uri": "https://localhost:8080/",
          "height": 35
        },
        "outputId": "eeddfb61-d9d9-47f9-c51c-f3597b04fa78"
      },
      "source": [
        "import tensorflow as tf\n",
        "\n",
        "tf.__version__"
      ],
      "execution_count": 2,
      "outputs": [
        {
          "output_type": "execute_result",
          "data": {
            "application/vnd.google.colaboratory.intrinsic+json": {
              "type": "string"
            },
            "text/plain": [
              "'2.6.0'"
            ]
          },
          "metadata": {},
          "execution_count": 2
        }
      ]
    },
    {
      "cell_type": "code",
      "metadata": {
        "id": "gFOD3MEnNDBd",
        "colab": {
          "base_uri": "https://localhost:8080/",
          "height": 35
        },
        "outputId": "78d74226-428e-4d79-fe40-3bff86f18aab"
      },
      "source": [
        "tf.test.gpu_device_name()"
      ],
      "execution_count": 3,
      "outputs": [
        {
          "output_type": "execute_result",
          "data": {
            "application/vnd.google.colaboratory.intrinsic+json": {
              "type": "string"
            },
            "text/plain": [
              "'/device:GPU:0'"
            ]
          },
          "metadata": {},
          "execution_count": 3
        }
      ]
    },
    {
      "cell_type": "code",
      "metadata": {
        "colab": {
          "base_uri": "https://localhost:8080/"
        },
        "id": "FnKeIgsJNcvR",
        "outputId": "425d61a4-ada2-4197-c530-b2a9f743cd46"
      },
      "source": [
        "from tensorflow.keras.datasets import mnist\n",
        "\n",
        "(X_train, y_train), (X_test, y_test) = mnist.load_data()"
      ],
      "execution_count": 4,
      "outputs": [
        {
          "output_type": "stream",
          "name": "stdout",
          "text": [
            "Downloading data from https://storage.googleapis.com/tensorflow/tf-keras-datasets/mnist.npz\n",
            "11493376/11490434 [==============================] - 0s 0us/step\n",
            "11501568/11490434 [==============================] - 0s 0us/step\n"
          ]
        }
      ]
    },
    {
      "cell_type": "code",
      "metadata": {
        "colab": {
          "base_uri": "https://localhost:8080/"
        },
        "id": "6UhPyTorNnsc",
        "outputId": "d4dab247-8ec3-4042-d78a-fdd3c11387bd"
      },
      "source": [
        "print(len(X_train))\n",
        "print(X_train.shape)\n",
        "\n",
        "print(len(y_train))\n",
        "print(y_train[0:5])"
      ],
      "execution_count": 9,
      "outputs": [
        {
          "output_type": "stream",
          "name": "stdout",
          "text": [
            "60000\n",
            "(60000, 28, 28)\n",
            "60000\n",
            "[5 0 4 1 9]\n"
          ]
        }
      ]
    },
    {
      "cell_type": "code",
      "metadata": {
        "colab": {
          "base_uri": "https://localhost:8080/"
        },
        "id": "hAfgR6R4Ns5p",
        "outputId": "f0d5a5cf-0e12-45e4-a76b-0bbbaee7d345"
      },
      "source": [
        "print(len(X_test))\n",
        "print(X_test.shape)\n",
        "\n",
        "print(len(y_test))\n",
        "print(y_test[0:5])"
      ],
      "execution_count": 10,
      "outputs": [
        {
          "output_type": "stream",
          "name": "stdout",
          "text": [
            "10000\n",
            "(10000, 28, 28)\n",
            "10000\n",
            "[7 2 1 0 4]\n"
          ]
        }
      ]
    },
    {
      "cell_type": "code",
      "metadata": {
        "colab": {
          "base_uri": "https://localhost:8080/",
          "height": 265
        },
        "id": "jGmCEe6COLN_",
        "outputId": "93e8316e-f698-42f2-f587-df5b5222d643"
      },
      "source": [
        "import matplotlib.pyplot as plt\n",
        "\n",
        "digit = X_train[4]\n",
        "plt.imshow(digit, cmap = 'gray')\n",
        "plt.show()"
      ],
      "execution_count": 11,
      "outputs": [
        {
          "output_type": "display_data",
          "data": {
            "image/png": "[encoded data removed]",
            "text/plain": [
              "<Figure size 432x288 with 1 Axes>"
            ]
          },
          "metadata": {
            "needs_background": "light"
          }
        }
      ]
    },
    {
      "cell_type": "code",
      "metadata": {
        "colab": {
          "base_uri": "https://localhost:8080/"
        },
        "id": "vmliFpxCOWv5",
        "outputId": "04d6f612-8628-489b-8ca5-81d759462580"
      },
      "source": [
        "import numpy as np\n",
        "np.set_printoptions(linewidth = 150)\n",
        "\n",
        "print(X_train[4])"
      ],
      "execution_count": 12,
      "outputs": [
        {
          "output_type": "stream",
          "name": "stdout",
          "text": [
            "[[  0   0   0   0   0   0   0   0   0   0   0   0   0   0   0   0   0   0   0   0   0   0   0   0   0   0   0   0]\n",
            " [  0   0   0   0   0   0   0   0   0   0   0   0   0   0   0   0   0   0   0   0   0   0   0   0   0   0   0   0]\n",
            " [  0   0   0   0   0   0   0   0   0   0   0   0   0   0   0   0   0   0   0   0   0   0   0   0   0   0   0   0]\n",
            " [  0   0   0   0   0   0   0   0   0   0   0   0   0   0   0   0   0   0   0   0   0   0   0   0   0   0   0   0]\n",
            " [  0   0   0   0   0   0   0   0   0   0   0   0   0   0   0   0   0   0   0   0   0   0   0   0   0   0   0   0]\n",
            " [  0   0   0   0   0   0   0   0   0   0   0   0   0   0   0   0   0   0   0   0   0   0   0   0   0   0   0   0]\n",
            " [  0   0   0   0   0   0   0   0   0   0   0   0   0   0   0   0   0   0   0   0   0   0   0   0   0   0   0   0]\n",
            " [  0   0   0   0   0   0   0   0   0   0   0   0  55 148 210 253 253 113  87 148  55   0   0   0   0   0   0   0]\n",
            " [  0   0   0   0   0   0   0   0   0   0   0  87 232 252 253 189 210 252 252 253 168   0   0   0   0   0   0   0]\n",
            " [  0   0   0   0   0   0   0   0   0   4  57 242 252 190  65   5  12 182 252 253 116   0   0   0   0   0   0   0]\n",
            " [  0   0   0   0   0   0   0   0   0  96 252 252 183  14   0   0  92 252 252 225  21   0   0   0   0   0   0   0]\n",
            " [  0   0   0   0   0   0   0   0 132 253 252 146  14   0   0   0 215 252 252  79   0   0   0   0   0   0   0   0]\n",
            " [  0   0   0   0   0   0   0 126 253 247 176   9   0   0   8  78 245 253 129   0   0   0   0   0   0   0   0   0]\n",
            " [  0   0   0   0   0   0  16 232 252 176   0   0   0  36 201 252 252 169  11   0   0   0   0   0   0   0   0   0]\n",
            " [  0   0   0   0   0   0  22 252 252  30  22 119 197 241 253 252 251  77   0   0   0   0   0   0   0   0   0   0]\n",
            " [  0   0   0   0   0   0  16 231 252 253 252 252 252 226 227 252 231   0   0   0   0   0   0   0   0   0   0   0]\n",
            " [  0   0   0   0   0   0   0  55 235 253 217 138  42  24 192 252 143   0   0   0   0   0   0   0   0   0   0   0]\n",
            " [  0   0   0   0   0   0   0   0   0   0   0   0   0  62 255 253 109   0   0   0   0   0   0   0   0   0   0   0]\n",
            " [  0   0   0   0   0   0   0   0   0   0   0   0   0  71 253 252  21   0   0   0   0   0   0   0   0   0   0   0]\n",
            " [  0   0   0   0   0   0   0   0   0   0   0   0   0   0 253 252  21   0   0   0   0   0   0   0   0   0   0   0]\n",
            " [  0   0   0   0   0   0   0   0   0   0   0   0   0  71 253 252  21   0   0   0   0   0   0   0   0   0   0   0]\n",
            " [  0   0   0   0   0   0   0   0   0   0   0   0   0 106 253 252  21   0   0   0   0   0   0   0   0   0   0   0]\n",
            " [  0   0   0   0   0   0   0   0   0   0   0   0   0  45 255 253  21   0   0   0   0   0   0   0   0   0   0   0]\n",
            " [  0   0   0   0   0   0   0   0   0   0   0   0   0   0 218 252  56   0   0   0   0   0   0   0   0   0   0   0]\n",
            " [  0   0   0   0   0   0   0   0   0   0   0   0   0   0  96 252 189  42   0   0   0   0   0   0   0   0   0   0]\n",
            " [  0   0   0   0   0   0   0   0   0   0   0   0   0   0  14 184 252 170  11   0   0   0   0   0   0   0   0   0]\n",
            " [  0   0   0   0   0   0   0   0   0   0   0   0   0   0   0  14 147 252  42   0   0   0   0   0   0   0   0   0]\n",
            " [  0   0   0   0   0   0   0   0   0   0   0   0   0   0   0   0   0   0   0   0   0   0   0   0   0   0   0   0]]\n"
          ]
        }
      ]
    },
    {
      "cell_type": "code",
      "metadata": {
        "colab": {
          "base_uri": "https://localhost:8080/"
        },
        "id": "N2a4MlyCOc5b",
        "outputId": "ba3e1d31-4104-4618-e92b-a36120cb522e"
      },
      "source": [
        "X_train = X_train.reshape((60000, 28 *28))\n",
        "X_test = X_test.reshape((10000, 28* 28))\n",
        "\n",
        "X_train.shape, X_test.shape"
      ],
      "execution_count": 13,
      "outputs": [
        {
          "output_type": "execute_result",
          "data": {
            "text/plain": [
              "((60000, 784), (10000, 784))"
            ]
          },
          "metadata": {},
          "execution_count": 13
        }
      ]
    },
    {
      "cell_type": "code",
      "metadata": {
        "id": "ESgWMY5aOpKB"
      },
      "source": [
        "X_train = X_train.astype(float)/255\n",
        "X_test = X_test.astype(float) /255"
      ],
      "execution_count": 14,
      "outputs": []
    },
    {
      "cell_type": "code",
      "metadata": {
        "colab": {
          "base_uri": "https://localhost:8080/"
        },
        "id": "wDMjznegOxT5",
        "outputId": "0b96d8c8-2f47-4bcd-b8d4-13781372356a"
      },
      "source": [
        "print(X_train[4])"
      ],
      "execution_count": 15,
      "outputs": [
        {
          "output_type": "stream",
          "name": "stdout",
          "text": [
            "[0.         0.         0.         0.         0.         0.         0.         0.         0.         0.         0.         0.         0.\n",
            " 0.         0.         0.         0.         0.         0.         0.         0.         0.         0.         0.         0.         0.\n",
            " 0.         0.         0.         0.         0.         0.         0.         0.         0.         0.         0.         0.         0.\n",
            " 0.         0.         0.         0.         0.         0.         0.         0.         0.         0.         0.         0.         0.\n",
            " 0.         0.         0.         0.         0.         0.         0.         0.         0.         0.         0.         0.         0.\n",
            " 0.         0.         0.         0.         0.         0.         0.         0.         0.         0.         0.         0.         0.\n",
            " 0.         0.         0.         0.         0.         0.         0.         0.         0.         0.         0.         0.         0.\n",
            " 0.         0.         0.         0.         0.         0.         0.         0.         0.         0.         0.         0.         0.\n",
            " 0.         0.         0.         0.         0.         0.         0.         0.         0.         0.         0.         0.         0.\n",
            " 0.         0.         0.         0.         0.         0.         0.         0.         0.         0.         0.         0.         0.\n",
            " 0.         0.         0.         0.         0.         0.         0.         0.         0.         0.         0.         0.         0.\n",
            " 0.         0.         0.         0.         0.         0.         0.         0.         0.         0.         0.         0.         0.\n",
            " 0.         0.         0.         0.         0.         0.         0.         0.         0.         0.         0.         0.         0.\n",
            " 0.         0.         0.         0.         0.         0.         0.         0.         0.         0.         0.         0.         0.\n",
            " 0.         0.         0.         0.         0.         0.         0.         0.         0.         0.         0.         0.         0.\n",
            " 0.         0.         0.         0.         0.         0.         0.         0.         0.         0.         0.         0.         0.\n",
            " 0.21568627 0.58039216 0.82352941 0.99215686 0.99215686 0.44313725 0.34117647 0.58039216 0.21568627 0.         0.         0.         0.\n",
            " 0.         0.         0.         0.         0.         0.         0.         0.         0.         0.         0.         0.         0.\n",
            " 0.         0.34117647 0.90980392 0.98823529 0.99215686 0.74117647 0.82352941 0.98823529 0.98823529 0.99215686 0.65882353 0.         0.\n",
            " 0.         0.         0.         0.         0.         0.         0.         0.         0.         0.         0.         0.         0.\n",
            " 0.         0.01568627 0.22352941 0.94901961 0.98823529 0.74509804 0.25490196 0.01960784 0.04705882 0.71372549 0.98823529 0.99215686 0.45490196\n",
            " 0.         0.         0.         0.         0.         0.         0.         0.         0.         0.         0.         0.         0.\n",
            " 0.         0.         0.         0.37647059 0.98823529 0.98823529 0.71764706 0.05490196 0.         0.         0.36078431 0.98823529 0.98823529\n",
            " 0.88235294 0.08235294 0.         0.         0.         0.         0.         0.         0.         0.         0.         0.         0.\n",
            " 0.         0.         0.         0.         0.51764706 0.99215686 0.98823529 0.57254902 0.05490196 0.         0.         0.         0.84313725\n",
            " 0.98823529 0.98823529 0.30980392 0.         0.         0.         0.         0.         0.         0.         0.         0.         0.\n",
            " 0.         0.         0.         0.         0.         0.49411765 0.99215686 0.96862745 0.69019608 0.03529412 0.         0.         0.03137255\n",
            " 0.30588235 0.96078431 0.99215686 0.50588235 0.         0.         0.         0.         0.         0.         0.         0.         0.\n",
            " 0.         0.         0.         0.         0.         0.         0.0627451  0.90980392 0.98823529 0.69019608 0.         0.         0.\n",
            " 0.14117647 0.78823529 0.98823529 0.98823529 0.6627451  0.04313725 0.         0.         0.         0.         0.         0.         0.\n",
            " 0.         0.         0.         0.         0.         0.         0.         0.         0.08627451 0.98823529 0.98823529 0.11764706 0.08627451\n",
            " 0.46666667 0.77254902 0.94509804 0.99215686 0.98823529 0.98431373 0.30196078 0.         0.         0.         0.         0.         0.\n",
            " 0.         0.         0.         0.         0.         0.         0.         0.         0.         0.         0.0627451  0.90588235 0.98823529\n",
            " 0.99215686 0.98823529 0.98823529 0.98823529 0.88627451 0.89019608 0.98823529 0.90588235 0.         0.         0.         0.         0.\n",
            " 0.         0.         0.         0.         0.         0.         0.         0.         0.         0.         0.         0.         0.\n",
            " 0.21568627 0.92156863 0.99215686 0.85098039 0.54117647 0.16470588 0.09411765 0.75294118 0.98823529 0.56078431 0.         0.         0.\n",
            " 0.         0.         0.         0.         0.         0.         0.         0.         0.         0.         0.         0.         0.\n",
            " 0.         0.         0.         0.         0.         0.         0.         0.         0.24313725 1.         0.99215686 0.42745098 0.\n",
            " 0.         0.         0.         0.         0.         0.         0.         0.         0.         0.         0.         0.         0.\n",
            " 0.         0.         0.         0.         0.         0.         0.         0.         0.         0.         0.27843137 0.99215686 0.98823529\n",
            " 0.08235294 0.         0.         0.         0.         0.         0.         0.         0.         0.         0.         0.         0.\n",
            " 0.         0.         0.         0.         0.         0.         0.         0.         0.         0.         0.         0.         0.\n",
            " 0.99215686 0.98823529 0.08235294 0.         0.         0.         0.         0.         0.         0.         0.         0.         0.\n",
            " 0.         0.         0.         0.         0.         0.         0.         0.         0.         0.         0.         0.         0.\n",
            " 0.         0.27843137 0.99215686 0.98823529 0.08235294 0.         0.         0.         0.         0.         0.         0.         0.\n",
            " 0.         0.         0.         0.         0.         0.         0.         0.         0.         0.         0.         0.         0.\n",
            " 0.         0.         0.         0.41568627 0.99215686 0.98823529 0.08235294 0.         0.         0.         0.         0.         0.\n",
            " 0.         0.         0.         0.         0.         0.         0.         0.         0.         0.         0.         0.         0.\n",
            " 0.         0.         0.         0.         0.         0.17647059 1.         0.99215686 0.08235294 0.         0.         0.         0.\n",
            " 0.         0.         0.         0.         0.         0.         0.         0.         0.         0.         0.         0.         0.\n",
            " 0.         0.         0.         0.         0.         0.         0.         0.         0.85490196 0.98823529 0.21960784 0.         0.\n",
            " 0.         0.         0.         0.         0.         0.         0.         0.         0.         0.         0.         0.         0.\n",
            " 0.         0.         0.         0.         0.         0.         0.         0.         0.         0.         0.37647059 0.98823529 0.74117647\n",
            " 0.16470588 0.         0.         0.         0.         0.         0.         0.         0.         0.         0.         0.         0.\n",
            " 0.         0.         0.         0.         0.         0.         0.         0.         0.         0.         0.         0.         0.05490196\n",
            " 0.72156863 0.98823529 0.66666667 0.04313725 0.         0.         0.         0.         0.         0.         0.         0.         0.\n",
            " 0.         0.         0.         0.         0.         0.         0.         0.         0.         0.         0.         0.         0.\n",
            " 0.         0.         0.05490196 0.57647059 0.98823529 0.16470588 0.         0.         0.         0.         0.         0.         0.\n",
            " 0.         0.         0.         0.         0.         0.         0.         0.         0.         0.         0.         0.         0.\n",
            " 0.         0.         0.         0.         0.         0.         0.         0.         0.         0.         0.         0.         0.\n",
            " 0.         0.         0.         0.        ]\n"
          ]
        }
      ]
    },
    {
      "cell_type": "code",
      "metadata": {
        "id": "EWGB-IFVOzG7"
      },
      "source": [
        "from tensorflow.keras.utils import to_categorical\n",
        "\n",
        "y_train = to_categorical(y_train)\n",
        "y_test = to_categorical(y_test)"
      ],
      "execution_count": 16,
      "outputs": []
    },
    {
      "cell_type": "code",
      "metadata": {
        "colab": {
          "base_uri": "https://localhost:8080/"
        },
        "id": "CjliJdNdO96J",
        "outputId": "8f29fcb6-03ed-492e-c17d-926ba85f17bc"
      },
      "source": [
        "print(y_train[:5])"
      ],
      "execution_count": 17,
      "outputs": [
        {
          "output_type": "stream",
          "name": "stdout",
          "text": [
            "[[0. 0. 0. 0. 0. 1. 0. 0. 0. 0.]\n",
            " [1. 0. 0. 0. 0. 0. 0. 0. 0. 0.]\n",
            " [0. 0. 0. 0. 1. 0. 0. 0. 0. 0.]\n",
            " [0. 1. 0. 0. 0. 0. 0. 0. 0. 0.]\n",
            " [0. 0. 0. 0. 0. 0. 0. 0. 0. 1.]]\n"
          ]
        }
      ]
    },
    {
      "cell_type": "code",
      "metadata": {
        "id": "6DRL_VIkO_os"
      },
      "source": [
        "from tensorflow.keras import models\n",
        "from tensorflow.keras import layers\n",
        "\n",
        "mnist = models.Sequential()\n",
        "mnist.add(layers.Dense(512, activation = 'relu', input_shape = (28* 28,)))\n",
        "mnist.add(layers.Dense(256, activation = 'relu'))\n",
        "mnist.add(layers.Dense(10, activation = 'softmax'))"
      ],
      "execution_count": 18,
      "outputs": []
    },
    {
      "cell_type": "code",
      "metadata": {
        "colab": {
          "base_uri": "https://localhost:8080/"
        },
        "id": "Oe7HcsTBPWIW",
        "outputId": "aae9ce2c-8548-4d53-d2d0-e39d867af3fc"
      },
      "source": [
        "mnist.summary()"
      ],
      "execution_count": 19,
      "outputs": [
        {
          "output_type": "stream",
          "name": "stdout",
          "text": [
            "Model: \"sequential\"\n",
            "_________________________________________________________________\n",
            "Layer (type)                 Output Shape              Param #   \n",
            "=================================================================\n",
            "dense (Dense)                (None, 512)               401920    \n",
            "_________________________________________________________________\n",
            "dense_1 (Dense)              (None, 256)               131328    \n",
            "_________________________________________________________________\n",
            "dense_2 (Dense)              (None, 10)                2570      \n",
            "=================================================================\n",
            "Total params: 535,818\n",
            "Trainable params: 535,818\n",
            "Non-trainable params: 0\n",
            "_________________________________________________________________\n"
          ]
        }
      ]
    },
    {
      "cell_type": "code",
      "metadata": {
        "id": "beoTPLkSPZeC"
      },
      "source": [
        "mnist.compile(loss = 'categorical_crossentropy',\n",
        "              optimizer = 'rmsprop',\n",
        "              metrics = ['accuracy'])"
      ],
      "execution_count": 21,
      "outputs": []
    },
    {
      "cell_type": "code",
      "metadata": {
        "colab": {
          "base_uri": "https://localhost:8080/"
        },
        "id": "9c2Bk0yMPiMn",
        "outputId": "d71a14f9-d81b-40e3-bae6-84e6ef0bf708"
      },
      "source": [
        "%%time\n",
        "\n",
        "Hist_mnist = mnist.fit(X_train, y_train,\n",
        "                       epochs = 100,\n",
        "                       batch_size = 128,\n",
        "                       validation_split = 0.2)"
      ],
      "execution_count": 22,
      "outputs": [
        {
          "output_type": "stream",
          "name": "stdout",
          "text": [
            "Epoch 1/100\n",
            "375/375 [==============================] - 5s 6ms/step - loss: 0.2628 - accuracy: 0.9196 - val_loss: 0.1221 - val_accuracy: 0.9647\n",
            "Epoch 2/100\n",
            "375/375 [==============================] - 2s 5ms/step - loss: 0.0940 - accuracy: 0.9715 - val_loss: 0.0915 - val_accuracy: 0.9722\n",
            "Epoch 3/100\n",
            "375/375 [==============================] - 2s 5ms/step - loss: 0.0601 - accuracy: 0.9807 - val_loss: 0.0972 - val_accuracy: 0.9713\n",
            "Epoch 4/100\n",
            "375/375 [==============================] - 2s 5ms/step - loss: 0.0412 - accuracy: 0.9871 - val_loss: 0.0945 - val_accuracy: 0.9756\n",
            "Epoch 5/100\n",
            "375/375 [==============================] - 2s 5ms/step - loss: 0.0317 - accuracy: 0.9903 - val_loss: 0.1023 - val_accuracy: 0.9769\n",
            "Epoch 6/100\n",
            "375/375 [==============================] - 2s 5ms/step - loss: 0.0231 - accuracy: 0.9925 - val_loss: 0.1001 - val_accuracy: 0.9755\n",
            "Epoch 7/100\n",
            "375/375 [==============================] - 2s 5ms/step - loss: 0.0177 - accuracy: 0.9941 - val_loss: 0.1210 - val_accuracy: 0.9738\n",
            "Epoch 8/100\n",
            "375/375 [==============================] - 2s 5ms/step - loss: 0.0158 - accuracy: 0.9948 - val_loss: 0.1098 - val_accuracy: 0.9792\n",
            "Epoch 9/100\n",
            "375/375 [==============================] - 2s 5ms/step - loss: 0.0109 - accuracy: 0.9964 - val_loss: 0.1259 - val_accuracy: 0.9797\n",
            "Epoch 10/100\n",
            "375/375 [==============================] - 2s 5ms/step - loss: 0.0094 - accuracy: 0.9969 - val_loss: 0.1564 - val_accuracy: 0.9748\n",
            "Epoch 11/100\n",
            "375/375 [==============================] - 2s 5ms/step - loss: 0.0076 - accuracy: 0.9976 - val_loss: 0.1331 - val_accuracy: 0.9803\n",
            "Epoch 12/100\n",
            "375/375 [==============================] - 2s 5ms/step - loss: 0.0073 - accuracy: 0.9977 - val_loss: 0.1400 - val_accuracy: 0.9804\n",
            "Epoch 13/100\n",
            "375/375 [==============================] - 2s 5ms/step - loss: 0.0064 - accuracy: 0.9978 - val_loss: 0.1586 - val_accuracy: 0.9783\n",
            "Epoch 14/100\n",
            "375/375 [==============================] - 2s 5ms/step - loss: 0.0064 - accuracy: 0.9980 - val_loss: 0.1630 - val_accuracy: 0.9771\n",
            "Epoch 15/100\n",
            "375/375 [==============================] - 2s 5ms/step - loss: 0.0049 - accuracy: 0.9985 - val_loss: 0.1648 - val_accuracy: 0.9802\n",
            "Epoch 16/100\n",
            "375/375 [==============================] - 2s 5ms/step - loss: 0.0052 - accuracy: 0.9983 - val_loss: 0.1508 - val_accuracy: 0.9810\n",
            "Epoch 17/100\n",
            "375/375 [==============================] - 2s 5ms/step - loss: 0.0043 - accuracy: 0.9987 - val_loss: 0.1724 - val_accuracy: 0.9797\n",
            "Epoch 18/100\n",
            "375/375 [==============================] - 2s 5ms/step - loss: 0.0035 - accuracy: 0.9988 - val_loss: 0.1796 - val_accuracy: 0.9809\n",
            "Epoch 19/100\n",
            "375/375 [==============================] - 2s 5ms/step - loss: 0.0033 - accuracy: 0.9990 - val_loss: 0.2042 - val_accuracy: 0.9794\n",
            "Epoch 20/100\n",
            "375/375 [==============================] - 2s 5ms/step - loss: 0.0042 - accuracy: 0.9987 - val_loss: 0.1897 - val_accuracy: 0.9797\n",
            "Epoch 21/100\n",
            "375/375 [==============================] - 2s 5ms/step - loss: 0.0040 - accuracy: 0.9989 - val_loss: 0.1846 - val_accuracy: 0.9817\n",
            "Epoch 22/100\n",
            "375/375 [==============================] - 2s 5ms/step - loss: 0.0045 - accuracy: 0.9989 - val_loss: 0.2273 - val_accuracy: 0.9760\n",
            "Epoch 23/100\n",
            "375/375 [==============================] - 2s 5ms/step - loss: 0.0042 - accuracy: 0.9987 - val_loss: 0.2461 - val_accuracy: 0.9785\n",
            "Epoch 24/100\n",
            "375/375 [==============================] - 2s 5ms/step - loss: 0.0033 - accuracy: 0.9991 - val_loss: 0.2203 - val_accuracy: 0.9801\n",
            "Epoch 25/100\n",
            "375/375 [==============================] - 2s 5ms/step - loss: 0.0034 - accuracy: 0.9990 - val_loss: 0.2478 - val_accuracy: 0.9785\n",
            "Epoch 26/100\n",
            "375/375 [==============================] - 2s 5ms/step - loss: 0.0032 - accuracy: 0.9991 - val_loss: 0.2575 - val_accuracy: 0.9789\n",
            "Epoch 27/100\n",
            "375/375 [==============================] - 2s 5ms/step - loss: 0.0025 - accuracy: 0.9991 - val_loss: 0.2685 - val_accuracy: 0.9783\n",
            "Epoch 28/100\n",
            "375/375 [==============================] - 2s 5ms/step - loss: 0.0017 - accuracy: 0.9995 - val_loss: 0.2415 - val_accuracy: 0.9790\n",
            "Epoch 29/100\n",
            "375/375 [==============================] - 2s 5ms/step - loss: 0.0034 - accuracy: 0.9991 - val_loss: 0.2289 - val_accuracy: 0.9805\n",
            "Epoch 30/100\n",
            "375/375 [==============================] - 2s 5ms/step - loss: 0.0017 - accuracy: 0.9994 - val_loss: 0.2535 - val_accuracy: 0.9792\n",
            "Epoch 31/100\n",
            "375/375 [==============================] - 2s 5ms/step - loss: 0.0019 - accuracy: 0.9995 - val_loss: 0.2505 - val_accuracy: 0.9801\n",
            "Epoch 32/100\n",
            "375/375 [==============================] - 2s 5ms/step - loss: 0.0023 - accuracy: 0.9995 - val_loss: 0.2447 - val_accuracy: 0.9808\n",
            "Epoch 33/100\n",
            "375/375 [==============================] - 2s 5ms/step - loss: 0.0033 - accuracy: 0.9993 - val_loss: 0.2365 - val_accuracy: 0.9807\n",
            "Epoch 34/100\n",
            "375/375 [==============================] - 2s 5ms/step - loss: 0.0014 - accuracy: 0.9996 - val_loss: 0.2638 - val_accuracy: 0.9792\n",
            "Epoch 35/100\n",
            "375/375 [==============================] - 2s 5ms/step - loss: 0.0013 - accuracy: 0.9997 - val_loss: 0.2911 - val_accuracy: 0.9772\n",
            "Epoch 36/100\n",
            "375/375 [==============================] - 2s 5ms/step - loss: 0.0027 - accuracy: 0.9992 - val_loss: 0.2815 - val_accuracy: 0.9789\n",
            "Epoch 37/100\n",
            "375/375 [==============================] - 2s 5ms/step - loss: 0.0014 - accuracy: 0.9996 - val_loss: 0.2692 - val_accuracy: 0.9810\n",
            "Epoch 38/100\n",
            "375/375 [==============================] - 2s 5ms/step - loss: 0.0014 - accuracy: 0.9995 - val_loss: 0.2929 - val_accuracy: 0.9787\n",
            "Epoch 39/100\n",
            "375/375 [==============================] - 2s 5ms/step - loss: 8.7533e-04 - accuracy: 0.9997 - val_loss: 0.2690 - val_accuracy: 0.9811\n",
            "Epoch 40/100\n",
            "375/375 [==============================] - 2s 5ms/step - loss: 0.0014 - accuracy: 0.9996 - val_loss: 0.3053 - val_accuracy: 0.9809\n",
            "Epoch 41/100\n",
            "375/375 [==============================] - 2s 5ms/step - loss: 0.0015 - accuracy: 0.9996 - val_loss: 0.2937 - val_accuracy: 0.9793\n",
            "Epoch 42/100\n",
            "375/375 [==============================] - 2s 5ms/step - loss: 0.0011 - accuracy: 0.9997 - val_loss: 0.2848 - val_accuracy: 0.9820\n",
            "Epoch 43/100\n",
            "375/375 [==============================] - 2s 5ms/step - loss: 0.0015 - accuracy: 0.9996 - val_loss: 0.3131 - val_accuracy: 0.9783\n",
            "Epoch 44/100\n",
            "375/375 [==============================] - 2s 5ms/step - loss: 7.8614e-04 - accuracy: 0.9998 - val_loss: 0.3331 - val_accuracy: 0.9789\n",
            "Epoch 45/100\n",
            "375/375 [==============================] - 2s 5ms/step - loss: 0.0025 - accuracy: 0.9996 - val_loss: 0.3206 - val_accuracy: 0.9790\n",
            "Epoch 46/100\n",
            "375/375 [==============================] - 2s 5ms/step - loss: 0.0015 - accuracy: 0.9997 - val_loss: 0.3138 - val_accuracy: 0.9799\n",
            "Epoch 47/100\n",
            "375/375 [==============================] - 2s 5ms/step - loss: 0.0019 - accuracy: 0.9997 - val_loss: 0.3475 - val_accuracy: 0.9788\n",
            "Epoch 48/100\n",
            "375/375 [==============================] - 2s 5ms/step - loss: 0.0013 - accuracy: 0.9998 - val_loss: 0.3255 - val_accuracy: 0.9810\n",
            "Epoch 49/100\n",
            "375/375 [==============================] - 2s 5ms/step - loss: 8.5945e-04 - accuracy: 0.9998 - val_loss: 0.3555 - val_accuracy: 0.9799\n",
            "Epoch 50/100\n",
            "375/375 [==============================] - 2s 5ms/step - loss: 0.0013 - accuracy: 0.9997 - val_loss: 0.3575 - val_accuracy: 0.9783\n",
            "Epoch 51/100\n",
            "375/375 [==============================] - 2s 5ms/step - loss: 0.0012 - accuracy: 0.9997 - val_loss: 0.3263 - val_accuracy: 0.9812\n",
            "Epoch 52/100\n",
            "375/375 [==============================] - 2s 5ms/step - loss: 0.0016 - accuracy: 0.9998 - val_loss: 0.3248 - val_accuracy: 0.9810\n",
            "Epoch 53/100\n",
            "375/375 [==============================] - 2s 5ms/step - loss: 0.0018 - accuracy: 0.9996 - val_loss: 0.3273 - val_accuracy: 0.9818\n",
            "Epoch 54/100\n",
            "375/375 [==============================] - 2s 5ms/step - loss: 0.0014 - accuracy: 0.9996 - val_loss: 0.3663 - val_accuracy: 0.9805\n",
            "Epoch 55/100\n",
            "375/375 [==============================] - 2s 5ms/step - loss: 0.0013 - accuracy: 0.9998 - val_loss: 0.3268 - val_accuracy: 0.9811\n",
            "Epoch 56/100\n",
            "375/375 [==============================] - 2s 5ms/step - loss: 9.8824e-04 - accuracy: 0.9997 - val_loss: 0.3486 - val_accuracy: 0.9787\n",
            "Epoch 57/100\n",
            "375/375 [==============================] - 2s 5ms/step - loss: 4.9892e-04 - accuracy: 0.9998 - val_loss: 0.3359 - val_accuracy: 0.9811\n",
            "Epoch 58/100\n",
            "375/375 [==============================] - 2s 5ms/step - loss: 4.8286e-04 - accuracy: 0.9999 - val_loss: 0.3420 - val_accuracy: 0.9821\n",
            "Epoch 59/100\n",
            "375/375 [==============================] - 2s 5ms/step - loss: 1.6453e-04 - accuracy: 0.9999 - val_loss: 0.3270 - val_accuracy: 0.9820\n",
            "Epoch 60/100\n",
            "375/375 [==============================] - 2s 5ms/step - loss: 0.0010 - accuracy: 0.9998 - val_loss: 0.3303 - val_accuracy: 0.9814\n",
            "Epoch 61/100\n",
            "375/375 [==============================] - 2s 5ms/step - loss: 1.5420e-04 - accuracy: 0.9999 - val_loss: 0.3385 - val_accuracy: 0.9817\n",
            "Epoch 62/100\n",
            "375/375 [==============================] - 2s 5ms/step - loss: 9.5773e-04 - accuracy: 0.9998 - val_loss: 0.3570 - val_accuracy: 0.9813\n",
            "Epoch 63/100\n",
            "375/375 [==============================] - 2s 5ms/step - loss: 8.7879e-04 - accuracy: 0.9998 - val_loss: 0.3313 - val_accuracy: 0.9819\n",
            "Epoch 64/100\n",
            "375/375 [==============================] - 2s 5ms/step - loss: 1.7463e-04 - accuracy: 0.9999 - val_loss: 0.3524 - val_accuracy: 0.9823\n",
            "Epoch 65/100\n",
            "375/375 [==============================] - 2s 5ms/step - loss: 0.0011 - accuracy: 0.9998 - val_loss: 0.3719 - val_accuracy: 0.9783\n",
            "Epoch 66/100\n",
            "375/375 [==============================] - 2s 5ms/step - loss: 0.0013 - accuracy: 0.9997 - val_loss: 0.3593 - val_accuracy: 0.9790\n",
            "Epoch 67/100\n",
            "375/375 [==============================] - 2s 5ms/step - loss: 4.8789e-04 - accuracy: 0.9999 - val_loss: 0.4000 - val_accuracy: 0.9788\n",
            "Epoch 68/100\n",
            "375/375 [==============================] - 2s 5ms/step - loss: 2.3432e-04 - accuracy: 0.9999 - val_loss: 0.3670 - val_accuracy: 0.9800\n",
            "Epoch 69/100\n",
            "375/375 [==============================] - 2s 5ms/step - loss: 3.5707e-04 - accuracy: 0.9999 - val_loss: 0.3831 - val_accuracy: 0.9797\n",
            "Epoch 70/100\n",
            "375/375 [==============================] - 2s 5ms/step - loss: 0.0013 - accuracy: 0.9998 - val_loss: 0.4069 - val_accuracy: 0.9803\n",
            "Epoch 71/100\n",
            "375/375 [==============================] - 2s 5ms/step - loss: 7.8085e-04 - accuracy: 0.9999 - val_loss: 0.3775 - val_accuracy: 0.9817\n",
            "Epoch 72/100\n",
            "375/375 [==============================] - 2s 5ms/step - loss: 9.6045e-04 - accuracy: 0.9999 - val_loss: 0.3789 - val_accuracy: 0.9814\n",
            "Epoch 73/100\n",
            "375/375 [==============================] - 2s 5ms/step - loss: 0.0012 - accuracy: 0.9998 - val_loss: 0.4014 - val_accuracy: 0.9800\n",
            "Epoch 74/100\n",
            "375/375 [==============================] - 2s 5ms/step - loss: 2.1189e-04 - accuracy: 0.9999 - val_loss: 0.3774 - val_accuracy: 0.9811\n",
            "Epoch 75/100\n",
            "375/375 [==============================] - 2s 5ms/step - loss: 5.7178e-04 - accuracy: 0.9999 - val_loss: 0.4421 - val_accuracy: 0.9788\n",
            "Epoch 76/100\n",
            "375/375 [==============================] - 2s 5ms/step - loss: 4.0181e-04 - accuracy: 0.9999 - val_loss: 0.4275 - val_accuracy: 0.9795\n",
            "Epoch 77/100\n",
            "375/375 [==============================] - 2s 5ms/step - loss: 6.8627e-04 - accuracy: 0.9999 - val_loss: 0.4353 - val_accuracy: 0.9789\n",
            "Epoch 78/100\n",
            "375/375 [==============================] - 2s 5ms/step - loss: 6.2096e-04 - accuracy: 0.9998 - val_loss: 0.3731 - val_accuracy: 0.9813\n",
            "Epoch 79/100\n",
            "375/375 [==============================] - 2s 5ms/step - loss: 3.7887e-04 - accuracy: 0.9999 - val_loss: 0.4017 - val_accuracy: 0.9790\n",
            "Epoch 80/100\n",
            "375/375 [==============================] - 2s 5ms/step - loss: 3.5029e-04 - accuracy: 0.9999 - val_loss: 0.3968 - val_accuracy: 0.9803\n",
            "Epoch 81/100\n",
            "375/375 [==============================] - 2s 5ms/step - loss: 3.4525e-04 - accuracy: 1.0000 - val_loss: 0.3913 - val_accuracy: 0.9817\n",
            "Epoch 82/100\n",
            "375/375 [==============================] - 2s 5ms/step - loss: 7.6859e-04 - accuracy: 0.9999 - val_loss: 0.4176 - val_accuracy: 0.9798\n",
            "Epoch 83/100\n",
            "375/375 [==============================] - 2s 5ms/step - loss: 1.4239e-04 - accuracy: 0.9999 - val_loss: 0.3867 - val_accuracy: 0.9820\n",
            "Epoch 84/100\n",
            "375/375 [==============================] - 2s 5ms/step - loss: 4.3385e-04 - accuracy: 0.9999 - val_loss: 0.3955 - val_accuracy: 0.9825\n",
            "Epoch 85/100\n",
            "375/375 [==============================] - 2s 5ms/step - loss: 0.0013 - accuracy: 0.9999 - val_loss: 0.4038 - val_accuracy: 0.9809\n",
            "Epoch 86/100\n",
            "375/375 [==============================] - 2s 5ms/step - loss: 3.8374e-04 - accuracy: 0.9999 - val_loss: 0.3868 - val_accuracy: 0.9815\n",
            "Epoch 87/100\n",
            "375/375 [==============================] - 2s 5ms/step - loss: 3.5467e-04 - accuracy: 0.9999 - val_loss: 0.4199 - val_accuracy: 0.9812\n",
            "Epoch 88/100\n",
            "375/375 [==============================] - 2s 5ms/step - loss: 2.0928e-04 - accuracy: 1.0000 - val_loss: 0.3884 - val_accuracy: 0.9821\n",
            "Epoch 89/100\n",
            "375/375 [==============================] - 2s 5ms/step - loss: 1.4318e-05 - accuracy: 1.0000 - val_loss: 0.3813 - val_accuracy: 0.9833\n",
            "Epoch 90/100\n",
            "375/375 [==============================] - 2s 5ms/step - loss: 4.2836e-04 - accuracy: 0.9999 - val_loss: 0.4083 - val_accuracy: 0.9819\n",
            "Epoch 91/100\n",
            "375/375 [==============================] - 2s 5ms/step - loss: 6.7545e-04 - accuracy: 0.9999 - val_loss: 0.4183 - val_accuracy: 0.9809\n",
            "Epoch 92/100\n",
            "375/375 [==============================] - 2s 5ms/step - loss: 6.7135e-04 - accuracy: 0.9998 - val_loss: 0.4385 - val_accuracy: 0.9803\n",
            "Epoch 93/100\n",
            "375/375 [==============================] - 2s 5ms/step - loss: 2.5333e-04 - accuracy: 0.9999 - val_loss: 0.3927 - val_accuracy: 0.9820\n",
            "Epoch 94/100\n",
            "375/375 [==============================] - 2s 5ms/step - loss: 4.3814e-04 - accuracy: 0.9999 - val_loss: 0.4051 - val_accuracy: 0.9833\n",
            "Epoch 95/100\n",
            "375/375 [==============================] - 2s 5ms/step - loss: 2.5961e-04 - accuracy: 0.9999 - val_loss: 0.4312 - val_accuracy: 0.9822\n",
            "Epoch 96/100\n",
            "375/375 [==============================] - 2s 5ms/step - loss: 7.5029e-05 - accuracy: 1.0000 - val_loss: 0.4355 - val_accuracy: 0.9807\n",
            "Epoch 97/100\n",
            "375/375 [==============================] - 2s 5ms/step - loss: 3.9816e-04 - accuracy: 0.9999 - val_loss: 0.4010 - val_accuracy: 0.9828\n",
            "Epoch 98/100\n",
            "375/375 [==============================] - 2s 5ms/step - loss: 3.1924e-04 - accuracy: 0.9999 - val_loss: 0.4172 - val_accuracy: 0.9822\n",
            "Epoch 99/100\n",
            "375/375 [==============================] - 2s 5ms/step - loss: 9.9408e-05 - accuracy: 1.0000 - val_loss: 0.4722 - val_accuracy: 0.9802\n",
            "Epoch 100/100\n",
            "375/375 [==============================] - 2s 5ms/step - loss: 0.0012 - accuracy: 0.9998 - val_loss: 0.4386 - val_accuracy: 0.9801\n",
            "CPU times: user 3min 10s, sys: 28.3 s, total: 3min 38s\n",
            "Wall time: 3min 12s\n"
          ]
        }
      ]
    },
    {
      "cell_type": "code",
      "metadata": {
        "colab": {
          "base_uri": "https://localhost:8080/",
          "height": 404
        },
        "id": "0Aw0-Px0Pus3",
        "outputId": "35cda4b9-050a-4447-92a4-5a09e0821dfb"
      },
      "source": [
        "import matplotlib.pyplot as plt\n",
        "\n",
        "\n",
        "epochs = range(1, len(Hist_mnist.history['loss'])+1)\n",
        "\n",
        "plt.figure(figsize= (9,6))\n",
        "plt.plot(epochs, Hist_mnist.history['loss'])\n",
        "plt.plot(epochs, Hist_mnist.history['val_loss'])\n",
        "plt.title('Training & Validation Loss')\n",
        "plt.xlabel('Epochs')\n",
        "plt.ylabel('Loss')\n",
        "plt.legend(['Training Loss', 'Validation Loss'])\n",
        "plt.grid()\n",
        "plt.show()"
      ],
      "execution_count": 26,
      "outputs": [
        {
          "output_type": "display_data",
          "data": {
            "image/png": "[encoded data removed]",
            "text/plain": [
              "<Figure size 648x432 with 1 Axes>"
            ]
          },
          "metadata": {
            "needs_background": "light"
          }
        }
      ]
    },
    {
      "cell_type": "code",
      "metadata": {
        "colab": {
          "base_uri": "https://localhost:8080/"
        },
        "id": "lryl7XUaQWYP",
        "outputId": "60111eda-9671-4df5-84b0-8a516e7c72ac"
      },
      "source": [
        "loss, accuracy = mnist.evaluate(X_test, y_test)\n",
        "\n",
        "print('Loss = {:.5f}'.format(loss))\n",
        "print('Accuracy = {:.5f}'.format(accuracy))"
      ],
      "execution_count": 27,
      "outputs": [
        {
          "output_type": "stream",
          "name": "stdout",
          "text": [
            "313/313 [==============================] - 1s 3ms/step - loss: 0.3619 - accuracy: 0.9810\n",
            "Loss = 0.36188\n",
            "Accuracy = 0.98100\n"
          ]
        }
      ]
    },
    {
      "cell_type": "code",
      "metadata": {
        "colab": {
          "base_uri": "https://localhost:8080/"
        },
        "id": "Y0eiAmAtQWmY",
        "outputId": "e1a594a0-6c57-44a2-f6a1-92a8b4a6088b"
      },
      "source": [
        "np.set_printoptions(suppress = True, precision= 9)\n",
        "print(mnist.predict(X_test[:1,:]))"
      ],
      "execution_count": 28,
      "outputs": [
        {
          "output_type": "stream",
          "name": "stdout",
          "text": [
            "[[0. 0. 0. 0. 0. 0. 0. 1. 0. 0.]]\n"
          ]
        }
      ]
    },
    {
      "cell_type": "code",
      "metadata": {
        "colab": {
          "base_uri": "https://localhost:8080/"
        },
        "id": "VkQK3k2jQ7Ma",
        "outputId": "54654eff-0614-47a9-9e40-4dc841c84e58"
      },
      "source": [
        "print(np.argmax(mnist.predict(X_test[:1,:])))"
      ],
      "execution_count": 29,
      "outputs": [
        {
          "output_type": "stream",
          "name": "stdout",
          "text": [
            "7\n"
          ]
        }
      ]
    },
    {
      "cell_type": "code",
      "metadata": {
        "id": "1-GoZ8_SRA1v"
      },
      "source": [
        ""
      ],
      "execution_count": null,
      "outputs": []
    }
  ]
}