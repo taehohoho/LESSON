{
  "nbformat": 4,
  "nbformat_minor": 0,
  "metadata": {
    "colab": {
      "name": "210727_break_contiune.ipynb",
      "provenance": [],
      "collapsed_sections": [],
      "authorship_tag": "ABX9TyN1++zwAncZrB4YMgkNqqat",
      "include_colab_link": true
    },
    "kernelspec": {
      "name": "python3",
      "display_name": "Python 3"
    },
    "language_info": {
      "name": "python"
    }
  },
  "cells": [
    {
      "cell_type": "markdown",
      "metadata": {
        "id": "view-in-github",
        "colab_type": "text"
      },
      "source": [
        "<a href=\"https://colab.research.google.com/github/taehohoho/LESSON/blob/master/210727_break_contiune.ipynb\" target=\"_parent\"><img src=\"https://colab.research.google.com/assets/colab-badge.svg\" alt=\"Open In Colab\"/></a>"
      ]
    },
    {
      "cell_type": "code",
      "metadata": {
        "colab": {
          "base_uri": "https://localhost:8080/"
        },
        "id": "iRW_zqnuyY17",
        "outputId": "d73de857-eb3e-4769-f18b-fd779af802cd"
      },
      "source": [
        "k = 0\n",
        "while True :\n",
        "    k = k + 1   # k는 1씩 증가\n",
        "    if(k > 3):  # k가 3보다 크면\n",
        "        break   # break로 while문을 빠져나옴\n",
        "    print(k)    # k출력"
      ],
      "execution_count": 1,
      "outputs": [
        {
          "output_type": "stream",
          "text": [
            "1\n",
            "2\n",
            "3\n"
          ],
          "name": "stdout"
        }
      ]
    },
    {
      "cell_type": "code",
      "metadata": {
        "colab": {
          "base_uri": "https://localhost:8080/"
        },
        "id": "2gLgBnIK0Vq5",
        "outputId": "78cc61e0-58ee-4581-8cf4-725772b77b06"
      },
      "source": [
        "for k in range(10):\n",
        "    if(k > 2):      # k 가 2보다 크면\n",
        "        break       # break로 for문을 빠져나옴\n",
        "\n",
        "    print(k)        # k 출력"
      ],
      "execution_count": 2,
      "outputs": [
        {
          "output_type": "stream",
          "text": [
            "0\n",
            "1\n",
            "2\n"
          ],
          "name": "stdout"
        }
      ]
    },
    {
      "cell_type": "code",
      "metadata": {
        "colab": {
          "base_uri": "https://localhost:8080/"
        },
        "id": "6rXZRlr_0lte",
        "outputId": "74bbd255-b565-463f-c8db-428ec6e991ec"
      },
      "source": [
        "for k in range(5) :\n",
        "    if(k == 2):\n",
        "        continue\n",
        "\n",
        "    print(k)"
      ],
      "execution_count": 3,
      "outputs": [
        {
          "output_type": "stream",
          "text": [
            "0\n",
            "1\n",
            "3\n",
            "4\n"
          ],
          "name": "stdout"
        }
      ]
    },
    {
      "cell_type": "code",
      "metadata": {
        "colab": {
          "base_uri": "https://localhost:8080/"
        },
        "id": "tMytfoFe09Fl",
        "outputId": "eb50ce39-b7aa-40b5-e590-33c794e13df2"
      },
      "source": [
        "k = 0 \n",
        "while True :\n",
        "    k = k + 1\n",
        "\n",
        "    if(k == 2):\n",
        "        print(\"continue next\")\n",
        "        continue\n",
        "    if(k > 4):\n",
        "        break\n",
        "\n",
        "    print(k)\n"
      ],
      "execution_count": 7,
      "outputs": [
        {
          "output_type": "stream",
          "text": [
            "1\n",
            "continue next\n",
            "3\n",
            "4\n"
          ],
          "name": "stdout"
        }
      ]
    },
    {
      "cell_type": "code",
      "metadata": {
        "colab": {
          "base_uri": "https://localhost:8080/"
        },
        "id": "w5stUxkI1Cc7",
        "outputId": "e3e969c2-0da0-4264-a75a-5eb1c25218da"
      },
      "source": [
        "numbers = [1, 2, 3, 4, 5]\n",
        "square = []\n",
        "\n",
        "for i in numbers :\n",
        "    square.append(i**2)\n",
        "\n",
        "print(square)"
      ],
      "execution_count": 8,
      "outputs": [
        {
          "output_type": "stream",
          "text": [
            "[1, 4, 9, 16, 25]\n"
          ],
          "name": "stdout"
        }
      ]
    },
    {
      "cell_type": "code",
      "metadata": {
        "colab": {
          "base_uri": "https://localhost:8080/"
        },
        "id": "sqVukwbcWk6c",
        "outputId": "f4097290-f519-4e74-c791-008c2fad8127"
      },
      "source": [
        "numbers = [1, 2 , 3, 4, 5]\n",
        "square = [i**2 for i in numbers]\n",
        "print(square)"
      ],
      "execution_count": 9,
      "outputs": [
        {
          "output_type": "stream",
          "text": [
            "[1, 4, 9, 16, 25]\n"
          ],
          "name": "stdout"
        }
      ]
    },
    {
      "cell_type": "code",
      "metadata": {
        "colab": {
          "base_uri": "https://localhost:8080/"
        },
        "id": "X8NPjOoUWv_B",
        "outputId": "0dd99f22-9530-4069-9050-d6575058d569"
      },
      "source": [
        "numbers = [1, 2, 3, 4, 5]\n",
        "square = []\n",
        "\n",
        "for i in numbers :\n",
        "    if i >= 3 :\n",
        "        square.append(i**2)\n",
        "\n",
        "print(square)"
      ],
      "execution_count": 10,
      "outputs": [
        {
          "output_type": "stream",
          "text": [
            "[9, 16, 25]\n"
          ],
          "name": "stdout"
        }
      ]
    },
    {
      "cell_type": "code",
      "metadata": {
        "colab": {
          "base_uri": "https://localhost:8080/"
        },
        "id": "ocKQ6ApoW9-r",
        "outputId": "853e1074-dc8d-47ba-c4bc-03d136d6700e"
      },
      "source": [
        "numbers = [1, 2, 3, 4, 5]\n",
        "square = [i**2 for i in numbers if i >= 3]\n",
        "print(square)"
      ],
      "execution_count": 13,
      "outputs": [
        {
          "output_type": "stream",
          "text": [
            "[9, 16, 25]\n"
          ],
          "name": "stdout"
        }
      ]
    },
    {
      "cell_type": "code",
      "metadata": {
        "id": "MkCUP3mZXIRu"
      },
      "source": [
        ""
      ],
      "execution_count": null,
      "outputs": []
    }
  ]
}