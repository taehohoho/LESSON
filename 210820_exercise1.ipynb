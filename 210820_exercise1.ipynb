{
 "cells": [
  {
   "cell_type": "code",
   "execution_count": 1,
   "id": "fbb25482",
   "metadata": {},
   "outputs": [],
   "source": [
    "# 멜론 사이트 접속하기\n",
    "from selenium import webdriver\n",
    "from bs4 import BeautifulSoup\n",
    "\n",
    "driver = webdriver.Chrome('C:/Myexam/chromedriver/chromedriver.exe')\n",
    "url =    'http://www.melon.com/chart/index.htm'\n",
    "driver.get(url) \n",
    "\n",
    "html = driver.page_source\n",
    "soup = BeautifulSoup(html,'html.parser')  "
   ]
  },
  {
   "cell_type": "code",
   "execution_count": 2,
   "id": "15241882",
   "metadata": {},
   "outputs": [],
   "source": [
    "# 반복문을 이용해 곡과 가수명을 song_data에 저장하기\n",
    "song_data = []\n",
    "rank= 1\n",
    "\n",
    "songs = soup.select('table > tbody > tr')\n",
    "\n",
    "for song in songs:\n",
    "    title = song.select('div.rank01 > span > a')[0].text\n",
    "    singer = song.select('div.rank02 > a')[0].text\n",
    "    song_data.append(['Melon', rank, title, singer])\n",
    "    rank = rank + 1"
   ]
  },
  {
   "cell_type": "code",
   "execution_count": 3,
   "id": "afdfab3a",
   "metadata": {
    "scrolled": false
   },
   "outputs": [
    {
     "data": {
      "text/html": [
       "<div>\n",
       "<style scoped>\n",
       "    .dataframe tbody tr th:only-of-type {\n",
       "        vertical-align: middle;\n",
       "    }\n",
       "\n",
       "    .dataframe tbody tr th {\n",
       "        vertical-align: top;\n",
       "    }\n",
       "\n",
       "    .dataframe thead th {\n",
       "        text-align: right;\n",
       "    }\n",
       "</style>\n",
       "<table border=\"1\" class=\"dataframe\">\n",
       "  <thead>\n",
       "    <tr style=\"text-align: right;\">\n",
       "      <th></th>\n",
       "      <th>서비스</th>\n",
       "      <th>순위</th>\n",
       "      <th>타이틀</th>\n",
       "      <th>가수</th>\n",
       "    </tr>\n",
       "  </thead>\n",
       "  <tbody>\n",
       "    <tr>\n",
       "      <th>0</th>\n",
       "      <td>Melon</td>\n",
       "      <td>1</td>\n",
       "      <td>신호등</td>\n",
       "      <td>이무진</td>\n",
       "    </tr>\n",
       "    <tr>\n",
       "      <th>1</th>\n",
       "      <td>Melon</td>\n",
       "      <td>2</td>\n",
       "      <td>바라만 본다</td>\n",
       "      <td>MSG워너비(M.O.M)</td>\n",
       "    </tr>\n",
       "    <tr>\n",
       "      <th>2</th>\n",
       "      <td>Melon</td>\n",
       "      <td>3</td>\n",
       "      <td>Next Level</td>\n",
       "      <td>aespa</td>\n",
       "    </tr>\n",
       "    <tr>\n",
       "      <th>3</th>\n",
       "      <td>Melon</td>\n",
       "      <td>4</td>\n",
       "      <td>낙하 (with 아이유)</td>\n",
       "      <td>AKMU (악뮤)</td>\n",
       "    </tr>\n",
       "    <tr>\n",
       "      <th>4</th>\n",
       "      <td>Melon</td>\n",
       "      <td>5</td>\n",
       "      <td>Permission to Dance</td>\n",
       "      <td>방탄소년단</td>\n",
       "    </tr>\n",
       "  </tbody>\n",
       "</table>\n",
       "</div>"
      ],
      "text/plain": [
       "     서비스  순위                  타이틀             가수\n",
       "0  Melon   1                  신호등            이무진\n",
       "1  Melon   2               바라만 본다  MSG워너비(M.O.M)\n",
       "2  Melon   3           Next Level          aespa\n",
       "3  Melon   4        낙하 (with 아이유)      AKMU (악뮤)\n",
       "4  Melon   5  Permission to Dance          방탄소년단"
      ]
     },
     "execution_count": 3,
     "metadata": {},
     "output_type": "execute_result"
    }
   ],
   "source": [
    "# song_data 리스트를 이용해 데이터프레임 만들기\n",
    "import pandas as pd\n",
    "columns = ['서비스', '순위', '타이틀', '가수']\n",
    "pd_data = pd.DataFrame(song_data, columns = columns)\n",
    "pd_data.head()"
   ]
  },
  {
   "cell_type": "code",
   "execution_count": 5,
   "id": "8aeb3891",
   "metadata": {
    "scrolled": true
   },
   "outputs": [],
   "source": [
    "# 크롤링 결과를 엑셀파일로 저장하기\n",
    "pd_data.to_excel('./files/melon.xlsx', index= False )"
   ]
  },
  {
   "cell_type": "code",
   "execution_count": null,
   "id": "0acd1c1f",
   "metadata": {},
   "outputs": [],
   "source": []
  },
  {
   "cell_type": "code",
   "execution_count": null,
   "id": "35d21f84",
   "metadata": {},
   "outputs": [],
   "source": []
  }
 ],
 "metadata": {
  "kernelspec": {
   "display_name": "Python 3",
   "language": "python",
   "name": "python3"
  },
  "language_info": {
   "codemirror_mode": {
    "name": "ipython",
    "version": 3
   },
   "file_extension": ".py",
   "mimetype": "text/x-python",
   "name": "python",
   "nbconvert_exporter": "python",
   "pygments_lexer": "ipython3",
   "version": "3.8.8"
  }
 },
 "nbformat": 4,
 "nbformat_minor": 5
}
