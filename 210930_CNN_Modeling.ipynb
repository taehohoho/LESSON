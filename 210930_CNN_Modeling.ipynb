{
  "nbformat": 4,
  "nbformat_minor": 0,
  "metadata": {
    "colab": {
      "name": "210930_CNN_Modeling.ipynb",
      "provenance": [],
      "authorship_tag": "ABX9TyMTazWr3t4+0iOwc47hmux8",
      "include_colab_link": true
    },
    "kernelspec": {
      "name": "python3",
      "display_name": "Python 3"
    },
    "language_info": {
      "name": "python"
    },
    "accelerator": "GPU"
  },
  "cells": [
    {
      "cell_type": "markdown",
      "metadata": {
        "id": "view-in-github",
        "colab_type": "text"
      },
      "source": [
        "<a href=\"https://colab.research.google.com/github/taehohoho/LESSON/blob/master/210930_CNN_Modeling.ipynb\" target=\"_parent\"><img src=\"https://colab.research.google.com/assets/colab-badge.svg\" alt=\"Open In Colab\"/></a>"
      ]
    },
    {
      "cell_type": "code",
      "metadata": {
        "id": "qoI96ua4LMpN"
      },
      "source": [
        "import warnings\n",
        "warnings.filterwarnings('ignore')"
      ],
      "execution_count": 2,
      "outputs": []
    },
    {
      "cell_type": "code",
      "metadata": {
        "colab": {
          "base_uri": "https://localhost:8080/",
          "height": 35
        },
        "id": "5lzCp1_JLXvJ",
        "outputId": "4d188c09-a2d4-4ef9-b3f3-bdc6f3a8bb1c"
      },
      "source": [
        "import tensorflow\n",
        "tensorflow.__version__"
      ],
      "execution_count": 3,
      "outputs": [
        {
          "output_type": "execute_result",
          "data": {
            "application/vnd.google.colaboratory.intrinsic+json": {
              "type": "string"
            },
            "text/plain": [
              "'2.6.0'"
            ]
          },
          "metadata": {},
          "execution_count": 3
        }
      ]
    },
    {
      "cell_type": "code",
      "metadata": {
        "colab": {
          "base_uri": "https://localhost:8080/"
        },
        "id": "3j5GZx3oLglO",
        "outputId": "914d63e9-1075-4dba-c87d-dc2e85f7ca15"
      },
      "source": [
        "from tensorflow.keras.datasets import mnist\n",
        "(X_train, y_train), (X_test, y_test) = mnist.load_data()"
      ],
      "execution_count": 4,
      "outputs": [
        {
          "output_type": "stream",
          "name": "stdout",
          "text": [
            "Downloading data from https://storage.googleapis.com/tensorflow/tf-keras-datasets/mnist.npz\n",
            "11493376/11490434 [==============================] - 0s 0us/step\n",
            "11501568/11490434 [==============================] - 0s 0us/step\n"
          ]
        }
      ]
    },
    {
      "cell_type": "code",
      "metadata": {
        "id": "39fKPgjzLpTM"
      },
      "source": [
        "X_train = X_train.reshape((60000, 28, 28, 1))\n",
        "X_test = X_test.reshape((10000, 28, 28, 1))"
      ],
      "execution_count": 5,
      "outputs": []
    },
    {
      "cell_type": "code",
      "metadata": {
        "id": "ydBrYFH1Lzhg"
      },
      "source": [
        "X_train = X_train.astype(float)/ 255\n",
        "X_test = X_test.astype(float)/ 255"
      ],
      "execution_count": 6,
      "outputs": []
    },
    {
      "cell_type": "code",
      "metadata": {
        "id": "R0XcG0f0L55g"
      },
      "source": [
        "from tensorflow.keras.utils import to_categorical\n",
        "\n",
        "y_train = to_categorical(y_train)\n",
        "y_test = to_categorical(y_test)"
      ],
      "execution_count": 7,
      "outputs": []
    },
    {
      "cell_type": "code",
      "metadata": {
        "id": "UY63A9QAMDGY"
      },
      "source": [
        "from tensorflow.keras import models\n",
        "from tensorflow.keras import layers\n",
        "\n",
        "model = models.Sequential()\n",
        "model.add(layers.Conv2D(filters=32, kernel_size=(3,3),activation='relu', input_shape = (28,28,1)))\n",
        "model.add(layers.MaxPool2D(pool_size=(2,2)))\n",
        "model.add(layers.Conv2D(filters=64, kernel_size=(3,3),activation='relu'))\n",
        "model.add(layers.MaxPool2D(pool_size=(2,2)))\n",
        "model.add(layers.Conv2D(filters=64, kernel_size=(3,3),activation='relu'))"
      ],
      "execution_count": 9,
      "outputs": []
    },
    {
      "cell_type": "code",
      "metadata": {
        "colab": {
          "base_uri": "https://localhost:8080/"
        },
        "id": "IVjazbyPMlE3",
        "outputId": "55adfbd3-943e-4a3f-bd50-fef3cca8ea05"
      },
      "source": [
        "model.summary()"
      ],
      "execution_count": 10,
      "outputs": [
        {
          "output_type": "stream",
          "name": "stdout",
          "text": [
            "Model: \"sequential_1\"\n",
            "_________________________________________________________________\n",
            "Layer (type)                 Output Shape              Param #   \n",
            "=================================================================\n",
            "conv2d (Conv2D)              (None, 26, 26, 32)        320       \n",
            "_________________________________________________________________\n",
            "max_pooling2d (MaxPooling2D) (None, 13, 13, 32)        0         \n",
            "_________________________________________________________________\n",
            "conv2d_1 (Conv2D)            (None, 11, 11, 64)        18496     \n",
            "_________________________________________________________________\n",
            "max_pooling2d_1 (MaxPooling2 (None, 5, 5, 64)          0         \n",
            "_________________________________________________________________\n",
            "conv2d_2 (Conv2D)            (None, 3, 3, 64)          36928     \n",
            "=================================================================\n",
            "Total params: 55,744\n",
            "Trainable params: 55,744\n",
            "Non-trainable params: 0\n",
            "_________________________________________________________________\n"
          ]
        }
      ]
    },
    {
      "cell_type": "code",
      "metadata": {
        "id": "QtPBwKGxMmp1"
      },
      "source": [
        "model.add(layers.Flatten())\n",
        "model.add(layers.Dense(units=64, activation = 'relu'))\n",
        "model.add(layers.Dense(units=10, activation = 'softmax'))"
      ],
      "execution_count": 12,
      "outputs": []
    },
    {
      "cell_type": "code",
      "metadata": {
        "colab": {
          "base_uri": "https://localhost:8080/"
        },
        "id": "O2cCpvkpM0ad",
        "outputId": "6df06cf5-195e-4192-d650-0222226c5e97"
      },
      "source": [
        "model.summary()"
      ],
      "execution_count": 13,
      "outputs": [
        {
          "output_type": "stream",
          "name": "stdout",
          "text": [
            "Model: \"sequential_1\"\n",
            "_________________________________________________________________\n",
            "Layer (type)                 Output Shape              Param #   \n",
            "=================================================================\n",
            "conv2d (Conv2D)              (None, 26, 26, 32)        320       \n",
            "_________________________________________________________________\n",
            "max_pooling2d (MaxPooling2D) (None, 13, 13, 32)        0         \n",
            "_________________________________________________________________\n",
            "conv2d_1 (Conv2D)            (None, 11, 11, 64)        18496     \n",
            "_________________________________________________________________\n",
            "max_pooling2d_1 (MaxPooling2 (None, 5, 5, 64)          0         \n",
            "_________________________________________________________________\n",
            "conv2d_2 (Conv2D)            (None, 3, 3, 64)          36928     \n",
            "_________________________________________________________________\n",
            "flatten (Flatten)            (None, 576)               0         \n",
            "_________________________________________________________________\n",
            "flatten_1 (Flatten)          (None, 576)               0         \n",
            "_________________________________________________________________\n",
            "dense (Dense)                (None, 64)                36928     \n",
            "_________________________________________________________________\n",
            "dense_1 (Dense)              (None, 10)                650       \n",
            "=================================================================\n",
            "Total params: 93,322\n",
            "Trainable params: 93,322\n",
            "Non-trainable params: 0\n",
            "_________________________________________________________________\n"
          ]
        }
      ]
    },
    {
      "cell_type": "code",
      "metadata": {
        "id": "MAIuvGwnM8E9"
      },
      "source": [
        "model.compile(loss = 'categorical_crossentropy',\n",
        "              optimizer = 'rmsprop',\n",
        "              metrics = ['accuracy'])"
      ],
      "execution_count": 14,
      "outputs": []
    },
    {
      "cell_type": "code",
      "metadata": {
        "colab": {
          "base_uri": "https://localhost:8080/"
        },
        "id": "QsFyrT2WNF_u",
        "outputId": "68d164c8-ce67-4f34-c117-1449fdfa7c09"
      },
      "source": [
        "%%time\n",
        "\n",
        "Hist_mnist = model.fit(X_train, y_train,\n",
        "                       epochs = 100,\n",
        "                       batch_size = 128,\n",
        "                       validation_split = 0.2)"
      ],
      "execution_count": 16,
      "outputs": [
        {
          "output_type": "stream",
          "name": "stdout",
          "text": [
            "Epoch 1/100\n",
            "375/375 [==============================] - 38s 16ms/step - loss: 0.2811 - accuracy: 0.9110 - val_loss: 0.0835 - val_accuracy: 0.9731\n",
            "Epoch 2/100\n",
            "375/375 [==============================] - 6s 15ms/step - loss: 0.0661 - accuracy: 0.9795 - val_loss: 0.0568 - val_accuracy: 0.9833\n",
            "Epoch 3/100\n",
            "375/375 [==============================] - 6s 15ms/step - loss: 0.0425 - accuracy: 0.9864 - val_loss: 0.0713 - val_accuracy: 0.9797\n",
            "Epoch 4/100\n",
            "375/375 [==============================] - 6s 15ms/step - loss: 0.0320 - accuracy: 0.9896 - val_loss: 0.0509 - val_accuracy: 0.9857\n",
            "Epoch 5/100\n",
            "375/375 [==============================] - 6s 15ms/step - loss: 0.0251 - accuracy: 0.9920 - val_loss: 0.0473 - val_accuracy: 0.9860\n",
            "Epoch 6/100\n",
            "375/375 [==============================] - 5s 15ms/step - loss: 0.0195 - accuracy: 0.9939 - val_loss: 0.0458 - val_accuracy: 0.9880\n",
            "Epoch 7/100\n",
            "375/375 [==============================] - 5s 14ms/step - loss: 0.0150 - accuracy: 0.9948 - val_loss: 0.0464 - val_accuracy: 0.9870\n",
            "Epoch 8/100\n",
            "375/375 [==============================] - 5s 14ms/step - loss: 0.0124 - accuracy: 0.9958 - val_loss: 0.0479 - val_accuracy: 0.9879\n",
            "Epoch 9/100\n",
            "375/375 [==============================] - 5s 15ms/step - loss: 0.0108 - accuracy: 0.9967 - val_loss: 0.0413 - val_accuracy: 0.9908\n",
            "Epoch 10/100\n",
            "375/375 [==============================] - 5s 14ms/step - loss: 0.0088 - accuracy: 0.9971 - val_loss: 0.0429 - val_accuracy: 0.9898\n",
            "Epoch 11/100\n",
            "375/375 [==============================] - 5s 15ms/step - loss: 0.0072 - accuracy: 0.9975 - val_loss: 0.0462 - val_accuracy: 0.9902\n",
            "Epoch 12/100\n",
            "375/375 [==============================] - 5s 15ms/step - loss: 0.0058 - accuracy: 0.9981 - val_loss: 0.0551 - val_accuracy: 0.9890\n",
            "Epoch 13/100\n",
            "375/375 [==============================] - 5s 14ms/step - loss: 0.0055 - accuracy: 0.9981 - val_loss: 0.0498 - val_accuracy: 0.9899\n",
            "Epoch 14/100\n",
            "375/375 [==============================] - 5s 15ms/step - loss: 0.0046 - accuracy: 0.9984 - val_loss: 0.0514 - val_accuracy: 0.9904\n",
            "Epoch 15/100\n",
            "375/375 [==============================] - 5s 14ms/step - loss: 0.0035 - accuracy: 0.9986 - val_loss: 0.0736 - val_accuracy: 0.9884\n",
            "Epoch 16/100\n",
            "375/375 [==============================] - 5s 14ms/step - loss: 0.0042 - accuracy: 0.9985 - val_loss: 0.0527 - val_accuracy: 0.9904\n",
            "Epoch 17/100\n",
            "375/375 [==============================] - 5s 14ms/step - loss: 0.0030 - accuracy: 0.9989 - val_loss: 0.0549 - val_accuracy: 0.9921\n",
            "Epoch 18/100\n",
            "375/375 [==============================] - 5s 14ms/step - loss: 0.0030 - accuracy: 0.9991 - val_loss: 0.0562 - val_accuracy: 0.9909\n",
            "Epoch 19/100\n",
            "375/375 [==============================] - 5s 14ms/step - loss: 0.0031 - accuracy: 0.9989 - val_loss: 0.0584 - val_accuracy: 0.9915\n",
            "Epoch 20/100\n",
            "375/375 [==============================] - 5s 14ms/step - loss: 0.0030 - accuracy: 0.9990 - val_loss: 0.0666 - val_accuracy: 0.9911\n",
            "Epoch 21/100\n",
            "375/375 [==============================] - 5s 14ms/step - loss: 0.0025 - accuracy: 0.9992 - val_loss: 0.0554 - val_accuracy: 0.9912\n",
            "Epoch 22/100\n",
            "375/375 [==============================] - 5s 14ms/step - loss: 0.0021 - accuracy: 0.9992 - val_loss: 0.0661 - val_accuracy: 0.9904\n",
            "Epoch 23/100\n",
            "375/375 [==============================] - 5s 14ms/step - loss: 0.0023 - accuracy: 0.9993 - val_loss: 0.0765 - val_accuracy: 0.9902\n",
            "Epoch 24/100\n",
            "375/375 [==============================] - 5s 14ms/step - loss: 0.0025 - accuracy: 0.9993 - val_loss: 0.0707 - val_accuracy: 0.9914\n",
            "Epoch 25/100\n",
            "375/375 [==============================] - 5s 14ms/step - loss: 0.0020 - accuracy: 0.9993 - val_loss: 0.0699 - val_accuracy: 0.9917\n",
            "Epoch 26/100\n",
            "375/375 [==============================] - 5s 14ms/step - loss: 0.0013 - accuracy: 0.9996 - val_loss: 0.0830 - val_accuracy: 0.9917\n",
            "Epoch 27/100\n",
            "375/375 [==============================] - 5s 14ms/step - loss: 0.0019 - accuracy: 0.9994 - val_loss: 0.0713 - val_accuracy: 0.9919\n",
            "Epoch 28/100\n",
            "375/375 [==============================] - 5s 14ms/step - loss: 0.0016 - accuracy: 0.9995 - val_loss: 0.0871 - val_accuracy: 0.9911\n",
            "Epoch 29/100\n",
            "375/375 [==============================] - 5s 14ms/step - loss: 0.0022 - accuracy: 0.9994 - val_loss: 0.0841 - val_accuracy: 0.9910\n",
            "Epoch 30/100\n",
            "375/375 [==============================] - 5s 14ms/step - loss: 0.0018 - accuracy: 0.9995 - val_loss: 0.0944 - val_accuracy: 0.9896\n",
            "Epoch 31/100\n",
            "375/375 [==============================] - 5s 14ms/step - loss: 0.0013 - accuracy: 0.9997 - val_loss: 0.0806 - val_accuracy: 0.9912\n",
            "Epoch 32/100\n",
            "375/375 [==============================] - 5s 14ms/step - loss: 0.0011 - accuracy: 0.9996 - val_loss: 0.0841 - val_accuracy: 0.9915\n",
            "Epoch 33/100\n",
            "375/375 [==============================] - 5s 14ms/step - loss: 0.0016 - accuracy: 0.9995 - val_loss: 0.0845 - val_accuracy: 0.9911\n",
            "Epoch 34/100\n",
            "375/375 [==============================] - 5s 14ms/step - loss: 0.0012 - accuracy: 0.9996 - val_loss: 0.0885 - val_accuracy: 0.9915\n",
            "Epoch 35/100\n",
            "375/375 [==============================] - 5s 14ms/step - loss: 0.0014 - accuracy: 0.9996 - val_loss: 0.0964 - val_accuracy: 0.9903\n",
            "Epoch 36/100\n",
            "375/375 [==============================] - 5s 14ms/step - loss: 0.0013 - accuracy: 0.9996 - val_loss: 0.1037 - val_accuracy: 0.9900\n",
            "Epoch 37/100\n",
            "375/375 [==============================] - 5s 14ms/step - loss: 9.5783e-04 - accuracy: 0.9997 - val_loss: 0.0910 - val_accuracy: 0.9909\n",
            "Epoch 38/100\n",
            "375/375 [==============================] - 5s 14ms/step - loss: 0.0011 - accuracy: 0.9996 - val_loss: 0.1018 - val_accuracy: 0.9908\n",
            "Epoch 39/100\n",
            "375/375 [==============================] - 5s 14ms/step - loss: 0.0022 - accuracy: 0.9996 - val_loss: 0.1009 - val_accuracy: 0.9912\n",
            "Epoch 40/100\n",
            "375/375 [==============================] - 5s 14ms/step - loss: 0.0017 - accuracy: 0.9996 - val_loss: 0.1103 - val_accuracy: 0.9899\n",
            "Epoch 41/100\n",
            "375/375 [==============================] - 5s 14ms/step - loss: 8.2267e-04 - accuracy: 0.9998 - val_loss: 0.0949 - val_accuracy: 0.9926\n",
            "Epoch 42/100\n",
            "375/375 [==============================] - 5s 14ms/step - loss: 0.0013 - accuracy: 0.9997 - val_loss: 0.1018 - val_accuracy: 0.9923\n",
            "Epoch 43/100\n",
            "375/375 [==============================] - 5s 14ms/step - loss: 8.8249e-04 - accuracy: 0.9997 - val_loss: 0.0934 - val_accuracy: 0.9928\n",
            "Epoch 44/100\n",
            "375/375 [==============================] - 5s 14ms/step - loss: 9.4148e-04 - accuracy: 0.9998 - val_loss: 0.1050 - val_accuracy: 0.9918\n",
            "Epoch 45/100\n",
            "375/375 [==============================] - 5s 14ms/step - loss: 0.0013 - accuracy: 0.9996 - val_loss: 0.1081 - val_accuracy: 0.9912\n",
            "Epoch 46/100\n",
            "375/375 [==============================] - 5s 14ms/step - loss: 0.0016 - accuracy: 0.9996 - val_loss: 0.1186 - val_accuracy: 0.9911\n",
            "Epoch 47/100\n",
            "375/375 [==============================] - 5s 14ms/step - loss: 0.0013 - accuracy: 0.9998 - val_loss: 0.1110 - val_accuracy: 0.9909\n",
            "Epoch 48/100\n",
            "375/375 [==============================] - 5s 14ms/step - loss: 9.1620e-04 - accuracy: 0.9997 - val_loss: 0.1070 - val_accuracy: 0.9920\n",
            "Epoch 49/100\n",
            "375/375 [==============================] - 5s 14ms/step - loss: 8.3909e-04 - accuracy: 0.9998 - val_loss: 0.1275 - val_accuracy: 0.9911\n",
            "Epoch 50/100\n",
            "375/375 [==============================] - 5s 14ms/step - loss: 0.0015 - accuracy: 0.9996 - val_loss: 0.1298 - val_accuracy: 0.9907\n",
            "Epoch 51/100\n",
            "375/375 [==============================] - 5s 14ms/step - loss: 0.0012 - accuracy: 0.9997 - val_loss: 0.1234 - val_accuracy: 0.9918\n",
            "Epoch 52/100\n",
            "375/375 [==============================] - 5s 14ms/step - loss: 6.8027e-04 - accuracy: 0.9998 - val_loss: 0.1236 - val_accuracy: 0.9923\n",
            "Epoch 53/100\n",
            "375/375 [==============================] - 5s 14ms/step - loss: 5.6118e-04 - accuracy: 0.9998 - val_loss: 0.1370 - val_accuracy: 0.9906\n",
            "Epoch 54/100\n",
            "375/375 [==============================] - 5s 14ms/step - loss: 0.0012 - accuracy: 0.9997 - val_loss: 0.1323 - val_accuracy: 0.9911\n",
            "Epoch 55/100\n",
            "375/375 [==============================] - 5s 14ms/step - loss: 7.7625e-04 - accuracy: 0.9998 - val_loss: 0.1203 - val_accuracy: 0.9918\n",
            "Epoch 56/100\n",
            "375/375 [==============================] - 5s 14ms/step - loss: 7.9384e-04 - accuracy: 0.9999 - val_loss: 0.1294 - val_accuracy: 0.9921\n",
            "Epoch 57/100\n",
            "375/375 [==============================] - 5s 14ms/step - loss: 0.0013 - accuracy: 0.9997 - val_loss: 0.1333 - val_accuracy: 0.9906\n",
            "Epoch 58/100\n",
            "375/375 [==============================] - 5s 14ms/step - loss: 0.0010 - accuracy: 0.9997 - val_loss: 0.1312 - val_accuracy: 0.9914\n",
            "Epoch 59/100\n",
            "375/375 [==============================] - 5s 14ms/step - loss: 5.5371e-04 - accuracy: 0.9998 - val_loss: 0.1392 - val_accuracy: 0.9918\n",
            "Epoch 60/100\n",
            "375/375 [==============================] - 5s 14ms/step - loss: 0.0011 - accuracy: 0.9998 - val_loss: 0.1387 - val_accuracy: 0.9918\n",
            "Epoch 61/100\n",
            "375/375 [==============================] - 5s 14ms/step - loss: 0.0011 - accuracy: 0.9998 - val_loss: 0.1330 - val_accuracy: 0.9911\n",
            "Epoch 62/100\n",
            "375/375 [==============================] - 5s 14ms/step - loss: 4.2996e-04 - accuracy: 0.9998 - val_loss: 0.1459 - val_accuracy: 0.9910\n",
            "Epoch 63/100\n",
            "375/375 [==============================] - 5s 14ms/step - loss: 9.8761e-04 - accuracy: 0.9998 - val_loss: 0.1223 - val_accuracy: 0.9918\n",
            "Epoch 64/100\n",
            "375/375 [==============================] - 5s 14ms/step - loss: 8.7730e-04 - accuracy: 0.9998 - val_loss: 0.1290 - val_accuracy: 0.9923\n",
            "Epoch 65/100\n",
            "375/375 [==============================] - 5s 14ms/step - loss: 1.9451e-04 - accuracy: 0.9999 - val_loss: 0.1491 - val_accuracy: 0.9918\n",
            "Epoch 66/100\n",
            "375/375 [==============================] - 5s 14ms/step - loss: 7.7915e-04 - accuracy: 0.9998 - val_loss: 0.1557 - val_accuracy: 0.9921\n",
            "Epoch 67/100\n",
            "375/375 [==============================] - 5s 14ms/step - loss: 6.1159e-04 - accuracy: 0.9998 - val_loss: 0.1501 - val_accuracy: 0.9918\n",
            "Epoch 68/100\n",
            "375/375 [==============================] - 5s 14ms/step - loss: 6.4847e-04 - accuracy: 0.9998 - val_loss: 0.1461 - val_accuracy: 0.9908\n",
            "Epoch 69/100\n",
            "375/375 [==============================] - 5s 14ms/step - loss: 7.8811e-04 - accuracy: 0.9999 - val_loss: 0.1368 - val_accuracy: 0.9917\n",
            "Epoch 70/100\n",
            "375/375 [==============================] - 5s 14ms/step - loss: 9.8866e-04 - accuracy: 0.9998 - val_loss: 0.1519 - val_accuracy: 0.9920\n",
            "Epoch 71/100\n",
            "375/375 [==============================] - 5s 14ms/step - loss: 2.8082e-04 - accuracy: 0.9999 - val_loss: 0.1606 - val_accuracy: 0.9915\n",
            "Epoch 72/100\n",
            "375/375 [==============================] - 5s 14ms/step - loss: 8.6387e-04 - accuracy: 0.9999 - val_loss: 0.1440 - val_accuracy: 0.9918\n",
            "Epoch 73/100\n",
            "375/375 [==============================] - 5s 14ms/step - loss: 5.6996e-04 - accuracy: 0.9999 - val_loss: 0.1480 - val_accuracy: 0.9922\n",
            "Epoch 74/100\n",
            "375/375 [==============================] - 5s 14ms/step - loss: 0.0013 - accuracy: 0.9998 - val_loss: 0.1685 - val_accuracy: 0.9912\n",
            "Epoch 75/100\n",
            "375/375 [==============================] - 5s 14ms/step - loss: 8.6121e-04 - accuracy: 0.9998 - val_loss: 0.1626 - val_accuracy: 0.9907\n",
            "Epoch 76/100\n",
            "375/375 [==============================] - 5s 14ms/step - loss: 3.8360e-04 - accuracy: 0.9999 - val_loss: 0.1608 - val_accuracy: 0.9914\n",
            "Epoch 77/100\n",
            "375/375 [==============================] - 5s 14ms/step - loss: 0.0013 - accuracy: 0.9998 - val_loss: 0.1622 - val_accuracy: 0.9907\n",
            "Epoch 78/100\n",
            "375/375 [==============================] - 5s 14ms/step - loss: 6.4089e-04 - accuracy: 0.9999 - val_loss: 0.1653 - val_accuracy: 0.9915\n",
            "Epoch 79/100\n",
            "375/375 [==============================] - 5s 14ms/step - loss: 4.7978e-04 - accuracy: 0.9999 - val_loss: 0.1655 - val_accuracy: 0.9911\n",
            "Epoch 80/100\n",
            "375/375 [==============================] - 5s 14ms/step - loss: 2.6172e-04 - accuracy: 0.9999 - val_loss: 0.1486 - val_accuracy: 0.9914\n",
            "Epoch 81/100\n",
            "375/375 [==============================] - 5s 14ms/step - loss: 4.2850e-04 - accuracy: 0.9999 - val_loss: 0.1671 - val_accuracy: 0.9909\n",
            "Epoch 82/100\n",
            "375/375 [==============================] - 5s 14ms/step - loss: 5.5423e-04 - accuracy: 0.9999 - val_loss: 0.1665 - val_accuracy: 0.9916\n",
            "Epoch 83/100\n",
            "375/375 [==============================] - 5s 14ms/step - loss: 8.1272e-04 - accuracy: 0.9999 - val_loss: 0.1831 - val_accuracy: 0.9916\n",
            "Epoch 84/100\n",
            "375/375 [==============================] - 5s 14ms/step - loss: 5.2107e-04 - accuracy: 0.9999 - val_loss: 0.2002 - val_accuracy: 0.9915\n",
            "Epoch 85/100\n",
            "375/375 [==============================] - 5s 14ms/step - loss: 6.1209e-04 - accuracy: 0.9999 - val_loss: 0.1982 - val_accuracy: 0.9908\n",
            "Epoch 86/100\n",
            "375/375 [==============================] - 5s 14ms/step - loss: 7.7375e-04 - accuracy: 0.9998 - val_loss: 0.1871 - val_accuracy: 0.9917\n",
            "Epoch 87/100\n",
            "375/375 [==============================] - 5s 14ms/step - loss: 5.5790e-04 - accuracy: 0.9999 - val_loss: 0.2104 - val_accuracy: 0.9914\n",
            "Epoch 88/100\n",
            "375/375 [==============================] - 5s 14ms/step - loss: 5.1166e-04 - accuracy: 0.9999 - val_loss: 0.2223 - val_accuracy: 0.9904\n",
            "Epoch 89/100\n",
            "375/375 [==============================] - 5s 14ms/step - loss: 4.4491e-04 - accuracy: 0.9999 - val_loss: 0.1881 - val_accuracy: 0.9921\n",
            "Epoch 90/100\n",
            "375/375 [==============================] - 5s 14ms/step - loss: 6.1956e-04 - accuracy: 0.9998 - val_loss: 0.1902 - val_accuracy: 0.9914\n",
            "Epoch 91/100\n",
            "375/375 [==============================] - 5s 14ms/step - loss: 5.2205e-04 - accuracy: 0.9999 - val_loss: 0.1965 - val_accuracy: 0.9914\n",
            "Epoch 92/100\n",
            "375/375 [==============================] - 5s 14ms/step - loss: 5.8682e-04 - accuracy: 0.9999 - val_loss: 0.1839 - val_accuracy: 0.9916\n",
            "Epoch 93/100\n",
            "375/375 [==============================] - 5s 14ms/step - loss: 0.0014 - accuracy: 0.9998 - val_loss: 0.1958 - val_accuracy: 0.9921\n",
            "Epoch 94/100\n",
            "375/375 [==============================] - 5s 14ms/step - loss: 0.0014 - accuracy: 0.9998 - val_loss: 0.1844 - val_accuracy: 0.9917\n",
            "Epoch 95/100\n",
            "375/375 [==============================] - 5s 14ms/step - loss: 2.3028e-04 - accuracy: 0.9999 - val_loss: 0.2033 - val_accuracy: 0.9919\n",
            "Epoch 96/100\n",
            "375/375 [==============================] - 5s 14ms/step - loss: 6.7350e-04 - accuracy: 0.9999 - val_loss: 0.1857 - val_accuracy: 0.9918\n",
            "Epoch 97/100\n",
            "375/375 [==============================] - 5s 14ms/step - loss: 4.0336e-04 - accuracy: 0.9999 - val_loss: 0.1959 - val_accuracy: 0.9912\n",
            "Epoch 98/100\n",
            "375/375 [==============================] - 5s 14ms/step - loss: 7.2917e-04 - accuracy: 0.9999 - val_loss: 0.1904 - val_accuracy: 0.9914\n",
            "Epoch 99/100\n",
            "375/375 [==============================] - 5s 14ms/step - loss: 5.3354e-04 - accuracy: 1.0000 - val_loss: 0.2075 - val_accuracy: 0.9912\n",
            "Epoch 100/100\n",
            "375/375 [==============================] - 5s 14ms/step - loss: 4.0387e-04 - accuracy: 0.9999 - val_loss: 0.2265 - val_accuracy: 0.9918\n",
            "CPU times: user 8min 36s, sys: 35.6 s, total: 9min 12s\n",
            "Wall time: 9min 23s\n"
          ]
        }
      ]
    },
    {
      "cell_type": "code",
      "metadata": {
        "colab": {
          "base_uri": "https://localhost:8080/",
          "height": 404
        },
        "id": "4EeXoPLeNQND",
        "outputId": "0182d406-ddb0-4477-a636-ff36048f43b3"
      },
      "source": [
        "import matplotlib.pyplot as plt\n",
        "epochs = range(1, len(Hist_mnist.history['loss'])+1)\n",
        "\n",
        "plt.figure(figsize = (9,6))\n",
        "plt.plot(epochs, Hist_mnist.history['loss'])\n",
        "plt.plot(epochs, Hist_mnist.history['val_loss'])\n",
        "plt.title('Training & Validation Loss')\n",
        "plt.xlabel('Epochs')\n",
        "plt.ylabel('Loss')\n",
        "plt.legend(['Training Loss', 'Validation Loss'])\n",
        "plt.grid()\n",
        "plt.show()"
      ],
      "execution_count": 18,
      "outputs": [
        {
          "output_type": "display_data",
          "data": {
            "image/png": "[encoded data removed]",
            "text/plain": [
              "<Figure size 648x432 with 1 Axes>"
            ]
          },
          "metadata": {
            "needs_background": "light"
          }
        }
      ]
    },
    {
      "cell_type": "code",
      "metadata": {
        "colab": {
          "base_uri": "https://localhost:8080/"
        },
        "id": "c0p_UeQXN6f1",
        "outputId": "577addac-c108-441d-d86a-aede60324007"
      },
      "source": [
        "loss, accuracy = model.evaluate(X_test, y_test)\n",
        "\n",
        "print('Loss = {:.5f}'.format(loss))\n",
        "print('Accuracy = {:.5f}'.format(accuracy))"
      ],
      "execution_count": 19,
      "outputs": [
        {
          "output_type": "stream",
          "name": "stdout",
          "text": [
            "313/313 [==============================] - 1s 4ms/step - loss: 0.1687 - accuracy: 0.9919\n",
            "Loss = 0.16872\n",
            "Accuracy = 0.99190\n"
          ]
        }
      ]
    }
  ]
}