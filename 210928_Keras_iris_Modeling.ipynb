{
  "nbformat": 4,
  "nbformat_minor": 0,
  "metadata": {
    "colab": {
      "name": "210928_Keras_iris_Modeling.ipynb",
      "provenance": [],
      "collapsed_sections": [],
      "authorship_tag": "ABX9TyNTZropPIoNDdb0WwSgDfCl",
      "include_colab_link": true
    },
    "kernelspec": {
      "name": "python3",
      "display_name": "Python 3"
    },
    "language_info": {
      "name": "python"
    }
  },
  "cells": [
    {
      "cell_type": "markdown",
      "metadata": {
        "id": "view-in-github",
        "colab_type": "text"
      },
      "source": [
        "<a href=\"https://colab.research.google.com/github/taehohoho/LESSON/blob/master/210928_Keras_iris_Modeling.ipynb\" target=\"_parent\"><img src=\"https://colab.research.google.com/assets/colab-badge.svg\" alt=\"Open In Colab\"/></a>"
      ]
    },
    {
      "cell_type": "code",
      "metadata": {
        "id": "bsFCIYmAYdLF"
      },
      "source": [
        "import warnings\n",
        "warnings.filterwarnings('ignore')"
      ],
      "execution_count": 2,
      "outputs": []
    },
    {
      "cell_type": "code",
      "metadata": {
        "id": "2XHDdAD3Yp3z"
      },
      "source": [
        "import seaborn as sns\n",
        "\n",
        "iris = sns.load_dataset('iris')"
      ],
      "execution_count": 3,
      "outputs": []
    },
    {
      "cell_type": "code",
      "metadata": {
        "colab": {
          "base_uri": "https://localhost:8080/"
        },
        "id": "ITHRTRhNYz9Y",
        "outputId": "e8a3f3a2-d8bf-47cb-9fe7-250492c03ebe"
      },
      "source": [
        "iris.info()"
      ],
      "execution_count": 4,
      "outputs": [
        {
          "output_type": "stream",
          "name": "stdout",
          "text": [
            "<class 'pandas.core.frame.DataFrame'>\n",
            "RangeIndex: 150 entries, 0 to 149\n",
            "Data columns (total 5 columns):\n",
            " #   Column        Non-Null Count  Dtype  \n",
            "---  ------        --------------  -----  \n",
            " 0   sepal_length  150 non-null    float64\n",
            " 1   sepal_width   150 non-null    float64\n",
            " 2   petal_length  150 non-null    float64\n",
            " 3   petal_width   150 non-null    float64\n",
            " 4   species       150 non-null    object \n",
            "dtypes: float64(4), object(1)\n",
            "memory usage: 6.0+ KB\n"
          ]
        }
      ]
    },
    {
      "cell_type": "code",
      "metadata": {
        "colab": {
          "base_uri": "https://localhost:8080/",
          "height": 204
        },
        "id": "sEsWfmFlY0_Y",
        "outputId": "5e27bd3d-573c-4680-9fc0-92adcc58de4a"
      },
      "source": [
        "iris.head()"
      ],
      "execution_count": 5,
      "outputs": [
        {
          "output_type": "execute_result",
          "data": {
            "text/html": [
              "<div>\n",
              "<style scoped>\n",
              "    .dataframe tbody tr th:only-of-type {\n",
              "        vertical-align: middle;\n",
              "    }\n",
              "\n",
              "    .dataframe tbody tr th {\n",
              "        vertical-align: top;\n",
              "    }\n",
              "\n",
              "    .dataframe thead th {\n",
              "        text-align: right;\n",
              "    }\n",
              "</style>\n",
              "<table border=\"1\" class=\"dataframe\">\n",
              "  <thead>\n",
              "    <tr style=\"text-align: right;\">\n",
              "      <th></th>\n",
              "      <th>sepal_length</th>\n",
              "      <th>sepal_width</th>\n",
              "      <th>petal_length</th>\n",
              "      <th>petal_width</th>\n",
              "      <th>species</th>\n",
              "    </tr>\n",
              "  </thead>\n",
              "  <tbody>\n",
              "    <tr>\n",
              "      <th>0</th>\n",
              "      <td>5.1</td>\n",
              "      <td>3.5</td>\n",
              "      <td>1.4</td>\n",
              "      <td>0.2</td>\n",
              "      <td>setosa</td>\n",
              "    </tr>\n",
              "    <tr>\n",
              "      <th>1</th>\n",
              "      <td>4.9</td>\n",
              "      <td>3.0</td>\n",
              "      <td>1.4</td>\n",
              "      <td>0.2</td>\n",
              "      <td>setosa</td>\n",
              "    </tr>\n",
              "    <tr>\n",
              "      <th>2</th>\n",
              "      <td>4.7</td>\n",
              "      <td>3.2</td>\n",
              "      <td>1.3</td>\n",
              "      <td>0.2</td>\n",
              "      <td>setosa</td>\n",
              "    </tr>\n",
              "    <tr>\n",
              "      <th>3</th>\n",
              "      <td>4.6</td>\n",
              "      <td>3.1</td>\n",
              "      <td>1.5</td>\n",
              "      <td>0.2</td>\n",
              "      <td>setosa</td>\n",
              "    </tr>\n",
              "    <tr>\n",
              "      <th>4</th>\n",
              "      <td>5.0</td>\n",
              "      <td>3.6</td>\n",
              "      <td>1.4</td>\n",
              "      <td>0.2</td>\n",
              "      <td>setosa</td>\n",
              "    </tr>\n",
              "  </tbody>\n",
              "</table>\n",
              "</div>"
            ],
            "text/plain": [
              "   sepal_length  sepal_width  petal_length  petal_width species\n",
              "0           5.1          3.5           1.4          0.2  setosa\n",
              "1           4.9          3.0           1.4          0.2  setosa\n",
              "2           4.7          3.2           1.3          0.2  setosa\n",
              "3           4.6          3.1           1.5          0.2  setosa\n",
              "4           5.0          3.6           1.4          0.2  setosa"
            ]
          },
          "metadata": {},
          "execution_count": 5
        }
      ]
    },
    {
      "cell_type": "code",
      "metadata": {
        "colab": {
          "base_uri": "https://localhost:8080/"
        },
        "id": "3Omc5qhvY4m2",
        "outputId": "06d503a1-67e6-4d0b-de71-8c419014c571"
      },
      "source": [
        "iris.species.value_counts()"
      ],
      "execution_count": 6,
      "outputs": [
        {
          "output_type": "execute_result",
          "data": {
            "text/plain": [
              "versicolor    50\n",
              "setosa        50\n",
              "virginica     50\n",
              "Name: species, dtype: int64"
            ]
          },
          "metadata": {},
          "execution_count": 6
        }
      ]
    },
    {
      "cell_type": "code",
      "metadata": {
        "colab": {
          "base_uri": "https://localhost:8080/"
        },
        "id": "WrzdCHFaY7yM",
        "outputId": "848bb1b7-0ccc-48f6-9d4d-495458d33ab2"
      },
      "source": [
        "iris_AR = iris.values\n",
        "\n",
        "iris_AR"
      ],
      "execution_count": 8,
      "outputs": [
        {
          "output_type": "execute_result",
          "data": {
            "text/plain": [
              "array([[5.1, 3.5, 1.4, 0.2, 'setosa'],\n",
              "       [4.9, 3.0, 1.4, 0.2, 'setosa'],\n",
              "       [4.7, 3.2, 1.3, 0.2, 'setosa'],\n",
              "       [4.6, 3.1, 1.5, 0.2, 'setosa'],\n",
              "       [5.0, 3.6, 1.4, 0.2, 'setosa'],\n",
              "       [5.4, 3.9, 1.7, 0.4, 'setosa'],\n",
              "       [4.6, 3.4, 1.4, 0.3, 'setosa'],\n",
              "       [5.0, 3.4, 1.5, 0.2, 'setosa'],\n",
              "       [4.4, 2.9, 1.4, 0.2, 'setosa'],\n",
              "       [4.9, 3.1, 1.5, 0.1, 'setosa'],\n",
              "       [5.4, 3.7, 1.5, 0.2, 'setosa'],\n",
              "       [4.8, 3.4, 1.6, 0.2, 'setosa'],\n",
              "       [4.8, 3.0, 1.4, 0.1, 'setosa'],\n",
              "       [4.3, 3.0, 1.1, 0.1, 'setosa'],\n",
              "       [5.8, 4.0, 1.2, 0.2, 'setosa'],\n",
              "       [5.7, 4.4, 1.5, 0.4, 'setosa'],\n",
              "       [5.4, 3.9, 1.3, 0.4, 'setosa'],\n",
              "       [5.1, 3.5, 1.4, 0.3, 'setosa'],\n",
              "       [5.7, 3.8, 1.7, 0.3, 'setosa'],\n",
              "       [5.1, 3.8, 1.5, 0.3, 'setosa'],\n",
              "       [5.4, 3.4, 1.7, 0.2, 'setosa'],\n",
              "       [5.1, 3.7, 1.5, 0.4, 'setosa'],\n",
              "       [4.6, 3.6, 1.0, 0.2, 'setosa'],\n",
              "       [5.1, 3.3, 1.7, 0.5, 'setosa'],\n",
              "       [4.8, 3.4, 1.9, 0.2, 'setosa'],\n",
              "       [5.0, 3.0, 1.6, 0.2, 'setosa'],\n",
              "       [5.0, 3.4, 1.6, 0.4, 'setosa'],\n",
              "       [5.2, 3.5, 1.5, 0.2, 'setosa'],\n",
              "       [5.2, 3.4, 1.4, 0.2, 'setosa'],\n",
              "       [4.7, 3.2, 1.6, 0.2, 'setosa'],\n",
              "       [4.8, 3.1, 1.6, 0.2, 'setosa'],\n",
              "       [5.4, 3.4, 1.5, 0.4, 'setosa'],\n",
              "       [5.2, 4.1, 1.5, 0.1, 'setosa'],\n",
              "       [5.5, 4.2, 1.4, 0.2, 'setosa'],\n",
              "       [4.9, 3.1, 1.5, 0.2, 'setosa'],\n",
              "       [5.0, 3.2, 1.2, 0.2, 'setosa'],\n",
              "       [5.5, 3.5, 1.3, 0.2, 'setosa'],\n",
              "       [4.9, 3.6, 1.4, 0.1, 'setosa'],\n",
              "       [4.4, 3.0, 1.3, 0.2, 'setosa'],\n",
              "       [5.1, 3.4, 1.5, 0.2, 'setosa'],\n",
              "       [5.0, 3.5, 1.3, 0.3, 'setosa'],\n",
              "       [4.5, 2.3, 1.3, 0.3, 'setosa'],\n",
              "       [4.4, 3.2, 1.3, 0.2, 'setosa'],\n",
              "       [5.0, 3.5, 1.6, 0.6, 'setosa'],\n",
              "       [5.1, 3.8, 1.9, 0.4, 'setosa'],\n",
              "       [4.8, 3.0, 1.4, 0.3, 'setosa'],\n",
              "       [5.1, 3.8, 1.6, 0.2, 'setosa'],\n",
              "       [4.6, 3.2, 1.4, 0.2, 'setosa'],\n",
              "       [5.3, 3.7, 1.5, 0.2, 'setosa'],\n",
              "       [5.0, 3.3, 1.4, 0.2, 'setosa'],\n",
              "       [7.0, 3.2, 4.7, 1.4, 'versicolor'],\n",
              "       [6.4, 3.2, 4.5, 1.5, 'versicolor'],\n",
              "       [6.9, 3.1, 4.9, 1.5, 'versicolor'],\n",
              "       [5.5, 2.3, 4.0, 1.3, 'versicolor'],\n",
              "       [6.5, 2.8, 4.6, 1.5, 'versicolor'],\n",
              "       [5.7, 2.8, 4.5, 1.3, 'versicolor'],\n",
              "       [6.3, 3.3, 4.7, 1.6, 'versicolor'],\n",
              "       [4.9, 2.4, 3.3, 1.0, 'versicolor'],\n",
              "       [6.6, 2.9, 4.6, 1.3, 'versicolor'],\n",
              "       [5.2, 2.7, 3.9, 1.4, 'versicolor'],\n",
              "       [5.0, 2.0, 3.5, 1.0, 'versicolor'],\n",
              "       [5.9, 3.0, 4.2, 1.5, 'versicolor'],\n",
              "       [6.0, 2.2, 4.0, 1.0, 'versicolor'],\n",
              "       [6.1, 2.9, 4.7, 1.4, 'versicolor'],\n",
              "       [5.6, 2.9, 3.6, 1.3, 'versicolor'],\n",
              "       [6.7, 3.1, 4.4, 1.4, 'versicolor'],\n",
              "       [5.6, 3.0, 4.5, 1.5, 'versicolor'],\n",
              "       [5.8, 2.7, 4.1, 1.0, 'versicolor'],\n",
              "       [6.2, 2.2, 4.5, 1.5, 'versicolor'],\n",
              "       [5.6, 2.5, 3.9, 1.1, 'versicolor'],\n",
              "       [5.9, 3.2, 4.8, 1.8, 'versicolor'],\n",
              "       [6.1, 2.8, 4.0, 1.3, 'versicolor'],\n",
              "       [6.3, 2.5, 4.9, 1.5, 'versicolor'],\n",
              "       [6.1, 2.8, 4.7, 1.2, 'versicolor'],\n",
              "       [6.4, 2.9, 4.3, 1.3, 'versicolor'],\n",
              "       [6.6, 3.0, 4.4, 1.4, 'versicolor'],\n",
              "       [6.8, 2.8, 4.8, 1.4, 'versicolor'],\n",
              "       [6.7, 3.0, 5.0, 1.7, 'versicolor'],\n",
              "       [6.0, 2.9, 4.5, 1.5, 'versicolor'],\n",
              "       [5.7, 2.6, 3.5, 1.0, 'versicolor'],\n",
              "       [5.5, 2.4, 3.8, 1.1, 'versicolor'],\n",
              "       [5.5, 2.4, 3.7, 1.0, 'versicolor'],\n",
              "       [5.8, 2.7, 3.9, 1.2, 'versicolor'],\n",
              "       [6.0, 2.7, 5.1, 1.6, 'versicolor'],\n",
              "       [5.4, 3.0, 4.5, 1.5, 'versicolor'],\n",
              "       [6.0, 3.4, 4.5, 1.6, 'versicolor'],\n",
              "       [6.7, 3.1, 4.7, 1.5, 'versicolor'],\n",
              "       [6.3, 2.3, 4.4, 1.3, 'versicolor'],\n",
              "       [5.6, 3.0, 4.1, 1.3, 'versicolor'],\n",
              "       [5.5, 2.5, 4.0, 1.3, 'versicolor'],\n",
              "       [5.5, 2.6, 4.4, 1.2, 'versicolor'],\n",
              "       [6.1, 3.0, 4.6, 1.4, 'versicolor'],\n",
              "       [5.8, 2.6, 4.0, 1.2, 'versicolor'],\n",
              "       [5.0, 2.3, 3.3, 1.0, 'versicolor'],\n",
              "       [5.6, 2.7, 4.2, 1.3, 'versicolor'],\n",
              "       [5.7, 3.0, 4.2, 1.2, 'versicolor'],\n",
              "       [5.7, 2.9, 4.2, 1.3, 'versicolor'],\n",
              "       [6.2, 2.9, 4.3, 1.3, 'versicolor'],\n",
              "       [5.1, 2.5, 3.0, 1.1, 'versicolor'],\n",
              "       [5.7, 2.8, 4.1, 1.3, 'versicolor'],\n",
              "       [6.3, 3.3, 6.0, 2.5, 'virginica'],\n",
              "       [5.8, 2.7, 5.1, 1.9, 'virginica'],\n",
              "       [7.1, 3.0, 5.9, 2.1, 'virginica'],\n",
              "       [6.3, 2.9, 5.6, 1.8, 'virginica'],\n",
              "       [6.5, 3.0, 5.8, 2.2, 'virginica'],\n",
              "       [7.6, 3.0, 6.6, 2.1, 'virginica'],\n",
              "       [4.9, 2.5, 4.5, 1.7, 'virginica'],\n",
              "       [7.3, 2.9, 6.3, 1.8, 'virginica'],\n",
              "       [6.7, 2.5, 5.8, 1.8, 'virginica'],\n",
              "       [7.2, 3.6, 6.1, 2.5, 'virginica'],\n",
              "       [6.5, 3.2, 5.1, 2.0, 'virginica'],\n",
              "       [6.4, 2.7, 5.3, 1.9, 'virginica'],\n",
              "       [6.8, 3.0, 5.5, 2.1, 'virginica'],\n",
              "       [5.7, 2.5, 5.0, 2.0, 'virginica'],\n",
              "       [5.8, 2.8, 5.1, 2.4, 'virginica'],\n",
              "       [6.4, 3.2, 5.3, 2.3, 'virginica'],\n",
              "       [6.5, 3.0, 5.5, 1.8, 'virginica'],\n",
              "       [7.7, 3.8, 6.7, 2.2, 'virginica'],\n",
              "       [7.7, 2.6, 6.9, 2.3, 'virginica'],\n",
              "       [6.0, 2.2, 5.0, 1.5, 'virginica'],\n",
              "       [6.9, 3.2, 5.7, 2.3, 'virginica'],\n",
              "       [5.6, 2.8, 4.9, 2.0, 'virginica'],\n",
              "       [7.7, 2.8, 6.7, 2.0, 'virginica'],\n",
              "       [6.3, 2.7, 4.9, 1.8, 'virginica'],\n",
              "       [6.7, 3.3, 5.7, 2.1, 'virginica'],\n",
              "       [7.2, 3.2, 6.0, 1.8, 'virginica'],\n",
              "       [6.2, 2.8, 4.8, 1.8, 'virginica'],\n",
              "       [6.1, 3.0, 4.9, 1.8, 'virginica'],\n",
              "       [6.4, 2.8, 5.6, 2.1, 'virginica'],\n",
              "       [7.2, 3.0, 5.8, 1.6, 'virginica'],\n",
              "       [7.4, 2.8, 6.1, 1.9, 'virginica'],\n",
              "       [7.9, 3.8, 6.4, 2.0, 'virginica'],\n",
              "       [6.4, 2.8, 5.6, 2.2, 'virginica'],\n",
              "       [6.3, 2.8, 5.1, 1.5, 'virginica'],\n",
              "       [6.1, 2.6, 5.6, 1.4, 'virginica'],\n",
              "       [7.7, 3.0, 6.1, 2.3, 'virginica'],\n",
              "       [6.3, 3.4, 5.6, 2.4, 'virginica'],\n",
              "       [6.4, 3.1, 5.5, 1.8, 'virginica'],\n",
              "       [6.0, 3.0, 4.8, 1.8, 'virginica'],\n",
              "       [6.9, 3.1, 5.4, 2.1, 'virginica'],\n",
              "       [6.7, 3.1, 5.6, 2.4, 'virginica'],\n",
              "       [6.9, 3.1, 5.1, 2.3, 'virginica'],\n",
              "       [5.8, 2.7, 5.1, 1.9, 'virginica'],\n",
              "       [6.8, 3.2, 5.9, 2.3, 'virginica'],\n",
              "       [6.7, 3.3, 5.7, 2.5, 'virginica'],\n",
              "       [6.7, 3.0, 5.2, 2.3, 'virginica'],\n",
              "       [6.3, 2.5, 5.0, 1.9, 'virginica'],\n",
              "       [6.5, 3.0, 5.2, 2.0, 'virginica'],\n",
              "       [6.2, 3.4, 5.4, 2.3, 'virginica'],\n",
              "       [5.9, 3.0, 5.1, 1.8, 'virginica']], dtype=object)"
            ]
          },
          "metadata": {},
          "execution_count": 8
        }
      ]
    },
    {
      "cell_type": "code",
      "metadata": {
        "colab": {
          "base_uri": "https://localhost:8080/"
        },
        "id": "h5YE4NOVY-pL",
        "outputId": "50f1a572-32d4-4025-c0c7-44f7ad90772e"
      },
      "source": [
        "AR_X = iris_AR[:, 0:4].astype(float)\n",
        "AR_y = iris_AR[:, 4]\n",
        "\n",
        "AR_X.shape, AR_y.shape"
      ],
      "execution_count": 9,
      "outputs": [
        {
          "output_type": "execute_result",
          "data": {
            "text/plain": [
              "((150, 4), (150,))"
            ]
          },
          "metadata": {},
          "execution_count": 9
        }
      ]
    },
    {
      "cell_type": "code",
      "metadata": {
        "colab": {
          "base_uri": "https://localhost:8080/"
        },
        "id": "uufnw1dpZQFa",
        "outputId": "33f54b28-90f9-48e4-af78-bca631e7dad5"
      },
      "source": [
        "from sklearn.preprocessing import LabelEncoder\n",
        "\n",
        "encoder = LabelEncoder()\n",
        "AR_yLBE = encoder.fit_transform(AR_y)\n",
        "AR_yLBE"
      ],
      "execution_count": 11,
      "outputs": [
        {
          "output_type": "execute_result",
          "data": {
            "text/plain": [
              "array([0, 0, 0, 0, 0, 0, 0, 0, 0, 0, 0, 0, 0, 0, 0, 0, 0, 0, 0, 0, 0, 0,\n",
              "       0, 0, 0, 0, 0, 0, 0, 0, 0, 0, 0, 0, 0, 0, 0, 0, 0, 0, 0, 0, 0, 0,\n",
              "       0, 0, 0, 0, 0, 0, 1, 1, 1, 1, 1, 1, 1, 1, 1, 1, 1, 1, 1, 1, 1, 1,\n",
              "       1, 1, 1, 1, 1, 1, 1, 1, 1, 1, 1, 1, 1, 1, 1, 1, 1, 1, 1, 1, 1, 1,\n",
              "       1, 1, 1, 1, 1, 1, 1, 1, 1, 1, 1, 1, 2, 2, 2, 2, 2, 2, 2, 2, 2, 2,\n",
              "       2, 2, 2, 2, 2, 2, 2, 2, 2, 2, 2, 2, 2, 2, 2, 2, 2, 2, 2, 2, 2, 2,\n",
              "       2, 2, 2, 2, 2, 2, 2, 2, 2, 2, 2, 2, 2, 2, 2, 2, 2, 2])"
            ]
          },
          "metadata": {},
          "execution_count": 11
        }
      ]
    },
    {
      "cell_type": "code",
      "metadata": {
        "colab": {
          "base_uri": "https://localhost:8080/"
        },
        "id": "951V7ywsZbkZ",
        "outputId": "028f1ae5-57b1-40e8-9d6b-92ecddd0bfdc"
      },
      "source": [
        "from tensorflow.keras.utils import to_categorical\n",
        "\n",
        "AR_yOHE = to_categorical(AR_yLBE)\n",
        "\n",
        "AR_yLBE"
      ],
      "execution_count": 12,
      "outputs": [
        {
          "output_type": "execute_result",
          "data": {
            "text/plain": [
              "array([0, 0, 0, 0, 0, 0, 0, 0, 0, 0, 0, 0, 0, 0, 0, 0, 0, 0, 0, 0, 0, 0,\n",
              "       0, 0, 0, 0, 0, 0, 0, 0, 0, 0, 0, 0, 0, 0, 0, 0, 0, 0, 0, 0, 0, 0,\n",
              "       0, 0, 0, 0, 0, 0, 1, 1, 1, 1, 1, 1, 1, 1, 1, 1, 1, 1, 1, 1, 1, 1,\n",
              "       1, 1, 1, 1, 1, 1, 1, 1, 1, 1, 1, 1, 1, 1, 1, 1, 1, 1, 1, 1, 1, 1,\n",
              "       1, 1, 1, 1, 1, 1, 1, 1, 1, 1, 1, 1, 2, 2, 2, 2, 2, 2, 2, 2, 2, 2,\n",
              "       2, 2, 2, 2, 2, 2, 2, 2, 2, 2, 2, 2, 2, 2, 2, 2, 2, 2, 2, 2, 2, 2,\n",
              "       2, 2, 2, 2, 2, 2, 2, 2, 2, 2, 2, 2, 2, 2, 2, 2, 2, 2])"
            ]
          },
          "metadata": {},
          "execution_count": 12
        }
      ]
    },
    {
      "cell_type": "code",
      "metadata": {
        "colab": {
          "base_uri": "https://localhost:8080/",
          "height": 35
        },
        "id": "6p2ABylSZsY-",
        "outputId": "f5f1f6e1-e20e-4b00-ce4f-8a824f4fac74"
      },
      "source": [
        "import tensorflow\n",
        "\n",
        "tensorflow.__version__"
      ],
      "execution_count": 14,
      "outputs": [
        {
          "output_type": "execute_result",
          "data": {
            "application/vnd.google.colaboratory.intrinsic+json": {
              "type": "string"
            },
            "text/plain": [
              "'2.6.0'"
            ]
          },
          "metadata": {},
          "execution_count": 14
        }
      ]
    },
    {
      "cell_type": "code",
      "metadata": {
        "colab": {
          "base_uri": "https://localhost:8080/",
          "height": 35
        },
        "id": "Svdkl_5LZyMq",
        "outputId": "bcd665ac-f140-43f6-b1be-41fdde00b400"
      },
      "source": [
        "import keras\n",
        "\n",
        "keras.__version__"
      ],
      "execution_count": 15,
      "outputs": [
        {
          "output_type": "execute_result",
          "data": {
            "application/vnd.google.colaboratory.intrinsic+json": {
              "type": "string"
            },
            "text/plain": [
              "'2.6.0'"
            ]
          },
          "metadata": {},
          "execution_count": 15
        }
      ]
    },
    {
      "cell_type": "code",
      "metadata": {
        "colab": {
          "base_uri": "https://localhost:8080/"
        },
        "id": "vwO5CT_vbaep",
        "outputId": "de8d0837-f307-4dc2-a26d-2bb054091575"
      },
      "source": [
        "from sklearn.model_selection import train_test_split\n",
        "\n",
        "X_train, X_test, y_train, y_test = train_test_split(AR_X, AR_yOHE,\n",
        "                                                    test_size = 0.3,\n",
        "                                                    random_state = 2045)\n",
        "\n",
        "X_train.shape, X_test.shape, y_train.shape, y_test.shape"
      ],
      "execution_count": 24,
      "outputs": [
        {
          "output_type": "execute_result",
          "data": {
            "text/plain": [
              "((105, 4), (45, 4), (105, 3), (45, 3))"
            ]
          },
          "metadata": {},
          "execution_count": 24
        }
      ]
    },
    {
      "cell_type": "code",
      "metadata": {
        "id": "fpbO6OjrZ5ZO"
      },
      "source": [
        "from tensorflow.keras import models\n",
        "from tensorflow.keras import layers"
      ],
      "execution_count": 25,
      "outputs": []
    },
    {
      "cell_type": "code",
      "metadata": {
        "id": "OL6rtpcLaAjo"
      },
      "source": [
        "Model_iris = models.Sequential()\n",
        "\n",
        "Model_iris.add(layers.Dense(16, activation='relu', input_shape = (4,)))\n",
        "Model_iris.add(layers.Dense(8, activation = 'relu'))\n",
        "Model_iris.add(layers.Dense(3, activation= 'softmax'))"
      ],
      "execution_count": 26,
      "outputs": []
    },
    {
      "cell_type": "code",
      "metadata": {
        "colab": {
          "base_uri": "https://localhost:8080/"
        },
        "id": "0t3fR09UaVi0",
        "outputId": "147d140c-d4ac-4105-d509-98c38d620bd5"
      },
      "source": [
        "Model_iris.summary()"
      ],
      "execution_count": 27,
      "outputs": [
        {
          "output_type": "stream",
          "name": "stdout",
          "text": [
            "Model: \"sequential_1\"\n",
            "_________________________________________________________________\n",
            "Layer (type)                 Output Shape              Param #   \n",
            "=================================================================\n",
            "dense_3 (Dense)              (None, 16)                80        \n",
            "_________________________________________________________________\n",
            "dense_4 (Dense)              (None, 8)                 136       \n",
            "_________________________________________________________________\n",
            "dense_5 (Dense)              (None, 3)                 27        \n",
            "=================================================================\n",
            "Total params: 243\n",
            "Trainable params: 243\n",
            "Non-trainable params: 0\n",
            "_________________________________________________________________\n"
          ]
        }
      ]
    },
    {
      "cell_type": "code",
      "metadata": {
        "colab": {
          "base_uri": "https://localhost:8080/",
          "height": 422
        },
        "id": "vO6UP7gLaXfm",
        "outputId": "78b3dba2-ea80-496b-a5ae-6bade3f806b3"
      },
      "source": [
        "from tensorflow.keras import utils\n",
        "utils.plot_model(Model_iris,\n",
        "                 show_shapes = True,\n",
        "                 show_dtype = True)"
      ],
      "execution_count": 28,
      "outputs": [
        {
          "output_type": "execute_result",
          "data": {
            "image/png": "[encoded data removed]",
            "text/plain": [
              "<IPython.core.display.Image object>"
            ]
          },
          "metadata": {},
          "execution_count": 28
        }
      ]
    },
    {
      "cell_type": "code",
      "metadata": {
        "id": "-Rotout8aieW"
      },
      "source": [
        "Model_iris.compile (loss = 'categorical_crossentropy',\n",
        "                    optimizer = 'adam',\n",
        "                    metrics = ['accuracy'])"
      ],
      "execution_count": 29,
      "outputs": []
    },
    {
      "cell_type": "code",
      "metadata": {
        "colab": {
          "base_uri": "https://localhost:8080/"
        },
        "id": "rQ9XBx3qaxxd",
        "outputId": "e48e541e-4885-448b-90e8-77ec30b4e8b2"
      },
      "source": [
        "History_iris = Model_iris.fit(X_train, y_train,\n",
        "                              epochs = 500,\n",
        "                              batch_size = 7,\n",
        "                              validation_data = (X_test, y_test))"
      ],
      "execution_count": 30,
      "outputs": [
        {
          "output_type": "stream",
          "name": "stdout",
          "text": [
            "Epoch 1/500\n",
            "15/15 [==============================] - 1s 14ms/step - loss: 1.2926 - accuracy: 0.3048 - val_loss: 1.1957 - val_accuracy: 0.2667\n",
            "Epoch 2/500\n",
            "15/15 [==============================] - 0s 4ms/step - loss: 1.0679 - accuracy: 0.2762 - val_loss: 0.9937 - val_accuracy: 0.2444\n",
            "Epoch 3/500\n",
            "15/15 [==============================] - 0s 3ms/step - loss: 0.9507 - accuracy: 0.3238 - val_loss: 0.9174 - val_accuracy: 0.2889\n",
            "Epoch 4/500\n",
            "15/15 [==============================] - 0s 4ms/step - loss: 0.8882 - accuracy: 0.5238 - val_loss: 0.8545 - val_accuracy: 0.6667\n",
            "Epoch 5/500\n",
            "15/15 [==============================] - 0s 2ms/step - loss: 0.8289 - accuracy: 0.6952 - val_loss: 0.7917 - val_accuracy: 0.7111\n",
            "Epoch 6/500\n",
            "15/15 [==============================] - 0s 3ms/step - loss: 0.7820 - accuracy: 0.6571 - val_loss: 0.7381 - val_accuracy: 0.6889\n",
            "Epoch 7/500\n",
            "15/15 [==============================] - 0s 3ms/step - loss: 0.7226 - accuracy: 0.7714 - val_loss: 0.6871 - val_accuracy: 0.8444\n",
            "Epoch 8/500\n",
            "15/15 [==============================] - 0s 3ms/step - loss: 0.6832 - accuracy: 0.7810 - val_loss: 0.6458 - val_accuracy: 0.7778\n",
            "Epoch 9/500\n",
            "15/15 [==============================] - 0s 3ms/step - loss: 0.6424 - accuracy: 0.7238 - val_loss: 0.6029 - val_accuracy: 0.7778\n",
            "Epoch 10/500\n",
            "15/15 [==============================] - 0s 2ms/step - loss: 0.6060 - accuracy: 0.7619 - val_loss: 0.5715 - val_accuracy: 0.8667\n",
            "Epoch 11/500\n",
            "15/15 [==============================] - 0s 2ms/step - loss: 0.5789 - accuracy: 0.8571 - val_loss: 0.5438 - val_accuracy: 0.8667\n",
            "Epoch 12/500\n",
            "15/15 [==============================] - 0s 2ms/step - loss: 0.5528 - accuracy: 0.8476 - val_loss: 0.5175 - val_accuracy: 0.8667\n",
            "Epoch 13/500\n",
            "15/15 [==============================] - 0s 3ms/step - loss: 0.5334 - accuracy: 0.8381 - val_loss: 0.4995 - val_accuracy: 0.8000\n",
            "Epoch 14/500\n",
            "15/15 [==============================] - 0s 2ms/step - loss: 0.5131 - accuracy: 0.8762 - val_loss: 0.4785 - val_accuracy: 0.9778\n",
            "Epoch 15/500\n",
            "15/15 [==============================] - 0s 2ms/step - loss: 0.4965 - accuracy: 0.8667 - val_loss: 0.4593 - val_accuracy: 0.8444\n",
            "Epoch 16/500\n",
            "15/15 [==============================] - 0s 2ms/step - loss: 0.4713 - accuracy: 0.8762 - val_loss: 0.4280 - val_accuracy: 0.9556\n",
            "Epoch 17/500\n",
            "15/15 [==============================] - 0s 2ms/step - loss: 0.4448 - accuracy: 0.8952 - val_loss: 0.4035 - val_accuracy: 0.9111\n",
            "Epoch 18/500\n",
            "15/15 [==============================] - 0s 3ms/step - loss: 0.4277 - accuracy: 0.9143 - val_loss: 0.3854 - val_accuracy: 0.9556\n",
            "Epoch 19/500\n",
            "15/15 [==============================] - 0s 2ms/step - loss: 0.4112 - accuracy: 0.8571 - val_loss: 0.3679 - val_accuracy: 0.9111\n",
            "Epoch 20/500\n",
            "15/15 [==============================] - 0s 2ms/step - loss: 0.3878 - accuracy: 0.9524 - val_loss: 0.3531 - val_accuracy: 0.9778\n",
            "Epoch 21/500\n",
            "15/15 [==============================] - 0s 3ms/step - loss: 0.3753 - accuracy: 0.9429 - val_loss: 0.3369 - val_accuracy: 0.9778\n",
            "Epoch 22/500\n",
            "15/15 [==============================] - 0s 2ms/step - loss: 0.3662 - accuracy: 0.8952 - val_loss: 0.3235 - val_accuracy: 0.9778\n",
            "Epoch 23/500\n",
            "15/15 [==============================] - 0s 3ms/step - loss: 0.3592 - accuracy: 0.9238 - val_loss: 0.3121 - val_accuracy: 0.9778\n",
            "Epoch 24/500\n",
            "15/15 [==============================] - 0s 2ms/step - loss: 0.3482 - accuracy: 0.9143 - val_loss: 0.3010 - val_accuracy: 0.9778\n",
            "Epoch 25/500\n",
            "15/15 [==============================] - 0s 2ms/step - loss: 0.3252 - accuracy: 0.9619 - val_loss: 0.2905 - val_accuracy: 0.9778\n",
            "Epoch 26/500\n",
            "15/15 [==============================] - 0s 3ms/step - loss: 0.3161 - accuracy: 0.9524 - val_loss: 0.2798 - val_accuracy: 0.9778\n",
            "Epoch 27/500\n",
            "15/15 [==============================] - 0s 3ms/step - loss: 0.3093 - accuracy: 0.9238 - val_loss: 0.2701 - val_accuracy: 0.9778\n",
            "Epoch 28/500\n",
            "15/15 [==============================] - 0s 4ms/step - loss: 0.3068 - accuracy: 0.9333 - val_loss: 0.2625 - val_accuracy: 0.9778\n",
            "Epoch 29/500\n",
            "15/15 [==============================] - 0s 4ms/step - loss: 0.2876 - accuracy: 0.9524 - val_loss: 0.2526 - val_accuracy: 0.9778\n",
            "Epoch 30/500\n",
            "15/15 [==============================] - 0s 2ms/step - loss: 0.2786 - accuracy: 0.9429 - val_loss: 0.2442 - val_accuracy: 0.9778\n",
            "Epoch 31/500\n",
            "15/15 [==============================] - 0s 2ms/step - loss: 0.2749 - accuracy: 0.9524 - val_loss: 0.2373 - val_accuracy: 0.9778\n",
            "Epoch 32/500\n",
            "15/15 [==============================] - 0s 2ms/step - loss: 0.2685 - accuracy: 0.9524 - val_loss: 0.2288 - val_accuracy: 0.9778\n",
            "Epoch 33/500\n",
            "15/15 [==============================] - 0s 2ms/step - loss: 0.2615 - accuracy: 0.9429 - val_loss: 0.2222 - val_accuracy: 0.9778\n",
            "Epoch 34/500\n",
            "15/15 [==============================] - 0s 2ms/step - loss: 0.2538 - accuracy: 0.9429 - val_loss: 0.2141 - val_accuracy: 0.9778\n",
            "Epoch 35/500\n",
            "15/15 [==============================] - 0s 2ms/step - loss: 0.2445 - accuracy: 0.9429 - val_loss: 0.2076 - val_accuracy: 0.9778\n",
            "Epoch 36/500\n",
            "15/15 [==============================] - 0s 3ms/step - loss: 0.2396 - accuracy: 0.9619 - val_loss: 0.2017 - val_accuracy: 0.9778\n",
            "Epoch 37/500\n",
            "15/15 [==============================] - 0s 3ms/step - loss: 0.2312 - accuracy: 0.9524 - val_loss: 0.1948 - val_accuracy: 0.9778\n",
            "Epoch 38/500\n",
            "15/15 [==============================] - 0s 2ms/step - loss: 0.2249 - accuracy: 0.9714 - val_loss: 0.1887 - val_accuracy: 0.9778\n",
            "Epoch 39/500\n",
            "15/15 [==============================] - 0s 2ms/step - loss: 0.2192 - accuracy: 0.9714 - val_loss: 0.1832 - val_accuracy: 0.9778\n",
            "Epoch 40/500\n",
            "15/15 [==============================] - 0s 2ms/step - loss: 0.2141 - accuracy: 0.9619 - val_loss: 0.1787 - val_accuracy: 1.0000\n",
            "Epoch 41/500\n",
            "15/15 [==============================] - 0s 2ms/step - loss: 0.2069 - accuracy: 0.9714 - val_loss: 0.1726 - val_accuracy: 0.9778\n",
            "Epoch 42/500\n",
            "15/15 [==============================] - 0s 3ms/step - loss: 0.2037 - accuracy: 0.9714 - val_loss: 0.1671 - val_accuracy: 0.9778\n",
            "Epoch 43/500\n",
            "15/15 [==============================] - 0s 4ms/step - loss: 0.1994 - accuracy: 0.9619 - val_loss: 0.1623 - val_accuracy: 1.0000\n",
            "Epoch 44/500\n",
            "15/15 [==============================] - 0s 3ms/step - loss: 0.1973 - accuracy: 0.9429 - val_loss: 0.1594 - val_accuracy: 0.9778\n",
            "Epoch 45/500\n",
            "15/15 [==============================] - 0s 3ms/step - loss: 0.1954 - accuracy: 0.9714 - val_loss: 0.1533 - val_accuracy: 1.0000\n",
            "Epoch 46/500\n",
            "15/15 [==============================] - 0s 2ms/step - loss: 0.1880 - accuracy: 0.9714 - val_loss: 0.1488 - val_accuracy: 1.0000\n",
            "Epoch 47/500\n",
            "15/15 [==============================] - 0s 2ms/step - loss: 0.1821 - accuracy: 0.9714 - val_loss: 0.1448 - val_accuracy: 1.0000\n",
            "Epoch 48/500\n",
            "15/15 [==============================] - 0s 2ms/step - loss: 0.1820 - accuracy: 0.9619 - val_loss: 0.1418 - val_accuracy: 0.9778\n",
            "Epoch 49/500\n",
            "15/15 [==============================] - 0s 3ms/step - loss: 0.1756 - accuracy: 0.9714 - val_loss: 0.1370 - val_accuracy: 1.0000\n",
            "Epoch 50/500\n",
            "15/15 [==============================] - 0s 2ms/step - loss: 0.1733 - accuracy: 0.9714 - val_loss: 0.1333 - val_accuracy: 1.0000\n",
            "Epoch 51/500\n",
            "15/15 [==============================] - 0s 2ms/step - loss: 0.1680 - accuracy: 0.9714 - val_loss: 0.1309 - val_accuracy: 0.9778\n",
            "Epoch 52/500\n",
            "15/15 [==============================] - 0s 4ms/step - loss: 0.1765 - accuracy: 0.9524 - val_loss: 0.1287 - val_accuracy: 1.0000\n",
            "Epoch 53/500\n",
            "15/15 [==============================] - 0s 2ms/step - loss: 0.1768 - accuracy: 0.9429 - val_loss: 0.1233 - val_accuracy: 1.0000\n",
            "Epoch 54/500\n",
            "15/15 [==============================] - 0s 2ms/step - loss: 0.1769 - accuracy: 0.9429 - val_loss: 0.1205 - val_accuracy: 1.0000\n",
            "Epoch 55/500\n",
            "15/15 [==============================] - 0s 2ms/step - loss: 0.1577 - accuracy: 0.9714 - val_loss: 0.1186 - val_accuracy: 1.0000\n",
            "Epoch 56/500\n",
            "15/15 [==============================] - 0s 2ms/step - loss: 0.1587 - accuracy: 0.9714 - val_loss: 0.1202 - val_accuracy: 0.9778\n",
            "Epoch 57/500\n",
            "15/15 [==============================] - 0s 2ms/step - loss: 0.1533 - accuracy: 0.9714 - val_loss: 0.1137 - val_accuracy: 1.0000\n",
            "Epoch 58/500\n",
            "15/15 [==============================] - 0s 2ms/step - loss: 0.1576 - accuracy: 0.9524 - val_loss: 0.1125 - val_accuracy: 0.9778\n",
            "Epoch 59/500\n",
            "15/15 [==============================] - 0s 3ms/step - loss: 0.1479 - accuracy: 0.9714 - val_loss: 0.1076 - val_accuracy: 1.0000\n",
            "Epoch 60/500\n",
            "15/15 [==============================] - 0s 3ms/step - loss: 0.1484 - accuracy: 0.9810 - val_loss: 0.1049 - val_accuracy: 1.0000\n",
            "Epoch 61/500\n",
            "15/15 [==============================] - 0s 2ms/step - loss: 0.1456 - accuracy: 0.9714 - val_loss: 0.1015 - val_accuracy: 1.0000\n",
            "Epoch 62/500\n",
            "15/15 [==============================] - 0s 3ms/step - loss: 0.1472 - accuracy: 0.9714 - val_loss: 0.1019 - val_accuracy: 1.0000\n",
            "Epoch 63/500\n",
            "15/15 [==============================] - 0s 3ms/step - loss: 0.1385 - accuracy: 0.9714 - val_loss: 0.0966 - val_accuracy: 1.0000\n",
            "Epoch 64/500\n",
            "15/15 [==============================] - 0s 3ms/step - loss: 0.1386 - accuracy: 0.9714 - val_loss: 0.0933 - val_accuracy: 1.0000\n",
            "Epoch 65/500\n",
            "15/15 [==============================] - 0s 4ms/step - loss: 0.1360 - accuracy: 0.9714 - val_loss: 0.0907 - val_accuracy: 1.0000\n",
            "Epoch 66/500\n",
            "15/15 [==============================] - 0s 3ms/step - loss: 0.1374 - accuracy: 0.9619 - val_loss: 0.0895 - val_accuracy: 1.0000\n",
            "Epoch 67/500\n",
            "15/15 [==============================] - 0s 3ms/step - loss: 0.1317 - accuracy: 0.9714 - val_loss: 0.0868 - val_accuracy: 1.0000\n",
            "Epoch 68/500\n",
            "15/15 [==============================] - 0s 4ms/step - loss: 0.1299 - accuracy: 0.9810 - val_loss: 0.0850 - val_accuracy: 1.0000\n",
            "Epoch 69/500\n",
            "15/15 [==============================] - 0s 4ms/step - loss: 0.1325 - accuracy: 0.9429 - val_loss: 0.0889 - val_accuracy: 0.9778\n",
            "Epoch 70/500\n",
            "15/15 [==============================] - 0s 2ms/step - loss: 0.1325 - accuracy: 0.9619 - val_loss: 0.0825 - val_accuracy: 1.0000\n",
            "Epoch 71/500\n",
            "15/15 [==============================] - 0s 2ms/step - loss: 0.1303 - accuracy: 0.9524 - val_loss: 0.0788 - val_accuracy: 1.0000\n",
            "Epoch 72/500\n",
            "15/15 [==============================] - 0s 2ms/step - loss: 0.1347 - accuracy: 0.9714 - val_loss: 0.0781 - val_accuracy: 1.0000\n",
            "Epoch 73/500\n",
            "15/15 [==============================] - 0s 2ms/step - loss: 0.1251 - accuracy: 0.9714 - val_loss: 0.0760 - val_accuracy: 1.0000\n",
            "Epoch 74/500\n",
            "15/15 [==============================] - 0s 3ms/step - loss: 0.1244 - accuracy: 0.9619 - val_loss: 0.0779 - val_accuracy: 1.0000\n",
            "Epoch 75/500\n",
            "15/15 [==============================] - 0s 3ms/step - loss: 0.1185 - accuracy: 0.9714 - val_loss: 0.0724 - val_accuracy: 1.0000\n",
            "Epoch 76/500\n",
            "15/15 [==============================] - 0s 2ms/step - loss: 0.1292 - accuracy: 0.9524 - val_loss: 0.0706 - val_accuracy: 1.0000\n",
            "Epoch 77/500\n",
            "15/15 [==============================] - 0s 3ms/step - loss: 0.1426 - accuracy: 0.9714 - val_loss: 0.0698 - val_accuracy: 1.0000\n",
            "Epoch 78/500\n",
            "15/15 [==============================] - 0s 3ms/step - loss: 0.1170 - accuracy: 0.9619 - val_loss: 0.0721 - val_accuracy: 1.0000\n",
            "Epoch 79/500\n",
            "15/15 [==============================] - 0s 3ms/step - loss: 0.1193 - accuracy: 0.9714 - val_loss: 0.0671 - val_accuracy: 1.0000\n",
            "Epoch 80/500\n",
            "15/15 [==============================] - 0s 3ms/step - loss: 0.1163 - accuracy: 0.9810 - val_loss: 0.0658 - val_accuracy: 1.0000\n",
            "Epoch 81/500\n",
            "15/15 [==============================] - 0s 4ms/step - loss: 0.1145 - accuracy: 0.9714 - val_loss: 0.0648 - val_accuracy: 1.0000\n",
            "Epoch 82/500\n",
            "15/15 [==============================] - 0s 4ms/step - loss: 0.1292 - accuracy: 0.9524 - val_loss: 0.0639 - val_accuracy: 1.0000\n",
            "Epoch 83/500\n",
            "15/15 [==============================] - 0s 3ms/step - loss: 0.1210 - accuracy: 0.9619 - val_loss: 0.0627 - val_accuracy: 1.0000\n",
            "Epoch 84/500\n",
            "15/15 [==============================] - 0s 3ms/step - loss: 0.1124 - accuracy: 0.9619 - val_loss: 0.0617 - val_accuracy: 1.0000\n",
            "Epoch 85/500\n",
            "15/15 [==============================] - 0s 2ms/step - loss: 0.1078 - accuracy: 0.9810 - val_loss: 0.0608 - val_accuracy: 1.0000\n",
            "Epoch 86/500\n",
            "15/15 [==============================] - 0s 3ms/step - loss: 0.1180 - accuracy: 0.9619 - val_loss: 0.0660 - val_accuracy: 0.9778\n",
            "Epoch 87/500\n",
            "15/15 [==============================] - 0s 3ms/step - loss: 0.1100 - accuracy: 0.9810 - val_loss: 0.0585 - val_accuracy: 1.0000\n",
            "Epoch 88/500\n",
            "15/15 [==============================] - 0s 3ms/step - loss: 0.1078 - accuracy: 0.9714 - val_loss: 0.0578 - val_accuracy: 1.0000\n",
            "Epoch 89/500\n",
            "15/15 [==============================] - 0s 2ms/step - loss: 0.1079 - accuracy: 0.9714 - val_loss: 0.0565 - val_accuracy: 1.0000\n",
            "Epoch 90/500\n",
            "15/15 [==============================] - 0s 2ms/step - loss: 0.1085 - accuracy: 0.9714 - val_loss: 0.0558 - val_accuracy: 1.0000\n",
            "Epoch 91/500\n",
            "15/15 [==============================] - 0s 3ms/step - loss: 0.1104 - accuracy: 0.9619 - val_loss: 0.0552 - val_accuracy: 1.0000\n",
            "Epoch 92/500\n",
            "15/15 [==============================] - 0s 3ms/step - loss: 0.1078 - accuracy: 0.9714 - val_loss: 0.0573 - val_accuracy: 1.0000\n",
            "Epoch 93/500\n",
            "15/15 [==============================] - 0s 4ms/step - loss: 0.0991 - accuracy: 0.9810 - val_loss: 0.0563 - val_accuracy: 1.0000\n",
            "Epoch 94/500\n",
            "15/15 [==============================] - 0s 3ms/step - loss: 0.1100 - accuracy: 0.9619 - val_loss: 0.0535 - val_accuracy: 1.0000\n",
            "Epoch 95/500\n",
            "15/15 [==============================] - 0s 3ms/step - loss: 0.1052 - accuracy: 0.9810 - val_loss: 0.0519 - val_accuracy: 1.0000\n",
            "Epoch 96/500\n",
            "15/15 [==============================] - 0s 4ms/step - loss: 0.1007 - accuracy: 0.9714 - val_loss: 0.0515 - val_accuracy: 1.0000\n",
            "Epoch 97/500\n",
            "15/15 [==============================] - 0s 4ms/step - loss: 0.1004 - accuracy: 0.9810 - val_loss: 0.0514 - val_accuracy: 1.0000\n",
            "Epoch 98/500\n",
            "15/15 [==============================] - 0s 2ms/step - loss: 0.0999 - accuracy: 0.9810 - val_loss: 0.0503 - val_accuracy: 1.0000\n",
            "Epoch 99/500\n",
            "15/15 [==============================] - 0s 2ms/step - loss: 0.0988 - accuracy: 0.9714 - val_loss: 0.0510 - val_accuracy: 1.0000\n",
            "Epoch 100/500\n",
            "15/15 [==============================] - 0s 3ms/step - loss: 0.0981 - accuracy: 0.9714 - val_loss: 0.0508 - val_accuracy: 1.0000\n",
            "Epoch 101/500\n",
            "15/15 [==============================] - 0s 3ms/step - loss: 0.0971 - accuracy: 0.9810 - val_loss: 0.0491 - val_accuracy: 1.0000\n",
            "Epoch 102/500\n",
            "15/15 [==============================] - 0s 2ms/step - loss: 0.1019 - accuracy: 0.9714 - val_loss: 0.0473 - val_accuracy: 1.0000\n",
            "Epoch 103/500\n",
            "15/15 [==============================] - 0s 2ms/step - loss: 0.1024 - accuracy: 0.9714 - val_loss: 0.0466 - val_accuracy: 1.0000\n",
            "Epoch 104/500\n",
            "15/15 [==============================] - 0s 4ms/step - loss: 0.0998 - accuracy: 0.9714 - val_loss: 0.0482 - val_accuracy: 1.0000\n",
            "Epoch 105/500\n",
            "15/15 [==============================] - 0s 3ms/step - loss: 0.0964 - accuracy: 0.9714 - val_loss: 0.0478 - val_accuracy: 1.0000\n",
            "Epoch 106/500\n",
            "15/15 [==============================] - 0s 3ms/step - loss: 0.1005 - accuracy: 0.9810 - val_loss: 0.0470 - val_accuracy: 1.0000\n",
            "Epoch 107/500\n",
            "15/15 [==============================] - 0s 3ms/step - loss: 0.0931 - accuracy: 0.9714 - val_loss: 0.0455 - val_accuracy: 1.0000\n",
            "Epoch 108/500\n",
            "15/15 [==============================] - 0s 3ms/step - loss: 0.0942 - accuracy: 0.9714 - val_loss: 0.0472 - val_accuracy: 1.0000\n",
            "Epoch 109/500\n",
            "15/15 [==============================] - 0s 3ms/step - loss: 0.0952 - accuracy: 0.9810 - val_loss: 0.0457 - val_accuracy: 1.0000\n",
            "Epoch 110/500\n",
            "15/15 [==============================] - 0s 4ms/step - loss: 0.0954 - accuracy: 0.9810 - val_loss: 0.0459 - val_accuracy: 1.0000\n",
            "Epoch 111/500\n",
            "15/15 [==============================] - 0s 4ms/step - loss: 0.0909 - accuracy: 0.9714 - val_loss: 0.0438 - val_accuracy: 1.0000\n",
            "Epoch 112/500\n",
            "15/15 [==============================] - 0s 4ms/step - loss: 0.0946 - accuracy: 0.9714 - val_loss: 0.0469 - val_accuracy: 1.0000\n",
            "Epoch 113/500\n",
            "15/15 [==============================] - 0s 3ms/step - loss: 0.0922 - accuracy: 0.9905 - val_loss: 0.0419 - val_accuracy: 1.0000\n",
            "Epoch 114/500\n",
            "15/15 [==============================] - 0s 2ms/step - loss: 0.0928 - accuracy: 0.9714 - val_loss: 0.0411 - val_accuracy: 1.0000\n",
            "Epoch 115/500\n",
            "15/15 [==============================] - 0s 4ms/step - loss: 0.0924 - accuracy: 0.9905 - val_loss: 0.0432 - val_accuracy: 1.0000\n",
            "Epoch 116/500\n",
            "15/15 [==============================] - 0s 3ms/step - loss: 0.0956 - accuracy: 0.9714 - val_loss: 0.0412 - val_accuracy: 1.0000\n",
            "Epoch 117/500\n",
            "15/15 [==============================] - 0s 2ms/step - loss: 0.0926 - accuracy: 0.9714 - val_loss: 0.0417 - val_accuracy: 1.0000\n",
            "Epoch 118/500\n",
            "15/15 [==============================] - 0s 3ms/step - loss: 0.0890 - accuracy: 0.9810 - val_loss: 0.0405 - val_accuracy: 1.0000\n",
            "Epoch 119/500\n",
            "15/15 [==============================] - 0s 3ms/step - loss: 0.0920 - accuracy: 0.9810 - val_loss: 0.0397 - val_accuracy: 1.0000\n",
            "Epoch 120/500\n",
            "15/15 [==============================] - 0s 3ms/step - loss: 0.0893 - accuracy: 0.9714 - val_loss: 0.0397 - val_accuracy: 1.0000\n",
            "Epoch 121/500\n",
            "15/15 [==============================] - 0s 4ms/step - loss: 0.0865 - accuracy: 0.9810 - val_loss: 0.0413 - val_accuracy: 1.0000\n",
            "Epoch 122/500\n",
            "15/15 [==============================] - 0s 3ms/step - loss: 0.0931 - accuracy: 0.9714 - val_loss: 0.0387 - val_accuracy: 1.0000\n",
            "Epoch 123/500\n",
            "15/15 [==============================] - 0s 3ms/step - loss: 0.0853 - accuracy: 0.9714 - val_loss: 0.0404 - val_accuracy: 1.0000\n",
            "Epoch 124/500\n",
            "15/15 [==============================] - 0s 3ms/step - loss: 0.0969 - accuracy: 0.9524 - val_loss: 0.0385 - val_accuracy: 1.0000\n",
            "Epoch 125/500\n",
            "15/15 [==============================] - 0s 3ms/step - loss: 0.0955 - accuracy: 0.9619 - val_loss: 0.0388 - val_accuracy: 1.0000\n",
            "Epoch 126/500\n",
            "15/15 [==============================] - 0s 2ms/step - loss: 0.0890 - accuracy: 0.9905 - val_loss: 0.0428 - val_accuracy: 0.9778\n",
            "Epoch 127/500\n",
            "15/15 [==============================] - 0s 2ms/step - loss: 0.0848 - accuracy: 0.9714 - val_loss: 0.0370 - val_accuracy: 1.0000\n",
            "Epoch 128/500\n",
            "15/15 [==============================] - 0s 2ms/step - loss: 0.0865 - accuracy: 0.9714 - val_loss: 0.0401 - val_accuracy: 1.0000\n",
            "Epoch 129/500\n",
            "15/15 [==============================] - 0s 3ms/step - loss: 0.0912 - accuracy: 0.9810 - val_loss: 0.0415 - val_accuracy: 0.9778\n",
            "Epoch 130/500\n",
            "15/15 [==============================] - 0s 2ms/step - loss: 0.0934 - accuracy: 0.9714 - val_loss: 0.0363 - val_accuracy: 1.0000\n",
            "Epoch 131/500\n",
            "15/15 [==============================] - 0s 2ms/step - loss: 0.0900 - accuracy: 0.9714 - val_loss: 0.0367 - val_accuracy: 1.0000\n",
            "Epoch 132/500\n",
            "15/15 [==============================] - 0s 4ms/step - loss: 0.0975 - accuracy: 0.9714 - val_loss: 0.0360 - val_accuracy: 1.0000\n",
            "Epoch 133/500\n",
            "15/15 [==============================] - 0s 4ms/step - loss: 0.0950 - accuracy: 0.9619 - val_loss: 0.0363 - val_accuracy: 1.0000\n",
            "Epoch 134/500\n",
            "15/15 [==============================] - 0s 3ms/step - loss: 0.0958 - accuracy: 0.9524 - val_loss: 0.0375 - val_accuracy: 1.0000\n",
            "Epoch 135/500\n",
            "15/15 [==============================] - 0s 4ms/step - loss: 0.0815 - accuracy: 0.9714 - val_loss: 0.0353 - val_accuracy: 1.0000\n",
            "Epoch 136/500\n",
            "15/15 [==============================] - 0s 4ms/step - loss: 0.0918 - accuracy: 0.9714 - val_loss: 0.0400 - val_accuracy: 0.9778\n",
            "Epoch 137/500\n",
            "15/15 [==============================] - 0s 2ms/step - loss: 0.0832 - accuracy: 0.9714 - val_loss: 0.0354 - val_accuracy: 1.0000\n",
            "Epoch 138/500\n",
            "15/15 [==============================] - 0s 2ms/step - loss: 0.0859 - accuracy: 0.9714 - val_loss: 0.0353 - val_accuracy: 1.0000\n",
            "Epoch 139/500\n",
            "15/15 [==============================] - 0s 2ms/step - loss: 0.0881 - accuracy: 0.9810 - val_loss: 0.0360 - val_accuracy: 1.0000\n",
            "Epoch 140/500\n",
            "15/15 [==============================] - 0s 2ms/step - loss: 0.0890 - accuracy: 0.9714 - val_loss: 0.0332 - val_accuracy: 1.0000\n",
            "Epoch 141/500\n",
            "15/15 [==============================] - 0s 2ms/step - loss: 0.0939 - accuracy: 0.9714 - val_loss: 0.0361 - val_accuracy: 1.0000\n",
            "Epoch 142/500\n",
            "15/15 [==============================] - 0s 4ms/step - loss: 0.0861 - accuracy: 0.9714 - val_loss: 0.0330 - val_accuracy: 1.0000\n",
            "Epoch 143/500\n",
            "15/15 [==============================] - 0s 4ms/step - loss: 0.0988 - accuracy: 0.9619 - val_loss: 0.0339 - val_accuracy: 1.0000\n",
            "Epoch 144/500\n",
            "15/15 [==============================] - 0s 2ms/step - loss: 0.0843 - accuracy: 0.9714 - val_loss: 0.0340 - val_accuracy: 1.0000\n",
            "Epoch 145/500\n",
            "15/15 [==============================] - 0s 4ms/step - loss: 0.0824 - accuracy: 0.9810 - val_loss: 0.0350 - val_accuracy: 1.0000\n",
            "Epoch 146/500\n",
            "15/15 [==============================] - 0s 3ms/step - loss: 0.0819 - accuracy: 0.9810 - val_loss: 0.0328 - val_accuracy: 1.0000\n",
            "Epoch 147/500\n",
            "15/15 [==============================] - 0s 4ms/step - loss: 0.0850 - accuracy: 0.9714 - val_loss: 0.0319 - val_accuracy: 1.0000\n",
            "Epoch 148/500\n",
            "15/15 [==============================] - 0s 2ms/step - loss: 0.0856 - accuracy: 0.9524 - val_loss: 0.0409 - val_accuracy: 0.9778\n",
            "Epoch 149/500\n",
            "15/15 [==============================] - 0s 4ms/step - loss: 0.0864 - accuracy: 0.9714 - val_loss: 0.0323 - val_accuracy: 1.0000\n",
            "Epoch 150/500\n",
            "15/15 [==============================] - 0s 4ms/step - loss: 0.0925 - accuracy: 0.9714 - val_loss: 0.0382 - val_accuracy: 0.9778\n",
            "Epoch 151/500\n",
            "15/15 [==============================] - 0s 3ms/step - loss: 0.0805 - accuracy: 0.9714 - val_loss: 0.0326 - val_accuracy: 1.0000\n",
            "Epoch 152/500\n",
            "15/15 [==============================] - 0s 3ms/step - loss: 0.0779 - accuracy: 0.9810 - val_loss: 0.0393 - val_accuracy: 0.9778\n",
            "Epoch 153/500\n",
            "15/15 [==============================] - 0s 4ms/step - loss: 0.0800 - accuracy: 0.9810 - val_loss: 0.0301 - val_accuracy: 1.0000\n",
            "Epoch 154/500\n",
            "15/15 [==============================] - 0s 4ms/step - loss: 0.0831 - accuracy: 0.9714 - val_loss: 0.0306 - val_accuracy: 1.0000\n",
            "Epoch 155/500\n",
            "15/15 [==============================] - 0s 3ms/step - loss: 0.0851 - accuracy: 0.9810 - val_loss: 0.0334 - val_accuracy: 1.0000\n",
            "Epoch 156/500\n",
            "15/15 [==============================] - 0s 2ms/step - loss: 0.0800 - accuracy: 0.9714 - val_loss: 0.0315 - val_accuracy: 1.0000\n",
            "Epoch 157/500\n",
            "15/15 [==============================] - 0s 4ms/step - loss: 0.0791 - accuracy: 0.9714 - val_loss: 0.0362 - val_accuracy: 0.9778\n",
            "Epoch 158/500\n",
            "15/15 [==============================] - 0s 3ms/step - loss: 0.0808 - accuracy: 0.9810 - val_loss: 0.0321 - val_accuracy: 1.0000\n",
            "Epoch 159/500\n",
            "15/15 [==============================] - 0s 3ms/step - loss: 0.0762 - accuracy: 0.9810 - val_loss: 0.0313 - val_accuracy: 1.0000\n",
            "Epoch 160/500\n",
            "15/15 [==============================] - 0s 3ms/step - loss: 0.0865 - accuracy: 0.9810 - val_loss: 0.0322 - val_accuracy: 1.0000\n",
            "Epoch 161/500\n",
            "15/15 [==============================] - 0s 3ms/step - loss: 0.0976 - accuracy: 0.9619 - val_loss: 0.0311 - val_accuracy: 1.0000\n",
            "Epoch 162/500\n",
            "15/15 [==============================] - 0s 2ms/step - loss: 0.0833 - accuracy: 0.9714 - val_loss: 0.0374 - val_accuracy: 0.9778\n",
            "Epoch 163/500\n",
            "15/15 [==============================] - 0s 2ms/step - loss: 0.0891 - accuracy: 0.9714 - val_loss: 0.0296 - val_accuracy: 1.0000\n",
            "Epoch 164/500\n",
            "15/15 [==============================] - 0s 2ms/step - loss: 0.0943 - accuracy: 0.9524 - val_loss: 0.0336 - val_accuracy: 0.9778\n",
            "Epoch 165/500\n",
            "15/15 [==============================] - 0s 3ms/step - loss: 0.0888 - accuracy: 0.9714 - val_loss: 0.0297 - val_accuracy: 1.0000\n",
            "Epoch 166/500\n",
            "15/15 [==============================] - 0s 3ms/step - loss: 0.0976 - accuracy: 0.9429 - val_loss: 0.0337 - val_accuracy: 0.9778\n",
            "Epoch 167/500\n",
            "15/15 [==============================] - 0s 3ms/step - loss: 0.0824 - accuracy: 0.9810 - val_loss: 0.0283 - val_accuracy: 1.0000\n",
            "Epoch 168/500\n",
            "15/15 [==============================] - 0s 2ms/step - loss: 0.0740 - accuracy: 0.9810 - val_loss: 0.0350 - val_accuracy: 0.9778\n",
            "Epoch 169/500\n",
            "15/15 [==============================] - 0s 3ms/step - loss: 0.0752 - accuracy: 0.9905 - val_loss: 0.0297 - val_accuracy: 1.0000\n",
            "Epoch 170/500\n",
            "15/15 [==============================] - 0s 3ms/step - loss: 0.0792 - accuracy: 0.9714 - val_loss: 0.0292 - val_accuracy: 1.0000\n",
            "Epoch 171/500\n",
            "15/15 [==============================] - 0s 3ms/step - loss: 0.0935 - accuracy: 0.9524 - val_loss: 0.0300 - val_accuracy: 1.0000\n",
            "Epoch 172/500\n",
            "15/15 [==============================] - 0s 4ms/step - loss: 0.0780 - accuracy: 0.9810 - val_loss: 0.0305 - val_accuracy: 1.0000\n",
            "Epoch 173/500\n",
            "15/15 [==============================] - 0s 2ms/step - loss: 0.0840 - accuracy: 0.9714 - val_loss: 0.0295 - val_accuracy: 1.0000\n",
            "Epoch 174/500\n",
            "15/15 [==============================] - 0s 3ms/step - loss: 0.0766 - accuracy: 0.9714 - val_loss: 0.0284 - val_accuracy: 1.0000\n",
            "Epoch 175/500\n",
            "15/15 [==============================] - 0s 4ms/step - loss: 0.0759 - accuracy: 0.9714 - val_loss: 0.0273 - val_accuracy: 1.0000\n",
            "Epoch 176/500\n",
            "15/15 [==============================] - 0s 2ms/step - loss: 0.0779 - accuracy: 0.9714 - val_loss: 0.0351 - val_accuracy: 0.9778\n",
            "Epoch 177/500\n",
            "15/15 [==============================] - 0s 4ms/step - loss: 0.0770 - accuracy: 0.9714 - val_loss: 0.0301 - val_accuracy: 1.0000\n",
            "Epoch 178/500\n",
            "15/15 [==============================] - 0s 4ms/step - loss: 0.0741 - accuracy: 0.9905 - val_loss: 0.0362 - val_accuracy: 0.9778\n",
            "Epoch 179/500\n",
            "15/15 [==============================] - 0s 3ms/step - loss: 0.0755 - accuracy: 0.9714 - val_loss: 0.0291 - val_accuracy: 1.0000\n",
            "Epoch 180/500\n",
            "15/15 [==============================] - 0s 2ms/step - loss: 0.0746 - accuracy: 0.9905 - val_loss: 0.0291 - val_accuracy: 1.0000\n",
            "Epoch 181/500\n",
            "15/15 [==============================] - 0s 2ms/step - loss: 0.0725 - accuracy: 0.9905 - val_loss: 0.0323 - val_accuracy: 0.9778\n",
            "Epoch 182/500\n",
            "15/15 [==============================] - 0s 3ms/step - loss: 0.0750 - accuracy: 0.9810 - val_loss: 0.0302 - val_accuracy: 1.0000\n",
            "Epoch 183/500\n",
            "15/15 [==============================] - 0s 4ms/step - loss: 0.0757 - accuracy: 0.9714 - val_loss: 0.0327 - val_accuracy: 0.9778\n",
            "Epoch 184/500\n",
            "15/15 [==============================] - 0s 2ms/step - loss: 0.0737 - accuracy: 0.9905 - val_loss: 0.0284 - val_accuracy: 1.0000\n",
            "Epoch 185/500\n",
            "15/15 [==============================] - 0s 4ms/step - loss: 0.0721 - accuracy: 0.9905 - val_loss: 0.0294 - val_accuracy: 1.0000\n",
            "Epoch 186/500\n",
            "15/15 [==============================] - 0s 3ms/step - loss: 0.0777 - accuracy: 0.9810 - val_loss: 0.0325 - val_accuracy: 0.9778\n",
            "Epoch 187/500\n",
            "15/15 [==============================] - 0s 4ms/step - loss: 0.0751 - accuracy: 0.9810 - val_loss: 0.0295 - val_accuracy: 1.0000\n",
            "Epoch 188/500\n",
            "15/15 [==============================] - 0s 4ms/step - loss: 0.0802 - accuracy: 0.9714 - val_loss: 0.0260 - val_accuracy: 1.0000\n",
            "Epoch 189/500\n",
            "15/15 [==============================] - 0s 4ms/step - loss: 0.0821 - accuracy: 0.9714 - val_loss: 0.0297 - val_accuracy: 1.0000\n",
            "Epoch 190/500\n",
            "15/15 [==============================] - 0s 4ms/step - loss: 0.0716 - accuracy: 0.9714 - val_loss: 0.0265 - val_accuracy: 1.0000\n",
            "Epoch 191/500\n",
            "15/15 [==============================] - 0s 3ms/step - loss: 0.0721 - accuracy: 0.9714 - val_loss: 0.0305 - val_accuracy: 0.9778\n",
            "Epoch 192/500\n",
            "15/15 [==============================] - 0s 4ms/step - loss: 0.0708 - accuracy: 0.9905 - val_loss: 0.0278 - val_accuracy: 1.0000\n",
            "Epoch 193/500\n",
            "15/15 [==============================] - 0s 3ms/step - loss: 0.0760 - accuracy: 0.9810 - val_loss: 0.0290 - val_accuracy: 1.0000\n",
            "Epoch 194/500\n",
            "15/15 [==============================] - 0s 4ms/step - loss: 0.0724 - accuracy: 0.9905 - val_loss: 0.0302 - val_accuracy: 0.9778\n",
            "Epoch 195/500\n",
            "15/15 [==============================] - 0s 4ms/step - loss: 0.0755 - accuracy: 0.9905 - val_loss: 0.0251 - val_accuracy: 1.0000\n",
            "Epoch 196/500\n",
            "15/15 [==============================] - 0s 4ms/step - loss: 0.0865 - accuracy: 0.9619 - val_loss: 0.0317 - val_accuracy: 0.9778\n",
            "Epoch 197/500\n",
            "15/15 [==============================] - 0s 3ms/step - loss: 0.0818 - accuracy: 0.9714 - val_loss: 0.0257 - val_accuracy: 1.0000\n",
            "Epoch 198/500\n",
            "15/15 [==============================] - 0s 3ms/step - loss: 0.0819 - accuracy: 0.9619 - val_loss: 0.0330 - val_accuracy: 0.9778\n",
            "Epoch 199/500\n",
            "15/15 [==============================] - 0s 4ms/step - loss: 0.0763 - accuracy: 0.9714 - val_loss: 0.0252 - val_accuracy: 1.0000\n",
            "Epoch 200/500\n",
            "15/15 [==============================] - 0s 4ms/step - loss: 0.0745 - accuracy: 0.9810 - val_loss: 0.0355 - val_accuracy: 0.9778\n",
            "Epoch 201/500\n",
            "15/15 [==============================] - 0s 4ms/step - loss: 0.0701 - accuracy: 0.9905 - val_loss: 0.0266 - val_accuracy: 1.0000\n",
            "Epoch 202/500\n",
            "15/15 [==============================] - 0s 2ms/step - loss: 0.0785 - accuracy: 0.9810 - val_loss: 0.0347 - val_accuracy: 0.9778\n",
            "Epoch 203/500\n",
            "15/15 [==============================] - 0s 2ms/step - loss: 0.0867 - accuracy: 0.9714 - val_loss: 0.0252 - val_accuracy: 1.0000\n",
            "Epoch 204/500\n",
            "15/15 [==============================] - 0s 4ms/step - loss: 0.0673 - accuracy: 0.9905 - val_loss: 0.0323 - val_accuracy: 0.9778\n",
            "Epoch 205/500\n",
            "15/15 [==============================] - 0s 2ms/step - loss: 0.0748 - accuracy: 0.9810 - val_loss: 0.0254 - val_accuracy: 1.0000\n",
            "Epoch 206/500\n",
            "15/15 [==============================] - 0s 3ms/step - loss: 0.0733 - accuracy: 0.9714 - val_loss: 0.0261 - val_accuracy: 1.0000\n",
            "Epoch 207/500\n",
            "15/15 [==============================] - 0s 4ms/step - loss: 0.0714 - accuracy: 0.9714 - val_loss: 0.0310 - val_accuracy: 0.9778\n",
            "Epoch 208/500\n",
            "15/15 [==============================] - 0s 4ms/step - loss: 0.0696 - accuracy: 0.9905 - val_loss: 0.0276 - val_accuracy: 1.0000\n",
            "Epoch 209/500\n",
            "15/15 [==============================] - 0s 4ms/step - loss: 0.0697 - accuracy: 0.9905 - val_loss: 0.0273 - val_accuracy: 1.0000\n",
            "Epoch 210/500\n",
            "15/15 [==============================] - 0s 4ms/step - loss: 0.0762 - accuracy: 0.9810 - val_loss: 0.0305 - val_accuracy: 0.9778\n",
            "Epoch 211/500\n",
            "15/15 [==============================] - 0s 2ms/step - loss: 0.0685 - accuracy: 0.9810 - val_loss: 0.0261 - val_accuracy: 1.0000\n",
            "Epoch 212/500\n",
            "15/15 [==============================] - 0s 3ms/step - loss: 0.0693 - accuracy: 0.9905 - val_loss: 0.0271 - val_accuracy: 1.0000\n",
            "Epoch 213/500\n",
            "15/15 [==============================] - 0s 3ms/step - loss: 0.0702 - accuracy: 0.9905 - val_loss: 0.0267 - val_accuracy: 1.0000\n",
            "Epoch 214/500\n",
            "15/15 [==============================] - 0s 2ms/step - loss: 0.0744 - accuracy: 0.9810 - val_loss: 0.0268 - val_accuracy: 1.0000\n",
            "Epoch 215/500\n",
            "15/15 [==============================] - 0s 3ms/step - loss: 0.0692 - accuracy: 0.9714 - val_loss: 0.0255 - val_accuracy: 1.0000\n",
            "Epoch 216/500\n",
            "15/15 [==============================] - 0s 4ms/step - loss: 0.0732 - accuracy: 0.9905 - val_loss: 0.0309 - val_accuracy: 0.9778\n",
            "Epoch 217/500\n",
            "15/15 [==============================] - 0s 3ms/step - loss: 0.0644 - accuracy: 0.9905 - val_loss: 0.0245 - val_accuracy: 1.0000\n",
            "Epoch 218/500\n",
            "15/15 [==============================] - 0s 3ms/step - loss: 0.0733 - accuracy: 0.9714 - val_loss: 0.0286 - val_accuracy: 0.9778\n",
            "Epoch 219/500\n",
            "15/15 [==============================] - 0s 4ms/step - loss: 0.0696 - accuracy: 0.9714 - val_loss: 0.0267 - val_accuracy: 1.0000\n",
            "Epoch 220/500\n",
            "15/15 [==============================] - 0s 3ms/step - loss: 0.0659 - accuracy: 0.9905 - val_loss: 0.0299 - val_accuracy: 0.9778\n",
            "Epoch 221/500\n",
            "15/15 [==============================] - 0s 2ms/step - loss: 0.0678 - accuracy: 0.9905 - val_loss: 0.0280 - val_accuracy: 0.9778\n",
            "Epoch 222/500\n",
            "15/15 [==============================] - 0s 3ms/step - loss: 0.0705 - accuracy: 0.9714 - val_loss: 0.0258 - val_accuracy: 1.0000\n",
            "Epoch 223/500\n",
            "15/15 [==============================] - 0s 4ms/step - loss: 0.0679 - accuracy: 0.9905 - val_loss: 0.0325 - val_accuracy: 0.9778\n",
            "Epoch 224/500\n",
            "15/15 [==============================] - 0s 4ms/step - loss: 0.0687 - accuracy: 0.9810 - val_loss: 0.0272 - val_accuracy: 0.9778\n",
            "Epoch 225/500\n",
            "15/15 [==============================] - 0s 3ms/step - loss: 0.0732 - accuracy: 0.9714 - val_loss: 0.0328 - val_accuracy: 0.9778\n",
            "Epoch 226/500\n",
            "15/15 [==============================] - 0s 3ms/step - loss: 0.0702 - accuracy: 0.9905 - val_loss: 0.0316 - val_accuracy: 0.9778\n",
            "Epoch 227/500\n",
            "15/15 [==============================] - 0s 3ms/step - loss: 0.0670 - accuracy: 0.9905 - val_loss: 0.0241 - val_accuracy: 1.0000\n",
            "Epoch 228/500\n",
            "15/15 [==============================] - 0s 3ms/step - loss: 0.0672 - accuracy: 0.9905 - val_loss: 0.0266 - val_accuracy: 1.0000\n",
            "Epoch 229/500\n",
            "15/15 [==============================] - 0s 4ms/step - loss: 0.0778 - accuracy: 0.9714 - val_loss: 0.0255 - val_accuracy: 1.0000\n",
            "Epoch 230/500\n",
            "15/15 [==============================] - 0s 3ms/step - loss: 0.1036 - accuracy: 0.9429 - val_loss: 0.0242 - val_accuracy: 1.0000\n",
            "Epoch 231/500\n",
            "15/15 [==============================] - 0s 3ms/step - loss: 0.0893 - accuracy: 0.9714 - val_loss: 0.0229 - val_accuracy: 1.0000\n",
            "Epoch 232/500\n",
            "15/15 [==============================] - 0s 2ms/step - loss: 0.0668 - accuracy: 0.9905 - val_loss: 0.0387 - val_accuracy: 0.9778\n",
            "Epoch 233/500\n",
            "15/15 [==============================] - 0s 2ms/step - loss: 0.0668 - accuracy: 0.9810 - val_loss: 0.0223 - val_accuracy: 1.0000\n",
            "Epoch 234/500\n",
            "15/15 [==============================] - 0s 2ms/step - loss: 0.0790 - accuracy: 0.9714 - val_loss: 0.0288 - val_accuracy: 0.9778\n",
            "Epoch 235/500\n",
            "15/15 [==============================] - 0s 2ms/step - loss: 0.0772 - accuracy: 0.9714 - val_loss: 0.0215 - val_accuracy: 1.0000\n",
            "Epoch 236/500\n",
            "15/15 [==============================] - 0s 3ms/step - loss: 0.0670 - accuracy: 0.9810 - val_loss: 0.0306 - val_accuracy: 0.9778\n",
            "Epoch 237/500\n",
            "15/15 [==============================] - 0s 3ms/step - loss: 0.0761 - accuracy: 0.9714 - val_loss: 0.0253 - val_accuracy: 0.9778\n",
            "Epoch 238/500\n",
            "15/15 [==============================] - 0s 4ms/step - loss: 0.0705 - accuracy: 0.9905 - val_loss: 0.0233 - val_accuracy: 1.0000\n",
            "Epoch 239/500\n",
            "15/15 [==============================] - 0s 3ms/step - loss: 0.0709 - accuracy: 0.9714 - val_loss: 0.0252 - val_accuracy: 1.0000\n",
            "Epoch 240/500\n",
            "15/15 [==============================] - 0s 4ms/step - loss: 0.0653 - accuracy: 0.9905 - val_loss: 0.0310 - val_accuracy: 0.9778\n",
            "Epoch 241/500\n",
            "15/15 [==============================] - 0s 2ms/step - loss: 0.0733 - accuracy: 0.9714 - val_loss: 0.0251 - val_accuracy: 1.0000\n",
            "Epoch 242/500\n",
            "15/15 [==============================] - 0s 2ms/step - loss: 0.0716 - accuracy: 0.9810 - val_loss: 0.0344 - val_accuracy: 0.9778\n",
            "Epoch 243/500\n",
            "15/15 [==============================] - 0s 3ms/step - loss: 0.0660 - accuracy: 0.9810 - val_loss: 0.0240 - val_accuracy: 1.0000\n",
            "Epoch 244/500\n",
            "15/15 [==============================] - 0s 3ms/step - loss: 0.0661 - accuracy: 0.9810 - val_loss: 0.0290 - val_accuracy: 0.9778\n",
            "Epoch 245/500\n",
            "15/15 [==============================] - 0s 3ms/step - loss: 0.0709 - accuracy: 0.9714 - val_loss: 0.0253 - val_accuracy: 1.0000\n",
            "Epoch 246/500\n",
            "15/15 [==============================] - 0s 3ms/step - loss: 0.0772 - accuracy: 0.9619 - val_loss: 0.0291 - val_accuracy: 0.9778\n",
            "Epoch 247/500\n",
            "15/15 [==============================] - 0s 2ms/step - loss: 0.0707 - accuracy: 0.9810 - val_loss: 0.0223 - val_accuracy: 1.0000\n",
            "Epoch 248/500\n",
            "15/15 [==============================] - 0s 3ms/step - loss: 0.0656 - accuracy: 0.9905 - val_loss: 0.0309 - val_accuracy: 0.9778\n",
            "Epoch 249/500\n",
            "15/15 [==============================] - 0s 3ms/step - loss: 0.0716 - accuracy: 0.9810 - val_loss: 0.0228 - val_accuracy: 1.0000\n",
            "Epoch 250/500\n",
            "15/15 [==============================] - 0s 3ms/step - loss: 0.0857 - accuracy: 0.9619 - val_loss: 0.0233 - val_accuracy: 1.0000\n",
            "Epoch 251/500\n",
            "15/15 [==============================] - 0s 4ms/step - loss: 0.0898 - accuracy: 0.9524 - val_loss: 0.0261 - val_accuracy: 0.9778\n",
            "Epoch 252/500\n",
            "15/15 [==============================] - 0s 3ms/step - loss: 0.0659 - accuracy: 0.9905 - val_loss: 0.0290 - val_accuracy: 0.9778\n",
            "Epoch 253/500\n",
            "15/15 [==============================] - 0s 2ms/step - loss: 0.0664 - accuracy: 0.9905 - val_loss: 0.0274 - val_accuracy: 0.9778\n",
            "Epoch 254/500\n",
            "15/15 [==============================] - 0s 3ms/step - loss: 0.0652 - accuracy: 0.9810 - val_loss: 0.0261 - val_accuracy: 0.9778\n",
            "Epoch 255/500\n",
            "15/15 [==============================] - 0s 3ms/step - loss: 0.0655 - accuracy: 0.9905 - val_loss: 0.0275 - val_accuracy: 0.9778\n",
            "Epoch 256/500\n",
            "15/15 [==============================] - 0s 2ms/step - loss: 0.0654 - accuracy: 0.9905 - val_loss: 0.0276 - val_accuracy: 0.9778\n",
            "Epoch 257/500\n",
            "15/15 [==============================] - 0s 4ms/step - loss: 0.0766 - accuracy: 0.9714 - val_loss: 0.0263 - val_accuracy: 0.9778\n",
            "Epoch 258/500\n",
            "15/15 [==============================] - 0s 2ms/step - loss: 0.0653 - accuracy: 0.9905 - val_loss: 0.0281 - val_accuracy: 0.9778\n",
            "Epoch 259/500\n",
            "15/15 [==============================] - 0s 3ms/step - loss: 0.0673 - accuracy: 0.9905 - val_loss: 0.0286 - val_accuracy: 0.9778\n",
            "Epoch 260/500\n",
            "15/15 [==============================] - 0s 3ms/step - loss: 0.0689 - accuracy: 0.9810 - val_loss: 0.0201 - val_accuracy: 1.0000\n",
            "Epoch 261/500\n",
            "15/15 [==============================] - 0s 3ms/step - loss: 0.0702 - accuracy: 0.9810 - val_loss: 0.0275 - val_accuracy: 0.9778\n",
            "Epoch 262/500\n",
            "15/15 [==============================] - 0s 4ms/step - loss: 0.0721 - accuracy: 0.9810 - val_loss: 0.0221 - val_accuracy: 1.0000\n",
            "Epoch 263/500\n",
            "15/15 [==============================] - 0s 3ms/step - loss: 0.0654 - accuracy: 0.9905 - val_loss: 0.0274 - val_accuracy: 0.9778\n",
            "Epoch 264/500\n",
            "15/15 [==============================] - 0s 4ms/step - loss: 0.0636 - accuracy: 0.9810 - val_loss: 0.0243 - val_accuracy: 0.9778\n",
            "Epoch 265/500\n",
            "15/15 [==============================] - 0s 3ms/step - loss: 0.0630 - accuracy: 0.9905 - val_loss: 0.0269 - val_accuracy: 0.9778\n",
            "Epoch 266/500\n",
            "15/15 [==============================] - 0s 3ms/step - loss: 0.0712 - accuracy: 0.9810 - val_loss: 0.0236 - val_accuracy: 0.9778\n",
            "Epoch 267/500\n",
            "15/15 [==============================] - 0s 4ms/step - loss: 0.0788 - accuracy: 0.9714 - val_loss: 0.0236 - val_accuracy: 1.0000\n",
            "Epoch 268/500\n",
            "15/15 [==============================] - 0s 3ms/step - loss: 0.0783 - accuracy: 0.9810 - val_loss: 0.0243 - val_accuracy: 1.0000\n",
            "Epoch 269/500\n",
            "15/15 [==============================] - 0s 4ms/step - loss: 0.0637 - accuracy: 0.9810 - val_loss: 0.0351 - val_accuracy: 0.9778\n",
            "Epoch 270/500\n",
            "15/15 [==============================] - 0s 3ms/step - loss: 0.0663 - accuracy: 0.9714 - val_loss: 0.0213 - val_accuracy: 1.0000\n",
            "Epoch 271/500\n",
            "15/15 [==============================] - 0s 3ms/step - loss: 0.0659 - accuracy: 0.9714 - val_loss: 0.0234 - val_accuracy: 1.0000\n",
            "Epoch 272/500\n",
            "15/15 [==============================] - 0s 3ms/step - loss: 0.0681 - accuracy: 0.9905 - val_loss: 0.0346 - val_accuracy: 0.9778\n",
            "Epoch 273/500\n",
            "15/15 [==============================] - 0s 4ms/step - loss: 0.0617 - accuracy: 0.9905 - val_loss: 0.0220 - val_accuracy: 1.0000\n",
            "Epoch 274/500\n",
            "15/15 [==============================] - 0s 3ms/step - loss: 0.0851 - accuracy: 0.9714 - val_loss: 0.0291 - val_accuracy: 0.9778\n",
            "Epoch 275/500\n",
            "15/15 [==============================] - 0s 4ms/step - loss: 0.0826 - accuracy: 0.9524 - val_loss: 0.0210 - val_accuracy: 1.0000\n",
            "Epoch 276/500\n",
            "15/15 [==============================] - 0s 3ms/step - loss: 0.0930 - accuracy: 0.9429 - val_loss: 0.0289 - val_accuracy: 0.9778\n",
            "Epoch 277/500\n",
            "15/15 [==============================] - 0s 2ms/step - loss: 0.0722 - accuracy: 0.9714 - val_loss: 0.0188 - val_accuracy: 1.0000\n",
            "Epoch 278/500\n",
            "15/15 [==============================] - 0s 4ms/step - loss: 0.0832 - accuracy: 0.9810 - val_loss: 0.0260 - val_accuracy: 0.9778\n",
            "Epoch 279/500\n",
            "15/15 [==============================] - 0s 3ms/step - loss: 0.0682 - accuracy: 0.9714 - val_loss: 0.0222 - val_accuracy: 1.0000\n",
            "Epoch 280/500\n",
            "15/15 [==============================] - 0s 4ms/step - loss: 0.0630 - accuracy: 0.9905 - val_loss: 0.0281 - val_accuracy: 0.9778\n",
            "Epoch 281/500\n",
            "15/15 [==============================] - 0s 4ms/step - loss: 0.0653 - accuracy: 0.9810 - val_loss: 0.0234 - val_accuracy: 1.0000\n",
            "Epoch 282/500\n",
            "15/15 [==============================] - 0s 3ms/step - loss: 0.0663 - accuracy: 0.9714 - val_loss: 0.0202 - val_accuracy: 1.0000\n",
            "Epoch 283/500\n",
            "15/15 [==============================] - 0s 3ms/step - loss: 0.0769 - accuracy: 0.9714 - val_loss: 0.0257 - val_accuracy: 0.9778\n",
            "Epoch 284/500\n",
            "15/15 [==============================] - 0s 2ms/step - loss: 0.0742 - accuracy: 0.9714 - val_loss: 0.0225 - val_accuracy: 1.0000\n",
            "Epoch 285/500\n",
            "15/15 [==============================] - 0s 3ms/step - loss: 0.0614 - accuracy: 0.9905 - val_loss: 0.0281 - val_accuracy: 0.9778\n",
            "Epoch 286/500\n",
            "15/15 [==============================] - 0s 2ms/step - loss: 0.0664 - accuracy: 0.9905 - val_loss: 0.0214 - val_accuracy: 1.0000\n",
            "Epoch 287/500\n",
            "15/15 [==============================] - 0s 3ms/step - loss: 0.0651 - accuracy: 0.9810 - val_loss: 0.0298 - val_accuracy: 0.9778\n",
            "Epoch 288/500\n",
            "15/15 [==============================] - 0s 3ms/step - loss: 0.0651 - accuracy: 0.9905 - val_loss: 0.0195 - val_accuracy: 1.0000\n",
            "Epoch 289/500\n",
            "15/15 [==============================] - 0s 2ms/step - loss: 0.0610 - accuracy: 0.9810 - val_loss: 0.0283 - val_accuracy: 0.9778\n",
            "Epoch 290/500\n",
            "15/15 [==============================] - 0s 3ms/step - loss: 0.0647 - accuracy: 0.9905 - val_loss: 0.0304 - val_accuracy: 0.9778\n",
            "Epoch 291/500\n",
            "15/15 [==============================] - 0s 3ms/step - loss: 0.0614 - accuracy: 0.9905 - val_loss: 0.0233 - val_accuracy: 0.9778\n",
            "Epoch 292/500\n",
            "15/15 [==============================] - 0s 3ms/step - loss: 0.0614 - accuracy: 0.9905 - val_loss: 0.0261 - val_accuracy: 0.9778\n",
            "Epoch 293/500\n",
            "15/15 [==============================] - 0s 4ms/step - loss: 0.0654 - accuracy: 0.9810 - val_loss: 0.0322 - val_accuracy: 0.9778\n",
            "Epoch 294/500\n",
            "15/15 [==============================] - 0s 3ms/step - loss: 0.0565 - accuracy: 0.9905 - val_loss: 0.0194 - val_accuracy: 1.0000\n",
            "Epoch 295/500\n",
            "15/15 [==============================] - 0s 3ms/step - loss: 0.0723 - accuracy: 0.9714 - val_loss: 0.0189 - val_accuracy: 1.0000\n",
            "Epoch 296/500\n",
            "15/15 [==============================] - 0s 4ms/step - loss: 0.0550 - accuracy: 0.9905 - val_loss: 0.0371 - val_accuracy: 0.9778\n",
            "Epoch 297/500\n",
            "15/15 [==============================] - 0s 3ms/step - loss: 0.0694 - accuracy: 0.9810 - val_loss: 0.0180 - val_accuracy: 1.0000\n",
            "Epoch 298/500\n",
            "15/15 [==============================] - 0s 3ms/step - loss: 0.0600 - accuracy: 0.9714 - val_loss: 0.0272 - val_accuracy: 0.9778\n",
            "Epoch 299/500\n",
            "15/15 [==============================] - 0s 3ms/step - loss: 0.0623 - accuracy: 0.9905 - val_loss: 0.0268 - val_accuracy: 0.9778\n",
            "Epoch 300/500\n",
            "15/15 [==============================] - 0s 4ms/step - loss: 0.0676 - accuracy: 0.9810 - val_loss: 0.0247 - val_accuracy: 0.9778\n",
            "Epoch 301/500\n",
            "15/15 [==============================] - 0s 3ms/step - loss: 0.0855 - accuracy: 0.9714 - val_loss: 0.0255 - val_accuracy: 0.9778\n",
            "Epoch 302/500\n",
            "15/15 [==============================] - 0s 3ms/step - loss: 0.0669 - accuracy: 0.9810 - val_loss: 0.0219 - val_accuracy: 0.9778\n",
            "Epoch 303/500\n",
            "15/15 [==============================] - 0s 4ms/step - loss: 0.0635 - accuracy: 0.9905 - val_loss: 0.0261 - val_accuracy: 0.9778\n",
            "Epoch 304/500\n",
            "15/15 [==============================] - 0s 4ms/step - loss: 0.0747 - accuracy: 0.9714 - val_loss: 0.0277 - val_accuracy: 0.9778\n",
            "Epoch 305/500\n",
            "15/15 [==============================] - 0s 4ms/step - loss: 0.0640 - accuracy: 0.9905 - val_loss: 0.0228 - val_accuracy: 0.9778\n",
            "Epoch 306/500\n",
            "15/15 [==============================] - 0s 2ms/step - loss: 0.0628 - accuracy: 0.9810 - val_loss: 0.0252 - val_accuracy: 0.9778\n",
            "Epoch 307/500\n",
            "15/15 [==============================] - 0s 4ms/step - loss: 0.0620 - accuracy: 0.9905 - val_loss: 0.0243 - val_accuracy: 0.9778\n",
            "Epoch 308/500\n",
            "15/15 [==============================] - 0s 2ms/step - loss: 0.0628 - accuracy: 0.9905 - val_loss: 0.0253 - val_accuracy: 0.9778\n",
            "Epoch 309/500\n",
            "15/15 [==============================] - 0s 4ms/step - loss: 0.0613 - accuracy: 0.9905 - val_loss: 0.0237 - val_accuracy: 0.9778\n",
            "Epoch 310/500\n",
            "15/15 [==============================] - 0s 4ms/step - loss: 0.0676 - accuracy: 0.9714 - val_loss: 0.0298 - val_accuracy: 0.9778\n",
            "Epoch 311/500\n",
            "15/15 [==============================] - 0s 3ms/step - loss: 0.0663 - accuracy: 0.9714 - val_loss: 0.0286 - val_accuracy: 0.9778\n",
            "Epoch 312/500\n",
            "15/15 [==============================] - 0s 3ms/step - loss: 0.0789 - accuracy: 0.9714 - val_loss: 0.0255 - val_accuracy: 0.9778\n",
            "Epoch 313/500\n",
            "15/15 [==============================] - 0s 3ms/step - loss: 0.0659 - accuracy: 0.9810 - val_loss: 0.0231 - val_accuracy: 0.9778\n",
            "Epoch 314/500\n",
            "15/15 [==============================] - 0s 4ms/step - loss: 0.0595 - accuracy: 0.9905 - val_loss: 0.0265 - val_accuracy: 0.9778\n",
            "Epoch 315/500\n",
            "15/15 [==============================] - 0s 3ms/step - loss: 0.0596 - accuracy: 0.9905 - val_loss: 0.0262 - val_accuracy: 0.9778\n",
            "Epoch 316/500\n",
            "15/15 [==============================] - 0s 4ms/step - loss: 0.0624 - accuracy: 0.9810 - val_loss: 0.0245 - val_accuracy: 0.9778\n",
            "Epoch 317/500\n",
            "15/15 [==============================] - 0s 3ms/step - loss: 0.0611 - accuracy: 0.9905 - val_loss: 0.0268 - val_accuracy: 0.9778\n",
            "Epoch 318/500\n",
            "15/15 [==============================] - 0s 3ms/step - loss: 0.0603 - accuracy: 0.9905 - val_loss: 0.0233 - val_accuracy: 0.9778\n",
            "Epoch 319/500\n",
            "15/15 [==============================] - 0s 2ms/step - loss: 0.0630 - accuracy: 0.9810 - val_loss: 0.0301 - val_accuracy: 0.9778\n",
            "Epoch 320/500\n",
            "15/15 [==============================] - 0s 3ms/step - loss: 0.0640 - accuracy: 0.9810 - val_loss: 0.0289 - val_accuracy: 0.9778\n",
            "Epoch 321/500\n",
            "15/15 [==============================] - 0s 2ms/step - loss: 0.0606 - accuracy: 0.9810 - val_loss: 0.0248 - val_accuracy: 0.9778\n",
            "Epoch 322/500\n",
            "15/15 [==============================] - 0s 3ms/step - loss: 0.0695 - accuracy: 0.9714 - val_loss: 0.0240 - val_accuracy: 0.9778\n",
            "Epoch 323/500\n",
            "15/15 [==============================] - 0s 4ms/step - loss: 0.0654 - accuracy: 0.9810 - val_loss: 0.0279 - val_accuracy: 0.9778\n",
            "Epoch 324/500\n",
            "15/15 [==============================] - 0s 3ms/step - loss: 0.0576 - accuracy: 0.9905 - val_loss: 0.0205 - val_accuracy: 1.0000\n",
            "Epoch 325/500\n",
            "15/15 [==============================] - 0s 3ms/step - loss: 0.0637 - accuracy: 0.9714 - val_loss: 0.0206 - val_accuracy: 1.0000\n",
            "Epoch 326/500\n",
            "15/15 [==============================] - 0s 4ms/step - loss: 0.0695 - accuracy: 0.9714 - val_loss: 0.0253 - val_accuracy: 0.9778\n",
            "Epoch 327/500\n",
            "15/15 [==============================] - 0s 3ms/step - loss: 0.0666 - accuracy: 0.9714 - val_loss: 0.0198 - val_accuracy: 1.0000\n",
            "Epoch 328/500\n",
            "15/15 [==============================] - 0s 3ms/step - loss: 0.0742 - accuracy: 0.9714 - val_loss: 0.0279 - val_accuracy: 0.9778\n",
            "Epoch 329/500\n",
            "15/15 [==============================] - 0s 3ms/step - loss: 0.0755 - accuracy: 0.9714 - val_loss: 0.0224 - val_accuracy: 0.9778\n",
            "Epoch 330/500\n",
            "15/15 [==============================] - 0s 4ms/step - loss: 0.0695 - accuracy: 0.9810 - val_loss: 0.0276 - val_accuracy: 0.9778\n",
            "Epoch 331/500\n",
            "15/15 [==============================] - 0s 4ms/step - loss: 0.0713 - accuracy: 0.9810 - val_loss: 0.0168 - val_accuracy: 1.0000\n",
            "Epoch 332/500\n",
            "15/15 [==============================] - 0s 4ms/step - loss: 0.0577 - accuracy: 0.9905 - val_loss: 0.0291 - val_accuracy: 0.9778\n",
            "Epoch 333/500\n",
            "15/15 [==============================] - 0s 4ms/step - loss: 0.0626 - accuracy: 0.9905 - val_loss: 0.0260 - val_accuracy: 0.9778\n",
            "Epoch 334/500\n",
            "15/15 [==============================] - 0s 4ms/step - loss: 0.0599 - accuracy: 0.9810 - val_loss: 0.0277 - val_accuracy: 0.9778\n",
            "Epoch 335/500\n",
            "15/15 [==============================] - 0s 3ms/step - loss: 0.0626 - accuracy: 0.9905 - val_loss: 0.0255 - val_accuracy: 0.9778\n",
            "Epoch 336/500\n",
            "15/15 [==============================] - 0s 3ms/step - loss: 0.0619 - accuracy: 0.9905 - val_loss: 0.0194 - val_accuracy: 1.0000\n",
            "Epoch 337/500\n",
            "15/15 [==============================] - 0s 4ms/step - loss: 0.0608 - accuracy: 0.9810 - val_loss: 0.0257 - val_accuracy: 0.9778\n",
            "Epoch 338/500\n",
            "15/15 [==============================] - 0s 4ms/step - loss: 0.0593 - accuracy: 0.9810 - val_loss: 0.0317 - val_accuracy: 0.9778\n",
            "Epoch 339/500\n",
            "15/15 [==============================] - 0s 4ms/step - loss: 0.0624 - accuracy: 0.9619 - val_loss: 0.0189 - val_accuracy: 1.0000\n",
            "Epoch 340/500\n",
            "15/15 [==============================] - 0s 4ms/step - loss: 0.0631 - accuracy: 0.9905 - val_loss: 0.0385 - val_accuracy: 0.9778\n",
            "Epoch 341/500\n",
            "15/15 [==============================] - 0s 3ms/step - loss: 0.0628 - accuracy: 0.9810 - val_loss: 0.0199 - val_accuracy: 1.0000\n",
            "Epoch 342/500\n",
            "15/15 [==============================] - 0s 3ms/step - loss: 0.0595 - accuracy: 0.9810 - val_loss: 0.0285 - val_accuracy: 0.9778\n",
            "Epoch 343/500\n",
            "15/15 [==============================] - 0s 4ms/step - loss: 0.0754 - accuracy: 0.9810 - val_loss: 0.0190 - val_accuracy: 1.0000\n",
            "Epoch 344/500\n",
            "15/15 [==============================] - 0s 4ms/step - loss: 0.0616 - accuracy: 0.9810 - val_loss: 0.0283 - val_accuracy: 0.9778\n",
            "Epoch 345/500\n",
            "15/15 [==============================] - 0s 3ms/step - loss: 0.0635 - accuracy: 0.9905 - val_loss: 0.0236 - val_accuracy: 0.9778\n",
            "Epoch 346/500\n",
            "15/15 [==============================] - 0s 4ms/step - loss: 0.0617 - accuracy: 0.9810 - val_loss: 0.0229 - val_accuracy: 0.9778\n",
            "Epoch 347/500\n",
            "15/15 [==============================] - 0s 3ms/step - loss: 0.0640 - accuracy: 0.9810 - val_loss: 0.0285 - val_accuracy: 0.9778\n",
            "Epoch 348/500\n",
            "15/15 [==============================] - 0s 4ms/step - loss: 0.0655 - accuracy: 0.9810 - val_loss: 0.0246 - val_accuracy: 0.9778\n",
            "Epoch 349/500\n",
            "15/15 [==============================] - 0s 3ms/step - loss: 0.0628 - accuracy: 0.9714 - val_loss: 0.0193 - val_accuracy: 1.0000\n",
            "Epoch 350/500\n",
            "15/15 [==============================] - 0s 3ms/step - loss: 0.0565 - accuracy: 0.9905 - val_loss: 0.0277 - val_accuracy: 0.9778\n",
            "Epoch 351/500\n",
            "15/15 [==============================] - 0s 3ms/step - loss: 0.0604 - accuracy: 0.9905 - val_loss: 0.0214 - val_accuracy: 0.9778\n",
            "Epoch 352/500\n",
            "15/15 [==============================] - 0s 3ms/step - loss: 0.0671 - accuracy: 0.9810 - val_loss: 0.0310 - val_accuracy: 0.9778\n",
            "Epoch 353/500\n",
            "15/15 [==============================] - 0s 3ms/step - loss: 0.0973 - accuracy: 0.9714 - val_loss: 0.0166 - val_accuracy: 1.0000\n",
            "Epoch 354/500\n",
            "15/15 [==============================] - 0s 3ms/step - loss: 0.0720 - accuracy: 0.9714 - val_loss: 0.0510 - val_accuracy: 0.9778\n",
            "Epoch 355/500\n",
            "15/15 [==============================] - 0s 4ms/step - loss: 0.0637 - accuracy: 0.9619 - val_loss: 0.0193 - val_accuracy: 1.0000\n",
            "Epoch 356/500\n",
            "15/15 [==============================] - 0s 3ms/step - loss: 0.0636 - accuracy: 0.9810 - val_loss: 0.0235 - val_accuracy: 0.9778\n",
            "Epoch 357/500\n",
            "15/15 [==============================] - 0s 3ms/step - loss: 0.0628 - accuracy: 0.9905 - val_loss: 0.0269 - val_accuracy: 0.9778\n",
            "Epoch 358/500\n",
            "15/15 [==============================] - 0s 3ms/step - loss: 0.0571 - accuracy: 0.9810 - val_loss: 0.0219 - val_accuracy: 0.9778\n",
            "Epoch 359/500\n",
            "15/15 [==============================] - 0s 3ms/step - loss: 0.0635 - accuracy: 0.9714 - val_loss: 0.0284 - val_accuracy: 0.9778\n",
            "Epoch 360/500\n",
            "15/15 [==============================] - 0s 2ms/step - loss: 0.0632 - accuracy: 0.9905 - val_loss: 0.0229 - val_accuracy: 0.9778\n",
            "Epoch 361/500\n",
            "15/15 [==============================] - 0s 4ms/step - loss: 0.0577 - accuracy: 0.9905 - val_loss: 0.0289 - val_accuracy: 0.9778\n",
            "Epoch 362/500\n",
            "15/15 [==============================] - 0s 3ms/step - loss: 0.0570 - accuracy: 0.9905 - val_loss: 0.0269 - val_accuracy: 0.9778\n",
            "Epoch 363/500\n",
            "15/15 [==============================] - 0s 3ms/step - loss: 0.0712 - accuracy: 0.9714 - val_loss: 0.0232 - val_accuracy: 0.9778\n",
            "Epoch 364/500\n",
            "15/15 [==============================] - 0s 4ms/step - loss: 0.0614 - accuracy: 0.9905 - val_loss: 0.0303 - val_accuracy: 0.9778\n",
            "Epoch 365/500\n",
            "15/15 [==============================] - 0s 4ms/step - loss: 0.0556 - accuracy: 0.9905 - val_loss: 0.0212 - val_accuracy: 0.9778\n",
            "Epoch 366/500\n",
            "15/15 [==============================] - 0s 3ms/step - loss: 0.0677 - accuracy: 0.9714 - val_loss: 0.0216 - val_accuracy: 0.9778\n",
            "Epoch 367/500\n",
            "15/15 [==============================] - 0s 3ms/step - loss: 0.0581 - accuracy: 0.9905 - val_loss: 0.0311 - val_accuracy: 0.9778\n",
            "Epoch 368/500\n",
            "15/15 [==============================] - 0s 4ms/step - loss: 0.0604 - accuracy: 0.9810 - val_loss: 0.0272 - val_accuracy: 0.9778\n",
            "Epoch 369/500\n",
            "15/15 [==============================] - 0s 4ms/step - loss: 0.0572 - accuracy: 0.9905 - val_loss: 0.0222 - val_accuracy: 0.9778\n",
            "Epoch 370/500\n",
            "15/15 [==============================] - 0s 3ms/step - loss: 0.0613 - accuracy: 0.9905 - val_loss: 0.0260 - val_accuracy: 0.9778\n",
            "Epoch 371/500\n",
            "15/15 [==============================] - 0s 2ms/step - loss: 0.0592 - accuracy: 0.9810 - val_loss: 0.0245 - val_accuracy: 0.9778\n",
            "Epoch 372/500\n",
            "15/15 [==============================] - 0s 3ms/step - loss: 0.0608 - accuracy: 0.9810 - val_loss: 0.0310 - val_accuracy: 0.9778\n",
            "Epoch 373/500\n",
            "15/15 [==============================] - 0s 3ms/step - loss: 0.0661 - accuracy: 0.9810 - val_loss: 0.0184 - val_accuracy: 1.0000\n",
            "Epoch 374/500\n",
            "15/15 [==============================] - 0s 3ms/step - loss: 0.0707 - accuracy: 0.9619 - val_loss: 0.0259 - val_accuracy: 0.9778\n",
            "Epoch 375/500\n",
            "15/15 [==============================] - 0s 3ms/step - loss: 0.0581 - accuracy: 0.9905 - val_loss: 0.0213 - val_accuracy: 0.9778\n",
            "Epoch 376/500\n",
            "15/15 [==============================] - 0s 3ms/step - loss: 0.0615 - accuracy: 0.9810 - val_loss: 0.0303 - val_accuracy: 0.9778\n",
            "Epoch 377/500\n",
            "15/15 [==============================] - 0s 3ms/step - loss: 0.0616 - accuracy: 0.9810 - val_loss: 0.0297 - val_accuracy: 0.9778\n",
            "Epoch 378/500\n",
            "15/15 [==============================] - 0s 4ms/step - loss: 0.0584 - accuracy: 0.9905 - val_loss: 0.0191 - val_accuracy: 1.0000\n",
            "Epoch 379/500\n",
            "15/15 [==============================] - 0s 3ms/step - loss: 0.0583 - accuracy: 0.9810 - val_loss: 0.0256 - val_accuracy: 0.9778\n",
            "Epoch 380/500\n",
            "15/15 [==============================] - 0s 3ms/step - loss: 0.0572 - accuracy: 0.9905 - val_loss: 0.0294 - val_accuracy: 0.9778\n",
            "Epoch 381/500\n",
            "15/15 [==============================] - 0s 3ms/step - loss: 0.0569 - accuracy: 0.9905 - val_loss: 0.0259 - val_accuracy: 0.9778\n",
            "Epoch 382/500\n",
            "15/15 [==============================] - 0s 3ms/step - loss: 0.0599 - accuracy: 0.9810 - val_loss: 0.0256 - val_accuracy: 0.9778\n",
            "Epoch 383/500\n",
            "15/15 [==============================] - 0s 3ms/step - loss: 0.0654 - accuracy: 0.9810 - val_loss: 0.0257 - val_accuracy: 0.9778\n",
            "Epoch 384/500\n",
            "15/15 [==============================] - 0s 4ms/step - loss: 0.0572 - accuracy: 0.9810 - val_loss: 0.0217 - val_accuracy: 0.9778\n",
            "Epoch 385/500\n",
            "15/15 [==============================] - 0s 4ms/step - loss: 0.0635 - accuracy: 0.9810 - val_loss: 0.0309 - val_accuracy: 0.9778\n",
            "Epoch 386/500\n",
            "15/15 [==============================] - 0s 3ms/step - loss: 0.0558 - accuracy: 0.9905 - val_loss: 0.0236 - val_accuracy: 0.9778\n",
            "Epoch 387/500\n",
            "15/15 [==============================] - 0s 3ms/step - loss: 0.0594 - accuracy: 0.9810 - val_loss: 0.0223 - val_accuracy: 0.9778\n",
            "Epoch 388/500\n",
            "15/15 [==============================] - 0s 5ms/step - loss: 0.0734 - accuracy: 0.9714 - val_loss: 0.0189 - val_accuracy: 1.0000\n",
            "Epoch 389/500\n",
            "15/15 [==============================] - 0s 3ms/step - loss: 0.0557 - accuracy: 0.9810 - val_loss: 0.0366 - val_accuracy: 0.9778\n",
            "Epoch 390/500\n",
            "15/15 [==============================] - 0s 3ms/step - loss: 0.0602 - accuracy: 0.9810 - val_loss: 0.0239 - val_accuracy: 0.9778\n",
            "Epoch 391/500\n",
            "15/15 [==============================] - 0s 3ms/step - loss: 0.0618 - accuracy: 0.9810 - val_loss: 0.0274 - val_accuracy: 0.9778\n",
            "Epoch 392/500\n",
            "15/15 [==============================] - 0s 4ms/step - loss: 0.0715 - accuracy: 0.9810 - val_loss: 0.0137 - val_accuracy: 1.0000\n",
            "Epoch 393/500\n",
            "15/15 [==============================] - 0s 3ms/step - loss: 0.0530 - accuracy: 0.9905 - val_loss: 0.0374 - val_accuracy: 0.9778\n",
            "Epoch 394/500\n",
            "15/15 [==============================] - 0s 3ms/step - loss: 0.0601 - accuracy: 0.9810 - val_loss: 0.0216 - val_accuracy: 0.9778\n",
            "Epoch 395/500\n",
            "15/15 [==============================] - 0s 3ms/step - loss: 0.0631 - accuracy: 0.9810 - val_loss: 0.0332 - val_accuracy: 0.9778\n",
            "Epoch 396/500\n",
            "15/15 [==============================] - 0s 3ms/step - loss: 0.0557 - accuracy: 0.9905 - val_loss: 0.0238 - val_accuracy: 0.9778\n",
            "Epoch 397/500\n",
            "15/15 [==============================] - 0s 3ms/step - loss: 0.0570 - accuracy: 0.9905 - val_loss: 0.0226 - val_accuracy: 0.9778\n",
            "Epoch 398/500\n",
            "15/15 [==============================] - 0s 4ms/step - loss: 0.0615 - accuracy: 0.9905 - val_loss: 0.0250 - val_accuracy: 0.9778\n",
            "Epoch 399/500\n",
            "15/15 [==============================] - 0s 3ms/step - loss: 0.0640 - accuracy: 0.9714 - val_loss: 0.0201 - val_accuracy: 0.9778\n",
            "Epoch 400/500\n",
            "15/15 [==============================] - 0s 3ms/step - loss: 0.0607 - accuracy: 0.9810 - val_loss: 0.0310 - val_accuracy: 0.9778\n",
            "Epoch 401/500\n",
            "15/15 [==============================] - 0s 4ms/step - loss: 0.0579 - accuracy: 0.9905 - val_loss: 0.0208 - val_accuracy: 0.9778\n",
            "Epoch 402/500\n",
            "15/15 [==============================] - 0s 4ms/step - loss: 0.0586 - accuracy: 0.9810 - val_loss: 0.0273 - val_accuracy: 0.9778\n",
            "Epoch 403/500\n",
            "15/15 [==============================] - 0s 4ms/step - loss: 0.0629 - accuracy: 0.9905 - val_loss: 0.0247 - val_accuracy: 0.9778\n",
            "Epoch 404/500\n",
            "15/15 [==============================] - 0s 4ms/step - loss: 0.0623 - accuracy: 0.9810 - val_loss: 0.0230 - val_accuracy: 0.9778\n",
            "Epoch 405/500\n",
            "15/15 [==============================] - 0s 2ms/step - loss: 0.0596 - accuracy: 0.9810 - val_loss: 0.0220 - val_accuracy: 0.9778\n",
            "Epoch 406/500\n",
            "15/15 [==============================] - 0s 4ms/step - loss: 0.0570 - accuracy: 0.9905 - val_loss: 0.0267 - val_accuracy: 0.9778\n",
            "Epoch 407/500\n",
            "15/15 [==============================] - 0s 3ms/step - loss: 0.0566 - accuracy: 0.9905 - val_loss: 0.0285 - val_accuracy: 0.9778\n",
            "Epoch 408/500\n",
            "15/15 [==============================] - 0s 4ms/step - loss: 0.0564 - accuracy: 0.9905 - val_loss: 0.0199 - val_accuracy: 0.9778\n",
            "Epoch 409/500\n",
            "15/15 [==============================] - 0s 3ms/step - loss: 0.0609 - accuracy: 0.9810 - val_loss: 0.0268 - val_accuracy: 0.9778\n",
            "Epoch 410/500\n",
            "15/15 [==============================] - 0s 5ms/step - loss: 0.0593 - accuracy: 0.9810 - val_loss: 0.0191 - val_accuracy: 0.9778\n",
            "Epoch 411/500\n",
            "15/15 [==============================] - 0s 3ms/step - loss: 0.0654 - accuracy: 0.9810 - val_loss: 0.0239 - val_accuracy: 0.9778\n",
            "Epoch 412/500\n",
            "15/15 [==============================] - 0s 3ms/step - loss: 0.0580 - accuracy: 0.9810 - val_loss: 0.0212 - val_accuracy: 0.9778\n",
            "Epoch 413/500\n",
            "15/15 [==============================] - 0s 3ms/step - loss: 0.0526 - accuracy: 0.9905 - val_loss: 0.0396 - val_accuracy: 0.9778\n",
            "Epoch 414/500\n",
            "15/15 [==============================] - 0s 3ms/step - loss: 0.0580 - accuracy: 0.9714 - val_loss: 0.0235 - val_accuracy: 0.9778\n",
            "Epoch 415/500\n",
            "15/15 [==============================] - 0s 3ms/step - loss: 0.0592 - accuracy: 0.9905 - val_loss: 0.0214 - val_accuracy: 0.9778\n",
            "Epoch 416/500\n",
            "15/15 [==============================] - 0s 3ms/step - loss: 0.0567 - accuracy: 0.9905 - val_loss: 0.0271 - val_accuracy: 0.9778\n",
            "Epoch 417/500\n",
            "15/15 [==============================] - 0s 3ms/step - loss: 0.0588 - accuracy: 0.9810 - val_loss: 0.0222 - val_accuracy: 0.9778\n",
            "Epoch 418/500\n",
            "15/15 [==============================] - 0s 3ms/step - loss: 0.0604 - accuracy: 0.9810 - val_loss: 0.0226 - val_accuracy: 0.9778\n",
            "Epoch 419/500\n",
            "15/15 [==============================] - 0s 3ms/step - loss: 0.0565 - accuracy: 0.9905 - val_loss: 0.0278 - val_accuracy: 0.9778\n",
            "Epoch 420/500\n",
            "15/15 [==============================] - 0s 3ms/step - loss: 0.0534 - accuracy: 0.9905 - val_loss: 0.0290 - val_accuracy: 0.9778\n",
            "Epoch 421/500\n",
            "15/15 [==============================] - 0s 3ms/step - loss: 0.0545 - accuracy: 0.9905 - val_loss: 0.0273 - val_accuracy: 0.9778\n",
            "Epoch 422/500\n",
            "15/15 [==============================] - 0s 3ms/step - loss: 0.0653 - accuracy: 0.9810 - val_loss: 0.0298 - val_accuracy: 0.9778\n",
            "Epoch 423/500\n",
            "15/15 [==============================] - 0s 3ms/step - loss: 0.0556 - accuracy: 0.9810 - val_loss: 0.0290 - val_accuracy: 0.9778\n",
            "Epoch 424/500\n",
            "15/15 [==============================] - 0s 3ms/step - loss: 0.0536 - accuracy: 0.9905 - val_loss: 0.0240 - val_accuracy: 0.9778\n",
            "Epoch 425/500\n",
            "15/15 [==============================] - 0s 4ms/step - loss: 0.0569 - accuracy: 0.9905 - val_loss: 0.0210 - val_accuracy: 0.9778\n",
            "Epoch 426/500\n",
            "15/15 [==============================] - 0s 3ms/step - loss: 0.0646 - accuracy: 0.9810 - val_loss: 0.0341 - val_accuracy: 0.9778\n",
            "Epoch 427/500\n",
            "15/15 [==============================] - 0s 3ms/step - loss: 0.0521 - accuracy: 0.9714 - val_loss: 0.0181 - val_accuracy: 1.0000\n",
            "Epoch 428/500\n",
            "15/15 [==============================] - 0s 3ms/step - loss: 0.0611 - accuracy: 0.9810 - val_loss: 0.0311 - val_accuracy: 0.9778\n",
            "Epoch 429/500\n",
            "15/15 [==============================] - 0s 3ms/step - loss: 0.0712 - accuracy: 0.9810 - val_loss: 0.0214 - val_accuracy: 0.9778\n",
            "Epoch 430/500\n",
            "15/15 [==============================] - 0s 3ms/step - loss: 0.0557 - accuracy: 0.9905 - val_loss: 0.0251 - val_accuracy: 0.9778\n",
            "Epoch 431/500\n",
            "15/15 [==============================] - 0s 3ms/step - loss: 0.0618 - accuracy: 0.9810 - val_loss: 0.0201 - val_accuracy: 0.9778\n",
            "Epoch 432/500\n",
            "15/15 [==============================] - 0s 4ms/step - loss: 0.0763 - accuracy: 0.9619 - val_loss: 0.0234 - val_accuracy: 0.9778\n",
            "Epoch 433/500\n",
            "15/15 [==============================] - 0s 4ms/step - loss: 0.0676 - accuracy: 0.9714 - val_loss: 0.0170 - val_accuracy: 1.0000\n",
            "Epoch 434/500\n",
            "15/15 [==============================] - 0s 3ms/step - loss: 0.0754 - accuracy: 0.9714 - val_loss: 0.0301 - val_accuracy: 0.9778\n",
            "Epoch 435/500\n",
            "15/15 [==============================] - 0s 3ms/step - loss: 0.0659 - accuracy: 0.9714 - val_loss: 0.0184 - val_accuracy: 1.0000\n",
            "Epoch 436/500\n",
            "15/15 [==============================] - 0s 3ms/step - loss: 0.0557 - accuracy: 0.9905 - val_loss: 0.0322 - val_accuracy: 0.9778\n",
            "Epoch 437/500\n",
            "15/15 [==============================] - 0s 3ms/step - loss: 0.0570 - accuracy: 0.9905 - val_loss: 0.0188 - val_accuracy: 0.9778\n",
            "Epoch 438/500\n",
            "15/15 [==============================] - 0s 4ms/step - loss: 0.0626 - accuracy: 0.9714 - val_loss: 0.0345 - val_accuracy: 0.9778\n",
            "Epoch 439/500\n",
            "15/15 [==============================] - 0s 4ms/step - loss: 0.0574 - accuracy: 0.9905 - val_loss: 0.0204 - val_accuracy: 0.9778\n",
            "Epoch 440/500\n",
            "15/15 [==============================] - 0s 3ms/step - loss: 0.0583 - accuracy: 0.9905 - val_loss: 0.0228 - val_accuracy: 0.9778\n",
            "Epoch 441/500\n",
            "15/15 [==============================] - 0s 3ms/step - loss: 0.0540 - accuracy: 0.9905 - val_loss: 0.0251 - val_accuracy: 0.9778\n",
            "Epoch 442/500\n",
            "15/15 [==============================] - 0s 3ms/step - loss: 0.0543 - accuracy: 0.9905 - val_loss: 0.0260 - val_accuracy: 0.9778\n",
            "Epoch 443/500\n",
            "15/15 [==============================] - 0s 3ms/step - loss: 0.0555 - accuracy: 0.9810 - val_loss: 0.0283 - val_accuracy: 0.9778\n",
            "Epoch 444/500\n",
            "15/15 [==============================] - 0s 4ms/step - loss: 0.0640 - accuracy: 0.9714 - val_loss: 0.0170 - val_accuracy: 1.0000\n",
            "Epoch 445/500\n",
            "15/15 [==============================] - 0s 3ms/step - loss: 0.0552 - accuracy: 0.9714 - val_loss: 0.0346 - val_accuracy: 0.9778\n",
            "Epoch 446/500\n",
            "15/15 [==============================] - 0s 4ms/step - loss: 0.0520 - accuracy: 0.9905 - val_loss: 0.0246 - val_accuracy: 0.9778\n",
            "Epoch 447/500\n",
            "15/15 [==============================] - 0s 3ms/step - loss: 0.0550 - accuracy: 0.9905 - val_loss: 0.0239 - val_accuracy: 0.9778\n",
            "Epoch 448/500\n",
            "15/15 [==============================] - 0s 4ms/step - loss: 0.0540 - accuracy: 0.9905 - val_loss: 0.0276 - val_accuracy: 0.9778\n",
            "Epoch 449/500\n",
            "15/15 [==============================] - 0s 3ms/step - loss: 0.0557 - accuracy: 0.9905 - val_loss: 0.0254 - val_accuracy: 0.9778\n",
            "Epoch 450/500\n",
            "15/15 [==============================] - 0s 4ms/step - loss: 0.0537 - accuracy: 0.9905 - val_loss: 0.0260 - val_accuracy: 0.9778\n",
            "Epoch 451/500\n",
            "15/15 [==============================] - 0s 3ms/step - loss: 0.0541 - accuracy: 0.9905 - val_loss: 0.0188 - val_accuracy: 0.9778\n",
            "Epoch 452/500\n",
            "15/15 [==============================] - 0s 5ms/step - loss: 0.0570 - accuracy: 0.9905 - val_loss: 0.0343 - val_accuracy: 0.9778\n",
            "Epoch 453/500\n",
            "15/15 [==============================] - 0s 4ms/step - loss: 0.0566 - accuracy: 0.9905 - val_loss: 0.0290 - val_accuracy: 0.9778\n",
            "Epoch 454/500\n",
            "15/15 [==============================] - 0s 4ms/step - loss: 0.0602 - accuracy: 0.9905 - val_loss: 0.0236 - val_accuracy: 0.9778\n",
            "Epoch 455/500\n",
            "15/15 [==============================] - 0s 3ms/step - loss: 0.0610 - accuracy: 0.9810 - val_loss: 0.0212 - val_accuracy: 0.9778\n",
            "Epoch 456/500\n",
            "15/15 [==============================] - 0s 3ms/step - loss: 0.0591 - accuracy: 0.9905 - val_loss: 0.0234 - val_accuracy: 0.9778\n",
            "Epoch 457/500\n",
            "15/15 [==============================] - 0s 3ms/step - loss: 0.0545 - accuracy: 0.9905 - val_loss: 0.0373 - val_accuracy: 0.9778\n",
            "Epoch 458/500\n",
            "15/15 [==============================] - 0s 4ms/step - loss: 0.0602 - accuracy: 0.9810 - val_loss: 0.0177 - val_accuracy: 1.0000\n",
            "Epoch 459/500\n",
            "15/15 [==============================] - 0s 4ms/step - loss: 0.0603 - accuracy: 0.9810 - val_loss: 0.0354 - val_accuracy: 0.9778\n",
            "Epoch 460/500\n",
            "15/15 [==============================] - 0s 3ms/step - loss: 0.0563 - accuracy: 0.9810 - val_loss: 0.0197 - val_accuracy: 0.9778\n",
            "Epoch 461/500\n",
            "15/15 [==============================] - 0s 4ms/step - loss: 0.0573 - accuracy: 0.9810 - val_loss: 0.0347 - val_accuracy: 0.9778\n",
            "Epoch 462/500\n",
            "15/15 [==============================] - 0s 4ms/step - loss: 0.0567 - accuracy: 0.9905 - val_loss: 0.0206 - val_accuracy: 0.9778\n",
            "Epoch 463/500\n",
            "15/15 [==============================] - 0s 3ms/step - loss: 0.0567 - accuracy: 0.9905 - val_loss: 0.0225 - val_accuracy: 0.9778\n",
            "Epoch 464/500\n",
            "15/15 [==============================] - 0s 4ms/step - loss: 0.0652 - accuracy: 0.9810 - val_loss: 0.0243 - val_accuracy: 0.9778\n",
            "Epoch 465/500\n",
            "15/15 [==============================] - 0s 4ms/step - loss: 0.0633 - accuracy: 0.9714 - val_loss: 0.0251 - val_accuracy: 0.9778\n",
            "Epoch 466/500\n",
            "15/15 [==============================] - 0s 3ms/step - loss: 0.0558 - accuracy: 0.9810 - val_loss: 0.0273 - val_accuracy: 0.9778\n",
            "Epoch 467/500\n",
            "15/15 [==============================] - 0s 3ms/step - loss: 0.0624 - accuracy: 0.9714 - val_loss: 0.0197 - val_accuracy: 0.9778\n",
            "Epoch 468/500\n",
            "15/15 [==============================] - 0s 3ms/step - loss: 0.0615 - accuracy: 0.9810 - val_loss: 0.0348 - val_accuracy: 0.9778\n",
            "Epoch 469/500\n",
            "15/15 [==============================] - 0s 3ms/step - loss: 0.0654 - accuracy: 0.9714 - val_loss: 0.0218 - val_accuracy: 0.9778\n",
            "Epoch 470/500\n",
            "15/15 [==============================] - 0s 3ms/step - loss: 0.0535 - accuracy: 0.9905 - val_loss: 0.0309 - val_accuracy: 0.9778\n",
            "Epoch 471/500\n",
            "15/15 [==============================] - 0s 3ms/step - loss: 0.0583 - accuracy: 0.9905 - val_loss: 0.0290 - val_accuracy: 0.9778\n",
            "Epoch 472/500\n",
            "15/15 [==============================] - 0s 4ms/step - loss: 0.0642 - accuracy: 0.9810 - val_loss: 0.0269 - val_accuracy: 0.9778\n",
            "Epoch 473/500\n",
            "15/15 [==============================] - 0s 3ms/step - loss: 0.0662 - accuracy: 0.9714 - val_loss: 0.0233 - val_accuracy: 0.9778\n",
            "Epoch 474/500\n",
            "15/15 [==============================] - 0s 3ms/step - loss: 0.0595 - accuracy: 0.9810 - val_loss: 0.0247 - val_accuracy: 0.9778\n",
            "Epoch 475/500\n",
            "15/15 [==============================] - 0s 3ms/step - loss: 0.0661 - accuracy: 0.9810 - val_loss: 0.0209 - val_accuracy: 0.9778\n",
            "Epoch 476/500\n",
            "15/15 [==============================] - 0s 4ms/step - loss: 0.0603 - accuracy: 0.9714 - val_loss: 0.0203 - val_accuracy: 0.9778\n",
            "Epoch 477/500\n",
            "15/15 [==============================] - 0s 4ms/step - loss: 0.0541 - accuracy: 0.9810 - val_loss: 0.0336 - val_accuracy: 0.9778\n",
            "Epoch 478/500\n",
            "15/15 [==============================] - 0s 3ms/step - loss: 0.0584 - accuracy: 0.9810 - val_loss: 0.0302 - val_accuracy: 0.9778\n",
            "Epoch 479/500\n",
            "15/15 [==============================] - 0s 3ms/step - loss: 0.0548 - accuracy: 0.9905 - val_loss: 0.0238 - val_accuracy: 0.9778\n",
            "Epoch 480/500\n",
            "15/15 [==============================] - 0s 4ms/step - loss: 0.0591 - accuracy: 0.9905 - val_loss: 0.0293 - val_accuracy: 0.9778\n",
            "Epoch 481/500\n",
            "15/15 [==============================] - 0s 4ms/step - loss: 0.0643 - accuracy: 0.9810 - val_loss: 0.0361 - val_accuracy: 0.9778\n",
            "Epoch 482/500\n",
            "15/15 [==============================] - 0s 4ms/step - loss: 0.0592 - accuracy: 0.9714 - val_loss: 0.0234 - val_accuracy: 0.9778\n",
            "Epoch 483/500\n",
            "15/15 [==============================] - 0s 4ms/step - loss: 0.0599 - accuracy: 0.9810 - val_loss: 0.0226 - val_accuracy: 0.9778\n",
            "Epoch 484/500\n",
            "15/15 [==============================] - 0s 3ms/step - loss: 0.0577 - accuracy: 0.9905 - val_loss: 0.0337 - val_accuracy: 0.9778\n",
            "Epoch 485/500\n",
            "15/15 [==============================] - 0s 4ms/step - loss: 0.0678 - accuracy: 0.9810 - val_loss: 0.0202 - val_accuracy: 0.9778\n",
            "Epoch 486/500\n",
            "15/15 [==============================] - 0s 3ms/step - loss: 0.0633 - accuracy: 0.9905 - val_loss: 0.0351 - val_accuracy: 0.9778\n",
            "Epoch 487/500\n",
            "15/15 [==============================] - 0s 3ms/step - loss: 0.0518 - accuracy: 0.9905 - val_loss: 0.0180 - val_accuracy: 1.0000\n",
            "Epoch 488/500\n",
            "15/15 [==============================] - 0s 3ms/step - loss: 0.0543 - accuracy: 0.9905 - val_loss: 0.0282 - val_accuracy: 0.9778\n",
            "Epoch 489/500\n",
            "15/15 [==============================] - 0s 3ms/step - loss: 0.0515 - accuracy: 0.9810 - val_loss: 0.0349 - val_accuracy: 0.9778\n",
            "Epoch 490/500\n",
            "15/15 [==============================] - 0s 3ms/step - loss: 0.0539 - accuracy: 0.9810 - val_loss: 0.0172 - val_accuracy: 1.0000\n",
            "Epoch 491/500\n",
            "15/15 [==============================] - 0s 3ms/step - loss: 0.0662 - accuracy: 0.9714 - val_loss: 0.0153 - val_accuracy: 1.0000\n",
            "Epoch 492/500\n",
            "15/15 [==============================] - 0s 3ms/step - loss: 0.0713 - accuracy: 0.9619 - val_loss: 0.0389 - val_accuracy: 0.9778\n",
            "Epoch 493/500\n",
            "15/15 [==============================] - 0s 4ms/step - loss: 0.0749 - accuracy: 0.9619 - val_loss: 0.0160 - val_accuracy: 1.0000\n",
            "Epoch 494/500\n",
            "15/15 [==============================] - 0s 3ms/step - loss: 0.0520 - accuracy: 0.9905 - val_loss: 0.0277 - val_accuracy: 0.9778\n",
            "Epoch 495/500\n",
            "15/15 [==============================] - 0s 3ms/step - loss: 0.0546 - accuracy: 0.9810 - val_loss: 0.0333 - val_accuracy: 0.9778\n",
            "Epoch 496/500\n",
            "15/15 [==============================] - 0s 4ms/step - loss: 0.0633 - accuracy: 0.9810 - val_loss: 0.0218 - val_accuracy: 0.9778\n",
            "Epoch 497/500\n",
            "15/15 [==============================] - 0s 3ms/step - loss: 0.0641 - accuracy: 0.9714 - val_loss: 0.0359 - val_accuracy: 0.9778\n",
            "Epoch 498/500\n",
            "15/15 [==============================] - 0s 3ms/step - loss: 0.0498 - accuracy: 0.9905 - val_loss: 0.0197 - val_accuracy: 0.9778\n",
            "Epoch 499/500\n",
            "15/15 [==============================] - 0s 4ms/step - loss: 0.0589 - accuracy: 0.9810 - val_loss: 0.0255 - val_accuracy: 0.9778\n",
            "Epoch 500/500\n",
            "15/15 [==============================] - 0s 4ms/step - loss: 0.0543 - accuracy: 0.9905 - val_loss: 0.0223 - val_accuracy: 0.9778\n"
          ]
        }
      ]
    },
    {
      "cell_type": "code",
      "metadata": {
        "colab": {
          "base_uri": "https://localhost:8080/",
          "height": 378
        },
        "id": "eoxNMehJa8le",
        "outputId": "1e1e17d7-b67e-494d-d7ad-2152eb289368"
      },
      "source": [
        "import matplotlib.pyplot as plt\n",
        "\n",
        "plt.figure(figsize = (9,6))\n",
        "plt.ylim(0, 1.2)\n",
        "plt.plot(History_iris.history['loss'])\n",
        "plt.plot(History_iris.history['val_loss'])\n",
        "plt.plot(History_iris.history['accuracy'])\n",
        "plt.plot(History_iris.history['val_accuracy'])\n",
        "plt.legend(['loss', 'val_loss', 'accuracy', 'val_accuracy'])\n",
        "plt.grid()\n",
        "plt.show()"
      ],
      "execution_count": 31,
      "outputs": [
        {
          "output_type": "display_data",
          "data": {
            "image/png": "[encoded data removed]",
            "text/plain": [
              "<Figure size 648x432 with 1 Axes>"
            ]
          },
          "metadata": {
            "needs_background": "light"
          }
        }
      ]
    },
    {
      "cell_type": "code",
      "metadata": {
        "colab": {
          "base_uri": "https://localhost:8080/"
        },
        "id": "yNZqFyBAcR3e",
        "outputId": "4a14d0fd-9607-4217-d085-68b5138317d7"
      },
      "source": [
        "loss, accuracy = Model_iris.evaluate(X_test, y_test)\n",
        "\n",
        "print('Loss = {:.2f}'.format(loss))\n",
        "print('Accuracy = {:.2f}'.format(accuracy))"
      ],
      "execution_count": 33,
      "outputs": [
        {
          "output_type": "stream",
          "name": "stdout",
          "text": [
            "2/2 [==============================] - 0s 7ms/step - loss: 0.0223 - accuracy: 0.9778\n",
            "Loss = 0.02\n",
            "Accuracy = 0.98\n"
          ]
        }
      ]
    },
    {
      "cell_type": "code",
      "metadata": {
        "colab": {
          "base_uri": "https://localhost:8080/"
        },
        "id": "8-sk2UjKciyT",
        "outputId": "6190912d-20d5-471b-9990-0d2785519ca9"
      },
      "source": [
        "import numpy as np\n",
        "np.set_printoptions(suppress = True, precision = 5)\n",
        "\n",
        "Model_iris.predict(X_test)"
      ],
      "execution_count": 34,
      "outputs": [
        {
          "output_type": "execute_result",
          "data": {
            "text/plain": [
              "array([[0.99976, 0.00024, 0.     ],\n",
              "       [0.99684, 0.00316, 0.     ],\n",
              "       [0.00879, 0.99121, 0.     ],\n",
              "       [0.     , 0.00035, 0.99965],\n",
              "       [0.99998, 0.00002, 0.     ],\n",
              "       [0.00014, 0.99986, 0.     ],\n",
              "       [0.     , 0.00522, 0.99478],\n",
              "       [0.99999, 0.00001, 0.     ],\n",
              "       [0.     , 0.00079, 0.99921],\n",
              "       [0.99973, 0.00027, 0.     ],\n",
              "       [0.     , 0.98306, 0.01694],\n",
              "       [0.     , 0.00348, 0.99652],\n",
              "       [0.     , 0.99957, 0.00043],\n",
              "       [1.     , 0.     , 0.     ],\n",
              "       [0.99998, 0.00002, 0.     ],\n",
              "       [0.00001, 0.99974, 0.00025],\n",
              "       [0.     , 0.99716, 0.00284],\n",
              "       [0.99986, 0.00014, 0.     ],\n",
              "       [0.     , 0.99999, 0.00001],\n",
              "       [0.99999, 0.00001, 0.     ],\n",
              "       [0.99982, 0.00018, 0.     ],\n",
              "       [0.99981, 0.00019, 0.     ],\n",
              "       [0.     , 0.00075, 0.99925],\n",
              "       [0.99992, 0.00008, 0.     ],\n",
              "       [0.     , 0.03166, 0.96834],\n",
              "       [0.     , 0.00605, 0.99395],\n",
              "       [0.99994, 0.00006, 0.     ],\n",
              "       [0.     , 0.99984, 0.00016],\n",
              "       [0.     , 0.99934, 0.00066],\n",
              "       [0.     , 0.0168 , 0.9832 ],\n",
              "       [0.99998, 0.00002, 0.     ],\n",
              "       [0.     , 0.99995, 0.00004],\n",
              "       [0.99997, 0.00003, 0.     ],\n",
              "       [0.     , 0.58826, 0.41174],\n",
              "       [0.     , 0.99974, 0.00025],\n",
              "       [0.00008, 0.99992, 0.     ],\n",
              "       [0.     , 0.00025, 0.99975],\n",
              "       [0.00005, 0.99994, 0.     ],\n",
              "       [0.99981, 0.00019, 0.     ],\n",
              "       [0.00003, 0.99994, 0.00003],\n",
              "       [0.     , 0.00046, 0.99954],\n",
              "       [0.99987, 0.00013, 0.     ],\n",
              "       [0.     , 0.00221, 0.99779],\n",
              "       [0.     , 0.00168, 0.99832],\n",
              "       [0.     , 0.01174, 0.98826]], dtype=float32)"
            ]
          },
          "metadata": {},
          "execution_count": 34
        }
      ]
    },
    {
      "cell_type": "code",
      "metadata": {
        "colab": {
          "base_uri": "https://localhost:8080/"
        },
        "id": "TtXgnBefcyII",
        "outputId": "cb62cd1d-d30a-417b-f111-6c5b6fc9e625"
      },
      "source": [
        "y_hat = np.argmax(Model_iris.predict(X_test), axis = 1)\n",
        "y_hat"
      ],
      "execution_count": 35,
      "outputs": [
        {
          "output_type": "execute_result",
          "data": {
            "text/plain": [
              "array([0, 0, 1, 2, 0, 1, 2, 0, 2, 0, 1, 2, 1, 0, 0, 1, 1, 0, 1, 0, 0, 0,\n",
              "       2, 0, 2, 2, 0, 1, 1, 2, 0, 1, 0, 1, 1, 1, 2, 1, 0, 1, 2, 0, 2, 2,\n",
              "       2])"
            ]
          },
          "metadata": {},
          "execution_count": 35
        }
      ]
    },
    {
      "cell_type": "code",
      "metadata": {
        "colab": {
          "base_uri": "https://localhost:8080/"
        },
        "id": "twmsHt7Hc5-f",
        "outputId": "8d19cc78-7852-4010-bff2-a26b4000baaf"
      },
      "source": [
        "y = np.argmax(y_test, axis = 1)\n",
        "\n",
        "y"
      ],
      "execution_count": 36,
      "outputs": [
        {
          "output_type": "execute_result",
          "data": {
            "text/plain": [
              "array([0, 0, 1, 2, 0, 1, 2, 0, 2, 0, 1, 2, 1, 0, 0, 1, 1, 0, 1, 0, 0, 0,\n",
              "       2, 0, 2, 2, 0, 1, 1, 2, 0, 1, 0, 2, 1, 1, 2, 1, 0, 1, 2, 0, 2, 2,\n",
              "       2])"
            ]
          },
          "metadata": {},
          "execution_count": 36
        }
      ]
    },
    {
      "cell_type": "code",
      "metadata": {
        "colab": {
          "base_uri": "https://localhost:8080/"
        },
        "id": "5kcQXhRoc89H",
        "outputId": "09acd447-b6f1-4d4d-8fbe-9cbb6f0faf90"
      },
      "source": [
        "from sklearn.metrics import confusion_matrix, classification_report\n",
        "\n",
        "confusion_matrix(y, y_hat)"
      ],
      "execution_count": 37,
      "outputs": [
        {
          "output_type": "execute_result",
          "data": {
            "text/plain": [
              "array([[17,  0,  0],\n",
              "       [ 0, 14,  0],\n",
              "       [ 0,  1, 13]])"
            ]
          },
          "metadata": {},
          "execution_count": 37
        }
      ]
    },
    {
      "cell_type": "code",
      "metadata": {
        "colab": {
          "base_uri": "https://localhost:8080/"
        },
        "id": "7tpVJQxldDSX",
        "outputId": "acc53d6d-770e-43ce-a156-81cf5cbca8fb"
      },
      "source": [
        "print(classification_report(y, y_hat,\n",
        "                            target_names = ['setosa',\n",
        "                                            'virginica',\n",
        "                                            'versicolor']))"
      ],
      "execution_count": 38,
      "outputs": [
        {
          "output_type": "stream",
          "name": "stdout",
          "text": [
            "              precision    recall  f1-score   support\n",
            "\n",
            "      setosa       1.00      1.00      1.00        17\n",
            "   virginica       0.93      1.00      0.97        14\n",
            "  versicolor       1.00      0.93      0.96        14\n",
            "\n",
            "    accuracy                           0.98        45\n",
            "   macro avg       0.98      0.98      0.98        45\n",
            "weighted avg       0.98      0.98      0.98        45\n",
            "\n"
          ]
        }
      ]
    },
    {
      "cell_type": "code",
      "metadata": {
        "colab": {
          "base_uri": "https://localhost:8080/"
        },
        "id": "X1bOKeUSdLlo",
        "outputId": "e87755e8-031b-4302-c230-c681f02cddbc"
      },
      "source": [
        "!ls -l"
      ],
      "execution_count": 39,
      "outputs": [
        {
          "output_type": "stream",
          "name": "stdout",
          "text": [
            "total 36\n",
            "-rw-r--r-- 1 root root 30037 Sep 28 08:04 model.png\n",
            "drwxr-xr-x 1 root root  4096 Sep 16 13:40 sample_data\n"
          ]
        }
      ]
    },
    {
      "cell_type": "code",
      "metadata": {
        "colab": {
          "base_uri": "https://localhost:8080/"
        },
        "id": "rtArFPiydOE0",
        "outputId": "76e66d05-5b63-4351-af81-c851406d9fca"
      },
      "source": [
        "Model_iris.save('Model_iris.h5')\n",
        "\n",
        "!ls -l"
      ],
      "execution_count": 40,
      "outputs": [
        {
          "output_type": "stream",
          "name": "stdout",
          "text": [
            "total 72\n",
            "-rw-r--r-- 1 root root 34600 Sep 28 08:11 Model_iris.h5\n",
            "-rw-r--r-- 1 root root 30037 Sep 28 08:04 model.png\n",
            "drwxr-xr-x 1 root root  4096 Sep 16 13:40 sample_data\n"
          ]
        }
      ]
    },
    {
      "cell_type": "code",
      "metadata": {
        "colab": {
          "base_uri": "https://localhost:8080/",
          "height": 17
        },
        "id": "5XRcTRdhdUU0",
        "outputId": "7cb506ee-8ae4-4fbe-a926-ea8f4f329b63"
      },
      "source": [
        "from google.colab import files\n",
        "\n",
        "files.download('Model_iris.h5')"
      ],
      "execution_count": 41,
      "outputs": [
        {
          "output_type": "display_data",
          "data": {
            "application/javascript": [
              "\n",
              "    async function download(id, filename, size) {\n",
              "      if (!google.colab.kernel.accessAllowed) {\n",
              "        return;\n",
              "      }\n",
              "      const div = document.createElement('div');\n",
              "      const label = document.createElement('label');\n",
              "      label.textContent = `Downloading \"${filename}\": `;\n",
              "      div.appendChild(label);\n",
              "      const progress = document.createElement('progress');\n",
              "      progress.max = size;\n",
              "      div.appendChild(progress);\n",
              "      document.body.appendChild(div);\n",
              "\n",
              "      const buffers = [];\n",
              "      let downloaded = 0;\n",
              "\n",
              "      const channel = await google.colab.kernel.comms.open(id);\n",
              "      // Send a message to notify the kernel that we're ready.\n",
              "      channel.send({})\n",
              "\n",
              "      for await (const message of channel.messages) {\n",
              "        // Send a message to notify the kernel that we're ready.\n",
              "        channel.send({})\n",
              "        if (message.buffers) {\n",
              "          for (const buffer of message.buffers) {\n",
              "            buffers.push(buffer);\n",
              "            downloaded += buffer.byteLength;\n",
              "            progress.value = downloaded;\n",
              "          }\n",
              "        }\n",
              "      }\n",
              "      const blob = new Blob(buffers, {type: 'application/binary'});\n",
              "      const a = document.createElement('a');\n",
              "      a.href = window.URL.createObjectURL(blob);\n",
              "      a.download = filename;\n",
              "      div.appendChild(a);\n",
              "      a.click();\n",
              "      div.remove();\n",
              "    }\n",
              "  "
            ],
            "text/plain": [
              "<IPython.core.display.Javascript object>"
            ]
          },
          "metadata": {}
        },
        {
          "output_type": "display_data",
          "data": {
            "application/javascript": [
              "download(\"download_866d48f1-74a9-44dd-9c76-1fb82adcc7fb\", \"Model_iris.h5\", 34600)"
            ],
            "text/plain": [
              "<IPython.core.display.Javascript object>"
            ]
          },
          "metadata": {}
        }
      ]
    },
    {
      "cell_type": "code",
      "metadata": {
        "id": "J4DNnoEBdfPe"
      },
      "source": [
        "from tensorflow.keras.models import load_model\n",
        "\n",
        "Model_local = load_model('Model_iris.h5')"
      ],
      "execution_count": 42,
      "outputs": []
    },
    {
      "cell_type": "code",
      "metadata": {
        "colab": {
          "base_uri": "https://localhost:8080/"
        },
        "id": "HiKvbD1qdrQp",
        "outputId": "39b40a95-c10e-4de2-dd43-3eb2364409d9"
      },
      "source": [
        "np.argmax(Model_local.predict(X_test), axis = 1)"
      ],
      "execution_count": 45,
      "outputs": [
        {
          "output_type": "execute_result",
          "data": {
            "text/plain": [
              "array([0, 0, 1, 2, 0, 1, 2, 0, 2, 0, 1, 2, 1, 0, 0, 1, 1, 0, 1, 0, 0, 0,\n",
              "       2, 0, 2, 2, 0, 1, 1, 2, 0, 1, 0, 1, 1, 1, 2, 1, 0, 1, 2, 0, 2, 2,\n",
              "       2])"
            ]
          },
          "metadata": {},
          "execution_count": 45
        }
      ]
    },
    {
      "cell_type": "code",
      "metadata": {
        "colab": {
          "base_uri": "https://localhost:8080/"
        },
        "id": "4WShM0l7dwdQ",
        "outputId": "b4a89108-6434-4a01-a4de-16aac9c84d3f"
      },
      "source": [
        "from google.colab import drive\n",
        "\n",
        "drive.mount('/content/drive')"
      ],
      "execution_count": 46,
      "outputs": [
        {
          "output_type": "stream",
          "name": "stdout",
          "text": [
            "Mounted at /content/drive\n"
          ]
        }
      ]
    },
    {
      "cell_type": "code",
      "metadata": {
        "colab": {
          "base_uri": "https://localhost:8080/"
        },
        "id": "mp_OM8kBd7Hg",
        "outputId": "c4d1c457-10fb-49ac-e0ff-3e79908fae0a"
      },
      "source": [
        "!ls -l '/content/drive/My Drive/Colab Notebooks/models'"
      ],
      "execution_count": 47,
      "outputs": [
        {
          "output_type": "stream",
          "name": "stdout",
          "text": [
            "total 0\n"
          ]
        }
      ]
    },
    {
      "cell_type": "code",
      "metadata": {
        "id": "WekiLioneP-t"
      },
      "source": [
        "Model_iris.save('/content/drive/My Drive/Colab Notebooks/models/001_Model_iris.h5')"
      ],
      "execution_count": 49,
      "outputs": []
    },
    {
      "cell_type": "code",
      "metadata": {
        "colab": {
          "base_uri": "https://localhost:8080/"
        },
        "id": "kkmq5icLekiA",
        "outputId": "e8616463-6574-4dc4-9e07-ed7470d1995c"
      },
      "source": [
        "!ls -l '/content/drive/My Drive/Colab Notebooks/models'"
      ],
      "execution_count": 50,
      "outputs": [
        {
          "output_type": "stream",
          "name": "stdout",
          "text": [
            "total 34\n",
            "-rw------- 1 root root 34600 Sep 28 08:17 001_Model_iris.h5\n"
          ]
        }
      ]
    },
    {
      "cell_type": "code",
      "metadata": {
        "id": "07H_0oojevsf"
      },
      "source": [
        "from tensorflow.keras.models import load_model\n",
        "\n",
        "Model_google = load_model('/content/drive/My Drive/Colab Notebooks/models/001_Model_iris.h5')"
      ],
      "execution_count": 52,
      "outputs": []
    },
    {
      "cell_type": "code",
      "metadata": {
        "colab": {
          "base_uri": "https://localhost:8080/"
        },
        "id": "_BavXc51e-Hu",
        "outputId": "ad190b36-4c75-4f7c-81af-6ab0a54ad4dc"
      },
      "source": [
        "np.argmax(Model_google.predict(X_test), axis =1)"
      ],
      "execution_count": 53,
      "outputs": [
        {
          "output_type": "execute_result",
          "data": {
            "text/plain": [
              "array([0, 0, 1, 2, 0, 1, 2, 0, 2, 0, 1, 2, 1, 0, 0, 1, 1, 0, 1, 0, 0, 0,\n",
              "       2, 0, 2, 2, 0, 1, 1, 2, 0, 1, 0, 1, 1, 1, 2, 1, 0, 1, 2, 0, 2, 2,\n",
              "       2])"
            ]
          },
          "metadata": {},
          "execution_count": 53
        }
      ]
    },
    {
      "cell_type": "code",
      "metadata": {
        "id": "FvkbCerTfKIH"
      },
      "source": [
        ""
      ],
      "execution_count": null,
      "outputs": []
    }
  ]
}