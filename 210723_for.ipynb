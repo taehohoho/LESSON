{
  "nbformat": 4,
  "nbformat_minor": 0,
  "metadata": {
    "colab": {
      "name": "210723_for.ipynb",
      "provenance": [],
      "collapsed_sections": [],
      "authorship_tag": "ABX9TyNFk/2LxJIV2jXt6ZLOfRvC",
      "include_colab_link": true
    },
    "kernelspec": {
      "name": "python3",
      "display_name": "Python 3"
    },
    "language_info": {
      "name": "python"
    }
  },
  "cells": [
    {
      "cell_type": "markdown",
      "metadata": {
        "id": "view-in-github",
        "colab_type": "text"
      },
      "source": [
        "<a href=\"https://colab.research.google.com/github/taehohoho/LESSON/blob/master/210723_for.ipynb\" target=\"_parent\"><img src=\"https://colab.research.google.com/assets/colab-badge.svg\" alt=\"Open In Colab\"/></a>"
      ]
    },
    {
      "cell_type": "code",
      "metadata": {
        "colab": {
          "base_uri": "https://localhost:8080/"
        },
        "id": "F9wT4Cr9538L",
        "outputId": "83939126-1880-4825-91d7-00bea4919718"
      },
      "source": [
        "print(range(0, 10, 1))"
      ],
      "execution_count": 1,
      "outputs": [
        {
          "output_type": "stream",
          "text": [
            "range(0, 10)\n"
          ],
          "name": "stdout"
        }
      ]
    },
    {
      "cell_type": "code",
      "metadata": {
        "colab": {
          "base_uri": "https://localhost:8080/"
        },
        "id": "q-v0v_POOFwh",
        "outputId": "aa930464-e4d1-4f0e-9c30-8c3f6fa86f1c"
      },
      "source": [
        "print(list(range(0,10,1)))"
      ],
      "execution_count": 2,
      "outputs": [
        {
          "output_type": "stream",
          "text": [
            "[0, 1, 2, 3, 4, 5, 6, 7, 8, 9]\n"
          ],
          "name": "stdout"
        }
      ]
    },
    {
      "cell_type": "code",
      "metadata": {
        "colab": {
          "base_uri": "https://localhost:8080/"
        },
        "id": "k20tL2GsOLf2",
        "outputId": "355e63e4-ccc7-4e7d-c3aa-d1805db299f0"
      },
      "source": [
        "for a in range (0, 6, 1) :\n",
        "    print(a)"
      ],
      "execution_count": 3,
      "outputs": [
        {
          "output_type": "stream",
          "text": [
            "0\n",
            "1\n",
            "2\n",
            "3\n",
            "4\n",
            "5\n"
          ],
          "name": "stdout"
        }
      ]
    },
    {
      "cell_type": "code",
      "metadata": {
        "colab": {
          "base_uri": "https://localhost:8080/"
        },
        "id": "SD76eRqwOQK4",
        "outputId": "68b64bbb-2f02-4e86-acaf-37f03dc42919"
      },
      "source": [
        "for a in range(0, 6, 2):\n",
        "    print(a)"
      ],
      "execution_count": 4,
      "outputs": [
        {
          "output_type": "stream",
          "text": [
            "0\n",
            "2\n",
            "4\n"
          ],
          "name": "stdout"
        }
      ]
    },
    {
      "cell_type": "code",
      "metadata": {
        "colab": {
          "base_uri": "https://localhost:8080/"
        },
        "id": "24aBCnDhOUdr",
        "outputId": "78dfdfcf-fb9b-4350-ff68-dbd5417946cf"
      },
      "source": [
        "print(list(range(0,10,1)))\n",
        "print(list(range(0,10)))\n",
        "print(list(range(10)))"
      ],
      "execution_count": 6,
      "outputs": [
        {
          "output_type": "stream",
          "text": [
            "[0, 1, 2, 3, 4, 5, 6, 7, 8, 9]\n",
            "[0, 1, 2, 3, 4, 5, 6, 7, 8, 9]\n",
            "[0, 1, 2, 3, 4, 5, 6, 7, 8, 9]\n"
          ],
          "name": "stdout"
        }
      ]
    },
    {
      "cell_type": "code",
      "metadata": {
        "colab": {
          "base_uri": "https://localhost:8080/"
        },
        "id": "dV8AipssOaDh",
        "outputId": "03750ef0-db5e-4895-b951-4617b7f7882d"
      },
      "source": [
        "print(list(range(0, 20, 5)))\n",
        "print(list(range(-10, 0, 2)))\n",
        "print(list(range(3, -10, -3)))\n",
        "print(list(range(0, -5, 1)))"
      ],
      "execution_count": 7,
      "outputs": [
        {
          "output_type": "stream",
          "text": [
            "[0, 5, 10, 15]\n",
            "[-10, -8, -6, -4, -2]\n",
            "[3, 0, -3, -6, -9]\n",
            "[]\n"
          ],
          "name": "stdout"
        }
      ]
    },
    {
      "cell_type": "code",
      "metadata": {
        "colab": {
          "base_uri": "https://localhost:8080/"
        },
        "id": "Hxk_vbIbOrGv",
        "outputId": "62754aab-4bca-4468-fdaf-a89d2c97131d"
      },
      "source": [
        "x_list = ['x1', 'x2']\n",
        "y_list = ['y1', 'y2']\n",
        "\n",
        "print('x, y')\n",
        "for x in x_list :\n",
        "    for y in y_list :\n",
        "        print(x,y)\n",
        "\n"
      ],
      "execution_count": 9,
      "outputs": [
        {
          "output_type": "stream",
          "text": [
            "x, y\n",
            "x1 y1\n",
            "x1 y2\n",
            "x2 y1\n",
            "x2 y2\n"
          ],
          "name": "stdout"
        }
      ]
    },
    {
      "cell_type": "code",
      "metadata": {
        "id": "CTAoVHLfPA4r"
      },
      "source": [
        "names = ['james', 'robert', 'lisa', 'mary']\n",
        "scores = [65, 96, 97, 94]"
      ],
      "execution_count": 10,
      "outputs": []
    },
    {
      "cell_type": "code",
      "metadata": {
        "colab": {
          "base_uri": "https://localhost:8080/"
        },
        "id": "o08lGMqegmBm",
        "outputId": "84e3aba3-8e46-42da-a5e6-d8799fd75c35"
      },
      "source": [
        "for k in range(len(names)):\n",
        "    print(names[k], scores[k])"
      ],
      "execution_count": 12,
      "outputs": [
        {
          "output_type": "stream",
          "text": [
            "james 65\n",
            "robert 96\n",
            "lisa 97\n",
            "mary 94\n"
          ],
          "name": "stdout"
        }
      ]
    },
    {
      "cell_type": "code",
      "metadata": {
        "colab": {
          "base_uri": "https://localhost:8080/"
        },
        "id": "fcUHtKl9gu6-",
        "outputId": "635cf60e-4073-4f41-b8b4-400c8cde3799"
      },
      "source": [
        "for name, score in zip(names, scores):\n",
        "    print(name, score)"
      ],
      "execution_count": 13,
      "outputs": [
        {
          "output_type": "stream",
          "text": [
            "james 65\n",
            "robert 96\n",
            "lisa 97\n",
            "mary 94\n"
          ],
          "name": "stdout"
        }
      ]
    },
    {
      "cell_type": "code",
      "metadata": {
        "colab": {
          "base_uri": "https://localhost:8080/"
        },
        "id": "Mo4dZ0F-g9WW",
        "outputId": "e6345992-39ef-4e0a-f6e2-a3c935ba40da"
      },
      "source": [
        "i = 0   # 초기화\n",
        "sum = 0 # 초기화\n",
        "\n",
        "print(\"i sum\")\n",
        "while (sum < 20) :  # 조건 검사\n",
        "    i = i + 1       # i를 1씩 증가\n",
        "    sum = sum + i   # 이전의 sum과 현재 i를 더해서 sum을 갱신\n",
        "    print(i, sum)   # i와 sum을 출력"
      ],
      "execution_count": 14,
      "outputs": [
        {
          "output_type": "stream",
          "text": [
            "i, sum\n",
            "1 1\n",
            "2 3\n",
            "3 6\n",
            "4 10\n",
            "5 15\n",
            "6 21\n"
          ],
          "name": "stdout"
        }
      ]
    },
    {
      "cell_type": "code",
      "metadata": {
        "id": "APOdE6R6hoSR"
      },
      "source": [
        ""
      ],
      "execution_count": null,
      "outputs": []
    }
  ]
}